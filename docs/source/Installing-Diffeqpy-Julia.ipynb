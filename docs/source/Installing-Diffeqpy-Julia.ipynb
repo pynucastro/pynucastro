{
 "cells": [
  {
   "cell_type": "markdown",
   "id": "458c889d-cf6f-4d2e-9c0c-7d54d8dfbee9",
   "metadata": {},
   "source": [
    "# **Installation**"
   ]
  },
  {
   "cell_type": "markdown",
   "id": "4693d346-e667-433f-85ec-39a8216dd98d",
   "metadata": {},
   "source": [
    "In order to use diffeqpy, Julia must be installed and in the path, along with DifferentialEquations.jl and PyCall.jl"
   ]
  },
  {
   "cell_type": "markdown",
   "id": "450b2b8c-4aaa-4333-b8dd-fa588ebeb5bc",
   "metadata": {},
   "source": [
    "To install Julia, visit [the JuliaLang website](https://julialang.org/downloads/) and download the appropriate version."
   ]
  },
  {
   "cell_type": "markdown",
   "id": "eba368bd-5b3b-4194-8534-fe6d59a457de",
   "metadata": {},
   "source": [
    "Once downloaded, use the following command inside the Julia REPL to install the necessary packages:"
   ]
  },
  {
   "cell_type": "markdown",
   "id": "c885de45-8630-4dec-b72b-7d2c395918ba",
   "metadata": {},
   "source": [
    "`julia> using Pkg`"
   ]
  },
  {
   "cell_type": "markdown",
   "id": "032ac969-2bb1-4bbe-9c29-d7a5bd021169",
   "metadata": {},
   "source": [
    "`julia> Pkg.add(\"DifferentialEquations\")`"
   ]
  },
  {
   "cell_type": "markdown",
   "id": "8a5c274c-03ce-41a4-b896-405edcb33560",
   "metadata": {},
   "source": [
    "`julia> Pkg.add(\"PyCall\")`"
   ]
  },
  {
   "cell_type": "markdown",
   "id": "74e5c4c3-8d9f-4329-92df-e81895dc788e",
   "metadata": {},
   "source": [
    "To install diffeqpy, use pip:"
   ]
  },
  {
   "cell_type": "markdown",
   "id": "a7e0f3b7-798e-40a3-b2e0-e828224b1506",
   "metadata": {},
   "source": [
    "`$pip install diffeqpy`"
   ]
  },
  {
   "cell_type": "markdown",
   "id": "9b2494f8-3d3c-4f3d-9f22-2b9cfa3a80ab",
   "metadata": {},
   "source": [
    "To improve the performance of your code, it is recommended that you use Numba to JIT compile your  functions. To install Numba, use pip:"
   ]
  },
  {
   "cell_type": "markdown",
   "id": "2149433e-ebf3-4f20-a2ba-77953ef093a1",
   "metadata": {},
   "source": [
    "`$pip install numba`"
   ]
  }
 ],
 "metadata": {
  "kernelspec": {
   "display_name": "Python 3 (ipykernel)",
   "language": "python",
   "name": "python3"
  },
  "language_info": {
   "codemirror_mode": {
    "name": "ipython",
    "version": 3
   },
   "file_extension": ".py",
   "mimetype": "text/x-python",
   "name": "python",
   "nbconvert_exporter": "python",
   "pygments_lexer": "ipython3",
   "version": "3.11.3"
  }
 },
 "nbformat": 4,
 "nbformat_minor": 5
}
