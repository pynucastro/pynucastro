{
 "cells": [
  {
   "cell_type": "markdown",
   "id": "3ad312b1-df8e-442f-b4ca-0e48f8495a64",
   "metadata": {},
   "source": [
    "# Nuclear Properties"
   ]
  },
  {
   "cell_type": "markdown",
   "id": "d644ea24-cc22-47be-b3ab-0ff7242dff7d",
   "metadata": {},
   "source": [
    "Here we explore how to access some of the nuclear properties from a `Nucleus` object."
   ]
  },
  {
   "cell_type": "code",
   "execution_count": 1,
   "id": "f7511e0a-f7a2-444f-bd8d-1e4491909879",
   "metadata": {},
   "outputs": [],
   "source": [
    "from pynucastro import Nucleus"
   ]
  },
  {
   "cell_type": "markdown",
   "id": "52b2678b-2e9f-4720-aac9-464ce3348b13",
   "metadata": {},
   "source": [
    "## `Nucleus`\n",
    "\n",
    "The `Nucleus` class manages all of the properties of a nucleus.  We create a `Nucleus` simply by giving the name of the isotope"
   ]
  },
  {
   "cell_type": "code",
   "execution_count": 2,
   "id": "8d47acf7-e00e-4c1a-9349-165076f93cdf",
   "metadata": {},
   "outputs": [],
   "source": [
    "he4 = Nucleus(\"he4\")"
   ]
  },
  {
   "cell_type": "markdown",
   "id": "192a61a1-4ff1-4e85-80c5-4247bce21220",
   "metadata": {},
   "source": [
    "From this we can access the member data:\n",
    "\n",
    "* `Z`, `N`, `A` : the atomic number, neutron number, and atomic mass\n",
    "* `mass` : the mass of the nucleus in MeV\n",
    "* `dm` : the mass excess of the nucleus in MeV\n",
    "* `nucbind` : the nuclear binding energy of the nucleus in MeV / nucleon\n",
    "* `A_nuc` : the mass number of the nucleus (`mass` / atomic mass unit)\n",
    "* `tau` : the halflife of the nucleus (in seconds)"
   ]
  },
  {
   "cell_type": "code",
   "execution_count": 3,
   "id": "459bd1ba-1ac4-4a79-89d6-b67219623096",
   "metadata": {},
   "outputs": [
    {
     "data": {
      "text/plain": [
       "(2, 4)"
      ]
     },
     "execution_count": 3,
     "metadata": {},
     "output_type": "execute_result"
    }
   ],
   "source": [
    "he4.Z, he4.A"
   ]
  },
  {
   "cell_type": "code",
   "execution_count": 4,
   "id": "897450c0-e9e0-42a1-b523-053d42319a58",
   "metadata": {},
   "outputs": [
    {
     "data": {
      "text/plain": [
       "7.073915614499924"
      ]
     },
     "execution_count": 4,
     "metadata": {},
     "output_type": "execute_result"
    }
   ],
   "source": [
    "he4.nucbind"
   ]
  },
  {
   "cell_type": "markdown",
   "id": "dac0aad1-8080-4048-902b-f516f57f9c80",
   "metadata": {},
   "source": [
    "We can also get the partition functions of the nucleus, if it exists.  The data we use mostly provides these for the heavy nuclei."
   ]
  },
  {
   "cell_type": "code",
   "execution_count": 5,
   "id": "2f786e6f-0537-4882-91db-8bc2075dfe43",
   "metadata": {},
   "outputs": [
    {
     "data": {
      "text/plain": [
       "1.002103"
      ]
     },
     "execution_count": 5,
     "metadata": {},
     "output_type": "execute_result"
    }
   ],
   "source": [
    "ni56 = Nucleus(\"ni56\")\n",
    "ni56.partition_function.eval(4.e9)"
   ]
  },
  {
   "cell_type": "code",
   "execution_count": 6,
   "id": "bf7d6643-b017-4f40-803f-7153dccb5b25",
   "metadata": {},
   "outputs": [
    {
     "data": {
      "text/plain": [
       "524880.0"
      ]
     },
     "execution_count": 6,
     "metadata": {},
     "output_type": "execute_result"
    }
   ],
   "source": [
    "ni56.tau"
   ]
  },
  {
   "cell_type": "markdown",
   "id": "2201edfc-6640-43c7-86fb-4ba3fdff721d",
   "metadata": {},
   "source": [
    "## `Nucleus` math"
   ]
  },
  {
   "cell_type": "markdown",
   "id": "b679ed04-3524-4242-aa85-ace0cb49dc1e",
   "metadata": {},
   "source": [
    "We can also create a `Nucleus` via addition and subtraction operations."
   ]
  },
  {
   "cell_type": "code",
   "execution_count": 7,
   "id": "b4b5eabd-7a35-432d-a0a0-c0b92db4f3cc",
   "metadata": {},
   "outputs": [
    {
     "data": {
      "text/plain": [
       "N13"
      ]
     },
     "execution_count": 7,
     "metadata": {},
     "output_type": "execute_result"
    }
   ],
   "source": [
    "c12 = Nucleus(\"c12\")\n",
    "p = Nucleus(\"p\")\n",
    "n13 = c12 + p\n",
    "n13"
   ]
  },
  {
   "cell_type": "code",
   "execution_count": 8,
   "id": "edafb690-83ad-4967-96cb-672b1c32608f",
   "metadata": {},
   "outputs": [
    {
     "data": {
      "text/plain": [
       "12114.76881146"
      ]
     },
     "execution_count": 8,
     "metadata": {},
     "output_type": "execute_result"
    }
   ],
   "source": [
    "n13.mass"
   ]
  },
  {
   "cell_type": "code",
   "execution_count": 9,
   "id": "bfa282e0-4fb5-4d70-b24f-544d83d266f9",
   "metadata": {},
   "outputs": [
    {
     "data": {
      "text/plain": [
       "B11"
      ]
     },
     "execution_count": 9,
     "metadata": {},
     "output_type": "execute_result"
    }
   ],
   "source": [
    "c12 - p"
   ]
  },
  {
   "cell_type": "markdown",
   "id": "ba8676b5-83c9-4f7c-bfcd-7fe9e41040f0",
   "metadata": {},
   "source": [
    "## Exploring properties"
   ]
  },
  {
   "cell_type": "markdown",
   "id": "0923c779-d384-4ea8-aaca-9f90d0281f09",
   "metadata": {},
   "source": [
    "Let's look at some nuclei and look at their mass excess, mass, and binding energies"
   ]
  },
  {
   "cell_type": "code",
   "execution_count": 10,
   "id": "07fc3312-491c-4949-89b0-a17838f7c752",
   "metadata": {},
   "outputs": [],
   "source": [
    "p = Nucleus(\"p\")\n",
    "n = Nucleus(\"n\")\n",
    "c12 = Nucleus(\"c12\")\n",
    "ne22 = Nucleus(\"ne22\")\n",
    "ti43 = Nucleus(\"ti43\")\n",
    "fe56 = Nucleus(\"fe56\")"
   ]
  },
  {
   "cell_type": "code",
   "execution_count": 11,
   "id": "ad96edc6-1705-4573-a086-0f8097af8e52",
   "metadata": {},
   "outputs": [
    {
     "name": "stdout",
     "output_type": "stream",
     "text": [
      "p            7.2889711    938.78307348      0.00000000\n",
      "n            8.0713181    939.56542052      0.00000000\n",
      "C12                0.0  11177.92922904      7.68014458\n",
      "Ne22         -8.024716  20484.84553724      8.08046563\n",
      "Ti43           -29.316  40024.93040406      8.35281497\n",
      "Fe56         -60.60716  52103.06257552      8.79035626\n"
     ]
    }
   ],
   "source": [
    "for nuc in [p, n, c12, ne22, ti43, fe56]:\n",
    "    print(f\"{str(nuc):6} {nuc.dm:15.8} {nuc.mass:15.8f} {nuc.nucbind:15.8f}\")"
   ]
  },
  {
   "cell_type": "markdown",
   "id": "7d1e9fb5-7fe3-48d5-9981-a15021b0d86a",
   "metadata": {},
   "source": [
    "We see that the binding energy for protons and neutrons are zero, as expected."
   ]
  },
  {
   "attachments": {},
   "cell_type": "markdown",
   "id": "9079d09a-0da7-451a-99dc-f5b2c3e489a6",
   "metadata": {},
   "source": [
    "We also see:\n",
    "\n",
    "* For ${}^{12}\\mathrm{C}$ the binding energy compares well with the tablulated version from the rounded AME 2020 of `7680.145`.\n",
    "\n",
    "* For ${}^{22}\\mathrm{Ne}$ the binding energy compares well with the tablulated version from the rounded AME 2020 of `8080.466`.\n",
    "\n",
    "* For ${}^{43}\\mathrm{Ti}$ the binding energy compares well with the tablulated version from the rounded AME 2020 of `8352.81`.\n",
    "\n",
    "* For ${}^{56}\\mathrm{Fe}$ the binding energy compares well with the tablulated version from the rounded AME 2020 of `8790.356`."
   ]
  },
  {
   "cell_type": "code",
   "execution_count": 12,
   "id": "36458c33-9472-4525-8967-dba557674a04",
   "metadata": {},
   "outputs": [],
   "source": [
    "from pynucastro.constants import constants"
   ]
  },
  {
   "cell_type": "markdown",
   "id": "e0f8fd74-98d0-4224-8f13-bc618bc714be",
   "metadata": {},
   "source": [
    "We also see that the mass of ${}^{12}\\mathrm{C}$ agrees with the atomic mass unit from the CODATA compilation:"
   ]
  },
  {
   "cell_type": "code",
   "execution_count": 13,
   "id": "72e24505-ab91-4822-9544-cfeee7926579",
   "metadata": {},
   "outputs": [
    {
     "data": {
      "text/plain": [
       "1.1368683772161603e-13"
      ]
     },
     "execution_count": 13,
     "metadata": {},
     "output_type": "execute_result"
    }
   ],
   "source": [
    "c12.mass / 12 - constants.m_u_MeV"
   ]
  }
 ],
 "metadata": {
  "kernelspec": {
   "display_name": "Python 3 (ipykernel)",
   "language": "python",
   "name": "python3"
  },
  "language_info": {
   "codemirror_mode": {
    "name": "ipython",
    "version": 3
   },
   "file_extension": ".py",
   "mimetype": "text/x-python",
   "name": "python",
   "nbconvert_exporter": "python",
   "pygments_lexer": "ipython3",
   "version": "3.13.0"
  }
 },
 "nbformat": 4,
 "nbformat_minor": 5
}
