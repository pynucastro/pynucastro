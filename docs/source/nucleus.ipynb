{
 "cells": [
  {
   "cell_type": "markdown",
   "id": "3ad312b1-df8e-442f-b4ca-0e48f8495a64",
   "metadata": {},
   "source": [
    "# Nuclear Properties"
   ]
  },
  {
   "cell_type": "markdown",
   "id": "00fc9bd0-7cee-405d-bb7b-687a2d91bec9",
   "metadata": {},
   "source": [
    "pynucastro gets basic nuclear data from the [Nubase evaluation](https://www-nds.iaea.org/amdc/) (currently the Nubase2020 data).  This provides the mass excesses, $\\Delta m$, and spins.  From this, we compute the binding energy, $B$, and mass\n",
    "of the nucleus, $m$ as:\n",
    "\n",
    "$$m = A m_u + \\Delta m$$\n",
    "\n",
    "$$B = Z m_H + N m_n - m$$\n",
    "\n",
    "where $m_u$ is the atomic mass unit and $m_n$ is the neutron mass, both taken from the CODATA physical constants database.  $m_H$ is the mass of ${}^{1}\\mathrm{H}$, which is computed from the mass excess of ${}^{1}\\mathrm{H}$."
   ]
  },
  {
   "cell_type": "markdown",
   "id": "21ae31d7-9620-4a59-b5e1-c836d25a8a1f",
   "metadata": {},
   "source": [
    "Binding energies are also computed and tablulated in the AME mass evaluation (see [AME2020 mass table](https://www-nds.iaea.org/amdc/ame2020/mass_1.mas20.txt)].  But note that the Nubase evaluation seems to more closely follow\n",
    "the \"rounded\" version of the table [AME2020 rounded mass table](https://www-nds.iaea.org/amdc/ame2020/massround.mas20.txt).  The rounding procedure is discussed in Table I on the [AME 2020 paper II](https://iopscience.iop.org/article/10.1088/1674-1137/abddaf) (also see the [Nubase2020 paper](https://iopscience.iop.org/article/10.1088/1674-1137/abddae), Table I)."
   ]
  },
  {
   "cell_type": "code",
   "execution_count": 1,
   "id": "f7511e0a-f7a2-444f-bd8d-1e4491909879",
   "metadata": {},
   "outputs": [],
   "source": [
    "from pynucastro import Nucleus"
   ]
  },
  {
   "cell_type": "markdown",
   "id": "52b2678b-2e9f-4720-aac9-464ce3348b13",
   "metadata": {},
   "source": [
    "## `Nucleus`\n",
    "\n",
    "The `Nucleus` class manages all of the properties of a nucleus.  We create a `Nucleus` simply by giving the name of the isotope"
   ]
  },
  {
   "cell_type": "code",
   "execution_count": 2,
   "id": "8d47acf7-e00e-4c1a-9349-165076f93cdf",
   "metadata": {},
   "outputs": [],
   "source": [
    "he4 = Nucleus(\"he4\")"
   ]
  },
  {
   "cell_type": "markdown",
   "id": "192a61a1-4ff1-4e85-80c5-4247bce21220",
   "metadata": {},
   "source": [
    "From this we can access the member data:\n",
    "\n",
    "* `Z`, `N`, `A` : the atomic number, neutron number, and atomic mass\n",
    "* `mass` : the mass of the nucleus in MeV\n",
    "* `dm` : the mass excess of the nucleus in MeV\n",
    "* `nucbind` : the nuclear binding energy of the nucleus in MeV / nucleon\n",
    "* `A_nuc` : the mass number of the nucleus (`mass` / atomic mass unit)\n",
    "* `tau` : the halflife of the nucleus (in seconds)"
   ]
  },
  {
   "cell_type": "code",
   "execution_count": 3,
   "id": "459bd1ba-1ac4-4a79-89d6-b67219623096",
   "metadata": {},
   "outputs": [
    {
     "data": {
      "text/plain": [
       "(2, 4)"
      ]
     },
     "execution_count": 3,
     "metadata": {},
     "output_type": "execute_result"
    }
   ],
   "source": [
    "he4.Z, he4.A"
   ]
  },
  {
   "cell_type": "code",
   "execution_count": 4,
   "id": "897450c0-e9e0-42a1-b523-053d42319a58",
   "metadata": {},
   "outputs": [
    {
     "data": {
      "text/plain": [
       "7.073915614499924"
      ]
     },
     "execution_count": 4,
     "metadata": {},
     "output_type": "execute_result"
    }
   ],
   "source": [
    "he4.nucbind"
   ]
  },
  {
   "cell_type": "markdown",
   "id": "dac0aad1-8080-4048-902b-f516f57f9c80",
   "metadata": {},
   "source": [
    "We can also get the partition functions of the nucleus, if it exists.  The data we use mostly provides these for the heavy nuclei."
   ]
  },
  {
   "cell_type": "code",
   "execution_count": 5,
   "id": "2f786e6f-0537-4882-91db-8bc2075dfe43",
   "metadata": {},
   "outputs": [
    {
     "data": {
      "text/plain": [
       "1.002103"
      ]
     },
     "execution_count": 5,
     "metadata": {},
     "output_type": "execute_result"
    }
   ],
   "source": [
    "ni56 = Nucleus(\"ni56\")\n",
    "ni56.partition_function.eval(4.e9)"
   ]
  },
  {
   "cell_type": "code",
   "execution_count": 6,
   "id": "bf7d6643-b017-4f40-803f-7153dccb5b25",
   "metadata": {},
   "outputs": [
    {
     "data": {
      "text/plain": [
       "524880.0"
      ]
     },
     "execution_count": 6,
     "metadata": {},
     "output_type": "execute_result"
    }
   ],
   "source": [
    "ni56.tau"
   ]
  },
  {
   "cell_type": "markdown",
   "id": "ba8676b5-83c9-4f7c-bfcd-7fe9e41040f0",
   "metadata": {},
   "source": [
    "## Exploring properties"
   ]
  },
  {
   "cell_type": "markdown",
   "id": "0923c779-d384-4ea8-aaca-9f90d0281f09",
   "metadata": {},
   "source": [
    "Let's look at some nuclei and look at their mass excess, mass, and binding energies"
   ]
  },
  {
   "cell_type": "code",
   "execution_count": 7,
   "id": "07fc3312-491c-4949-89b0-a17838f7c752",
   "metadata": {},
   "outputs": [],
   "source": [
    "p = Nucleus(\"p\")\n",
    "n = Nucleus(\"n\")\n",
    "c12 = Nucleus(\"c12\")\n",
    "ne22 = Nucleus(\"ne22\")\n",
    "ti43 = Nucleus(\"ti43\")\n",
    "fe56 = Nucleus(\"fe56\")"
   ]
  },
  {
   "cell_type": "code",
   "execution_count": 8,
   "id": "ad96edc6-1705-4573-a086-0f8097af8e52",
   "metadata": {},
   "outputs": [
    {
     "name": "stdout",
     "output_type": "stream",
     "text": [
      "p            7.2889711    938.78307348      0.00000000\n",
      "n            8.0713181    939.56542052      0.00000000\n",
      "C12                0.0  11177.92922904      7.68014458\n",
      "Ne22         -8.024716  20484.84553724      8.08046563\n",
      "Ti43           -29.316  40024.93040406      8.35281497\n",
      "Fe56         -60.60716  52103.06257552      8.79035626\n"
     ]
    }
   ],
   "source": [
    "for nuc in [p, n, c12, ne22, ti43, fe56]:\n",
    "    print(f\"{str(nuc):6} {nuc.dm:15.8} {nuc.mass:15.8f} {nuc.nucbind:15.8f}\")"
   ]
  },
  {
   "cell_type": "markdown",
   "id": "7d1e9fb5-7fe3-48d5-9981-a15021b0d86a",
   "metadata": {},
   "source": [
    "We see that the binding energy for protons and neutrons are zero, as expected."
   ]
  },
  {
   "cell_type": "markdown",
   "id": "723edee9-6d5c-4c1c-9450-7d09883b31df",
   "metadata": {},
   "source": [
    "For ${}^{12}\\mathrm{C}$ the binding energy compares well with the tablulated version from the rounded AME 2020 of `7680.145`."
   ]
  },
  {
   "cell_type": "markdown",
   "id": "ce9b0df6-d556-4b99-bf70-c7c5dcefd523",
   "metadata": {},
   "source": [
    "For ${}^{22}\\mathrm{Ne}$ the binding energy compares well with the tablulated version from the rounded AME 2020 of `8080.466`."
   ]
  },
  {
   "cell_type": "markdown",
   "id": "b9e62dad-aaf1-4071-9758-85ade1033a18",
   "metadata": {},
   "source": [
    "For ${}^{43}\\mathrm{Ti}$ the binding energy compares well with the tablulated version from the rounded AME 2020 of `8352.81`."
   ]
  },
  {
   "cell_type": "markdown",
   "id": "0d9122d8-8242-45c2-8a8b-5ac9b790eb4c",
   "metadata": {},
   "source": [
    "For ${}^{56}\\mathrm{Fe}$ the binding energy compares well with the tablulated version from the rounded AME 2020 of `8790.356`."
   ]
  },
  {
   "cell_type": "code",
   "execution_count": 9,
   "id": "36458c33-9472-4525-8967-dba557674a04",
   "metadata": {},
   "outputs": [],
   "source": [
    "from pynucastro.constants import constants"
   ]
  },
  {
   "cell_type": "markdown",
   "id": "e0f8fd74-98d0-4224-8f13-bc618bc714be",
   "metadata": {},
   "source": [
    "We also see that the mass of ${}^{12}\\mathrm{C}$ agrees with the atomic mass unit from the CODATA compilation:"
   ]
  },
  {
   "cell_type": "code",
   "execution_count": 10,
   "id": "72e24505-ab91-4822-9544-cfeee7926579",
   "metadata": {},
   "outputs": [
    {
     "data": {
      "text/plain": [
       "1.1368683772161603e-13"
      ]
     },
     "execution_count": 10,
     "metadata": {},
     "output_type": "execute_result"
    }
   ],
   "source": [
    "c12.mass / 12 - constants.m_u_MeV"
   ]
  }
 ],
 "metadata": {
  "kernelspec": {
   "display_name": "Python 3 (ipykernel)",
   "language": "python",
   "name": "python3"
  },
  "language_info": {
   "codemirror_mode": {
    "name": "ipython",
    "version": 3
   },
   "file_extension": ".py",
   "mimetype": "text/x-python",
   "name": "python",
   "nbconvert_exporter": "python",
   "pygments_lexer": "ipython3",
   "version": "3.12.7"
  }
 },
 "nbformat": 4,
 "nbformat_minor": 5
}
