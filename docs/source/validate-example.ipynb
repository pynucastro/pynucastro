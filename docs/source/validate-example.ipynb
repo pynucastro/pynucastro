{
 "cells": [
  {
   "cell_type": "markdown",
   "id": "0784b0fc-cf3a-4f75-b22f-e96d7e469d1a",
   "metadata": {
    "user_expressions": []
   },
   "source": [
    "# Checking your network"
   ]
  },
  {
   "cell_type": "markdown",
   "id": "9ef5a720-b022-4347-936e-e503395a7db7",
   "metadata": {
    "user_expressions": []
   },
   "source": [
    "Selecting which rates to include and which to exclude from your network is a bit of an art.  pynucastro has a few tools to help check what you might be missing."
   ]
  },
  {
   "cell_type": "code",
   "execution_count": 1,
   "id": "40841ac9-5cf2-4d12-9df9-2cd460852ca2",
   "metadata": {
    "tags": []
   },
   "outputs": [],
   "source": [
    "import pynucastro as pyna"
   ]
  },
  {
   "cell_type": "code",
   "execution_count": 2,
   "id": "94d36083-9d99-457f-9103-3a45e046d613",
   "metadata": {
    "tags": []
   },
   "outputs": [],
   "source": [
    "reaclib_library = pyna.ReacLibLibrary()"
   ]
  },
  {
   "cell_type": "markdown",
   "id": "bc58b81e-bf45-430e-9215-363d0a96e8cd",
   "metadata": {
    "user_expressions": []
   },
   "source": [
    "## `RateCollection` validate method\n",
    "\n",
    "Let's start by trying to create a network for carbon burning."
   ]
  },
  {
   "cell_type": "markdown",
   "id": "da391bca-c38c-437a-a419-88f26f7b7ac0",
   "metadata": {
    "user_expressions": []
   },
   "source": [
    "To start, let's pick the nuclei $\\alpha$, ${}^{12}\\mathrm{C}$ and ${}^{20}\\mathrm{Ne}$"
   ]
  },
  {
   "cell_type": "code",
   "execution_count": 3,
   "id": "a3350cc9-924b-4d59-ab60-9582e38c337b",
   "metadata": {
    "tags": []
   },
   "outputs": [],
   "source": [
    "nuclei = [\"he4\", \"c12\", \"ne20\"]\n",
    "cburn_library = reaclib_library.linking_nuclei(nuclei)"
   ]
  },
  {
   "cell_type": "markdown",
   "id": "c7be0af2-4e3d-43e5-b7b7-686435587af7",
   "metadata": {
    "user_expressions": []
   },
   "source": [
    "Now we can make a rate collection"
   ]
  },
  {
   "cell_type": "code",
   "execution_count": 4,
   "id": "a1364f20-9017-47c0-800b-478d0c148f09",
   "metadata": {
    "tags": []
   },
   "outputs": [
    {
     "data": {
      "text/plain": [
       "C12 ⟶ He4 + He4 + He4\n",
       "C12 + C12 ⟶ He4 + Ne20\n",
       "Ne20 + He4 ⟶ C12 + C12\n",
       "He4 + He4 + He4 ⟶ C12 + 𝛾"
      ]
     },
     "execution_count": 4,
     "metadata": {},
     "output_type": "execute_result"
    }
   ],
   "source": [
    "rc = pyna.RateCollection(libraries=[cburn_library])\n",
    "rc"
   ]
  },
  {
   "cell_type": "markdown",
   "id": "53c36d63-b39b-4a5b-ae2a-750b00e83668",
   "metadata": {
    "user_expressions": []
   },
   "source": [
    "Now, since we are primarily interested in ${}^{12}\\mathrm{C} + {}^{12}\\mathrm{C}$, let's make sure we are not missing any other reactions that have the same reactants.  The `validate()` method will do this, by comparing the rates we have selected to another library."
   ]
  },
  {
   "cell_type": "code",
   "execution_count": 5,
   "id": "d85f0c38-5eec-43b1-900a-c6077182e9fe",
   "metadata": {
    "tags": []
   },
   "outputs": [
    {
     "name": "stdout",
     "output_type": "stream",
     "text": [
      "validation: ne20 produced in C12 + C12 ⟶ He4 + Ne20 never consumed.\n",
      "validation: missing He4 + He4 + He4 ⟶ p + B11 as alternative to He4 + He4 + He4 ⟶ C12 + 𝛾 (Q = -8.682 MeV).\n",
      "validation: missing He4 + He4 + He4 ⟶ n + C11 as alternative to He4 + He4 + He4 ⟶ C12 + 𝛾 (Q = -11.4466 MeV).\n",
      "validation: missing C12 + C12 ⟶ p + Na23 as alternative to C12 + C12 ⟶ He4 + Ne20 (Q = 2.242 MeV).\n",
      "validation: missing C12 + C12 ⟶ n + Mg23 as alternative to C12 + C12 ⟶ He4 + Ne20 (Q = -2.598 MeV).\n"
     ]
    },
    {
     "data": {
      "text/plain": [
       "False"
      ]
     },
     "execution_count": 5,
     "metadata": {},
     "output_type": "execute_result"
    }
   ],
   "source": [
    "rc.validate(reaclib_library)"
   ]
  },
  {
   "cell_type": "markdown",
   "id": "c01017db-c393-4db8-b711-aaea1a1b4cbb",
   "metadata": {
    "user_expressions": []
   },
   "source": [
    "This tells us that we are missing 2 branches of the ${}^{12}\\mathrm{C} + {}^{12}\\mathrm{C}$ reaction.  ReacLib already scales the rates based on the branching of the products, so we should try to include these other branches.\n",
    "\n",
    "Note: by default, `validate()` only checks forward rates."
   ]
  },
  {
   "cell_type": "markdown",
   "id": "2bb5947c-e12e-49fe-b4d9-d64db3d1b11b",
   "metadata": {
    "user_expressions": []
   },
   "source": [
    "To address these issues, we need to include the additional nuclei.  In particular, the branch that makes ${}^{23}\\mathrm{Na}$ is likely important (the rate making ${}^{23}\\mathrm{Mg}$ is endothermic, so less likely)."
   ]
  },
  {
   "cell_type": "code",
   "execution_count": 6,
   "id": "567a885a-783e-4be3-bd1e-56728956ffc8",
   "metadata": {
    "tags": []
   },
   "outputs": [
    {
     "data": {
      "text/plain": [
       "C12 ⟶ He4 + He4 + He4\n",
       "C12 + C12 ⟶ p + Na23\n",
       "C12 + C12 ⟶ He4 + Ne20\n",
       "Ne20 + He4 ⟶ p + Na23\n",
       "Ne20 + He4 ⟶ C12 + C12\n",
       "Na23 + p ⟶ He4 + Ne20\n",
       "Na23 + p ⟶ C12 + C12\n",
       "He4 + He4 + He4 ⟶ C12 + 𝛾"
      ]
     },
     "execution_count": 6,
     "metadata": {},
     "output_type": "execute_result"
    }
   ],
   "source": [
    "nuclei += [\"p\", \"na23\"]\n",
    "cburn_library = reaclib_library.linking_nuclei(nuclei)\n",
    "rc = pyna.RateCollection(libraries=[cburn_library])\n",
    "rc"
   ]
  },
  {
   "cell_type": "code",
   "execution_count": 7,
   "id": "64774e00-8a1b-48c7-bf3f-d8cfc37fe96d",
   "metadata": {
    "tags": []
   },
   "outputs": [
    {
     "name": "stdout",
     "output_type": "stream",
     "text": [
      "validation: ne20 produced in C12 + C12 ⟶ He4 + Ne20 never consumed.\n",
      "validation: ne20 produced in Na23 + p ⟶ He4 + Ne20 never consumed.\n",
      "validation: missing He4 + He4 + He4 ⟶ p + B11 as alternative to He4 + He4 + He4 ⟶ C12 + 𝛾 (Q = -8.682 MeV).\n",
      "validation: missing He4 + He4 + He4 ⟶ n + C11 as alternative to He4 + He4 + He4 ⟶ C12 + 𝛾 (Q = -11.4466 MeV).\n",
      "validation: missing C12 + C12 ⟶ n + Mg23 as alternative to C12 + C12 ⟶ He4 + Ne20 (Q = -2.598 MeV).\n",
      "validation: missing C12 + C12 ⟶ n + Mg23 as alternative to C12 + C12 ⟶ p + Na23 (Q = -2.598 MeV).\n",
      "validation: missing Na23 + p ⟶ n + Mg23 as alternative to Na23 + p ⟶ He4 + Ne20 (Q = -4.839 MeV).\n",
      "validation: missing Na23 + p ⟶ Mg24 + 𝛾 as alternative to Na23 + p ⟶ He4 + Ne20 (Q = 11.6927 MeV).\n"
     ]
    },
    {
     "data": {
      "text/plain": [
       "False"
      ]
     },
     "execution_count": 7,
     "metadata": {},
     "output_type": "execute_result"
    }
   ],
   "source": [
    "rc.validate(reaclib_library)"
   ]
  },
  {
   "cell_type": "markdown",
   "id": "34070657-d310-495c-8355-0c25464ec8ea",
   "metadata": {
    "user_expressions": []
   },
   "source": [
    "Now, looking at what is missing, we probably want to include ${}^{24}\\mathrm{Mg}$ as an endpoint for carbon burning."
   ]
  },
  {
   "cell_type": "code",
   "execution_count": 8,
   "id": "382be1d1-0086-4ef9-aab5-67681939d132",
   "metadata": {
    "tags": []
   },
   "outputs": [
    {
     "data": {
      "text/plain": [
       "Mg24 ⟶ p + Na23\n",
       "Mg24 ⟶ He4 + Ne20\n",
       "C12 ⟶ He4 + He4 + He4\n",
       "Ne20 + He4 ⟶ Mg24 + 𝛾\n",
       "Na23 + p ⟶ Mg24 + 𝛾\n",
       "C12 + C12 ⟶ p + Na23\n",
       "C12 + C12 ⟶ He4 + Ne20\n",
       "Ne20 + He4 ⟶ p + Na23\n",
       "Ne20 + He4 ⟶ C12 + C12\n",
       "Na23 + p ⟶ He4 + Ne20\n",
       "Na23 + p ⟶ C12 + C12\n",
       "He4 + He4 + He4 ⟶ C12 + 𝛾"
      ]
     },
     "execution_count": 8,
     "metadata": {},
     "output_type": "execute_result"
    }
   ],
   "source": [
    "nuclei += [\"mg24\"]\n",
    "cburn_library = reaclib_library.linking_nuclei(nuclei)\n",
    "rc = pyna.RateCollection(libraries=[cburn_library])\n",
    "rc"
   ]
  },
  {
   "cell_type": "code",
   "execution_count": 9,
   "id": "754e2898-1d65-495e-ac05-e1f45b151b71",
   "metadata": {
    "tags": []
   },
   "outputs": [
    {
     "name": "stdout",
     "output_type": "stream",
     "text": [
      "validation: mg24 produced in Ne20 + He4 ⟶ Mg24 + 𝛾 never consumed.\n",
      "validation: mg24 produced in Na23 + p ⟶ Mg24 + 𝛾 never consumed.\n",
      "validation: missing He4 + He4 + He4 ⟶ p + B11 as alternative to He4 + He4 + He4 ⟶ C12 + 𝛾 (Q = -8.682 MeV).\n",
      "validation: missing He4 + He4 + He4 ⟶ n + C11 as alternative to He4 + He4 + He4 ⟶ C12 + 𝛾 (Q = -11.4466 MeV).\n",
      "validation: missing C12 + C12 ⟶ n + Mg23 as alternative to C12 + C12 ⟶ He4 + Ne20 (Q = -2.598 MeV).\n",
      "validation: missing C12 + C12 ⟶ n + Mg23 as alternative to C12 + C12 ⟶ p + Na23 (Q = -2.598 MeV).\n",
      "validation: missing Ne20 + He4 ⟶ n + Mg23 as alternative to Ne20 + He4 ⟶ Mg24 + 𝛾 (Q = -7.21457 MeV).\n",
      "validation: missing Na23 + p ⟶ n + Mg23 as alternative to Na23 + p ⟶ He4 + Ne20 (Q = -4.839 MeV).\n",
      "validation: missing Na23 + p ⟶ n + Mg23 as alternative to Na23 + p ⟶ Mg24 + 𝛾 (Q = -4.839 MeV).\n"
     ]
    },
    {
     "data": {
      "text/plain": [
       "False"
      ]
     },
     "execution_count": 9,
     "metadata": {},
     "output_type": "execute_result"
    }
   ],
   "source": [
    "rc.validate(reaclib_library)"
   ]
  },
  {
   "cell_type": "markdown",
   "id": "78f5f05d-8466-4f08-aafc-09331faa3587",
   "metadata": {
    "user_expressions": []
   },
   "source": [
    "This now seems reasonable.  The reactions that are missing are all endothermic."
   ]
  },
  {
   "cell_type": "code",
   "execution_count": 10,
   "id": "7d6ff645-2100-4f9b-b944-cdc581a2836e",
   "metadata": {
    "tags": []
   },
   "outputs": [
    {
     "data": {
      "image/png": "[encoded data removed]",
      "text/plain": [
       "<Figure size 800x600 with 1 Axes>"
      ]
     },
     "metadata": {},
     "output_type": "display_data"
    }
   ],
   "source": [
    "fig = rc.plot(curved_edges=True)"
   ]
  },
  {
   "cell_type": "markdown",
   "id": "b6b775b9-eb42-4a08-9557-1bc7aaec8acb",
   "metadata": {
    "user_expressions": []
   },
   "source": [
    "## Finding duplicate links in a `RateCollection`\n",
    "\n",
    "Sometimes we combine multiple sources of rates into a `RateCollection` or network, and we run the risk of\n",
    "having the same rate sequence duplicated, even though the rate itself may be different (i.e., a different\n",
    "source or tabulated vs. ReacLib).\n",
    "\n",
    "Here we see how to check a `RateCollection` for duplicates.\n",
    "\n",
    "We'll start by recreating the electron-capture supernova network explored earlier."
   ]
  },
  {
   "cell_type": "markdown",
   "id": "bf654d57-6db7-4e06-82fa-f3fd9822c9bb",
   "metadata": {
    "user_expressions": []
   },
   "source": [
    "First we get rates from ReacLib"
   ]
  },
  {
   "cell_type": "code",
   "execution_count": 11,
   "id": "36bc7c1f-7599-47a6-8e52-4152ba9e1f1d",
   "metadata": {
    "tags": []
   },
   "outputs": [],
   "source": [
    "all_nuclei = [\"p\", \"he4\",\n",
    "              \"ne20\", \"o20\", \"f20\",\n",
    "              \"mg24\", \"al27\", \"o16\",\n",
    "              \"si28\", \"s32\", \"p31\"]\n",
    "ecsn_library = reaclib_library.linking_nuclei(all_nuclei,with_reverse=True)"
   ]
  },
  {
   "cell_type": "markdown",
   "id": "e1340185-8e1e-4eec-84d3-7477ea869001",
   "metadata": {
    "user_expressions": []
   },
   "source": [
    "Next we get some tabulated rates"
   ]
  },
  {
   "cell_type": "code",
   "execution_count": 12,
   "id": "25b430b5-9c74-469f-90b5-a3eff534a3e3",
   "metadata": {
    "tags": []
   },
   "outputs": [],
   "source": [
    "tabular_lib = pyna.TabularLibrary()\n",
    "ecsn_tabular = tabular_lib.linking_nuclei([\"f20\", \"o20\", \"ne20\"])"
   ]
  },
  {
   "cell_type": "markdown",
   "id": "fcdaaf64-c792-4dcf-b32d-68b5c68e253b",
   "metadata": {
    "tags": [],
    "user_expressions": []
   },
   "source": [
    "Now we build a `RateCollection` using these two libraries"
   ]
  },
  {
   "cell_type": "code",
   "execution_count": 13,
   "id": "33fc5014-ae43-4860-975a-77b55c9463d8",
   "metadata": {
    "tags": []
   },
   "outputs": [],
   "source": [
    "rc = pyna.RateCollection(libraries=[ecsn_library, ecsn_tabular])"
   ]
  },
  {
   "cell_type": "markdown",
   "id": "70359785-a392-4781-85bb-3d9c0991c32f",
   "metadata": {
    "user_expressions": []
   },
   "source": [
    "If we print out the rates, we see that there are duplicates involving beta decays"
   ]
  },
  {
   "cell_type": "code",
   "execution_count": 14,
   "id": "4542775c-0925-48a2-b256-a549f719feef",
   "metadata": {
    "tags": []
   },
   "outputs": [
    {
     "data": {
      "text/plain": [
       "[O20 ⟶ F20 + e⁻ + 𝜈,\n",
       " F20 ⟶ Ne20 + e⁻ + 𝜈,\n",
       " Ne20 ⟶ He4 + O16,\n",
       " Mg24 ⟶ He4 + Ne20,\n",
       " Si28 ⟶ p + Al27,\n",
       " Si28 ⟶ He4 + Mg24,\n",
       " P31 ⟶ He4 + Al27,\n",
       " S32 ⟶ p + P31,\n",
       " S32 ⟶ He4 + Si28,\n",
       " O16 + He4 ⟶ Ne20 + 𝛾,\n",
       " Ne20 + He4 ⟶ Mg24 + 𝛾,\n",
       " Mg24 + He4 ⟶ Si28 + 𝛾,\n",
       " Al27 + p ⟶ Si28 + 𝛾,\n",
       " Al27 + He4 ⟶ P31 + 𝛾,\n",
       " Si28 + He4 ⟶ S32 + 𝛾,\n",
       " P31 + p ⟶ S32 + 𝛾,\n",
       " O16 + O16 ⟶ p + P31,\n",
       " O16 + O16 ⟶ He4 + Si28,\n",
       " Mg24 + He4 ⟶ p + Al27,\n",
       " Al27 + p ⟶ He4 + Mg24,\n",
       " Si28 + He4 ⟶ p + P31,\n",
       " Si28 + He4 ⟶ O16 + O16,\n",
       " P31 + p ⟶ He4 + Si28,\n",
       " P31 + p ⟶ O16 + O16,\n",
       " F20 ⟶ Ne20 + e⁻ + 𝜈,\n",
       " F20 + e⁻ ⟶ O20 + 𝜈,\n",
       " Ne20 + e⁻ ⟶ F20 + 𝜈,\n",
       " O20 ⟶ F20 + e⁻ + 𝜈]"
      ]
     },
     "execution_count": 14,
     "metadata": {},
     "output_type": "execute_result"
    }
   ],
   "source": [
    "rc.get_rates()"
   ]
  },
  {
   "cell_type": "markdown",
   "id": "e363a997-f81c-4ca7-ad1a-d5a16a9379df",
   "metadata": {
    "user_expressions": []
   },
   "source": [
    "The `find_duplicate_links()` method will find these"
   ]
  },
  {
   "cell_type": "code",
   "execution_count": 15,
   "id": "9aed47f8-f0af-49f1-97a3-af027e999b27",
   "metadata": {
    "tags": []
   },
   "outputs": [
    {
     "data": {
      "text/plain": [
       "[[O20 ⟶ F20 + e⁻ + 𝜈, O20 ⟶ F20 + e⁻ + 𝜈],\n",
       " [F20 ⟶ Ne20 + e⁻ + 𝜈, F20 ⟶ Ne20 + e⁻ + 𝜈]]"
      ]
     },
     "execution_count": 15,
     "metadata": {},
     "output_type": "execute_result"
    }
   ],
   "source": [
    "dupes = rc.find_duplicate_links()\n",
    "dupes"
   ]
  },
  {
   "cell_type": "markdown",
   "id": "f7aff751-4c11-4961-9a85-3be167c8e758",
   "metadata": {
    "user_expressions": []
   },
   "source": [
    "Here we see 2 pairs of duplicates.  Looking at the first"
   ]
  },
  {
   "cell_type": "code",
   "execution_count": 16,
   "id": "7cd508bb-076a-48c0-b014-af55ca21fe15",
   "metadata": {
    "tags": []
   },
   "outputs": [
    {
     "name": "stdout",
     "output_type": "stream",
     "text": [
      "o20__f20__weak__wc12 <class 'pynucastro.rates.rate.ReacLibRate'>\n",
      "o20__f20             <class 'pynucastro.rates.rate.TabularRate'>\n"
     ]
    }
   ],
   "source": [
    "for rate in dupes[0]:\n",
    "    print(f\"{rate.fname:20} {type(rate)}\")"
   ]
  },
  {
   "cell_type": "markdown",
   "id": "edf3812c-ea57-4a08-b978-ad6595a4143c",
   "metadata": {
    "user_expressions": []
   },
   "source": [
    "We see that one is a `ReacLibRate` and the other is a `TabularRate`.\n",
    "In general, the `TabularRate` is preferred, since it has a density and temperature dependence\n",
    "and works at high densities.\n",
    "\n",
    "We can use this information to remove the undesired rate from the `RateCollection` using the\n",
    "`remove_rates()` method."
   ]
  },
  {
   "cell_type": "code",
   "execution_count": 17,
   "id": "1790b9bf-9754-475e-bd15-8286c33c40bf",
   "metadata": {
    "tags": []
   },
   "outputs": [],
   "source": [
    "from pynucastro.rates import ReacLibRate\n",
    "rates_to_remove = []\n",
    "for d in dupes:\n",
    "    rates_to_remove += [r for r in d if isinstance(r, ReacLibRate)]"
   ]
  },
  {
   "cell_type": "code",
   "execution_count": 18,
   "id": "b768e06f-ca09-4e8d-bfe8-c9662ed01534",
   "metadata": {
    "tags": []
   },
   "outputs": [],
   "source": [
    "rc.remove_rates(rates_to_remove)"
   ]
  },
  {
   "cell_type": "markdown",
   "id": "04bcc739-64c7-47c1-9300-0f84a1d3b354",
   "metadata": {
    "tags": [],
    "user_expressions": []
   },
   "source": [
    "Now we see only a single instance of these links"
   ]
  },
  {
   "cell_type": "code",
   "execution_count": 19,
   "id": "744308f1-957f-4495-bc51-eec3f57ad99a",
   "metadata": {
    "tags": []
   },
   "outputs": [
    {
     "data": {
      "text/plain": [
       "[Ne20 ⟶ He4 + O16,\n",
       " Mg24 ⟶ He4 + Ne20,\n",
       " Si28 ⟶ p + Al27,\n",
       " Si28 ⟶ He4 + Mg24,\n",
       " P31 ⟶ He4 + Al27,\n",
       " S32 ⟶ p + P31,\n",
       " S32 ⟶ He4 + Si28,\n",
       " O16 + He4 ⟶ Ne20 + 𝛾,\n",
       " Ne20 + He4 ⟶ Mg24 + 𝛾,\n",
       " Mg24 + He4 ⟶ Si28 + 𝛾,\n",
       " Al27 + p ⟶ Si28 + 𝛾,\n",
       " Al27 + He4 ⟶ P31 + 𝛾,\n",
       " Si28 + He4 ⟶ S32 + 𝛾,\n",
       " P31 + p ⟶ S32 + 𝛾,\n",
       " O16 + O16 ⟶ p + P31,\n",
       " O16 + O16 ⟶ He4 + Si28,\n",
       " Mg24 + He4 ⟶ p + Al27,\n",
       " Al27 + p ⟶ He4 + Mg24,\n",
       " Si28 + He4 ⟶ p + P31,\n",
       " Si28 + He4 ⟶ O16 + O16,\n",
       " P31 + p ⟶ He4 + Si28,\n",
       " P31 + p ⟶ O16 + O16,\n",
       " F20 ⟶ Ne20 + e⁻ + 𝜈,\n",
       " F20 + e⁻ ⟶ O20 + 𝜈,\n",
       " Ne20 + e⁻ ⟶ F20 + 𝜈,\n",
       " O20 ⟶ F20 + e⁻ + 𝜈]"
      ]
     },
     "execution_count": 19,
     "metadata": {},
     "output_type": "execute_result"
    }
   ],
   "source": [
    "rc.get_rates()"
   ]
  }
 ],
 "metadata": {
  "kernelspec": {
   "display_name": "Python 3 (ipykernel)",
   "language": "python",
   "name": "python3"
  },
  "language_info": {
   "codemirror_mode": {
    "name": "ipython",
    "version": 3
   },
   "file_extension": ".py",
   "mimetype": "text/x-python",
   "name": "python",
   "nbconvert_exporter": "python",
   "pygments_lexer": "ipython3",
   "version": "3.11.4"
  }
 },
 "nbformat": 4,
 "nbformat_minor": 5
}
