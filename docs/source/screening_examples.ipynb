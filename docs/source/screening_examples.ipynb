{
 "cells": [
  {
   "cell_type": "markdown",
   "id": "68d3e997-59a9-4b95-bd75-2175262f0c5f",
   "metadata": {},
   "source": [
    "# Screening Rates"
   ]
  },
  {
   "cell_type": "code",
   "execution_count": 1,
   "id": "031ef705-1ce1-4091-b502-f0309bb83371",
   "metadata": {},
   "outputs": [],
   "source": [
    "import pynucastro as pyna"
   ]
  },
  {
   "cell_type": "markdown",
   "id": "8f19992d-adb5-4543-a8dc-32cbd600b1fe",
   "metadata": {},
   "source": [
    "pynucastro provides support for identifying which rates need to be screened as well as providing a *screening map* which returns a list of `ScreeningPair` objects which contain\n",
    "the pair of nuclei that need a screening factor computed as well as the list of all\n",
    "the rates that screening factor applies to."
   ]
  },
  {
   "cell_type": "markdown",
   "id": "8087de86-18be-4646-8d55-4e45672a3194",
   "metadata": {},
   "source": [
    "Here's an example: let's build a helium and carbon burning network."
   ]
  },
  {
   "cell_type": "code",
   "execution_count": 2,
   "id": "d24ac68d-f130-49d1-9713-2c0e728447e8",
   "metadata": {},
   "outputs": [],
   "source": [
    "reaclib_library = pyna.ReacLibLibrary()"
   ]
  },
  {
   "cell_type": "code",
   "execution_count": 3,
   "id": "abc0d9a2-0cad-4f45-b1d5-7ab1b5cd9472",
   "metadata": {},
   "outputs": [],
   "source": [
    "mynet = reaclib_library.linking_nuclei([\"p\", \"n\", \"he4\", \"c12\", \"o16\",\n",
    "                                        \"na23\", \"mg24\", \"ne20\"])"
   ]
  },
  {
   "cell_type": "code",
   "execution_count": 4,
   "id": "61a6b1e9-f2a2-41ce-a4dc-ee2acf19c69c",
   "metadata": {},
   "outputs": [],
   "source": [
    "rc = pyna.RateCollection(libraries=[mynet])"
   ]
  },
  {
   "cell_type": "markdown",
   "id": "4ec6d3c8-ed71-4e42-9a0d-e5b93a483697",
   "metadata": {},
   "source": [
    "Frmo the `RateCollection`, we can get the screening map (the list of `ScreeningPair` objects)"
   ]
  },
  {
   "cell_type": "code",
   "execution_count": 5,
   "id": "d4cb3c97-25b2-417a-ba71-2951c2b7ff97",
   "metadata": {},
   "outputs": [],
   "source": [
    "screen_map = rc.get_screening_map()"
   ]
  },
  {
   "cell_type": "code",
   "execution_count": 6,
   "id": "6989538f-d94c-4e57-bd02-8e75b8e03ac7",
   "metadata": {},
   "outputs": [
    {
     "name": "stdout",
     "output_type": "stream",
     "text": [
      "screening for he4 + c12\n",
      "rates:\n",
      "  C12 + He4 ⟶ O16 + 𝛾\n",
      "\n",
      "screening for he4 + o16\n",
      "rates:\n",
      "  O16 + He4 ⟶ Ne20 + 𝛾\n",
      "\n",
      "screening for he4 + ne20\n",
      "rates:\n",
      "  Ne20 + He4 ⟶ Mg24 + 𝛾\n",
      "  Ne20 + He4 ⟶ p + Na23\n",
      "  Ne20 + He4 ⟶ C12 + C12\n",
      "\n",
      "screening for p + na23\n",
      "rates:\n",
      "  Na23 + p ⟶ Mg24 + 𝛾\n",
      "  Na23 + p ⟶ He4 + Ne20\n",
      "  Na23 + p ⟶ C12 + C12\n",
      "\n",
      "screening for c12 + c12\n",
      "rates:\n",
      "  C12 + C12 ⟶ p + Na23\n",
      "  C12 + C12 ⟶ He4 + Ne20\n",
      "\n",
      "screening for c12 + o16\n",
      "rates:\n",
      "  O16 + C12 ⟶ He4 + Mg24\n",
      "\n",
      "screening for he4 + mg24\n",
      "rates:\n",
      "  Mg24 + He4 ⟶ C12 + O16\n",
      "\n",
      "screening for he4 + he4\n",
      "rates:\n",
      "  He4 + He4 + He4 ⟶ C12 + 𝛾\n",
      "\n",
      "screening for he4 + be8\n",
      "rates:\n",
      "  He4 + He4 + He4 ⟶ C12 + 𝛾\n",
      "\n"
     ]
    }
   ],
   "source": [
    "for s in screen_map:\n",
    "    print(s)"
   ]
  },
  {
   "cell_type": "markdown",
   "id": "19390ea5-0832-45d8-bc59-06989506d182",
   "metadata": {},
   "source": [
    "Here we see that the screening for some pairs of nuclei (like $p + {}^{23}\\mathrm{Na}$) apply to several rates."
   ]
  },
  {
   "cell_type": "markdown",
   "id": "8a4f5421-b093-4092-a5ab-ee63f0290ebb",
   "metadata": {},
   "source": []
  },
  {
   "cell_type": "code",
   "execution_count": null,
   "id": "94b0f8fd-5e22-4a4c-a4fa-3ceefe067f1c",
   "metadata": {},
   "outputs": [],
   "source": []
  }
 ],
 "metadata": {
  "kernelspec": {
   "display_name": "Python 3 (ipykernel)",
   "language": "python",
   "name": "python3"
  },
  "language_info": {
   "codemirror_mode": {
    "name": "ipython",
    "version": 3
   },
   "file_extension": ".py",
   "mimetype": "text/x-python",
   "name": "python",
   "nbconvert_exporter": "python",
   "pygments_lexer": "ipython3",
   "version": "3.10.4"
  }
 },
 "nbformat": 4,
 "nbformat_minor": 5
}
