{
 "cells": [
  {
   "cell_type": "markdown",
   "id": "68d3e997-59a9-4b95-bd75-2175262f0c5f",
   "metadata": {
    "user_expressions": []
   },
   "source": [
    "# Screening Rates"
   ]
  },
  {
   "cell_type": "code",
   "execution_count": 1,
   "id": "031ef705-1ce1-4091-b502-f0309bb83371",
   "metadata": {
    "tags": []
   },
   "outputs": [],
   "source": [
    "import pynucastro as pyna"
   ]
  },
  {
   "cell_type": "markdown",
   "id": "bff4d839-b7c4-44f1-934d-e9ee4784c9e3",
   "metadata": {
    "user_expressions": []
   },
   "source": [
    "## Screening Implementations"
   ]
  },
  {
   "cell_type": "markdown",
   "id": "26e13c3c-fd21-4237-b242-86adcce24c9b",
   "metadata": {
    "user_expressions": []
   },
   "source": [
    "pynucastro currently has 3 screening implementations:\n",
    "\n",
    "* `potekhin_1998` based on Potekhin (1998)\n",
    "* `chugunov_2007` based on Chugunov (2007)\n",
    "* `chugunov_2009` based on Chugunov (2009)\n",
    "\n",
    "Each of these use various approximations to account for the influence of the plasma on screening the electric charge of the nuclei that are fusing."
   ]
  },
  {
   "cell_type": "markdown",
   "id": "e54ef3f4-8897-4173-be63-ca2ea1a03c95",
   "metadata": {
    "user_expressions": []
   },
   "source": [
    "## Using Screening"
   ]
  },
  {
   "cell_type": "markdown",
   "id": "65a28e67-d06a-424d-9fdc-cee6c178b0e0",
   "metadata": {
    "user_expressions": []
   },
   "source": [
    "To compute the screening factor for a rate, we need to know the entire composition (since the electron number density matters) as well as the two nuclei involved in the reaction.  There are two special types that store this information:\n",
    "\n",
    "* `PlasmaState` : stores the aggregate information about the entire plasma\n",
    "* `ScreenFactors` : stores the information about the two nuclei\n",
    "\n",
    "We create these objects separate before we call the screening routine since there are some computational expensive calculations here that don't change with repeated calls."
   ]
  },
  {
   "cell_type": "markdown",
   "id": "5687567d-901b-4e6e-bc74-83cbaf3341c6",
   "metadata": {
    "user_expressions": []
   },
   "source": [
    "Here we create a `PlasmaState` that knows about the conditions where the screening is taking place and then we use that to compute the screening factor for a rate.  The helper function\n",
    "`make_plasma_state` can create the `PlasmaState` object"
   ]
  },
  {
   "cell_type": "code",
   "execution_count": 2,
   "id": "8255ca53-5e04-4a8f-909a-24312a1a31a6",
   "metadata": {
    "tags": []
   },
   "outputs": [],
   "source": [
    "nuclei = [pyna.Nucleus(\"h1\"),\n",
    "          pyna.Nucleus(\"he4\"),\n",
    "          pyna.Nucleus(\"c12\"),\n",
    "          pyna.Nucleus(\"o16\"),\n",
    "          pyna.Nucleus(\"n14\"),\n",
    "          pyna.Nucleus(\"ca40\")]\n",
    "\n",
    "comp = pyna.Composition(nuclei)\n",
    "comp.set_solar_like()\n",
    "\n",
    "dens = 1.e6\n",
    "temp = 1.e8\n",
    "\n",
    "plasma = pyna.make_plasma_state(temp, dens, comp.get_molar())"
   ]
  },
  {
   "cell_type": "markdown",
   "id": "bbf93bb3-d698-41c3-84f6-7de534b3b357",
   "metadata": {
    "user_expressions": []
   },
   "source": [
    "Now let's get the ${}^{12}\\mathrm{C}(\\alpha,\\gamma){}^{16}\\mathrm{O}$ rate and compute the screening factor"
   ]
  },
  {
   "cell_type": "code",
   "execution_count": 3,
   "id": "ed8b22b4-5f93-410d-8951-4002bb8e1076",
   "metadata": {
    "tags": []
   },
   "outputs": [
    {
     "data": {
      "text/plain": [
       "C12 + He4 ⟶ O16 + 𝛾"
      ]
     },
     "execution_count": 3,
     "metadata": {},
     "output_type": "execute_result"
    }
   ],
   "source": [
    "reaclib_library = pyna.ReacLibLibrary()\n",
    "rfilter = pyna.RateFilter(reactants=[\"c12\", \"he4\"], products=[\"o16\"])\n",
    "r = reaclib_library.filter(rfilter).get_rates()[0]\n",
    "r"
   ]
  },
  {
   "cell_type": "markdown",
   "id": "afc0e9ca-4a32-4ca1-8684-87232e69ac7e",
   "metadata": {
    "user_expressions": []
   },
   "source": [
    "For the rate, we need the `ScreenFactor`"
   ]
  },
  {
   "cell_type": "code",
   "execution_count": 4,
   "id": "0e8b0269-c750-4909-bd56-695fffad7838",
   "metadata": {
    "tags": []
   },
   "outputs": [],
   "source": [
    "scn_fac = pyna.make_screen_factors(r.ion_screen[0], r.ion_screen[1])"
   ]
  },
  {
   "cell_type": "markdown",
   "id": "a5f160e7-fa39-42e8-b090-a63754050ec1",
   "metadata": {
    "user_expressions": []
   },
   "source": [
    "Finally, we'll select the Chugunov (2009) screening and compute the screening factor.  All of the needed thermodynamic information is contained in the `PlasmaState` and all of the needed\n",
    "reaction rate information is contained in the `ScreenFactor`"
   ]
  },
  {
   "cell_type": "code",
   "execution_count": 5,
   "id": "6ae350a9-b45d-4190-80ca-63f0d43463f2",
   "metadata": {
    "tags": []
   },
   "outputs": [],
   "source": [
    "from pynucastro.screening import chugunov_2009"
   ]
  },
  {
   "cell_type": "code",
   "execution_count": 6,
   "id": "e904ba6f-4ca8-4074-907b-98b703a2d05f",
   "metadata": {
    "tags": []
   },
   "outputs": [
    {
     "data": {
      "text/plain": [
       "4.420768411691579"
      ]
     },
     "execution_count": 6,
     "metadata": {},
     "output_type": "execute_result"
    }
   ],
   "source": [
    "scn = chugunov_2009(plasma, scn_fac)\n",
    "scn"
   ]
  },
  {
   "cell_type": "markdown",
   "id": "c0de4f26-7885-499f-9b50-53b2203d8f1d",
   "metadata": {
    "user_expressions": []
   },
   "source": [
    "## Screening Map"
   ]
  },
  {
   "cell_type": "markdown",
   "id": "8f19992d-adb5-4543-a8dc-32cbd600b1fe",
   "metadata": {
    "user_expressions": []
   },
   "source": [
    "For a `RateCollection` or a network derived from it, there are a lot of rates that will need to be screened, and some might have the same nuclei that need to be screened.  A \"screening map\" keeps track of all of the rates that need to be screened for the same set of reactants.\n",
    "\n",
    "Some networks (like the `aprox` networks in the literature) use the same screening factor for the forward and reverse rates.  A `RateCollection` takes a keyword argument `symmetric_screening` that tells the network to use the same screening for forward and reverse.  The screening map will then take this into account.\n",
    "\n",
    "The screening map returns a list of `ScreeningPair` objects which contain\n",
    "the pair of nuclei that need a screening factor computed as well as the list of all\n",
    "the rates that screening factor applies to."
   ]
  },
  {
   "cell_type": "markdown",
   "id": "8087de86-18be-4646-8d55-4e45672a3194",
   "metadata": {
    "user_expressions": []
   },
   "source": [
    "Here's an example: let's build a helium and carbon burning network."
   ]
  },
  {
   "cell_type": "code",
   "execution_count": 7,
   "id": "abc0d9a2-0cad-4f45-b1d5-7ab1b5cd9472",
   "metadata": {
    "tags": []
   },
   "outputs": [],
   "source": [
    "mynet = reaclib_library.linking_nuclei([\"p\", \"n\", \"he4\", \"c12\", \"o16\",\n",
    "                                        \"na23\", \"mg24\", \"ne20\"])\n",
    "pynet = pyna.PythonNetwork(libraries=[mynet])"
   ]
  },
  {
   "cell_type": "markdown",
   "id": "4ec6d3c8-ed71-4e42-9a0d-e5b93a483697",
   "metadata": {},
   "source": [
    "From the `RateCollection`, we can get the screening map (the list of `ScreeningPair` objects)"
   ]
  },
  {
   "cell_type": "code",
   "execution_count": 8,
   "id": "d4cb3c97-25b2-417a-ba71-2951c2b7ff97",
   "metadata": {
    "tags": []
   },
   "outputs": [],
   "source": [
    "from pynucastro.screening import get_screening_map\n",
    "screen_map = get_screening_map(pynet.get_rates(), symmetric_screening=pynet.symmetric_screening)"
   ]
  },
  {
   "cell_type": "code",
   "execution_count": 9,
   "id": "6989538f-d94c-4e57-bd02-8e75b8e03ac7",
   "metadata": {
    "tags": []
   },
   "outputs": [
    {
     "name": "stdout",
     "output_type": "stream",
     "text": [
      "screening for He4 + C12\n",
      "rates:\n",
      "  C12 + He4 ⟶ O16 + 𝛾\n",
      "\n",
      "screening for He4 + O16\n",
      "rates:\n",
      "  O16 + He4 ⟶ Ne20 + 𝛾\n",
      "\n",
      "screening for He4 + Ne20\n",
      "rates:\n",
      "  Ne20 + He4 ⟶ Mg24 + 𝛾\n",
      "  Ne20 + He4 ⟶ p + Na23\n",
      "  Ne20 + He4 ⟶ C12 + C12\n",
      "\n",
      "screening for p + Na23\n",
      "rates:\n",
      "  Na23 + p ⟶ Mg24 + 𝛾\n",
      "  Na23 + p ⟶ He4 + Ne20\n",
      "  Na23 + p ⟶ C12 + C12\n",
      "\n",
      "screening for C12 + C12\n",
      "rates:\n",
      "  C12 + C12 ⟶ p + Na23\n",
      "  C12 + C12 ⟶ He4 + Ne20\n",
      "\n",
      "screening for C12 + O16\n",
      "rates:\n",
      "  O16 + C12 ⟶ He4 + Mg24\n",
      "\n",
      "screening for He4 + Mg24\n",
      "rates:\n",
      "  Mg24 + He4 ⟶ C12 + O16\n",
      "\n",
      "screening for He4 + He4\n",
      "rates:\n",
      "  He4 + He4 + He4 ⟶ C12 + 𝛾\n",
      "\n",
      "screening for He4 + Be8\n",
      "rates:\n",
      "  He4 + He4 + He4 ⟶ C12 + 𝛾\n",
      "\n"
     ]
    }
   ],
   "source": [
    "for s in screen_map:\n",
    "    print(s)"
   ]
  },
  {
   "cell_type": "markdown",
   "id": "19390ea5-0832-45d8-bc59-06989506d182",
   "metadata": {
    "user_expressions": []
   },
   "source": [
    "Here we see that the screening for some pairs of nuclei (like $p + {}^{23}\\mathrm{Na}$) apply to several rates."
   ]
  },
  {
   "cell_type": "markdown",
   "id": "a2286096-023e-4d80-8a07-727d486bc8f5",
   "metadata": {
    "user_expressions": []
   },
   "source": [
    "## Screening and a Python Network"
   ]
  },
  {
   "cell_type": "markdown",
   "id": "3fda16ac-99e4-445e-b37d-b89844c5f7d8",
   "metadata": {
    "user_expressions": []
   },
   "source": [
    "When we write out the module that defines a python network, it contains all of the information needed to define the righthand side and Jacobian, if screening is not used.  But the `rhs` and `jacobian` functions can take an optional argument that is the name of the screening function to use, and if this is provided, then the rates will be screened.  Here we demonstrate this."
   ]
  },
  {
   "cell_type": "code",
   "execution_count": 10,
   "id": "4bc42e31-6194-4ec8-9f21-1af407496426",
   "metadata": {
    "tags": []
   },
   "outputs": [],
   "source": [
    "import numpy as np\n",
    "import matplotlib.pyplot as plt\n",
    "from scipy.integrate import solve_ivp"
   ]
  },
  {
   "cell_type": "code",
   "execution_count": 11,
   "id": "d55f6e88-8fb1-44e2-a1ef-272c53dc4816",
   "metadata": {
    "tags": []
   },
   "outputs": [],
   "source": [
    "pynet.write_network(\"cburn.py\")\n",
    "import cburn"
   ]
  },
  {
   "cell_type": "markdown",
   "id": "6424cc00-1ba1-457f-b1a6-5e48a6f3c17a",
   "metadata": {
    "user_expressions": []
   },
   "source": [
    "First we'll run with screening.  Here we pass the name of the screening function to the `rhs` and `jacobian` function through the `args` keyword"
   ]
  },
  {
   "cell_type": "markdown",
   "id": "cdf81ed7-3b33-4580-a72a-3c9f685123f2",
   "metadata": {
    "user_expressions": []
   },
   "source": [
    "We'll pick conditions appropriate for the center of a Chandra mass white dwarf just after a carbon flame ignites."
   ]
  },
  {
   "cell_type": "code",
   "execution_count": 12,
   "id": "9681a519-31a5-40c9-8310-bb01c489a6e8",
   "metadata": {
    "tags": []
   },
   "outputs": [],
   "source": [
    "rho = 1.e9\n",
    "T = 2.e9\n",
    "\n",
    "X0 = np.zeros(cburn.nnuc)\n",
    "X0[cburn.jc12] = 0.5\n",
    "X0[cburn.jo16] = 0.5\n",
    "\n",
    "Y0 = X0/cburn.A\n",
    "\n",
    "tmax = 1000.0\n",
    "\n",
    "sol = solve_ivp(cburn.rhs, [0, tmax], Y0, method=\"BDF\", jac=cburn.jacobian,\n",
    "                dense_output=True, args=(rho, T, chugunov_2009), rtol=1.e-6, atol=1.e-10)"
   ]
  },
  {
   "cell_type": "markdown",
   "id": "6c2c9e9c-16a0-4afc-ab2a-66e02ed7dd20",
   "metadata": {
    "user_expressions": []
   },
   "source": [
    "Now we run without screening:"
   ]
  },
  {
   "cell_type": "code",
   "execution_count": 13,
   "id": "273d4075-dea9-4cb8-b305-4b6bfe4ad74e",
   "metadata": {
    "tags": []
   },
   "outputs": [],
   "source": [
    "sol_noscreen = solve_ivp(cburn.rhs, [0, tmax], Y0, method=\"BDF\", jac=cburn.jacobian,\n",
    "                         dense_output=True, args=(rho, T), rtol=1.e-6, atol=1.e-10)"
   ]
  },
  {
   "cell_type": "markdown",
   "id": "03548dd4-c341-44c3-91d4-864d659697a4",
   "metadata": {
    "user_expressions": []
   },
   "source": [
    "and we can plot the two cases together.  The non-screened X's will be shown with a dotted line."
   ]
  },
  {
   "cell_type": "code",
   "execution_count": 14,
   "id": "7364fe7c-20b4-4641-893e-ec45c16d2c27",
   "metadata": {
    "tags": []
   },
   "outputs": [
    {
     "data": {
      "image/png": "[encoded data removed]",
      "text/plain": [
       "<Figure size 800x600 with 1 Axes>"
      ]
     },
     "metadata": {},
     "output_type": "display_data"
    }
   ],
   "source": [
    "fig = plt.figure()\n",
    "ax = fig.add_subplot(111)\n",
    "\n",
    "threshold = 1.e-4\n",
    "\n",
    "icolor = 0\n",
    "for i in range(cburn.nnuc):\n",
    "    if (sol.y[i,:]).max() > threshold:\n",
    "        ax.loglog(sol.t, sol.y[i,:] * cburn.A[i],\n",
    "                  label=f\"X({cburn.names[i].capitalize()})\",\n",
    "                  color=f\"C{icolor}\")\n",
    "        ax.loglog(sol_noscreen.t, sol_noscreen.y[i,:] * cburn.A[i],\n",
    "                  linestyle=\":\", color=f\"C{icolor}\")\n",
    "        icolor += 1\n",
    "        \n",
    "ax.set_ylim(1.e-8, 1.0)\n",
    "ax.legend(fontsize=\"small\")\n",
    "ax.set_xlabel(\"t (s)\")\n",
    "ax.set_ylabel(\"X\")\n",
    "\n",
    "fig.set_size_inches((8, 6))"
   ]
  },
  {
   "cell_type": "markdown",
   "id": "8176d283-60ce-4366-b0da-4cc157531a2a",
   "metadata": {
    "user_expressions": []
   },
   "source": [
    "As expected, using screening makes the carbon burn much more quickly."
   ]
  }
 ],
 "metadata": {
  "kernelspec": {
   "display_name": "Python 3 (ipykernel)",
   "language": "python",
   "name": "python3"
  },
  "language_info": {
   "codemirror_mode": {
    "name": "ipython",
    "version": 3
   },
   "file_extension": ".py",
   "mimetype": "text/x-python",
   "name": "python",
   "nbconvert_exporter": "python",
   "pygments_lexer": "ipython3",
   "version": "3.11.6"
  }
 },
 "nbformat": 4,
 "nbformat_minor": 5
}
