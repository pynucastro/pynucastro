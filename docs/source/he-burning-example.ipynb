{
 "cells": [
  {
   "cell_type": "markdown",
   "id": "ae1c1084-6bd5-4a39-9112-36c6c3d451ba",
   "metadata": {},
   "source": [
    "# A He-burning Network"
   ]
  },
  {
   "cell_type": "markdown",
   "id": "4cfd8bab-c0eb-4f84-a936-1fb8310e2d10",
   "metadata": {},
   "source": [
    "Here we create a network that can be used as an $\\alpha$-chain for modeling He detonations, and includes some of the iron group.  It is similar in goals to the classic `aprox19` network, but it has some additional rates that are important."
   ]
  },
  {
   "cell_type": "code",
   "execution_count": 1,
   "id": "6823b966-c00c-483e-8286-d6c43a4aeef2",
   "metadata": {},
   "outputs": [],
   "source": [
    "import pynucastro as pyna"
   ]
  },
  {
   "cell_type": "markdown",
   "id": "1be16848-6fd4-4cc8-8562-d25a3a72221a",
   "metadata": {},
   "source": [
    "## Assembling our library"
   ]
  },
  {
   "cell_type": "markdown",
   "id": "da55776e-9938-4b32-b8f7-ef62d036ee51",
   "metadata": {},
   "source": [
    "### Core nuclei"
   ]
  },
  {
   "cell_type": "markdown",
   "id": "f1b47daa-b241-424f-aeef-aa429aa892c8",
   "metadata": {},
   "source": [
    "We start with a list of nuclei, including all $\\alpha$-nuclei up to ${}^{56}\\mathrm{Ni}$.\n",
    "We also add the intermediate nuclei that would participate in $(\\alpha,p)(p,\\gamma)$ reactions,\n",
    "as well as a few more nuclei, including those identified by [Shen & Bildsten 2009](https://ui.adsabs.harvard.edu/abs/2009ApJ...699.1365S/abstract) for bypassing the ${}^{12}\\mathrm{C}(\\alpha,\\gamma){}^{16}\\mathrm{O}$ rate.  These rates are not present in the classic `aprox` networks, but can\n",
    "be very important for the ignition of a detonation."
   ]
  },
  {
   "cell_type": "code",
   "execution_count": 2,
   "id": "cde7adb2-098b-4876-8065-d5a5715bd318",
   "metadata": {},
   "outputs": [],
   "source": [
    "nuclei = [\"p\",\n",
    "          \"he4\", \"c12\", \"o16\", \"ne20\", \"mg24\", \"si28\", \"s32\",\n",
    "          \"ar36\", \"ca40\", \"ti44\", \"cr48\", \"fe52\", \"ni56\",\n",
    "          \"al27\", \"p31\", \"cl35\", \"k39\", \"sc43\", \"v47\", \"mn51\", \"co55\",\n",
    "          \"n13\", \"n14\", \"f18\", \"ne21\", \"na22\", \"na23\"]"
   ]
  },
  {
   "cell_type": "markdown",
   "id": "fdb1a911-ff64-438b-996f-80c267704cfc",
   "metadata": {},
   "source": [
    "For our initial library, we take all of the ReacLib rates that link these."
   ]
  },
  {
   "cell_type": "code",
   "execution_count": 3,
   "id": "8b66d1a2-fe74-4ef8-89c3-e8e6f705413a",
   "metadata": {},
   "outputs": [],
   "source": [
    "reaclib_lib = pyna.ReacLibLibrary()\n",
    "core_lib = reaclib_lib.linking_nuclei(nuclei)"
   ]
  },
  {
   "cell_type": "markdown",
   "id": "248f35e6-f130-4ace-b862-9400f52f17e2",
   "metadata": {},
   "source": [
    "Since we didn't include neutrons in our list of nuclei, we are missing some potentially important rates, which we now add manually.  However, we do not want to carry neutrons, so we modify the endpoints of these reactions to assume\n",
    "that the original $(X, n)$ reaction is immediately followed by a neutron capture."
   ]
  },
  {
   "cell_type": "code",
   "execution_count": 4,
   "id": "c38770e0-851a-4f0a-bb65-befd83c9c6aa",
   "metadata": {},
   "outputs": [],
   "source": [
    "other_rates = [(\"c12(c12,n)mg23\", \"mg24\"),\n",
    "               (\"o16(o16,n)s31\", \"s32\"),\n",
    "               (\"o16(c12,n)si27\", \"si28\")]\n",
    "\n",
    "for r, mp in other_rates:\n",
    "    _r = reaclib_lib.get_rate_by_name(r)\n",
    "    _r.modify_products(mp)\n",
    "    core_lib += pyna.Library(rates=[_r])"
   ]
  },
  {
   "cell_type": "markdown",
   "id": "74937ce7-c557-435b-9ca7-4f0b48707ea1",
   "metadata": {},
   "source": [
    "Now we remove some rates that traditionally are not present in the `aprox`-style networks.  This includes the\n",
    "reverse rates of ${}^{12}\\mathrm{C} + {}^{12}\\mathrm{C}$, ${}^{16}\\mathrm{O} + {}^{12}\\mathrm{C}$, and ${}^{16}\\mathrm{O} + {}^{16}\\mathrm{O}$.  We also remove some $\\alpha$-captures and $p$-captures on neutron-rich nuclei that will be eliminated when we approximate them out of the network."
   ]
  },
  {
   "cell_type": "code",
   "execution_count": 5,
   "id": "7a7719f8-0977-43cb-b702-508e036441fc",
   "metadata": {},
   "outputs": [],
   "source": [
    "for r in core_lib.get_rates():\n",
    "    if sorted(r.products) in [[pyna.Nucleus(\"c12\"), pyna.Nucleus(\"c12\")],\n",
    "                              [pyna.Nucleus(\"c12\"), pyna.Nucleus(\"o16\")],\n",
    "                              [pyna.Nucleus(\"o16\"), pyna.Nucleus(\"o16\")]]:\n",
    "        core_lib.remove_rate(r)\n",
    "\n",
    "rates_to_remove = [\"p31(p,c12)ne20\",\n",
    "                   \"si28(a,c12)ne20\",\n",
    "                   \"ne20(c12,p)p31\",\n",
    "                   \"ne20(c12,a)si28\",\n",
    "                   \"na23(a,g)al27\",\n",
    "                   \"al27(g,a)na23\",\n",
    "                   \"al27(a,g)p31\",\n",
    "                   \"p31(g,a)al27\"]\n",
    "\n",
    "for r in rates_to_remove:\n",
    "    _r = core_lib.get_rate_by_name(r)\n",
    "    core_lib.remove_rate(_r)"
   ]
  },
  {
   "cell_type": "markdown",
   "id": "c784f9ef-322f-4754-96ce-4eae1dd03764",
   "metadata": {},
   "source": [
    "Here's the current list of rates"
   ]
  },
  {
   "cell_type": "code",
   "execution_count": 6,
   "id": "10b547bb-3e2d-43a7-9983-236e408a90c9",
   "metadata": {},
   "outputs": [
    {
     "data": {
      "text/plain": [
       "He4 + He4 + He4 ⟶ C12 + 𝛾      [Q =   7.28 MeV] (He4 + He4 + He4 --> C12 <fy05_reaclib__>)\n",
       "C12 + p ⟶ N13 + 𝛾              [Q =   1.94 MeV] (C12 + p --> N13 <ls09_reaclib__>)\n",
       "C12 + He4 ⟶ O16 + 𝛾            [Q =   7.16 MeV] (C12 + He4 --> O16 <nac2_reaclib__>)\n",
       "C12 + C12 ⟶ He4 + Ne20         [Q =   4.62 MeV] (C12 + C12 --> He4 + Ne20 <cf88_reaclib__>)\n",
       "C12 + C12 ⟶ p + Na23           [Q =   2.24 MeV] (C12 + C12 --> p + Na23 <cf88_reaclib__>)\n",
       "C12 + C12 ⟶ Mg24 + 𝛾           [Q =  13.93 MeV] (C12 + C12 --> Mg24 <cf88_reaclib__reverse>)\n",
       "N13 + He4 ⟶ p + O16            [Q =   5.22 MeV] (N13 + He4 --> p + O16 <cf88_reaclib__>)\n",
       "N14 + He4 ⟶ F18 + 𝛾            [Q =   4.41 MeV] (N14 + He4 --> F18 <il10_reaclib__>)\n",
       "O16 + He4 ⟶ Ne20 + 𝛾           [Q =   4.73 MeV] (O16 + He4 --> Ne20 <co10_reaclib__>)\n",
       "O16 + C12 ⟶ He4 + Mg24         [Q =   6.77 MeV] (O16 + C12 --> He4 + Mg24 <cf88_reaclib__>)\n",
       "O16 + C12 ⟶ p + Al27           [Q =   5.17 MeV] (O16 + C12 --> p + Al27 <cf88_reaclib__>)\n",
       "O16 + C12 ⟶ Si28 + 𝛾           [Q =  16.76 MeV] (O16 + C12 --> Si28 <cf88_reaclib__reverse>)\n",
       "O16 + O16 ⟶ He4 + Si28         [Q =   9.59 MeV] (O16 + O16 --> He4 + Si28 <cf88_reaclib__>)\n",
       "O16 + O16 ⟶ p + P31            [Q =   7.68 MeV] (O16 + O16 --> p + P31 <cf88_reaclib__>)\n",
       "O16 + O16 ⟶ S32 + 𝛾            [Q =  16.54 MeV] (O16 + O16 --> S32 <cf88_reaclib__>)\n",
       "F18 + He4 ⟶ p + Ne21           [Q =   1.74 MeV] (F18 + He4 --> p + Ne21 <rpsm_reaclib__>)\n",
       "F18 + He4 ⟶ Na22 + 𝛾           [Q =   8.48 MeV] (F18 + He4 --> Na22 <rpsm_reaclib__>)\n",
       "Ne20 + He4 ⟶ Mg24 + 𝛾          [Q =   9.32 MeV] (Ne20 + He4 --> Mg24 <il10_reaclib__>)\n",
       "Ne21 + p ⟶ Na22 + 𝛾            [Q =   6.74 MeV] (Ne21 + p --> Na22 <il10_reaclib__>)\n",
       "Na23 + p ⟶ He4 + Ne20          [Q =   2.38 MeV] (Na23 + p --> He4 + Ne20 <il10_reaclib__>)\n",
       "Na23 + p ⟶ Mg24 + 𝛾            [Q =  11.69 MeV] (Na23 + p --> Mg24 <il10_reaclib__>)\n",
       "Mg24 + He4 ⟶ Si28 + 𝛾          [Q =   9.98 MeV] (Mg24 + He4 --> Si28 <st08_reaclib__>)\n",
       "Al27 + p ⟶ He4 + Mg24          [Q =   1.60 MeV] (Al27 + p --> He4 + Mg24 <il10_reaclib__>)\n",
       "Al27 + p ⟶ Si28 + 𝛾            [Q =  11.59 MeV] (Al27 + p --> Si28 <il10_reaclib__>)\n",
       "Si28 + He4 ⟶ S32 + 𝛾           [Q =   6.95 MeV] (Si28 + He4 --> S32 <ths8_reaclib__>)\n",
       "P31 + p ⟶ He4 + Si28           [Q =   1.92 MeV] (P31 + p --> He4 + Si28 <il10_reaclib__>)\n",
       "P31 + p ⟶ S32 + 𝛾              [Q =   8.86 MeV] (P31 + p --> S32 <il10_reaclib__>)\n",
       "P31 + He4 ⟶ Cl35 + 𝛾           [Q =   7.00 MeV] (P31 + He4 --> Cl35 <ths8_reaclib__>)\n",
       "S32 + He4 ⟶ Ar36 + 𝛾           [Q =   6.64 MeV] (S32 + He4 --> Ar36 <ths8_reaclib__>)\n",
       "Cl35 + p ⟶ He4 + S32           [Q =   1.87 MeV] (Cl35 + p --> He4 + S32 <il10_reaclib__>)\n",
       "Cl35 + p ⟶ Ar36 + 𝛾            [Q =   8.51 MeV] (Cl35 + p --> Ar36 <il10_reaclib__>)\n",
       "Cl35 + He4 ⟶ K39 + 𝛾           [Q =   7.22 MeV] (Cl35 + He4 --> K39 <ths8_reaclib__>)\n",
       "Ar36 + He4 ⟶ Ca40 + 𝛾          [Q =   7.04 MeV] (Ar36 + He4 --> Ca40 <ths8_reaclib__>)\n",
       "K39 + p ⟶ He4 + Ar36           [Q =   1.29 MeV] (K39 + p --> He4 + Ar36 <ths8_reaclib__>)\n",
       "K39 + p ⟶ Ca40 + 𝛾             [Q =   8.33 MeV] (K39 + p --> Ca40 <lo18_reaclib__>)\n",
       "K39 + He4 ⟶ Sc43 + 𝛾           [Q =   4.81 MeV] (K39 + He4 --> Sc43 <ths8_reaclib__>)\n",
       "Ca40 + He4 ⟶ Ti44 + 𝛾          [Q =   5.13 MeV] (Ca40 + He4 --> Ti44 <chw0_reaclib__>)\n",
       "Sc43 + p ⟶ He4 + Ca40          [Q =   3.52 MeV] (Sc43 + p --> He4 + Ca40 <ths8_reaclib__>)\n",
       "Sc43 + p ⟶ Ti44 + 𝛾            [Q =   8.65 MeV] (Sc43 + p --> Ti44 <ths8_reaclib__>)\n",
       "Sc43 + He4 ⟶ V47 + 𝛾           [Q =   8.24 MeV] (Sc43 + He4 --> V47 <ths8_reaclib__>)\n",
       "Ti44 + He4 ⟶ Cr48 + 𝛾          [Q =   7.70 MeV] (Ti44 + He4 --> Cr48 <ths8_reaclib__>)\n",
       "V47 + p ⟶ He4 + Ti44           [Q =   0.41 MeV] (V47 + p --> He4 + Ti44 <chw0_reaclib__reverse>)\n",
       "V47 + p ⟶ Cr48 + 𝛾             [Q =   8.11 MeV] (V47 + p --> Cr48 <nfis_reaclib__>)\n",
       "V47 + He4 ⟶ Mn51 + 𝛾           [Q =   8.66 MeV] (V47 + He4 --> Mn51 <ths8_reaclib__>)\n",
       "Cr48 + He4 ⟶ p + Mn51          [Q =   0.56 MeV] (Cr48 + He4 --> p + Mn51 <ths8_reaclib__>)\n",
       "Cr48 + He4 ⟶ Fe52 + 𝛾          [Q =   7.94 MeV] (Cr48 + He4 --> Fe52 <ths8_reaclib__>)\n",
       "Mn51 + p ⟶ Fe52 + 𝛾            [Q =   7.38 MeV] (Mn51 + p --> Fe52 <ths8_reaclib__>)\n",
       "Mn51 + He4 ⟶ Co55 + 𝛾          [Q =   8.21 MeV] (Mn51 + He4 --> Co55 <ths8_reaclib__>)\n",
       "Fe52 + He4 ⟶ p + Co55          [Q =   0.83 MeV] (Fe52 + He4 --> p + Co55 <ths8_reaclib__>)\n",
       "Fe52 + He4 ⟶ Ni56 + 𝛾          [Q =   8.00 MeV] (Fe52 + He4 --> Ni56 <ths8_reaclib__>)\n",
       "Co55 + p ⟶ Ni56 + 𝛾            [Q =   7.17 MeV] (Co55 + p --> Ni56 <ths8_reaclib__>)\n",
       "C12 ⟶ He4 + He4 + He4          [Q =  -7.28 MeV] (C12 --> He4 + He4 + He4 <fy05_reaclib__reverse>)\n",
       "N13 ⟶ p + C12                  [Q =  -1.94 MeV] (N13 --> p + C12 <ls09_reaclib__reverse>)\n",
       "O16 + p ⟶ He4 + N13            [Q =  -5.22 MeV] (O16 + p --> He4 + N13 <cf88_reaclib__reverse>)\n",
       "O16 ⟶ He4 + C12                [Q =  -7.16 MeV] (O16 --> He4 + C12 <nac2_reaclib__reverse>)\n",
       "F18 ⟶ He4 + N14                [Q =  -4.41 MeV] (F18 --> He4 + N14 <il10_reaclib__reverse>)\n",
       "Ne20 + He4 ⟶ p + Na23          [Q =  -2.38 MeV] (Ne20 + He4 --> p + Na23 <il10_reaclib__reverse>)\n",
       "Ne20 ⟶ He4 + O16               [Q =  -4.73 MeV] (Ne20 --> He4 + O16 <co10_reaclib__reverse>)\n",
       "Ne21 + p ⟶ He4 + F18           [Q =  -1.74 MeV] (Ne21 + p --> He4 + F18 <rpsm_reaclib__reverse>)\n",
       "Na22 ⟶ He4 + F18               [Q =  -8.48 MeV] (Na22 --> He4 + F18 <rpsm_reaclib__reverse>)\n",
       "Na22 ⟶ p + Ne21                [Q =  -6.74 MeV] (Na22 --> p + Ne21 <il10_reaclib__reverse>)\n",
       "Mg24 + He4 ⟶ p + Al27          [Q =  -1.60 MeV] (Mg24 + He4 --> p + Al27 <il10_reaclib__reverse>)\n",
       "Mg24 ⟶ He4 + Ne20              [Q =  -9.32 MeV] (Mg24 --> He4 + Ne20 <il10_reaclib__reverse>)\n",
       "Mg24 ⟶ p + Na23                [Q = -11.69 MeV] (Mg24 --> p + Na23 <il10_reaclib__reverse>)\n",
       "Si28 + He4 ⟶ p + P31           [Q =  -1.92 MeV] (Si28 + He4 --> p + P31 <il10_reaclib__reverse>)\n",
       "Si28 ⟶ He4 + Mg24              [Q =  -9.98 MeV] (Si28 --> He4 + Mg24 <st08_reaclib__reverse>)\n",
       "Si28 ⟶ p + Al27                [Q = -11.59 MeV] (Si28 --> p + Al27 <il10_reaclib__reverse>)\n",
       "S32 + He4 ⟶ p + Cl35           [Q =  -1.87 MeV] (S32 + He4 --> p + Cl35 <il10_reaclib__reverse>)\n",
       "S32 ⟶ He4 + Si28               [Q =  -6.95 MeV] (S32 --> He4 + Si28 <ths8_reaclib__reverse>)\n",
       "S32 ⟶ p + P31                  [Q =  -8.86 MeV] (S32 --> p + P31 <il10_reaclib__reverse>)\n",
       "Cl35 ⟶ He4 + P31               [Q =  -7.00 MeV] (Cl35 --> He4 + P31 <ths8_reaclib__reverse>)\n",
       "Ar36 + He4 ⟶ p + K39           [Q =  -1.29 MeV] (Ar36 + He4 --> p + K39 <ths8_reaclib__reverse>)\n",
       "Ar36 ⟶ He4 + S32               [Q =  -6.64 MeV] (Ar36 --> He4 + S32 <ths8_reaclib__reverse>)\n",
       "Ar36 ⟶ p + Cl35                [Q =  -8.51 MeV] (Ar36 --> p + Cl35 <il10_reaclib__reverse>)\n",
       "K39 ⟶ He4 + Cl35               [Q =  -7.22 MeV] (K39 --> He4 + Cl35 <ths8_reaclib__reverse>)\n",
       "Ca40 + He4 ⟶ p + Sc43          [Q =  -3.52 MeV] (Ca40 + He4 --> p + Sc43 <ths8_reaclib__reverse>)\n",
       "Ca40 ⟶ He4 + Ar36              [Q =  -7.04 MeV] (Ca40 --> He4 + Ar36 <ths8_reaclib__reverse>)\n",
       "Ca40 ⟶ p + K39                 [Q =  -8.33 MeV] (Ca40 --> p + K39 <lo18_reaclib__reverse>)\n",
       "Sc43 ⟶ He4 + K39               [Q =  -4.81 MeV] (Sc43 --> He4 + K39 <ths8_reaclib__reverse>)\n",
       "Ti44 + He4 ⟶ p + V47           [Q =  -0.41 MeV] (Ti44 + He4 --> p + V47 <chw0_reaclib__>)\n",
       "Ti44 ⟶ He4 + Ca40              [Q =  -5.13 MeV] (Ti44 --> He4 + Ca40 <chw0_reaclib__reverse>)\n",
       "Ti44 ⟶ p + Sc43                [Q =  -8.65 MeV] (Ti44 --> p + Sc43 <ths8_reaclib__reverse>)\n",
       "V47 ⟶ He4 + Sc43               [Q =  -8.24 MeV] (V47 --> He4 + Sc43 <ths8_reaclib__reverse>)\n",
       "Cr48 ⟶ He4 + Ti44              [Q =  -7.70 MeV] (Cr48 --> He4 + Ti44 <ths8_reaclib__reverse>)\n",
       "Cr48 ⟶ p + V47                 [Q =  -8.11 MeV] (Cr48 --> p + V47 <nfis_reaclib__reverse>)\n",
       "Mn51 + p ⟶ He4 + Cr48          [Q =  -0.56 MeV] (Mn51 + p --> He4 + Cr48 <ths8_reaclib__reverse>)\n",
       "Mn51 ⟶ He4 + V47               [Q =  -8.66 MeV] (Mn51 --> He4 + V47 <ths8_reaclib__reverse>)\n",
       "Fe52 ⟶ He4 + Cr48              [Q =  -7.94 MeV] (Fe52 --> He4 + Cr48 <ths8_reaclib__reverse>)\n",
       "Fe52 ⟶ p + Mn51                [Q =  -7.38 MeV] (Fe52 --> p + Mn51 <ths8_reaclib__reverse>)\n",
       "Co55 + p ⟶ He4 + Fe52          [Q =  -0.83 MeV] (Co55 + p --> He4 + Fe52 <ths8_reaclib__reverse>)\n",
       "Co55 ⟶ He4 + Mn51              [Q =  -8.21 MeV] (Co55 --> He4 + Mn51 <ths8_reaclib__reverse>)\n",
       "Ni56 ⟶ He4 + Fe52              [Q =  -8.00 MeV] (Ni56 --> He4 + Fe52 <ths8_reaclib__reverse>)\n",
       "Ni56 ⟶ p + Co55                [Q =  -7.17 MeV] (Ni56 --> p + Co55 <ths8_reaclib__reverse>)"
      ]
     },
     "execution_count": 6,
     "metadata": {},
     "output_type": "execute_result"
    }
   ],
   "source": [
    "core_lib"
   ]
  },
  {
   "cell_type": "markdown",
   "id": "848577fc-47bd-4ba6-9113-9f390e6b22e2",
   "metadata": {},
   "source": [
    "### Iron group"
   ]
  },
  {
   "cell_type": "markdown",
   "id": "dd3f9230-4172-47bd-9997-24da3aa304f4",
   "metadata": {},
   "source": [
    "Now we'll add some more nuclei in the iron group."
   ]
  },
  {
   "cell_type": "code",
   "execution_count": 7,
   "id": "71ed964e-67b2-4834-844e-649168a90d75",
   "metadata": {},
   "outputs": [],
   "source": [
    "iron_peak = [\"n\", \"p\", \"he4\",\n",
    "             \"mn51\",\n",
    "             \"fe52\", \"fe53\", \"fe54\", \"fe55\", \"fe56\",\n",
    "             \"co55\", \"co56\", \"co57\",\n",
    "             \"ni56\", \"ni57\", \"ni58\"]"
   ]
  },
  {
   "cell_type": "code",
   "execution_count": 8,
   "id": "412e800e-5b89-4f44-9e69-d11944a4c809",
   "metadata": {},
   "outputs": [
    {
     "name": "stdout",
     "output_type": "stream",
     "text": [
      "warning: He4 was not able to be linked\n",
      "warning: Fe53 was not able to be linked\n",
      "warning: Mn51 was not able to be linked\n",
      "warning: Ni58 was not able to be linked\n",
      "warning: Fe52 was not able to be linked\n",
      "warning: Fe54 was not able to be linked\n"
     ]
    }
   ],
   "source": [
    "iron_reaclib = reaclib_lib.linking_nuclei(iron_peak)\n",
    "\n",
    "weak_lib = pyna.TabularLibrary()\n",
    "iron_weak_lib = weak_lib.linking_nuclei(iron_peak)"
   ]
  },
  {
   "cell_type": "code",
   "execution_count": 9,
   "id": "f608476e-df30-4726-ad72-551349292c27",
   "metadata": {},
   "outputs": [],
   "source": [
    "all_lib = core_lib + iron_reaclib + iron_weak_lib"
   ]
  },
  {
   "cell_type": "markdown",
   "id": "7c1ea176-73ef-425a-90e7-a1f0e6218820",
   "metadata": {},
   "source": [
    "## Detailed balance"
   ]
  },
  {
   "cell_type": "markdown",
   "id": "e65e4963-8760-4386-a057-dc3b32fa1799",
   "metadata": {},
   "source": [
    "Finally, we replace the reverse rates from ReacLib by rederiving them via detailed balance, and including the partition functions."
   ]
  },
  {
   "cell_type": "code",
   "execution_count": 10,
   "id": "8071ad74-71d5-4624-a33c-f24309156be0",
   "metadata": {},
   "outputs": [
    {
     "name": "stdout",
     "output_type": "stream",
     "text": [
      "modifying N13 ⟶ p + C12 from C12 + p ⟶ N13 + 𝛾\n",
      "modifying O16 ⟶ He4 + C12 from C12 + He4 ⟶ O16 + 𝛾\n",
      "modifying F18 ⟶ He4 + N14 from N14 + He4 ⟶ F18 + 𝛾\n",
      "modifying Ne20 ⟶ He4 + O16 from O16 + He4 ⟶ Ne20 + 𝛾\n",
      "modifying Na22 ⟶ p + Ne21 from Ne21 + p ⟶ Na22 + 𝛾\n",
      "modifying Na22 ⟶ He4 + F18 from F18 + He4 ⟶ Na22 + 𝛾\n",
      "modifying Mg24 ⟶ p + Na23 from Na23 + p ⟶ Mg24 + 𝛾\n",
      "modifying Mg24 ⟶ He4 + Ne20 from Ne20 + He4 ⟶ Mg24 + 𝛾\n",
      "modifying Si28 ⟶ p + Al27 from Al27 + p ⟶ Si28 + 𝛾\n",
      "modifying Si28 ⟶ He4 + Mg24 from Mg24 + He4 ⟶ Si28 + 𝛾\n",
      "modifying S32 ⟶ p + P31 from P31 + p ⟶ S32 + 𝛾\n",
      "modifying S32 ⟶ He4 + Si28 from Si28 + He4 ⟶ S32 + 𝛾\n",
      "modifying Cl35 ⟶ He4 + P31 from P31 + He4 ⟶ Cl35 + 𝛾\n",
      "modifying Ar36 ⟶ p + Cl35 from Cl35 + p ⟶ Ar36 + 𝛾\n",
      "modifying Ar36 ⟶ He4 + S32 from S32 + He4 ⟶ Ar36 + 𝛾\n",
      "modifying K39 ⟶ He4 + Cl35 from Cl35 + He4 ⟶ K39 + 𝛾\n",
      "modifying Ca40 ⟶ p + K39 from K39 + p ⟶ Ca40 + 𝛾\n",
      "modifying Ca40 ⟶ He4 + Ar36 from Ar36 + He4 ⟶ Ca40 + 𝛾\n",
      "modifying Sc43 ⟶ He4 + K39 from K39 + He4 ⟶ Sc43 + 𝛾\n",
      "modifying Ti44 ⟶ p + Sc43 from Sc43 + p ⟶ Ti44 + 𝛾\n",
      "modifying Ti44 ⟶ He4 + Ca40 from Ca40 + He4 ⟶ Ti44 + 𝛾\n",
      "modifying V47 ⟶ He4 + Sc43 from Sc43 + He4 ⟶ V47 + 𝛾\n",
      "modifying Cr48 ⟶ p + V47 from V47 + p ⟶ Cr48 + 𝛾\n",
      "modifying Cr48 ⟶ He4 + Ti44 from Ti44 + He4 ⟶ Cr48 + 𝛾\n",
      "modifying Mn51 ⟶ He4 + V47 from V47 + He4 ⟶ Mn51 + 𝛾\n",
      "modifying Fe52 ⟶ p + Mn51 from Mn51 + p ⟶ Fe52 + 𝛾\n",
      "modifying Fe52 ⟶ He4 + Cr48 from Cr48 + He4 ⟶ Fe52 + 𝛾\n",
      "modifying Co55 ⟶ He4 + Mn51 from Mn51 + He4 ⟶ Co55 + 𝛾\n",
      "modifying Ni56 ⟶ p + Co55 from Co55 + p ⟶ Ni56 + 𝛾\n",
      "modifying Ni56 ⟶ He4 + Fe52 from Fe52 + He4 ⟶ Ni56 + 𝛾\n",
      "modifying C12 ⟶ He4 + He4 + He4 from He4 + He4 + He4 ⟶ C12 + 𝛾\n",
      "modifying O16 + p ⟶ He4 + N13 from N13 + He4 ⟶ p + O16\n",
      "modifying Ne20 + He4 ⟶ p + Na23 from Na23 + p ⟶ He4 + Ne20\n",
      "modifying Ne21 + p ⟶ He4 + F18 from F18 + He4 ⟶ p + Ne21\n",
      "modifying Mg24 + He4 ⟶ p + Al27 from Al27 + p ⟶ He4 + Mg24\n",
      "modifying Si28 + He4 ⟶ p + P31 from P31 + p ⟶ He4 + Si28\n",
      "modifying S32 + He4 ⟶ p + Cl35 from Cl35 + p ⟶ He4 + S32\n",
      "modifying Ar36 + He4 ⟶ p + K39 from K39 + p ⟶ He4 + Ar36\n",
      "modifying Ca40 + He4 ⟶ p + Sc43 from Sc43 + p ⟶ He4 + Ca40\n",
      "modifying V47 + p ⟶ He4 + Ti44 from Ti44 + He4 ⟶ p + V47\n",
      "modifying Mn51 + p ⟶ He4 + Cr48 from Cr48 + He4 ⟶ p + Mn51\n",
      "modifying Co55 + p ⟶ He4 + Fe52 from Fe52 + He4 ⟶ p + Co55\n",
      "modifying Fe53 ⟶ n + Fe52 from Fe52 + n ⟶ Fe53 + 𝛾\n",
      "modifying Fe54 ⟶ n + Fe53 from Fe53 + n ⟶ Fe54 + 𝛾\n",
      "modifying Fe55 ⟶ n + Fe54 from Fe54 + n ⟶ Fe55 + 𝛾\n",
      "modifying Fe56 ⟶ n + Fe55 from Fe55 + n ⟶ Fe56 + 𝛾\n",
      "modifying Co55 ⟶ p + Fe54 from Fe54 + p ⟶ Co55 + 𝛾\n",
      "modifying Co56 ⟶ n + Co55 from Co55 + n ⟶ Co56 + 𝛾\n",
      "modifying Co56 ⟶ p + Fe55 from Fe55 + p ⟶ Co56 + 𝛾\n",
      "modifying Co57 ⟶ n + Co56 from Co56 + n ⟶ Co57 + 𝛾\n",
      "modifying Co57 ⟶ p + Fe56 from Fe56 + p ⟶ Co57 + 𝛾\n",
      "modifying Ni57 ⟶ n + Ni56 from Ni56 + n ⟶ Ni57 + 𝛾\n",
      "modifying Ni57 ⟶ p + Co56 from Co56 + p ⟶ Ni57 + 𝛾\n",
      "modifying Ni57 ⟶ He4 + Fe53 from Fe53 + He4 ⟶ Ni57 + 𝛾\n",
      "modifying Ni58 ⟶ n + Ni57 from Ni57 + n ⟶ Ni58 + 𝛾\n",
      "modifying Ni58 ⟶ p + Co57 from Co57 + p ⟶ Ni58 + 𝛾\n",
      "modifying Ni58 ⟶ He4 + Fe54 from Fe54 + He4 ⟶ Ni58 + 𝛾\n",
      "modifying Fe53 + He4 ⟶ n + Ni56 from Ni56 + n ⟶ He4 + Fe53\n",
      "modifying Fe54 + p ⟶ He4 + Mn51 from Mn51 + He4 ⟶ p + Fe54\n",
      "modifying Fe54 + He4 ⟶ n + Ni57 from Ni57 + n ⟶ He4 + Fe54\n",
      "modifying Fe54 + He4 ⟶ p + Co57 from Co57 + p ⟶ He4 + Fe54\n",
      "modifying Fe55 + p ⟶ n + Co55 from Co55 + n ⟶ p + Fe55\n",
      "modifying Fe55 + He4 ⟶ n + Ni58 from Ni58 + n ⟶ He4 + Fe55\n",
      "modifying Fe56 + p ⟶ n + Co56 from Co56 + n ⟶ p + Fe56\n",
      "modifying Co56 + p ⟶ n + Ni56 from Ni56 + n ⟶ p + Co56\n",
      "modifying Co56 + p ⟶ He4 + Fe53 from Fe53 + He4 ⟶ p + Co56\n",
      "modifying Co57 + p ⟶ n + Ni57 from Ni57 + n ⟶ p + Co57\n",
      "modifying Ni58 + p ⟶ He4 + Co55 from Co55 + He4 ⟶ p + Ni58\n"
     ]
    }
   ],
   "source": [
    "rates_to_derive = []\n",
    "for r in all_lib.get_rates():\n",
    "    if r.reverse:\n",
    "        # this rate was computed using detailed balance, regardless\n",
    "        # of whether Q < 0 or not.  We want to remove it and then\n",
    "        # recompute it\n",
    "        rates_to_derive.append(r)\n",
    "\n",
    "# now for each of those derived rates, look to see if the pair exists\n",
    "\n",
    "for r in rates_to_derive:\n",
    "    fr = all_lib.get_rate_by_nuclei(r.products, r.reactants)\n",
    "    if fr:\n",
    "        print(f\"modifying {r} from {fr}\")\n",
    "        all_lib.remove_rate(r)\n",
    "        d = pyna.DerivedRate(rate=fr, compute_Q=False, use_pf=True)\n",
    "        all_lib.add_rate(d)"
   ]
  },
  {
   "cell_type": "markdown",
   "id": "b2266b9f-a8df-402d-bdb1-2443254698c4",
   "metadata": {},
   "source": [
    "## Removing duplicates"
   ]
  },
  {
   "cell_type": "markdown",
   "id": "e96f0eb7-27b4-4d17-a767-1a1c9b790905",
   "metadata": {},
   "source": [
    "There will be some duplicate rates now because we pulled rates both from ReacLib and from tabulated sources.  Here we keep the tabulated version of any duplicate rates."
   ]
  },
  {
   "cell_type": "code",
   "execution_count": 11,
   "id": "04e876b5-61f0-4d60-b91e-a9eaf2bd8564",
   "metadata": {},
   "outputs": [],
   "source": [
    "dupes = all_lib.find_duplicate_links()\n",
    "\n",
    "rates_to_remove = []\n",
    "for d in dupes:\n",
    "    for r in d:\n",
    "        if isinstance(r, pyna.rates.ReacLibRate):\n",
    "            rates_to_remove.append(r)\n",
    "\n",
    "for r in rates_to_remove:\n",
    "    all_lib.remove_rate(r)"
   ]
  },
  {
   "cell_type": "markdown",
   "id": "8635f5a2-7166-4b5b-a94b-2c5f3dca59a8",
   "metadata": {},
   "source": [
    "## Creating the network and rate approximations"
   ]
  },
  {
   "cell_type": "markdown",
   "id": "aa3d2d9a-ff58-414c-bd5d-608a83869878",
   "metadata": {},
   "source": [
    "Now that we have our library, we can make a network.  This can be a `RateCollection`, `PythonNetwork`, or `AmrexAstroCxxNetwork`.  For a `SimpleCxxNetwork` or `FortranNetwork`, we do not currently support partition functions, so we would need to comment out the above cell that rederives the reverse rates via detailed balance."
   ]
  },
  {
   "cell_type": "code",
   "execution_count": 12,
   "id": "c69731c5-8c3d-4135-a7a1-f3b5665c9e44",
   "metadata": {},
   "outputs": [],
   "source": [
    "net = pyna.RateCollection(libraries=[all_lib])"
   ]
  },
  {
   "cell_type": "markdown",
   "id": "36657c92-84d9-4f68-9fb3-e5e1d4cada77",
   "metadata": {},
   "source": [
    "Next, we will do the $(\\alpha,p)(p,\\gamma)$ approximation and eliminate the intermediate nuclei"
   ]
  },
  {
   "cell_type": "code",
   "execution_count": 13,
   "id": "e9f95d5f-dacf-46b0-b519-97d4f317ed25",
   "metadata": {},
   "outputs": [
    {
     "name": "stdout",
     "output_type": "stream",
     "text": [
      "using approximate rate S32 + He4 ⟶ Ar36 + 𝛾\n",
      "using approximate rate Ar36 ⟶ S32 + He4\n",
      "using approximate rate Ar36 + He4 ⟶ Ca40 + 𝛾\n",
      "using approximate rate Ca40 ⟶ Ar36 + He4\n",
      "using approximate rate Ca40 + He4 ⟶ Ti44 + 𝛾\n",
      "using approximate rate Ti44 ⟶ Ca40 + He4\n",
      "using approximate rate Ti44 + He4 ⟶ Cr48 + 𝛾\n",
      "using approximate rate Cr48 ⟶ Ti44 + He4\n",
      "removing rate S32 + He4 ⟶ Ar36 + 𝛾\n",
      "removing rate S32 + He4 ⟶ p + Cl35\n",
      "removing rate Cl35 + p ⟶ Ar36 + 𝛾\n",
      "removing rate Ar36 ⟶ He4 + S32\n",
      "removing rate Ar36 ⟶ p + Cl35\n",
      "removing rate Cl35 + p ⟶ He4 + S32\n",
      "removing rate Ar36 + He4 ⟶ Ca40 + 𝛾\n",
      "removing rate Ar36 + He4 ⟶ p + K39\n",
      "removing rate K39 + p ⟶ Ca40 + 𝛾\n",
      "removing rate Ca40 ⟶ He4 + Ar36\n",
      "removing rate Ca40 ⟶ p + K39\n",
      "removing rate K39 + p ⟶ He4 + Ar36\n",
      "removing rate Ca40 + He4 ⟶ Ti44 + 𝛾\n",
      "removing rate Ca40 + He4 ⟶ p + Sc43\n",
      "removing rate Sc43 + p ⟶ Ti44 + 𝛾\n",
      "removing rate Ti44 ⟶ He4 + Ca40\n",
      "removing rate Ti44 ⟶ p + Sc43\n",
      "removing rate Sc43 + p ⟶ He4 + Ca40\n",
      "removing rate Ti44 + He4 ⟶ Cr48 + 𝛾\n",
      "removing rate Ti44 + He4 ⟶ p + V47\n",
      "removing rate V47 + p ⟶ Cr48 + 𝛾\n",
      "removing rate Cr48 ⟶ He4 + Ti44\n",
      "removing rate Cr48 ⟶ p + V47\n",
      "removing rate V47 + p ⟶ He4 + Ti44\n",
      "looking to remove P31 + He4 ⟶ Cl35 + 𝛾\n",
      "looking to remove Cl35 + He4 ⟶ K39 + 𝛾\n",
      "looking to remove Cl35 ⟶ He4 + P31\n",
      "looking to remove K39 ⟶ He4 + Cl35\n",
      "looking to remove Cl35 + He4 ⟶ K39 + 𝛾\n",
      "looking to remove K39 + He4 ⟶ Sc43 + 𝛾\n",
      "looking to remove K39 ⟶ He4 + Cl35\n",
      "looking to remove Sc43 ⟶ He4 + K39\n",
      "looking to remove K39 + He4 ⟶ Sc43 + 𝛾\n",
      "looking to remove Sc43 + He4 ⟶ V47 + 𝛾\n",
      "looking to remove Sc43 ⟶ He4 + K39\n",
      "looking to remove V47 ⟶ He4 + Sc43\n",
      "looking to remove Sc43 + He4 ⟶ V47 + 𝛾\n",
      "looking to remove V47 + He4 ⟶ Mn51 + 𝛾\n",
      "looking to remove V47 ⟶ He4 + Sc43\n",
      "looking to remove Mn51 ⟶ He4 + V47\n"
     ]
    }
   ],
   "source": [
    "net.make_ap_pg_approx(intermediate_nuclei=[\"cl35\", \"k39\", \"sc43\", \"v47\"])\n",
    "net.remove_nuclei([\"cl35\", \"k39\", \"sc43\", \"v47\"])"
   ]
  },
  {
   "cell_type": "markdown",
   "id": "8a1793c9-5956-43b4-9dde-cf7e8afdcafd",
   "metadata": {},
   "source": [
    "We will also approximate some of the neutron captures:"
   ]
  },
  {
   "cell_type": "code",
   "execution_count": 14,
   "id": "1492ca0e-da58-477b-b69b-b17cbf94141d",
   "metadata": {},
   "outputs": [
    {
     "name": "stdout",
     "output_type": "stream",
     "text": [
      "approximating out Fe53\n",
      "using approximate rate Fe52 + n + n ⟶ Fe54 + 𝛾\n",
      "using approximate rate Fe54 ⟶ Fe52 + n + n\n",
      "approximating out Fe55\n",
      "using approximate rate Fe54 + n + n ⟶ Fe56 + 𝛾\n",
      "using approximate rate Fe56 ⟶ Fe54 + n + n\n",
      "approximating out Ni57\n",
      "using approximate rate Ni56 + n + n ⟶ Ni58 + 𝛾\n",
      "using approximate rate Ni58 ⟶ Ni56 + n + n\n",
      "removing rate Fe52 + n ⟶ Fe53 + 𝛾\n",
      "removing rate Fe53 + n ⟶ Fe54 + 𝛾\n",
      "removing rate Fe54 ⟶ n + Fe53\n",
      "removing rate Fe53 ⟶ n + Fe52\n",
      "removing rate Fe54 + n ⟶ Fe55 + 𝛾\n",
      "removing rate Fe55 + n ⟶ Fe56 + 𝛾\n",
      "removing rate Fe56 ⟶ n + Fe55\n",
      "removing rate Fe55 ⟶ n + Fe54\n",
      "removing rate Ni56 + n ⟶ Ni57 + 𝛾\n",
      "removing rate Ni57 + n ⟶ Ni58 + 𝛾\n",
      "removing rate Ni58 ⟶ n + Ni57\n",
      "removing rate Ni57 ⟶ n + Ni56\n",
      "looking to remove Fe53 + He4 ⟶ Ni57 + 𝛾\n",
      "looking to remove Fe53 + He4 ⟶ p + Co56\n",
      "looking to remove Ni56 + n ⟶ He4 + Fe53\n",
      "looking to remove Ni57 ⟶ He4 + Fe53\n",
      "looking to remove Fe53 + He4 ⟶ n + Ni56\n",
      "looking to remove Co56 + p ⟶ He4 + Fe53\n",
      "looking to remove Fe55 + p ⟶ Co56 + 𝛾\n",
      "looking to remove Co55 + n ⟶ p + Fe55\n",
      "looking to remove Ni58 + n ⟶ He4 + Fe55\n",
      "looking to remove Co56 ⟶ p + Fe55\n",
      "looking to remove Fe55 + p ⟶ n + Co55\n",
      "looking to remove Fe55 + He4 ⟶ n + Ni58\n",
      "looking to remove Co55 + e⁻ ⟶ Fe55 + 𝜈\n",
      "looking to remove Fe55 ⟶ Co55 + e⁻ + 𝜈\n",
      "looking to remove Fe53 + He4 ⟶ Ni57 + 𝛾\n",
      "looking to remove Co56 + p ⟶ Ni57 + 𝛾\n",
      "looking to remove Ni57 + n ⟶ p + Co57\n",
      "looking to remove Ni57 + n ⟶ He4 + Fe54\n",
      "looking to remove Ni57 ⟶ p + Co56\n",
      "looking to remove Ni57 ⟶ He4 + Fe53\n",
      "looking to remove Fe54 + He4 ⟶ n + Ni57\n",
      "looking to remove Co57 + p ⟶ n + Ni57\n",
      "looking to remove Co57 ⟶ Ni57 + e⁻ + 𝜈\n",
      "looking to remove Ni57 + e⁻ ⟶ Co57 + 𝜈\n"
     ]
    }
   ],
   "source": [
    "net.make_nn_g_approx(intermediate_nuclei=[\"fe53\", \"fe55\", \"ni57\"])\n",
    "net.remove_nuclei([\"fe53\", \"fe55\", \"ni57\"])"
   ]
  },
  {
   "cell_type": "markdown",
   "id": "241052b7-350a-405c-9be7-dcaa6ff2b244",
   "metadata": {},
   "source": [
    "and finally, make some of the protons into NSE protons"
   ]
  },
  {
   "cell_type": "code",
   "execution_count": 15,
   "id": "0f7f636c-f2d7-4e75-b8e1-bacfca5ff2a8",
   "metadata": {},
   "outputs": [
    {
     "name": "stdout",
     "output_type": "stream",
     "text": [
      "modifying p_Mn51__Fe52 to use NSE protons\n",
      "modifying Fe52__p_Mn51__derived to use NSE protons\n",
      "modifying p_Co55__Ni56 to use NSE protons\n",
      "modifying Ni56__p_Co55__derived to use NSE protons\n",
      "modifying He4_Cr48__p_Mn51 to use NSE protons\n",
      "modifying p_Mn51__He4_Cr48__derived to use NSE protons\n",
      "modifying He4_Fe52__p_Co55 to use NSE protons\n",
      "modifying p_Co55__He4_Fe52__derived to use NSE protons\n",
      "modifying p_Fe54__Co55 to use NSE protons\n",
      "modifying Co55__p_Fe54__derived to use NSE protons\n",
      "modifying p_Fe56__Co57 to use NSE protons\n",
      "modifying Co57__p_Fe56__derived to use NSE protons\n",
      "modifying p_Co57__Ni58 to use NSE protons\n",
      "modifying Ni58__p_Co57__derived to use NSE protons\n",
      "modifying He4_Mn51__p_Fe54 to use NSE protons\n",
      "modifying p_Fe54__He4_Mn51__derived to use NSE protons\n",
      "modifying He4_Co55__p_Ni58 to use NSE protons\n",
      "modifying p_Ni58__He4_Co55__derived to use NSE protons\n",
      "modifying n_Co56__p_Fe56 to use NSE protons\n",
      "modifying p_Fe56__n_Co56__derived to use NSE protons\n",
      "modifying p_Co57__He4_Fe54 to use NSE protons\n",
      "modifying He4_Fe54__p_Co57__derived to use NSE protons\n",
      "modifying n_Ni56__p_Co56 to use NSE protons\n",
      "modifying p_Co56__n_Ni56__derived to use NSE protons\n"
     ]
    }
   ],
   "source": [
    "# make all rates with A >= 48 use NSE protons\n",
    "net.make_nse_protons(48)"
   ]
  },
  {
   "cell_type": "markdown",
   "id": "005d0239-b20a-40c3-a71a-b96923df1950",
   "metadata": {},
   "source": [
    "## Visualizing the network"
   ]
  },
  {
   "cell_type": "markdown",
   "id": "b4923197-b14f-4420-9014-9b3504945beb",
   "metadata": {},
   "source": [
    "Let's visualize the network"
   ]
  },
  {
   "cell_type": "code",
   "execution_count": 16,
   "id": "475618ae-be3f-40d8-9611-6b114db39f0d",
   "metadata": {
    "editable": true,
    "slideshow": {
     "slide_type": ""
    },
    "tags": [
     "nbval-ignore-output"
    ]
   },
   "outputs": [
    {
     "name": "stderr",
     "output_type": "stream",
     "text": [
      "/raid/zingale/development/pynucastro/pynucastro/rates/derived_rate.py:85: UserWarning: C12 partition function is not supported by tables: set pf = 1.0 by default\n",
      "  warnings.warn(UserWarning(f'{nuc} partition function is not supported by tables: set pf = 1.0 by default'))\n",
      "/raid/zingale/development/pynucastro/pynucastro/rates/derived_rate.py:85: UserWarning: N13 partition function is not supported by tables: set pf = 1.0 by default\n",
      "  warnings.warn(UserWarning(f'{nuc} partition function is not supported by tables: set pf = 1.0 by default'))\n",
      "/raid/zingale/development/pynucastro/pynucastro/rates/derived_rate.py:85: UserWarning: N14 partition function is not supported by tables: set pf = 1.0 by default\n",
      "  warnings.warn(UserWarning(f'{nuc} partition function is not supported by tables: set pf = 1.0 by default'))\n",
      "/raid/zingale/development/pynucastro/pynucastro/rates/derived_rate.py:85: UserWarning: p_nse partition function is not supported by tables: set pf = 1.0 by default\n",
      "  warnings.warn(UserWarning(f'{nuc} partition function is not supported by tables: set pf = 1.0 by default'))\n"
     ]
    },
    {
     "data": {
      "image/png": "[encoded data removed]",
      "text/plain": [
       "<Figure size 1500x450 with 2 Axes>"
      ]
     },
     "metadata": {},
     "output_type": "display_data"
    }
   ],
   "source": [
    "comp = pyna.Composition(net.get_nuclei())\n",
    "comp.set_all(0.1)\n",
    "comp.set_nuc(\"he4\", 0.95)\n",
    "comp.normalize()\n",
    "\n",
    "rho = 1.e6\n",
    "T = 1.e9\n",
    "\n",
    "fig = net.plot(rho, T, comp, outfile=\"subch_simple.png\",\n",
    "               rotated=True, hide_xalpha=True, curved_edges=True,\n",
    "               size=(1500, 450),\n",
    "               node_size=500, node_font_size=11, node_color=\"#337dff\", node_shape=\"s\",\n",
    "               Z_range=(1,29))"
   ]
  },
  {
   "cell_type": "markdown",
   "id": "00435238-2d7e-4639-832f-dbb702d3a701",
   "metadata": {},
   "source": [
    "At this point, we could write the network and use it in another code, depending on which network class we used for the construction."
   ]
  },
  {
   "cell_type": "markdown",
   "id": "90b43b5c-59ac-4014-a765-b67f6ffba81c",
   "metadata": {},
   "source": [
    "## Test integration"
   ]
  },
  {
   "cell_type": "code",
   "execution_count": null,
   "id": "be13b714-3622-4c44-9e18-1ee6fc2447ec",
   "metadata": {},
   "outputs": [],
   "source": []
  },
  {
   "cell_type": "markdown",
   "id": "160a80a0-dcd1-45d8-9f8f-a7aa678e930e",
   "metadata": {},
   "source": [
    "## Validate"
   ]
  },
  {
   "cell_type": "code",
   "execution_count": null,
   "id": "8c8df603-2f00-4891-a071-7a8aabf82d0d",
   "metadata": {},
   "outputs": [],
   "source": []
  }
 ],
 "metadata": {
  "kernelspec": {
   "display_name": "Python 3 (ipykernel)",
   "language": "python",
   "name": "python3"
  },
  "language_info": {
   "codemirror_mode": {
    "name": "ipython",
    "version": 3
   },
   "file_extension": ".py",
   "mimetype": "text/x-python",
   "name": "python",
   "nbconvert_exporter": "python",
   "pygments_lexer": "ipython3",
   "version": "3.13.0"
  }
 },
 "nbformat": 4,
 "nbformat_minor": 5
}
