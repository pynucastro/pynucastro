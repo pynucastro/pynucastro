{
 "cells": [
  {
   "cell_type": "markdown",
   "id": "078d11ef-fe17-47af-9544-004785432c7d",
   "metadata": {},
   "source": [
    "# Creating a Custom Rate"
   ]
  },
  {
   "cell_type": "markdown",
   "id": "abc24300-113c-47c5-b6e5-a28a1329d217",
   "metadata": {},
   "source": [
    "Let's imagine wanting to add a rate that has a temperature form not known to pynucastro.  We can accomplish this by creating a new class derived from {py:obj}`Rate <pynucastro.rates.rate.Rate>`.\n",
    "\n",
    "We'll consider a rate of the form:\n",
    "\n",
    "$$r = r_0 \\left (\\frac{T}{T_0} \\right )^\\nu$$\n",
    "\n",
    "representing a reaction of the form\n",
    "\n",
    "$$A + B \\rightarrow C + D$$\n",
    "\n",
    "then we expect the $\\dot{Y}$ evolution equation for this rate to have the form:\n",
    "\n",
    "$$\\frac{dY(A)}{dt} = -\\rho Y(A) Y(B) r_0 \\left ( \\frac{T}{T_0} \\right )^\\nu$$\n",
    "\n",
    "and likewise for the other nuclei.\n"
   ]
  },
  {
   "cell_type": "code",
   "execution_count": 1,
   "id": "2b596dec-5eaf-4f94-8abd-7da0feb855c2",
   "metadata": {},
   "outputs": [],
   "source": [
    "import pynucastro as pyna"
   ]
  },
  {
   "cell_type": "markdown",
   "id": "ac72467e-c7fd-48be-b3ba-a39a3b6f5b10",
   "metadata": {},
   "source": [
    "We'll use this to approximate the rate ${}^{14}\\mathrm{N}(p, \\gamma){}^{15}\\mathrm{O}$ around a temperature of\n",
    "$T = 3\\times 10^7~\\mathrm{K}$"
   ]
  },
  {
   "cell_type": "code",
   "execution_count": 2,
   "id": "fea19dd4-b503-45a6-93fc-62dd3ed28bae",
   "metadata": {},
   "outputs": [],
   "source": [
    "rl = pyna.ReacLibLibrary()\n",
    "r = rl.get_rate_by_name(\"n14(p,g)o15\")"
   ]
  },
  {
   "cell_type": "markdown",
   "id": "08234150-4bf5-455f-9af9-ed34b1dc37c8",
   "metadata": {},
   "source": [
    "We can get the values of $r_0$ and $\\nu$ about this temperature from the rate"
   ]
  },
  {
   "cell_type": "code",
   "execution_count": 3,
   "id": "678d9fb5-2894-4c9c-b55c-8b9405f8bd59",
   "metadata": {},
   "outputs": [
    {
     "name": "stdout",
     "output_type": "stream",
     "text": [
      "1.416655077954945e-13 15.601859314950396\n"
     ]
    }
   ],
   "source": [
    "T0 = 3.e7\n",
    "nu = r.get_rate_exponent(T0)\n",
    "r0 = r.eval(T0)\n",
    "print(r0, nu)"
   ]
  },
  {
   "cell_type": "markdown",
   "id": "5e2142e0-edb1-42a4-a3d1-6bc3c9b95f5f",
   "metadata": {},
   "source": [
    "Now we can write our custom rate.  A few bits are needed in the initialization:\n",
    "\n",
    "* We need to set the \"chapter\" to \"custom\"---this will be used by {py:obj}`PythonNetwork <pynucastro.networks.python_network.PythonNetwork>` to know how to group this rate with the others\n",
    "* We call the parent `Rate` class's `__init__()` to do all the remaining initialization.\n",
    "\n",
    "We only write 2 additional methods here:\n",
    "\n",
    "* {py:func}`function_string_py <pynucastro.rates.rate.Rate.function_string_py>` is used when outputting a `PythonNetwork` to a `.py` file that can be imported and used for integration\n",
    "* {py:func}`eval <pynucastro.rates.rate.Rate.eval>` is used when evaluating the rate interactively (including when making plots)"
   ]
  },
  {
   "cell_type": "code",
   "execution_count": 4,
   "id": "ab193b2d-5aa9-4660-9d6d-1f96d0858207",
   "metadata": {},
   "outputs": [],
   "source": [
    "class MyRate(pyna.Rate):\n",
    "    def __init__(self, reactants=None, products=None,\n",
    "                 r0=1.0, T0=1.0, nu=0):\n",
    "\n",
    "        # we set the chapter to custom so the network knows how to deal with it\n",
    "        self.chapter = \"custom\"\n",
    "    \n",
    "        # call the Rate init to do the remaining initialization\n",
    "        super().__init__(reactants=reactants, products=products)\n",
    "\n",
    "        self.r0 = r0\n",
    "        self.T0 = T0\n",
    "        self.nu = nu\n",
    "\n",
    "    def function_string_py(self):\n",
    "        \"\"\"return a string containing a python function that computes\n",
    "        the rate\"\"\"\n",
    "        fstring = \"\"\n",
    "        fstring += \"@numba.njit()\\n\"\n",
    "        fstring += f\"def {self.fname}(rate_eval, tf):\\n\"\n",
    "        fstring += f\"    rate_eval.{self.fname} = {self.r0} * (tf.T9 * 1.e9 / {self.T0} )**({self.nu})\\n\\n\"\n",
    "        return fstring\n",
    "\n",
    "    def eval(self, T, *, rho=None, comp=None):\n",
    "        return self.r0 * (T / self.T0)**self.nu"
   ]
  },
  {
   "cell_type": "markdown",
   "id": "3d1b511f-f87d-424a-ae56-6ccf488f8d52",
   "metadata": {},
   "source": [
    "Now we can create our custom rate"
   ]
  },
  {
   "cell_type": "code",
   "execution_count": 5,
   "id": "e0f99ccb-7801-4ee0-b07b-12e316b727b7",
   "metadata": {},
   "outputs": [],
   "source": [
    "r_custom = MyRate(reactants=[pyna.Nucleus(\"n14\"), pyna.Nucleus(\"p\")],\n",
    "                  products=[pyna.Nucleus(\"o15\")],\n",
    "                  r0=r0, T0=T0, nu=nu)"
   ]
  },
  {
   "cell_type": "code",
   "execution_count": 6,
   "id": "cfc73a78-8d69-465f-9c81-483732017cb2",
   "metadata": {},
   "outputs": [
    {
     "data": {
      "text/plain": [
       "'N14_p__O15__generic'"
      ]
     },
     "execution_count": 6,
     "metadata": {},
     "output_type": "execute_result"
    }
   ],
   "source": [
    "r_custom.fname"
   ]
  },
  {
   "cell_type": "markdown",
   "id": "a2f35ac7-434b-4e4f-852f-d6cc97812b83",
   "metadata": {},
   "source": [
    "Notice that it can write out the function needed to evaluate this rate in a python module"
   ]
  },
  {
   "cell_type": "code",
   "execution_count": 7,
   "id": "4e758623-4194-4bc4-8e86-f370174ae339",
   "metadata": {},
   "outputs": [
    {
     "name": "stdout",
     "output_type": "stream",
     "text": [
      "@numba.njit()\n",
      "def N14_p__O15__generic(rate_eval, tf):\n",
      "    rate_eval.N14_p__O15__generic = 1.416655077954945e-13 * (tf.T9 * 1.e9 / 30000000.0 )**(15.601859314950396)\n",
      "\n",
      "\n"
     ]
    }
   ],
   "source": [
    "print(r_custom.function_string_py())"
   ]
  },
  {
   "cell_type": "markdown",
   "id": "0064cdfc-510f-4cce-9946-751ea2576d0f",
   "metadata": {},
   "source": [
    "## Creating a network with our rate"
   ]
  },
  {
   "cell_type": "markdown",
   "id": "45e9c226-6ad6-4e6f-ac0c-1d7523383442",
   "metadata": {},
   "source": [
    "Now let's create a network that includes this rate.  We'll base it off of the CNO net, but we'll leave out the rate that we are approximating."
   ]
  },
  {
   "cell_type": "code",
   "execution_count": 8,
   "id": "4e123666-0a00-4a4a-ba71-2ce61c73c591",
   "metadata": {},
   "outputs": [],
   "source": [
    "rate_names = [\"c12(p,g)n13\",\n",
    "              \"c13(p,g)n14\",\n",
    "              \"n13(,)c13\",\n",
    "              \"n13(p,g)o14\",\n",
    "              \"n15(p,a)c12\",\n",
    "              \"o14(,)n14\",\n",
    "              \"o15(,)n15\"]\n",
    "rates = rl.get_rate_by_name(rate_names)"
   ]
  },
  {
   "cell_type": "markdown",
   "id": "707db3d0-a7f2-44ee-bcd6-8d9ecb53256a",
   "metadata": {},
   "source": [
    "Here we'll add our custom rate to the remaining rates we pulled from ReacLib"
   ]
  },
  {
   "cell_type": "code",
   "execution_count": 9,
   "id": "3f058974-e1a4-424d-a69b-23a1e2be17ed",
   "metadata": {},
   "outputs": [],
   "source": [
    "pynet = pyna.PythonNetwork(rates=rates+[r_custom])"
   ]
  },
  {
   "cell_type": "markdown",
   "id": "bb0cda74-3b7a-421d-9dca-88e3e84e9d45",
   "metadata": {},
   "source": [
    "We can plot this to see how it behaves.  First a low temperature"
   ]
  },
  {
   "cell_type": "code",
   "execution_count": 10,
   "id": "f77cef01-21b3-4325-913a-57bcfe3109b4",
   "metadata": {},
   "outputs": [],
   "source": [
    "T = 3.e7\n",
    "rho = 200\n",
    "comp = pyna.Composition(pynet.unique_nuclei)\n",
    "comp.set_solar_like()"
   ]
  },
  {
   "cell_type": "code",
   "execution_count": 11,
   "id": "058a719f-59ec-4ae3-b7a7-d132059f0a05",
   "metadata": {
    "editable": true,
    "slideshow": {
     "slide_type": ""
    },
    "tags": [
     "nbval-ignore-output"
    ]
   },
   "outputs": [
    {
     "data": {
      "image/png": "[encoded data removed]",
      "text/plain": [
       "<Figure size 800x600 with 2 Axes>"
      ]
     },
     "metadata": {},
     "output_type": "display_data"
    }
   ],
   "source": [
    "fig = pynet.plot(rho=rho, T=T, comp=comp)"
   ]
  },
  {
   "cell_type": "markdown",
   "id": "04159d37-8e1f-47df-8494-8490519d8410",
   "metadata": {},
   "source": [
    "Now a higher temperature"
   ]
  },
  {
   "cell_type": "code",
   "execution_count": 12,
   "id": "c379d880-dcd7-4b4f-a39a-044c16641f08",
   "metadata": {
    "editable": true,
    "slideshow": {
     "slide_type": ""
    },
    "tags": []
   },
   "outputs": [],
   "source": [
    "T = 3.e8"
   ]
  },
  {
   "cell_type": "code",
   "execution_count": 13,
   "id": "b34a89e1-379c-4afe-a9de-6294a6a8dd37",
   "metadata": {
    "editable": true,
    "slideshow": {
     "slide_type": ""
    },
    "tags": [
     "nbval-ignore-output"
    ]
   },
   "outputs": [
    {
     "data": {
      "image/png": "[encoded data removed]",
      "text/plain": [
       "<Figure size 800x600 with 2 Axes>"
      ]
     },
     "metadata": {},
     "output_type": "display_data"
    }
   ],
   "source": [
    "fig = pynet.plot(rho=rho, T=T, comp=comp)"
   ]
  },
  {
   "cell_type": "markdown",
   "id": "57f2b4e7-c5ab-47f7-a9b2-671e8bca1a7d",
   "metadata": {
    "editable": true,
    "slideshow": {
     "slide_type": ""
    },
    "tags": []
   },
   "source": [
    "Notice that at the higher temperature, this rate becomes higher than the beta decay to ${}^{13}\\mathrm{C}$."
   ]
  },
  {
   "cell_type": "markdown",
   "id": "8b325dc0-0960-4d5c-9ff6-cf3003dbd4b0",
   "metadata": {},
   "source": [
    "We can also see the values of the ydot terms in the network"
   ]
  },
  {
   "cell_type": "code",
   "execution_count": 14,
   "id": "f8a5f337-f061-49e1-a710-6cfbe5d46496",
   "metadata": {},
   "outputs": [
    {
     "data": {
      "text/plain": [
       "{p: -140.31578946054762,\n",
       " He4: 124.10404295119419,\n",
       " C12: 124.09500217697241,\n",
       " C13: -0.017818574032238365,\n",
       " N13: 0.00701794538740977,\n",
       " N14: -16.16504349981351,\n",
       " N15: -124.1040418689929,\n",
       " O14: 0.002020570415053316,\n",
       " O15: 16.182863250063768}"
      ]
     },
     "execution_count": 14,
     "metadata": {},
     "output_type": "execute_result"
    }
   ],
   "source": [
    "pynet.evaluate_ydots(rho, T, comp)"
   ]
  },
  {
   "cell_type": "markdown",
   "id": "c695612e-6a7f-4888-8b12-1bd2ea1a1912",
   "metadata": {},
   "source": [
    "Finally, we can see that when the network constructs the `dYdt` term,\n",
    "when writing out the network (via {py:func}`write_network <pynucastro.networks.rate_collection.RateCollection.write_network>`), our rate\n",
    "is included.  For example, for the protons:"
   ]
  },
  {
   "cell_type": "code",
   "execution_count": 15,
   "id": "e4f8c8c6-9229-486e-b04a-cf68a58aabb0",
   "metadata": {},
   "outputs": [
    {
     "name": "stdout",
     "output_type": "stream",
     "text": [
      "dYdt[jp] = (\n",
      "      -rho*Y[jp]*Y[jc12]*rate_eval.p_C12__N13  +\n",
      "      -rho*Y[jp]*Y[jc13]*rate_eval.p_C13__N14  +\n",
      "      -rho*Y[jp]*Y[jn13]*rate_eval.p_N13__O14  +\n",
      "      -rho*Y[jp]*Y[jn15]*rate_eval.p_N15__He4_C12  +\n",
      "      -rho*Y[jp]*Y[jn14]*rate_eval.N14_p__O15__generic\n",
      "   )\n",
      "\n",
      "\n"
     ]
    }
   ],
   "source": [
    "print(pynet.full_ydot_string(pyna.Nucleus(\"p\")))"
   ]
  }
 ],
 "metadata": {
  "kernelspec": {
   "display_name": "Python 3 (ipykernel)",
   "language": "python",
   "name": "python3"
  },
  "language_info": {
   "codemirror_mode": {
    "name": "ipython",
    "version": 3
   },
   "file_extension": ".py",
   "mimetype": "text/x-python",
   "name": "python",
   "nbconvert_exporter": "python",
   "pygments_lexer": "ipython3",
   "version": "3.13.5"
  }
 },
 "nbformat": 4,
 "nbformat_minor": 5
}
