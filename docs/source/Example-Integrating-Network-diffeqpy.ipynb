{
 "cells": [
  {
   "cell_type": "markdown",
   "id": "25a2c213-0309-4db7-8cfd-729e7461afdb",
   "metadata": {
    "editable": true,
    "slideshow": {
     "slide_type": ""
    },
    "tags": []
   },
   "source": [
    "# **Example of Integrating a Network**"
   ]
  },
  {
   "cell_type": "markdown",
   "id": "5af9a0c8-6ded-47af-8d71-6c6a83631e86",
   "metadata": {},
   "source": [
    "## Creating a Network"
   ]
  },
  {
   "cell_type": "markdown",
   "id": "e3d5dfa6-954c-4969-b7b7-aa260d1d0b5e",
   "metadata": {},
   "source": [
    "We will start by looking at the CNO network for simplicity. We will first need to import pynucastro, read through the ReacLib library, and pass in the names of the reaction rates we are interested in. "
   ]
  },
  {
   "cell_type": "code",
   "execution_count": 1,
   "id": "65a170c4-1f91-4394-a319-43573a1bb68b",
   "metadata": {},
   "outputs": [
    {
     "data": {
      "text/plain": [
       "[C12 + p ⟶ N13 + 𝛾,\n",
       " C13 + p ⟶ N14 + 𝛾,\n",
       " N13 ⟶ C13 + e⁺ + 𝜈,\n",
       " N13 + p ⟶ O14 + 𝛾,\n",
       " N15 + p ⟶ He4 + C12,\n",
       " O14 ⟶ N14 + e⁺ + 𝜈,\n",
       " O15 ⟶ N15 + e⁺ + 𝜈]"
      ]
     },
     "execution_count": 1,
     "metadata": {},
     "output_type": "execute_result"
    }
   ],
   "source": [
    "import pynucastro as pyna\n",
    "rl = pyna.ReacLibLibrary()\n",
    "rate_names = [\"c12(p,g)n13\",\n",
    "              \"c13(p,g)n14\",\n",
    "              \"n13(,)c13\",\n",
    "              \"n13(p,g)o14\",\n",
    "              \"n15(p,a)c12\",\n",
    "              \"o14(,)n14\",\n",
    "              \"o15(,)n15\"]\n",
    "\n",
    "rates = rl.get_rate_by_name(rate_names)\n",
    "rates"
   ]
  },
  {
   "cell_type": "markdown",
   "id": "ff5544a8-939a-4078-8aeb-5446cd1ec1b1",
   "metadata": {},
   "source": [
    "`PythonNetwork` has methods to write the RHS of the system of ODEs."
   ]
  },
  {
   "cell_type": "code",
   "execution_count": 2,
   "id": "98e6ef16-2cb3-4a42-8a34-3061bd5095a8",
   "metadata": {},
   "outputs": [],
   "source": [
    "pynet = pyna.PythonNetwork(rates=rates)"
   ]
  },
  {
   "cell_type": "markdown",
   "id": "83862410-b1cd-43a1-a950-ea2b8130f23e",
   "metadata": {},
   "source": [
    "The `write_network()` method outputs the Python code that is used to define the RHS for integration to a file you choose."
   ]
  },
  {
   "cell_type": "code",
   "execution_count": 3,
   "id": "acfd4bcf-ed8c-4757-9bdc-0f22ca4553e2",
   "metadata": {},
   "outputs": [],
   "source": [
    "pynet.write_network(\"cno_test_integrate.py\")"
   ]
  },
  {
   "cell_type": "markdown",
   "id": "696ec7d8-9c0e-4b0a-a094-28641fe80de6",
   "metadata": {},
   "source": [
    "## Integrating a Network"
   ]
  },
  {
   "cell_type": "markdown",
   "id": "ac238ce5-cd4d-41d6-a3e1-9809287f772d",
   "metadata": {},
   "source": [
    "There are a wide variety of ODE integration solvers within the Julia DifferentialEquation package. They can be located at the [DifferentialEquation.jl docs](https://docs.sciml.ai/DiffEqDocs/stable/solvers/ode_solve/) along with other useful information about the package. "
   ]
  },
  {
   "cell_type": "code",
   "execution_count": 4,
   "id": "24204bf2-f134-4809-9949-0d022396be1c",
   "metadata": {},
   "outputs": [],
   "source": [
    "import numba\n",
    "import numpy as np\n",
    "from diffeqpy import de\n",
    "import cno_test_integrate as cno #importing network created"
   ]
  },
  {
   "cell_type": "markdown",
   "id": "14f825c1-fa92-4c23-8dcd-5201d48e6108",
   "metadata": {},
   "source": [
    "After importing all the necessary libraries and modules, we can intialize the thermodynamic conditions, intial compositions, the time span, and the algorithm or method we will be using to solve with."
   ]
  },
  {
   "cell_type": "code",
   "execution_count": 5,
   "id": "6b5bf4f0-aafa-4529-804d-ff4c3e10fa27",
   "metadata": {},
   "outputs": [],
   "source": [
    "rho = 150. #g/cm^3\n",
    "T = 1.5e7  #K\n",
    "screen_func = None\n",
    "\n",
    "Y0 = np.zeros((cno.nnuc), dtype=np.float64) #Intialize array of mass fractions\n",
    "\n",
    "Y0[cno.jp] = 0.7 #Solar mix of mass fractions\n",
    "Y0[cno.jhe4] = 0.28\n",
    "Y0[cno.jc12] = 0.02\n",
    "\n",
    "Y0[:] = Y0[:]/cno.A[:] #Converting to molar fractions\n",
    "\n",
    "tspan = (0.0, 1.e20) \n",
    "p = np.array([rho, T]) #Array of initial parameters\n",
    "alg = de.FBDF() #Choosing integration method"
   ]
  },
  {
   "cell_type": "markdown",
   "id": "8bb6bce7-0359-418e-a435-3dc7d5a0b290",
   "metadata": {},
   "source": [
    "We can then write the functions to return the jacobian and the RHS of the Differential Equations. Numba can be used to do just-in-time compilation of the functions to speed up the code. "
   ]
  },
  {
   "cell_type": "code",
   "execution_count": 6,
   "id": "451994bb-35d9-4ff8-8aba-78cfc8af689c",
   "metadata": {},
   "outputs": [],
   "source": [
    "def f(u, p, t): #u = array of unknowns, p = array of parameters, t = array of time\n",
    "   rho, T = p\n",
    "   Y = u\n",
    "   return cno.rhs_eq(t, Y, rho, T, None) #calling RHS \n",
    "\n",
    "def f_jac(u, p, t):\n",
    "   rho, T = p\n",
    "   Y = u\n",
    "   return cno.jacobian_eq(t, Y, rho, T, None) #Calling Jacobian\n",
    "\n",
    "numba_f = numba.njit(f) #Using Numba on functions\n",
    "numba_jac = numba.njit(f_jac)\n",
    "\n",
    "ff = de.ODEFunction(numba_f, jac=numba_jac)"
   ]
  },
  {
   "cell_type": "markdown",
   "id": "93464beb-d81b-43c9-b8a8-6399e31f7892",
   "metadata": {},
   "source": [
    "We combine the function `f(u, p, t)` and `f_jac(u, p, t)` into a single variable `ff`. The reason for this is because the first parameter in `de.ODEProblem()` must be a single variable calling the functions."
   ]
  },
  {
   "cell_type": "code",
   "execution_count": 7,
   "id": "eb83b1f6-ec9c-4721-8cfc-103fd10174f8",
   "metadata": {},
   "outputs": [],
   "source": [
    "prob = de.ODEProblem(ff, Y0, tspan, p)\n",
    "sol = de.solve(prob, alg, abstol=1.e-9, reltol=1.e-9)"
   ]
  },
  {
   "cell_type": "markdown",
   "id": "be9adfac-d98c-49e0-83bd-bcd0b54960a1",
   "metadata": {},
   "source": [
    "For more information on ODE Problems visit [DifferentialEquation.jl docs](https://docs.sciml.ai/DiffEqDocs/stable/types/ode_types/)"
   ]
  },
  {
   "cell_type": "markdown",
   "id": "fa7f7b27-68d8-4a5c-84cf-d603271993e3",
   "metadata": {},
   "source": [
    "# Printing and Plotting"
   ]
  },
  {
   "cell_type": "markdown",
   "id": "1244b9f9-1039-4c5d-9c0e-1546768b65ad",
   "metadata": {},
   "source": [
    "It is useful to be able to print and plot certain things to gain a better understanding of what is going on with the solver method and the reactions. Below are useful print statements to help you understand what is going on behind the scenes."
   ]
  },
  {
   "cell_type": "code",
   "execution_count": 8,
   "id": "5cb3342e-fa09-422e-8651-b9631fe85ea7",
   "metadata": {},
   "outputs": [
    {
     "name": "stdout",
     "output_type": "stream",
     "text": [
      "<PyCall.jlwrap Success>\n"
     ]
    }
   ],
   "source": [
    "print(sol.retcode) #Tells you if it successfully solved "
   ]
  },
  {
   "cell_type": "code",
   "execution_count": 9,
   "id": "abfc2592-f1a1-4cba-bc73-637bb33ce929",
   "metadata": {},
   "outputs": [
    {
     "name": "stdout",
     "output_type": "stream",
     "text": [
      "<PyCall.jlwrap DiffEqBase.Stats\n",
      "Number of function 1 evaluations:                  420\n",
      "Number of function 2 evaluations:                  0\n",
      "Number of W matrix evaluations:                    140\n",
      "Number of linear solves:                           277\n",
      "Number of Jacobians created:                       0\n",
      "Number of nonlinear solver iterations:             277\n",
      "Number of nonlinear solver convergence failures:   0\n",
      "Number of rootfind condition calls:                0\n",
      "Number of accepted steps:                          137\n",
      "Number of rejected steps:                          3>\n"
     ]
    }
   ],
   "source": [
    "print(sol.stats) #Gives statistics on what the solver did"
   ]
  },
  {
   "cell_type": "code",
   "execution_count": 10,
   "id": "6d135a2f-2273-43e6-a95b-a784c5799d00",
   "metadata": {},
   "outputs": [
    {
     "name": "stdout",
     "output_type": "stream",
     "text": [
      "Final Y = [6.96666665e-01 6.99999984e-02 5.05923348e-34 2.21203706e-34\n",
      " 1.63697507e-44 1.66666668e-03 0.00000000e+00 4.50258027e-58\n",
      " 0.00000000e+00]\n"
     ]
    }
   ],
   "source": [
    "print(\"Final Y =\", sol.u[-1]) #prints out final molar fractions"
   ]
  },
  {
   "cell_type": "code",
   "execution_count": 11,
   "id": "3d6d9a63-7def-4875-af29-a680711cd268",
   "metadata": {},
   "outputs": [
    {
     "data": {
      "image/png": "[encoded data removed]",
      "text/plain": [
       "<Figure size 576x432 with 1 Axes>"
      ]
     },
     "metadata": {
      "needs_background": "light"
     },
     "output_type": "display_data"
    }
   ],
   "source": [
    "import matplotlib.pyplot as plt\n",
    "fig = plt.figure()\n",
    "ax = fig.add_subplot(111)\n",
    "\n",
    "t_dense = np.geomspace(1e1, tspan[-1], num=1000)\n",
    "species = sol(t_dense)\n",
    "\n",
    "for i in range(cno.nnuc):\n",
    "    ax.loglog(t_dense, species[i], label=f\"X({cno.names[i].capitalize()})\")\n",
    "\n",
    "#ax.set_xlim(1.e1, 1.e6)\n",
    "ax.set_ylim(1.e-15, 1.0)\n",
    "ax.legend(fontsize=\"small\")\n",
    "ax.set_xlabel(\"t (s)\")\n",
    "ax.set_ylabel(\"X\")\n",
    "\n",
    "fig.set_size_inches((8, 6))"
   ]
  },
  {
   "cell_type": "code",
   "execution_count": null,
   "id": "39505be3-a192-4d1e-a6fc-e945514fee6c",
   "metadata": {},
   "outputs": [],
   "source": []
  }
 ],
 "metadata": {
  "kernelspec": {
   "display_name": "Python 3 (ipykernel)",
   "language": "python",
   "name": "python3"
  },
  "language_info": {
   "codemirror_mode": {
    "name": "ipython",
    "version": 3
   },
   "file_extension": ".py",
   "mimetype": "text/x-python",
   "name": "python",
   "nbconvert_exporter": "python",
   "pygments_lexer": "ipython3",
   "version": "3.11.3"
  },
  "nbsphinx": {
   "execute": "never"
  }
 },
 "nbformat": 4,
 "nbformat_minor": 5
}
