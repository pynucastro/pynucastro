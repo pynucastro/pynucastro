{
 "cells": [
  {
   "cell_type": "markdown",
   "id": "2a8bbbeb-d31f-427e-b849-8c91b4696c11",
   "metadata": {},
   "source": [
    "# Inert Nuclei"
   ]
  },
  {
   "cell_type": "markdown",
   "id": "47303252-1efa-4861-abe7-fae0cdc2d393",
   "metadata": {},
   "source": [
    "In many simulation codes, the reaction network determines the composition that is carried in each zone, and advected through the domain.  Sometimes we need a particular nucleus to describe the composition in a region that does not burn--pynucastro allows a network to contain *inert nuclei* for this purpose.\n",
    "\n",
    "An inert nucleus is part of the network but its evolution equation is set to 0."
   ]
  },
  {
   "cell_type": "markdown",
   "id": "feadbb52-fc2c-4c11-96f8-e43d9ebd9962",
   "metadata": {},
   "source": [
    "As an example, consider a network that can describe simple He burning in an accreted layer on a neutron star.  We want the 3-$\\alpha$ region, but we also want a heavy, iron-group nucleus to represent the underlying neutron star."
   ]
  },
  {
   "cell_type": "code",
   "execution_count": 1,
   "id": "14f53e3b-72d4-45ed-9784-be65bff3b115",
   "metadata": {},
   "outputs": [],
   "source": [
    "import pynucastro as pyna"
   ]
  },
  {
   "cell_type": "markdown",
   "id": "f8807b23-93ca-4bd4-b256-53f4aea28708",
   "metadata": {},
   "source": [
    "First we'll create a library with just the rates we want evolved (just 3-$\\alpha$ for this example)."
   ]
  },
  {
   "cell_type": "code",
   "execution_count": 2,
   "id": "3aa710b2-a8bc-45e9-ae95-8d4fe2719dd7",
   "metadata": {},
   "outputs": [],
   "source": [
    "rl = pyna.ReacLibLibrary()\n",
    "three_alpha = rl.get_rate_by_name(\"a(aa,g)c12\")\n",
    "lib = pyna.Library(rates=[three_alpha])"
   ]
  },
  {
   "cell_type": "markdown",
   "id": "33185818-30b4-4942-a438-8aed3b54bf8d",
   "metadata": {},
   "source": [
    "Now we'll create the network, and explicitly pass in the list of inert nuclei.\n",
    "We'll use ${}^{56}\\mathrm{Fe}$"
   ]
  },
  {
   "cell_type": "code",
   "execution_count": 3,
   "id": "013669c7-2d9d-43cb-9e12-6090608c1986",
   "metadata": {},
   "outputs": [],
   "source": [
    "net = pyna.PythonNetwork(libraries=lib, inert_nuclei=[\"fe56\"])"
   ]
  },
  {
   "cell_type": "code",
   "execution_count": 4,
   "id": "395c3088-7d43-4b45-93ab-c9654cc01775",
   "metadata": {},
   "outputs": [
    {
     "name": "stdout",
     "output_type": "stream",
     "text": [
      "Network summary\n",
      "---------------\n",
      "  explicitly carried nuclei: 3\n",
      "  approximated-out nuclei: 0\n",
      "  inert nuclei (included in carried): 1\n",
      "\n",
      "  total number of rates: 1\n",
      "\n",
      "  rates explicitly connecting nuclei: 1\n",
      "  hidden rates: 0\n",
      "\n",
      "  reaclib rates: 1\n",
      "  tabular rates: 0\n",
      "  approximate rates: 0\n",
      "  derived rates: 0\n",
      "  modified rates: 0\n",
      "  custom rates: 0\n"
     ]
    }
   ],
   "source": [
    "net.summary()"
   ]
  },
  {
   "cell_type": "markdown",
   "id": "e8564b88-d43e-471e-a800-3abb35a30944",
   "metadata": {},
   "source": [
    "We can look at the evolution equation for iron"
   ]
  },
  {
   "cell_type": "code",
   "execution_count": 5,
   "id": "60d51431-4c5d-4c2e-8df9-dac0cab28d0e",
   "metadata": {},
   "outputs": [
    {
     "name": "stdout",
     "output_type": "stream",
     "text": [
      "dYdt[jfe56] = 0.0\n",
      "\n",
      "\n"
     ]
    }
   ],
   "source": [
    "ydot = net.full_ydot_string(pyna.Nucleus(\"fe56\"))\n",
    "print(ydot)"
   ]
  },
  {
   "cell_type": "markdown",
   "id": "72c4e2ad-9329-4c53-8135-92b9b9419b1a",
   "metadata": {},
   "source": [
    "This shows that, even though iron is part of the network, it won't react."
   ]
  }
 ],
 "metadata": {
  "kernelspec": {
   "display_name": "Python 3 (ipykernel)",
   "language": "python",
   "name": "python3"
  },
  "language_info": {
   "codemirror_mode": {
    "name": "ipython",
    "version": 3
   },
   "file_extension": ".py",
   "mimetype": "text/x-python",
   "name": "python",
   "nbconvert_exporter": "python",
   "pygments_lexer": "ipython3",
   "version": "3.13.7"
  }
 },
 "nbformat": 4,
 "nbformat_minor": 5
}
