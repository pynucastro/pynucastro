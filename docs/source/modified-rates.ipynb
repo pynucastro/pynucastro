{
 "cells": [
  {
   "cell_type": "markdown",
   "id": "e50a7ee4-03ec-40ab-8918-2f1a2ea38568",
   "metadata": {},
   "source": [
    "# Modified Rates"
   ]
  },
  {
   "cell_type": "markdown",
   "id": "2957181f-50a3-4723-87ab-a641871d924e",
   "metadata": {},
   "source": [
    "A `ModifiedRate` acts as a wrapper, encapsulating a single rate, allowing you to change the products of the stoichiometric coefficients.  A good example of this comes from the `aprox19` and `aprox21` networks.  There, an approximation to H-burning (via pp and CNO) is included, and the nucleus ${}^{14}\\mathrm{N}$ is present, which is the bottleneck for CNO.  Beyond that is an $\\alpha$-chain.  But $\\alpha$-captures cannot connect ${}^{14}\\mathrm{N}$ (odd $Z$) to the even-$Z$ nuclei in the $\\alpha$-chain."
   ]
  },
  {
   "cell_type": "markdown",
   "id": "f93a9833-d6ba-400b-a455-af3c8487642e",
   "metadata": {},
   "source": [
    "To make this connection, a rate that does:\n",
    "\n",
    "$$2\\, {}^{14}\\mathrm{N} + 3 \\alpha \\rightarrow 2\\, {}^{20}\\mathrm{Ne}$$\n",
    "\n",
    "is added.  For a single ${}^{14}\\mathrm{N}$ we can write this as ${}^{14}\\mathrm{N}(1.5\\alpha,\\gamma){}^{20}\\mathrm{Ne}$. This is assumed to proceed at the rate for ${}^{14}\\mathrm{N}(\\alpha,\\gamma){}^{18}\\mathrm{F}$, and ${}^{18}\\mathrm{F}$ is not included explicitly in the network.  But we can add this approximation using\n",
    "`ModifiedRate`."
   ]
  },
  {
   "cell_type": "code",
   "execution_count": 1,
   "id": "ae1fa86d-10b5-4b99-8dc4-99faffa3fbd6",
   "metadata": {},
   "outputs": [],
   "source": [
    "import pynucastro as pyna"
   ]
  },
  {
   "cell_type": "markdown",
   "id": "45df7f3a-4bbc-4407-8717-386e85d44068",
   "metadata": {},
   "source": [
    "We'll start with a basic network for He burning up to ${}^{20}\\mathrm{Ne}$:"
   ]
  },
  {
   "cell_type": "code",
   "execution_count": 2,
   "id": "268c4b3b-671c-4a4e-9f3f-637adab6d7c8",
   "metadata": {},
   "outputs": [],
   "source": [
    "rl = pyna.ReacLibLibrary()\n",
    "lib = rl.linking_nuclei([\"he4\", \"c12\", \"o16\", \"ne20\"],\n",
    "                        with_reverse=False)"
   ]
  },
  {
   "cell_type": "markdown",
   "id": "43b1e1ab-3384-4177-b3d7-fcdb253cb9b4",
   "metadata": {},
   "source": [
    "Now let's get the ${}^{14}\\mathrm{N}(1.5\\alpha,\\gamma){}^{20}\\mathrm{Ne}$ rate and modify it to go to\n",
    "${}^{20}\\mathrm{Ne}$.  To do this, we need to change the stoichiometric coefficients as well as the\n",
    "products:"
   ]
  },
  {
   "cell_type": "code",
   "execution_count": 3,
   "id": "00c49883-da3d-4d6a-85b7-8f1f7afcb460",
   "metadata": {},
   "outputs": [],
   "source": [
    "n14rate = rl.get_rate_by_name(\"n14(a,g)f18\")"
   ]
  },
  {
   "cell_type": "code",
   "execution_count": 4,
   "id": "325e630b-2a8c-44d3-83bd-65dd572651d7",
   "metadata": {},
   "outputs": [],
   "source": [
    "new_n14 = pyna.ModifiedRate(n14rate,\n",
    "                            new_products=[pyna.Nucleus(\"ne20\")],\n",
    "                            stoichiometry={pyna.Nucleus(\"he4\"): 1.5})"
   ]
  },
  {
   "cell_type": "code",
   "execution_count": 5,
   "id": "c6ed44de-c307-4d79-9e58-71424b4c7c8d",
   "metadata": {},
   "outputs": [
    {
     "data": {
      "text/plain": [
       "N14 + 1.5 He4 ⟶ Ne20 + 𝛾"
      ]
     },
     "execution_count": 5,
     "metadata": {},
     "output_type": "execute_result"
    }
   ],
   "source": [
    "new_n14"
   ]
  },
  {
   "cell_type": "markdown",
   "id": "db3765f3-2f55-4127-8f42-1da685029b7c",
   "metadata": {},
   "source": [
    "The modified rate still knows the underlying rate we will be evaluating:"
   ]
  },
  {
   "cell_type": "code",
   "execution_count": 6,
   "id": "86c9d5a2-8926-4d5b-8d8a-af2fba852ff7",
   "metadata": {},
   "outputs": [
    {
     "data": {
      "text/plain": [
       "N14 + He4 ⟶ F18 + 𝛾"
      ]
     },
     "execution_count": 6,
     "metadata": {},
     "output_type": "execute_result"
    }
   ],
   "source": [
    "new_n14.original_rate"
   ]
  },
  {
   "cell_type": "markdown",
   "id": "01f2ccea-f196-4b70-a181-62d4137d21e8",
   "metadata": {},
   "source": [
    "and we can see that the function to compute the rate simply evaluates\n",
    "the original rate and uses it."
   ]
  },
  {
   "cell_type": "code",
   "execution_count": 7,
   "id": "5293c41f-3b0d-4bf4-a121-65e301f90a3b",
   "metadata": {},
   "outputs": [
    {
     "name": "stdout",
     "output_type": "stream",
     "text": [
      "@numba.njit()\n",
      "def He4_N14__Ne20__modified(rate_eval, tf):\n",
      "    # N14 + 1.5 He4 --> Ne20\n",
      "    He4_N14__F18(rate_eval, tf)\n",
      "    rate_eval.He4_N14__Ne20__modified = rate_eval.He4_N14__F18\n",
      "\n",
      "\n"
     ]
    }
   ],
   "source": [
    "print(new_n14.function_string_py())"
   ]
  },
  {
   "cell_type": "markdown",
   "id": "be508271-53b7-4893-96ee-872b71b500b4",
   "metadata": {},
   "source": [
    "Now we can add this new rate to our library:"
   ]
  },
  {
   "cell_type": "code",
   "execution_count": 8,
   "id": "a27ba070-be94-41aa-890a-2e4b05d8659b",
   "metadata": {},
   "outputs": [],
   "source": [
    "lib.add_rate(new_n14)"
   ]
  },
  {
   "cell_type": "markdown",
   "id": "a8750eda-798a-4ef4-88ea-cd467d5e043e",
   "metadata": {},
   "source": [
    "and create the network from this library:"
   ]
  },
  {
   "cell_type": "code",
   "execution_count": 9,
   "id": "85fc3c2a-a6b8-48ca-b7a6-cffe6d9b7120",
   "metadata": {},
   "outputs": [],
   "source": [
    "net = pyna.PythonNetwork(libraries=[lib])"
   ]
  },
  {
   "cell_type": "markdown",
   "id": "e9955313-648f-497f-b079-a0d1f8e48ff9",
   "metadata": {},
   "source": [
    "The evolution for $dY({}^{4}\\mathrm{He})/dt$ also uses the correct coefficient:"
   ]
  },
  {
   "cell_type": "code",
   "execution_count": 10,
   "id": "6d3d617e-48cb-4033-b54d-a53dc36f3369",
   "metadata": {},
   "outputs": [
    {
     "name": "stdout",
     "output_type": "stream",
     "text": [
      "dYdt[jhe4] = (\n",
      "      -rho*Y[jhe4]*Y[jc12]*rate_eval.He4_C12__O16  +\n",
      "      -rho*Y[jhe4]*Y[jo16]*rate_eval.He4_O16__Ne20  +\n",
      "      +5.00000000000000e-01*rho*Y[jc12]**2*rate_eval.C12_C12__He4_Ne20  +\n",
      "      + -3*1.66666666666667e-01*rho**2*Y[jhe4]**3*rate_eval.He4_He4_He4__C12  +\n",
      "      + -1.5*rho*Y[jhe4]*Y[jn14]*rate_eval.He4_N14__Ne20__modified\n",
      "   )\n",
      "\n",
      "\n"
     ]
    }
   ],
   "source": [
    "print(net.full_ydot_string(pyna.Nucleus(\"he4\")))"
   ]
  },
  {
   "cell_type": "markdown",
   "id": "9db4aa95-a0f3-4ae1-a76d-674f5f4ccae1",
   "metadata": {},
   "source": [
    "Here's a visualization with the links from the new rate highlighted:"
   ]
  },
  {
   "cell_type": "code",
   "execution_count": 11,
   "id": "bad16a2d-e18d-42aa-9b6f-e0feab3386cc",
   "metadata": {},
   "outputs": [
    {
     "data": {
      "image/png": "[encoded data removed]",
      "text/plain": [
       "<Figure size 800x600 with 1 Axes>"
      ]
     },
     "metadata": {},
     "output_type": "display_data"
    }
   ],
   "source": [
    "fig = net.plot(curved_edges=True, rotated=True,\n",
    "               highlight_filter_function=lambda r: pyna.Nucleus(\"n14\") in r.reactants)"
   ]
  },
  {
   "cell_type": "markdown",
   "id": "b7eb3bf8-d731-4bc5-aae7-d752a6e11cfa",
   "metadata": {},
   "source": [
    "and the evaluation of the rates at a particular thermodynamic state:"
   ]
  },
  {
   "cell_type": "code",
   "execution_count": 12,
   "id": "edae0690-a1c4-40d8-adcd-b6091f317864",
   "metadata": {},
   "outputs": [],
   "source": [
    "rho = 1.e6\n",
    "T = 5.e8\n",
    "comp = pyna.Composition(net.unique_nuclei)\n",
    "comp.set_equal()"
   ]
  },
  {
   "cell_type": "code",
   "execution_count": 13,
   "id": "1566561b-b979-4125-befd-c2e8ef8f0e9e",
   "metadata": {},
   "outputs": [
    {
     "data": {
      "text/plain": [
       "{C12 + He4 ⟶ O16 + 𝛾: 3.1635370410117465e-06,\n",
       " O16 + He4 ⟶ Ne20 + 𝛾: 0.00010189935467071995,\n",
       " C12 + C12 ⟶ He4 + Ne20: 2.1912364485182727e-18,\n",
       " 3 He4 ⟶ C12 + 𝛾: 0.0007011536816900648,\n",
       " N14 + 1.5 He4 ⟶ Ne20 + 𝛾: 0.08158832557453448}"
      ]
     },
     "execution_count": 13,
     "metadata": {},
     "output_type": "execute_result"
    }
   ],
   "source": [
    "net.evaluate_rates(rho=rho, T=T, composition=comp)"
   ]
  }
 ],
 "metadata": {
  "kernelspec": {
   "display_name": "Python 3 (ipykernel)",
   "language": "python",
   "name": "python3"
  },
  "language_info": {
   "codemirror_mode": {
    "name": "ipython",
    "version": 3
   },
   "file_extension": ".py",
   "mimetype": "text/x-python",
   "name": "python",
   "nbconvert_exporter": "python",
   "pygments_lexer": "ipython3",
   "version": "3.13.3"
  }
 },
 "nbformat": 4,
 "nbformat_minor": 5
}
