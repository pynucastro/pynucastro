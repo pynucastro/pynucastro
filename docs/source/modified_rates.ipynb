{
 "cells": [
  {
   "cell_type": "markdown",
   "id": "e50a7ee4-03ec-40ab-8918-2f1a2ea38568",
   "metadata": {},
   "source": [
    "# Modified Rates"
   ]
  },
  {
   "cell_type": "markdown",
   "id": "2957181f-50a3-4723-87ab-a641871d924e",
   "metadata": {},
   "source": [
    "A `ModifiedRate` acts as a wrapper, encapsulating a single rate, allowing you to change the products of the stoichiometric coefficients.  A good example of this comes from the `aprox19` and `aprox21` networks.  There an approximation to H-burning (via pp and CNO) is included, and the nucleus ${}^{14}\\mathrm{N}$ is present, which is the bottleneck for CNO.  Beyond that is an $\\alpha$-chain.  But $\\alpha$-captures cannot connect ${}^{14}\\mathrm{N}$ (odd $Z$) to the even-$Z$ nuclei in the $\\alpha$-chain."
   ]
  },
  {
   "cell_type": "markdown",
   "id": "f93a9833-d6ba-400b-a455-af3c8487642e",
   "metadata": {},
   "source": [
    "To make this connection, a rate that does:\n",
    "\n",
    "$$2\\, {}^\\mathrm{N}{14} + 3 \\alpha \\rightarrow 2\\, {}^{20}\\mathrm{Ne}$$\n",
    "\n",
    "is added.  For a single ${}^{14}\\mathrm{N}$ we can write this as ${}^{14}\\mathrm{N}(1.5\\alpha,\\gamma){}^{20}\\mathrm{Ne}$. This is assumed to proceed at the rate for ${}^\\mathrm{N}{14}(\\alpha,\\gamma){}^{18}\\mathrm{F}$, and ${}^{18}\\mathrm{F}$ is not included explicitly in the network."
   ]
  },
  {
   "cell_type": "code",
   "execution_count": 1,
   "id": "ae1fa86d-10b5-4b99-8dc4-99faffa3fbd6",
   "metadata": {},
   "outputs": [],
   "source": [
    "import pynucastro as pyna"
   ]
  },
  {
   "cell_type": "code",
   "execution_count": 2,
   "id": "268c4b3b-671c-4a4e-9f3f-637adab6d7c8",
   "metadata": {},
   "outputs": [],
   "source": [
    "rl = pyna.ReacLibLibrary()\n",
    "lib = rl.linking_nuclei([\"he4\", \"c12\", \"o16\", \"ne20\"], with_reverse=False)"
   ]
  },
  {
   "cell_type": "code",
   "execution_count": 4,
   "id": "00c49883-da3d-4d6a-85b7-8f1f7afcb460",
   "metadata": {},
   "outputs": [],
   "source": [
    "n14rate = rl.get_rate_by_name(\"n14(a,g)f18\")"
   ]
  },
  {
   "cell_type": "code",
   "execution_count": 5,
   "id": "325e630b-2a8c-44d3-83bd-65dd572651d7",
   "metadata": {},
   "outputs": [],
   "source": [
    "new_n14 = pyna.ModifiedRate(n14rate,\n",
    "                            new_products=[pyna.Nucleus(\"ne20\")],\n",
    "                            stoichiometry={pyna.Nucleus(\"he4\"): 1.5})"
   ]
  },
  {
   "cell_type": "code",
   "execution_count": 6,
   "id": "c6ed44de-c307-4d79-9e58-71424b4c7c8d",
   "metadata": {},
   "outputs": [
    {
     "data": {
      "text/plain": [
       "N14 + 1.5 He4 ⟶ Ne20 + 𝛾"
      ]
     },
     "execution_count": 6,
     "metadata": {},
     "output_type": "execute_result"
    }
   ],
   "source": [
    "new_n14"
   ]
  },
  {
   "cell_type": "code",
   "execution_count": 7,
   "id": "86c9d5a2-8926-4d5b-8d8a-af2fba852ff7",
   "metadata": {},
   "outputs": [
    {
     "data": {
      "text/plain": [
       "N14 + He4 ⟶ F18 + 𝛾"
      ]
     },
     "execution_count": 7,
     "metadata": {},
     "output_type": "execute_result"
    }
   ],
   "source": [
    "new_n14.original_rate"
   ]
  },
  {
   "cell_type": "code",
   "execution_count": null,
   "id": "a27ba070-be94-41aa-890a-2e4b05d8659b",
   "metadata": {},
   "outputs": [],
   "source": []
  }
 ],
 "metadata": {
  "kernelspec": {
   "display_name": "Python 3 (ipykernel)",
   "language": "python",
   "name": "python3"
  },
  "language_info": {
   "codemirror_mode": {
    "name": "ipython",
    "version": 3
   },
   "file_extension": ".py",
   "mimetype": "text/x-python",
   "name": "python",
   "nbconvert_exporter": "python",
   "pygments_lexer": "ipython3",
   "version": "3.13.3"
  }
 },
 "nbformat": 4,
 "nbformat_minor": 5
}
