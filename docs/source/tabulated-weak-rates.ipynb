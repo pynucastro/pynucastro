{
 "cells": [
  {
   "cell_type": "markdown",
   "id": "fe9f058e-6396-4b5b-bbc0-4a92259a9e49",
   "metadata": {},
   "source": [
    "# Tabulated Weak Rate Sources"
   ]
  },
  {
   "cell_type": "markdown",
   "id": "d5225419-4af3-4eab-be81-426a21c44403",
   "metadata": {},
   "source": [
    "There are a variety of sources for tabulated weak rates.  Each of these sources has their own class that will\n",
    "just read in that source:\n",
    "\n",
    "* `FFNLibrary()` : from {cite:t}`ffn` covering $21 \\le A \\le 60$\n",
    "* `OdaLibrary()` : from {cite:t}`oda:1994` covering $17 \\le A \\le 39$\n",
    "* `LangankeLibrary()` : from {cite:t}`langanke:2001` covering $45 \\le A \\le 65$\n",
    "* `SuzukiLibrary()` : from {cite:t}`suzuki:2016` covering $17 \\le A \\le 28$\n",
    "\n",
    "Additionally, a union of these sources can be read in via `TabularLibrary()`.  However, since there is some overlap in the\n",
    "coverage between these different sources, we need to pick an order of precedence.  The default order is the sequence in the\n",
    "list above.  However, this can be overridden by via the `ordering` keyword argument."
   ]
  },
  {
   "cell_type": "code",
   "execution_count": 1,
   "id": "81a9e082-c29a-41c7-a9b3-e121097997e6",
   "metadata": {},
   "outputs": [],
   "source": [
    "import pynucastro as pyna"
   ]
  },
  {
   "cell_type": "markdown",
   "id": "46c196b3-36dc-4b25-af8e-ec11aa94dfab",
   "metadata": {},
   "source": [
    "Read in the weak rates.  We'll use the default ordering, but we'll explicitly specify it here:"
   ]
  },
  {
   "cell_type": "code",
   "execution_count": 2,
   "id": "9a701eb7-e3c1-4e8d-8eb0-f7faa71deed4",
   "metadata": {},
   "outputs": [],
   "source": [
    "tl = pyna.TabularLibrary(ordering=[\"ffn\", \"oda\", \"langanke\", \"suzuki\"])"
   ]
  },
  {
   "cell_type": "markdown",
   "id": "aa00c997-b6b0-4e62-8bb6-5978a4a95db1",
   "metadata": {},
   "source": [
    "```{important}\n",
    "`ordering` specifies the sources from lowest to highest precedence.  In the above example, we first read in the `ffn` rates,\n",
    "then the `oda` rates, and replace any `ffn` rates with `oda` rates if they represent the same nucleus and process.\n",
    "The we do the same with the `langanke` and the `suzuki` rates. \n",
    "The default ordering, overwrite the repeated rates accordingly to the year of publication of each one of these sources, keeping the newest ones and discarding the oldest ones.\n",
    "```"
   ]
  },
  {
   "cell_type": "code",
   "execution_count": 3,
   "id": "a0f17e04-9fb0-49f8-b7eb-9fc72b133519",
   "metadata": {},
   "outputs": [],
   "source": [
    "rates = tl.get_rates()"
   ]
  },
  {
   "cell_type": "markdown",
   "id": "1b1664d8-9405-4a1e-950d-38f55b26858d",
   "metadata": {},
   "source": [
    "Now let's make a plot that shows the source for each rate, colored by the reactant."
   ]
  },
  {
   "cell_type": "markdown",
   "id": "f63e14c8-d750-48e2-98d5-81b8c5ec99c2",
   "metadata": {},
   "source": [
    "We'll plot in terms of $(Z, N)$, so let's find the bounds of the rate coverage, and round it to the nearest 10"
   ]
  },
  {
   "cell_type": "code",
   "execution_count": 4,
   "id": "f767e7f2-9dac-45e0-97db-8066f7de57fb",
   "metadata": {},
   "outputs": [],
   "source": [
    "high_Z = max(r.products[0].Z for r in rates)\n",
    "high_N = max(r.products[0].N for r in rates)\n",
    "max_size = 10 * (max(high_Z, high_N) // 10 + 1)"
   ]
  },
  {
   "cell_type": "markdown",
   "id": "7a937f13-8149-49a6-afba-bf172a82c43c",
   "metadata": {},
   "source": [
    "We'll use the filename to sort the rates by source:"
   ]
  },
  {
   "cell_type": "code",
   "execution_count": 5,
   "id": "976a59cc-592f-4abf-bea7-4bef78338131",
   "metadata": {},
   "outputs": [
    {
     "name": "stdout",
     "output_type": "stream",
     "text": [
      "97\n"
     ]
    }
   ],
   "source": [
    "ffn_rates = [r for r in rates if r.rfile.startswith(\"ffn\")]\n",
    "suzuki_rates = [r for r in rates if r.rfile.startswith(\"suzuki\")]\n",
    "langanke_rates = [r for r in rates if r.rfile.startswith(\"langanke\")]\n",
    "oda_rates = [r for r in rates if r.rfile.startswith(\"oda\")]\n",
    "print(len(oda_rates))"
   ]
  },
  {
   "cell_type": "markdown",
   "id": "2a555f8c-0dbf-483a-8863-5cd377a825ba",
   "metadata": {},
   "source": [
    "Finally, plot them on a grid"
   ]
  },
  {
   "cell_type": "code",
   "execution_count": 6,
   "id": "de37bc7e-d7e0-4e87-bc41-e3ae314cc523",
   "metadata": {},
   "outputs": [],
   "source": [
    "import matplotlib.pyplot as plt"
   ]
  },
  {
   "cell_type": "code",
   "execution_count": 7,
   "id": "9c87d1af-5ad4-4fec-9171-1857ee84e395",
   "metadata": {},
   "outputs": [
    {
     "data": {
      "image/png": "[encoded data removed]",
      "text/plain": [
       "<Figure size 700x700 with 1 Axes>"
      ]
     },
     "metadata": {},
     "output_type": "display_data"
    }
   ],
   "source": [
    "fig, ax = plt.subplots()\n",
    "ax.scatter([r.reactants[0].N for r in ffn_rates],\n",
    "           [r.reactants[0].Z for r in ffn_rates], marker=\"s\", color=\"C0\", label=\"FFN\")\n",
    "ax.scatter([r.reactants[0].N for r in oda_rates],\n",
    "           [r.reactants[0].Z for r in oda_rates], marker=\"s\", color=\"C1\", label=\"Oda\")\n",
    "ax.scatter([r.reactants[0].N for r in langanke_rates],\n",
    "           [r.reactants[0].Z for r in langanke_rates], marker=\"s\", color=\"C2\", label=\"Langanke\")\n",
    "ax.scatter([r.reactants[0].N for r in suzuki_rates],\n",
    "           [r.reactants[0].Z for r in suzuki_rates], marker=\"s\", color=\"C3\", label=\"Suzuki\")\n",
    "\n",
    "ax.legend()\n",
    "ax.set_xlabel(\"N\")\n",
    "ax.set_ylabel(\"Z\")\n",
    "ax.set_xlim(-0.5, max_size)\n",
    "ax.set_ylim(-0.5, max_size)\n",
    "ax.set_aspect(\"equal\")\n",
    "ax.grid()\n",
    "fig.set_size_inches(7, 7)"
   ]
  }
 ],
 "metadata": {
  "kernelspec": {
   "display_name": "Python 3 (ipykernel)",
   "language": "python",
   "name": "python3"
  },
  "language_info": {
   "codemirror_mode": {
    "name": "ipython",
    "version": 3
   },
   "file_extension": ".py",
   "mimetype": "text/x-python",
   "name": "python",
   "nbconvert_exporter": "python",
   "pygments_lexer": "ipython3",
   "version": "3.11.8"
  }
 },
 "nbformat": 4,
 "nbformat_minor": 5
}
