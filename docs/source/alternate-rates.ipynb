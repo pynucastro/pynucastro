{
 "cells": [
  {
   "cell_type": "markdown",
   "id": "c8a1bdec-39c7-46ee-acd8-6bdba210f37d",
   "metadata": {},
   "source": [
    "# `alternate_rates`"
   ]
  },
  {
   "cell_type": "markdown",
   "id": "293a2437-f678-4523-87a9-4560a5677f4f",
   "metadata": {},
   "source": [
    "Sometimes papers provide new measurements of rates that may be better than the current ReacLib library.  An example of this is the \n",
    "[DeBoer et al. 2012](https://ui.adsabs.harvard.edu/abs/2017RvMP...89c5007D/abstract) ${}^{12}\\mathrm{C}(\\alpha, \\gamma){}^{16}\\mathrm{O}$ rate.\n",
    "\n",
    "These rates can be added individually to the `alternate_rates` module."
   ]
  },
  {
   "cell_type": "code",
   "execution_count": 1,
   "id": "a3d2faa1-8689-40d8-87e5-07f0eef4219a",
   "metadata": {
    "execution": {
     "iopub.execute_input": "2025-04-24T18:52:21.836016Z",
     "iopub.status.busy": "2025-04-24T18:52:21.835267Z",
     "iopub.status.idle": "2025-04-24T18:52:23.031471Z",
     "shell.execute_reply": "2025-04-24T18:52:23.030993Z"
    }
   },
   "outputs": [],
   "source": [
    "import pynucastro as pyna"
   ]
  },
  {
   "cell_type": "markdown",
   "id": "a7417e8c-9a5a-488d-a74c-b0b06668a2bd",
   "metadata": {},
   "source": [
    "## Comparison of ${}^{12}\\mathrm{C}(\\alpha, \\gamma){}^{16}\\mathrm{O}$"
   ]
  },
  {
   "cell_type": "markdown",
   "id": "ce350a97-7b40-46fb-a78b-8c81b304f882",
   "metadata": {
    "editable": true,
    "slideshow": {
     "slide_type": ""
    },
    "tags": []
   },
   "source": [
    "Here we compare the ReacLib and deBoer versions of ${}^{12}\\mathrm{C}(\\alpha, \\gamma){}^{16}\\mathrm{O}$."
   ]
  },
  {
   "cell_type": "markdown",
   "id": "3c70c775-3f51-4de1-a425-b00373e84791",
   "metadata": {},
   "source": [
    "First get the ReacLib version"
   ]
  },
  {
   "cell_type": "code",
   "execution_count": 2,
   "id": "478bebaf-3ece-47c0-9b45-e5ca74a7cedb",
   "metadata": {
    "execution": {
     "iopub.execute_input": "2025-04-24T18:52:23.033364Z",
     "iopub.status.busy": "2025-04-24T18:52:23.032916Z",
     "iopub.status.idle": "2025-04-24T18:52:26.611432Z",
     "shell.execute_reply": "2025-04-24T18:52:26.611031Z"
    }
   },
   "outputs": [],
   "source": [
    "rl = pyna.ReacLibLibrary()\n",
    "c12_rl = rl.get_rate_by_name(\"c12(a,g)o16\")"
   ]
  },
  {
   "cell_type": "markdown",
   "id": "cc323c16-fe44-476c-a9bb-64abe489ac57",
   "metadata": {},
   "source": [
    "Now the DeBoer version:"
   ]
  },
  {
   "cell_type": "code",
   "execution_count": 3,
   "id": "0c207679-c0c6-4afe-89e7-2b93d833a51b",
   "metadata": {
    "execution": {
     "iopub.execute_input": "2025-04-24T18:52:26.612879Z",
     "iopub.status.busy": "2025-04-24T18:52:26.612743Z",
     "iopub.status.idle": "2025-04-24T18:52:26.615223Z",
     "shell.execute_reply": "2025-04-24T18:52:26.614843Z"
    }
   },
   "outputs": [],
   "source": [
    "from pynucastro.rates.alternate_rates import DeBoerC12agO16\n",
    "c12_deboer = DeBoerC12agO16()"
   ]
  },
  {
   "cell_type": "markdown",
   "id": "ed9620bb-dcd2-44d0-addf-c11a8e6fb130",
   "metadata": {},
   "source": [
    "Note that since DeBoer et al. 2012 give the new rate as a parameterization in the ReacLib form, this new rate just subclasses\n",
    "`ReacLibRate`"
   ]
  },
  {
   "cell_type": "code",
   "execution_count": 4,
   "id": "a8e21563-9e67-47a6-946a-eb92c3d883ed",
   "metadata": {
    "execution": {
     "iopub.execute_input": "2025-04-24T18:52:26.616435Z",
     "iopub.status.busy": "2025-04-24T18:52:26.616314Z",
     "iopub.status.idle": "2025-04-24T18:52:26.620180Z",
     "shell.execute_reply": "2025-04-24T18:52:26.619823Z"
    }
   },
   "outputs": [
    {
     "data": {
      "text/plain": [
       "pynucastro.rates.reaclib_rate.ReacLibRate"
      ]
     },
     "execution_count": 4,
     "metadata": {},
     "output_type": "execute_result"
    }
   ],
   "source": [
    "DeBoerC12agO16.__base__"
   ]
  },
  {
   "cell_type": "markdown",
   "id": "a15ccbe6-8c57-40a7-a025-0f835752feb6",
   "metadata": {},
   "source": [
    "Let's plot a comparison of the rates"
   ]
  },
  {
   "cell_type": "code",
   "execution_count": 5,
   "id": "df557ec7-a75e-4143-a1f1-c3e9938b528a",
   "metadata": {
    "execution": {
     "iopub.execute_input": "2025-04-24T18:52:26.621358Z",
     "iopub.status.busy": "2025-04-24T18:52:26.621237Z",
     "iopub.status.idle": "2025-04-24T18:52:26.623372Z",
     "shell.execute_reply": "2025-04-24T18:52:26.622974Z"
    }
   },
   "outputs": [],
   "source": [
    "import numpy as np\n",
    "import matplotlib.pyplot as plt"
   ]
  },
  {
   "cell_type": "code",
   "execution_count": 6,
   "id": "3bcefccb-e3f9-4d7a-a57c-15aa90c1d50e",
   "metadata": {
    "editable": true,
    "execution": {
     "iopub.execute_input": "2025-04-24T18:52:26.624528Z",
     "iopub.status.busy": "2025-04-24T18:52:26.624409Z",
     "iopub.status.idle": "2025-04-24T18:52:27.097841Z",
     "shell.execute_reply": "2025-04-24T18:52:27.097459Z"
    },
    "slideshow": {
     "slide_type": ""
    },
    "tags": []
   },
   "outputs": [],
   "source": [
    "Ts = np.logspace(7.5, 9.5, 100)\n",
    "\n",
    "r_rl = np.array([c12_rl.eval(T) for T in Ts])\n",
    "r_deboer = np.array([c12_deboer.eval(T) for T in Ts])"
   ]
  },
  {
   "cell_type": "code",
   "execution_count": 7,
   "id": "2d7ba5bf-d5e0-46a8-9cb3-908db3f30e35",
   "metadata": {
    "editable": true,
    "execution": {
     "iopub.execute_input": "2025-04-24T18:52:27.099201Z",
     "iopub.status.busy": "2025-04-24T18:52:27.099073Z",
     "iopub.status.idle": "2025-04-24T18:52:27.477434Z",
     "shell.execute_reply": "2025-04-24T18:52:27.477085Z"
    },
    "slideshow": {
     "slide_type": ""
    },
    "tags": [
     "nbval-ignore-output"
    ]
   },
   "outputs": [
    {
     "data": {
      "text/plain": [
       "<matplotlib.legend.Legend at 0x7fbfe37bb380>"
      ]
     },
     "execution_count": 7,
     "metadata": {},
     "output_type": "execute_result"
    },
    {
     "data": {
      "image/png": "[encoded data removed]",
      "text/plain": [
       "<Figure size 640x480 with 1 Axes>"
      ]
     },
     "metadata": {},
     "output_type": "display_data"
    }
   ],
   "source": [
    "fig, ax = plt.subplots()\n",
    "ax.loglog(Ts, r_rl, label=\"ReacLib\")\n",
    "ax.loglog(Ts, r_deboer, label=\"deBoer\")\n",
    "ax.set_xlabel(\"T\")\n",
    "ax.set_ylabel(r\"$N_A\\langle \\sigma v\\rangle$\")\n",
    "ax.legend()"
   ]
  },
  {
   "cell_type": "markdown",
   "id": "3e9fe5b4-4e73-41db-8f0b-929400e3917a",
   "metadata": {
    "editable": true,
    "slideshow": {
     "slide_type": ""
    },
    "tags": []
   },
   "source": [
    "Here's the relative difference"
   ]
  },
  {
   "cell_type": "code",
   "execution_count": 8,
   "id": "82773ed1-43eb-45f6-9d0d-b571a0ae72b8",
   "metadata": {
    "editable": true,
    "execution": {
     "iopub.execute_input": "2025-04-24T18:52:27.478786Z",
     "iopub.status.busy": "2025-04-24T18:52:27.478658Z",
     "iopub.status.idle": "2025-04-24T18:52:27.678201Z",
     "shell.execute_reply": "2025-04-24T18:52:27.677746Z"
    },
    "slideshow": {
     "slide_type": ""
    },
    "tags": [
     "nbval-ignore-output"
    ]
   },
   "outputs": [
    {
     "data": {
      "image/png": "[encoded data removed]",
      "text/plain": [
       "<Figure size 640x480 with 1 Axes>"
      ]
     },
     "metadata": {},
     "output_type": "display_data"
    }
   ],
   "source": [
    "fig, ax = plt.subplots()\n",
    "ax.loglog(Ts, np.abs((r_rl - r_deboer) / r_rl))\n",
    "ax.set_xlabel(\"T\")\n",
    "ax.set_ylabel(r\"relative difference\")\n",
    "ax.grid(ls=\":\")"
   ]
  },
  {
   "cell_type": "markdown",
   "id": "67513457-6fe6-4527-aeea-4ecdf4313d02",
   "metadata": {
    "editable": true,
    "slideshow": {
     "slide_type": ""
    },
    "tags": []
   },
   "source": [
    "## Using alternate rates in a network"
   ]
  },
  {
   "cell_type": "markdown",
   "id": "7978a7c5-af12-4d83-b637-a218936c479f",
   "metadata": {
    "editable": true,
    "slideshow": {
     "slide_type": ""
    },
    "tags": []
   },
   "source": [
    "To create a network with this rate, we can swap it in for the ReacLib version when we create a library.\n",
    "Here's a simple He-burning network."
   ]
  },
  {
   "cell_type": "code",
   "execution_count": 9,
   "id": "b8c4fdf0-8652-43b3-a327-e414e857cbff",
   "metadata": {
    "editable": true,
    "execution": {
     "iopub.execute_input": "2025-04-24T18:52:27.679551Z",
     "iopub.status.busy": "2025-04-24T18:52:27.679424Z",
     "iopub.status.idle": "2025-04-24T18:52:27.681710Z",
     "shell.execute_reply": "2025-04-24T18:52:27.681346Z"
    },
    "slideshow": {
     "slide_type": ""
    },
    "tags": []
   },
   "outputs": [],
   "source": [
    "nuclei = [\"p\", \"he4\", \"c12\", \"o16\", \"ne20\", \"na23\", \"mg24\"]\n",
    "\n",
    "comp = pyna.Composition(nuclei)\n",
    "comp.set_equal()"
   ]
  },
  {
   "cell_type": "code",
   "execution_count": 10,
   "id": "5a422574-c92b-4ab9-85f1-87288590c1a7",
   "metadata": {
    "editable": true,
    "execution": {
     "iopub.execute_input": "2025-04-24T18:52:27.682846Z",
     "iopub.status.busy": "2025-04-24T18:52:27.682719Z",
     "iopub.status.idle": "2025-04-24T18:52:27.684754Z",
     "shell.execute_reply": "2025-04-24T18:52:27.684325Z"
    },
    "slideshow": {
     "slide_type": ""
    },
    "tags": []
   },
   "outputs": [],
   "source": [
    "rho = 1.e6\n",
    "T = 1.e9"
   ]
  },
  {
   "cell_type": "markdown",
   "id": "af7b3e8c-58ef-4370-b09a-de66c71fcdc9",
   "metadata": {
    "editable": true,
    "slideshow": {
     "slide_type": ""
    },
    "tags": []
   },
   "source": [
    "### Pure ReacLib\n",
    "\n",
    "First we'll create a `RateCollection` with just the ReacLib rates"
   ]
  },
  {
   "cell_type": "code",
   "execution_count": 11,
   "id": "1cf7570f-8152-4804-a5a0-001e4fabbb15",
   "metadata": {
    "editable": true,
    "execution": {
     "iopub.execute_input": "2025-04-24T18:52:27.685991Z",
     "iopub.status.busy": "2025-04-24T18:52:27.685857Z",
     "iopub.status.idle": "2025-04-24T18:52:27.750175Z",
     "shell.execute_reply": "2025-04-24T18:52:27.749799Z"
    },
    "slideshow": {
     "slide_type": ""
    },
    "tags": []
   },
   "outputs": [
    {
     "name": "stdout",
     "output_type": "stream",
     "text": [
      "C12 + He4 ⟶ O16 + 𝛾       : 2.7441793e-03\n",
      "O16 + He4 ⟶ Ne20 + 𝛾      : 1.1385847e+00\n",
      "Ne20 + He4 ⟶ Mg24 + 𝛾     : 4.1265513e-01\n",
      "Na23 + p ⟶ Mg24 + 𝛾       : 6.9202360e+05\n",
      "2 C12 ⟶ p + Na23          : 1.1970613e-09\n",
      "2 C12 ⟶ He4 + Ne20        : 1.4808559e-09\n",
      "O16 + C12 ⟶ He4 + Mg24    : 5.5470507e-15\n",
      "Na23 + p ⟶ He4 + Ne20     : 8.9374939e+06\n",
      "3 He4 ⟶ C12 + 𝛾           : 2.5845076e-03\n"
     ]
    }
   ],
   "source": [
    "lib = rl.linking_nuclei(nuclei, with_reverse=False)\n",
    "rc = pyna.RateCollection(libraries=[lib])\n",
    "rates = rc.evaluate_rates(rho, T, comp)\n",
    "for rr, val in rates.items():\n",
    "    print(f\"{str(rr):25} : {val:12.7e}\")"
   ]
  },
  {
   "cell_type": "markdown",
   "id": "1de7e1ce-31d1-4073-b8ed-897051136fed",
   "metadata": {
    "editable": true,
    "slideshow": {
     "slide_type": ""
    },
    "tags": []
   },
   "source": [
    "### Swapping in DeBoer rate\n",
    "\n",
    "Now we'll swap in the deBoer rate."
   ]
  },
  {
   "cell_type": "code",
   "execution_count": 12,
   "id": "10ab39a3-9657-4dc7-a818-c63efaafefc2",
   "metadata": {
    "editable": true,
    "execution": {
     "iopub.execute_input": "2025-04-24T18:52:27.751512Z",
     "iopub.status.busy": "2025-04-24T18:52:27.751388Z",
     "iopub.status.idle": "2025-04-24T18:52:27.753449Z",
     "shell.execute_reply": "2025-04-24T18:52:27.753059Z"
    },
    "slideshow": {
     "slide_type": ""
    },
    "tags": []
   },
   "outputs": [],
   "source": [
    "lib.remove_rate(c12_rl)\n",
    "lib.add_rate(c12_deboer)"
   ]
  },
  {
   "cell_type": "markdown",
   "id": "03ab0920-066f-467f-972a-b4b386e66c7b",
   "metadata": {
    "editable": true,
    "slideshow": {
     "slide_type": ""
    },
    "tags": []
   },
   "source": [
    "and recreate the new `RateCollection`"
   ]
  },
  {
   "cell_type": "code",
   "execution_count": 13,
   "id": "c7115c09-dec1-47bb-9a5e-e1544e812e8f",
   "metadata": {
    "editable": true,
    "execution": {
     "iopub.execute_input": "2025-04-24T18:52:27.754709Z",
     "iopub.status.busy": "2025-04-24T18:52:27.754590Z",
     "iopub.status.idle": "2025-04-24T18:52:27.757357Z",
     "shell.execute_reply": "2025-04-24T18:52:27.756956Z"
    },
    "slideshow": {
     "slide_type": ""
    },
    "tags": []
   },
   "outputs": [
    {
     "name": "stdout",
     "output_type": "stream",
     "text": [
      "O16 + He4 ⟶ Ne20 + 𝛾      : 1.1385847e+00\n",
      "Ne20 + He4 ⟶ Mg24 + 𝛾     : 4.1265513e-01\n",
      "Na23 + p ⟶ Mg24 + 𝛾       : 6.9202360e+05\n",
      "2 C12 ⟶ p + Na23          : 1.1970613e-09\n",
      "2 C12 ⟶ He4 + Ne20        : 1.4808559e-09\n",
      "O16 + C12 ⟶ He4 + Mg24    : 5.5470507e-15\n",
      "Na23 + p ⟶ He4 + Ne20     : 8.9374939e+06\n",
      "3 He4 ⟶ C12 + 𝛾           : 2.5845076e-03\n",
      "C12 + He4 ⟶ O16 + 𝛾       : 2.2040004e-03\n"
     ]
    }
   ],
   "source": [
    "rc2 = pyna.RateCollection(libraries=[lib])\n",
    "rates = rc2.evaluate_rates(rho, T, comp)\n",
    "for rr, val in rates.items():\n",
    "    print(f\"{str(rr):25} : {val:12.7e}\")"
   ]
  },
  {
   "cell_type": "markdown",
   "id": "ec1ef8d9-57c2-4e56-8df0-bce5fcbb2987",
   "metadata": {
    "editable": true,
    "slideshow": {
     "slide_type": ""
    },
    "tags": []
   },
   "source": [
    "Comparing to the pure ReacLib version, we see the only difference in the evaluation\n",
    "of the rates is in ${}^{12}\\mathrm{C}(\\alpha, \\gamma){}^{16}\\mathrm{O}$"
   ]
  }
 ],
 "metadata": {
  "kernelspec": {
   "display_name": "Python 3 (ipykernel)",
   "language": "python",
   "name": "python3"
  },
  "language_info": {
   "codemirror_mode": {
    "name": "ipython",
    "version": 3
   },
   "file_extension": ".py",
   "mimetype": "text/x-python",
   "name": "python",
   "nbconvert_exporter": "python",
   "pygments_lexer": "ipython3",
   "version": "3.13.3"
  }
 },
 "nbformat": 4,
 "nbformat_minor": 5
}
