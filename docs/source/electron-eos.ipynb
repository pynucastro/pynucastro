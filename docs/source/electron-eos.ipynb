{
 "cells": [
  {
   "cell_type": "markdown",
   "id": "44d17a26-7311-4e35-bd15-1a6f81c3640d",
   "metadata": {},
   "source": [
    "# Exploring the Electron-Positron EOS"
   ]
  },
  {
   "cell_type": "code",
   "execution_count": 1,
   "id": "1cc91b01-e40e-40ee-8fe8-51d2c6eafe0b",
   "metadata": {},
   "outputs": [],
   "source": [
    "import pynucastro as pyna"
   ]
  },
  {
   "cell_type": "code",
   "execution_count": 2,
   "id": "a3362caa-6975-4415-8381-b74110766fa3",
   "metadata": {},
   "outputs": [],
   "source": [
    "es = pyna.eos.ElectronEOS()"
   ]
  },
  {
   "cell_type": "code",
   "execution_count": 3,
   "id": "0f9ff84d-2e47-4b36-9148-cef87892f6c2",
   "metadata": {},
   "outputs": [],
   "source": [
    "import numpy as np"
   ]
  },
  {
   "cell_type": "code",
   "execution_count": 4,
   "id": "739908c0-ffba-4724-b414-ebf0c0efa9e7",
   "metadata": {},
   "outputs": [],
   "source": [
    "Ts = np.logspace(4, 9, 26)\n",
    "rhos = np.logspace(-4, 9, 66)"
   ]
  },
  {
   "cell_type": "code",
   "execution_count": 5,
   "id": "58cb70b3-444a-4ac7-b321-ac6529291b02",
   "metadata": {},
   "outputs": [],
   "source": [
    "eta = np.zeros((len(rhos), len(Ts)))\n",
    "p_e = np.zeros((len(rhos), len(Ts)))\n",
    "p_pos = np.zeros((len(rhos), len(Ts)))\n",
    "n_e = np.zeros((len(rhos), len(Ts)))\n",
    "n_pos = np.zeros((len(rhos), len(Ts)))"
   ]
  },
  {
   "cell_type": "code",
   "execution_count": 6,
   "id": "38f0cfca-84b2-48cf-9d2c-4d08d1ef3097",
   "metadata": {},
   "outputs": [],
   "source": [
    "comp = pyna.Composition([\"he4\"])\n",
    "comp.set_equal()"
   ]
  },
  {
   "cell_type": "code",
   "execution_count": null,
   "id": "be164ed7-e178-4191-9c3c-0c58bd63cffe",
   "metadata": {},
   "outputs": [
    {
     "name": "stdout",
     "output_type": "stream",
     "text": [
      "0\n",
      "1\n",
      "2\n",
      "3\n",
      "4\n",
      "5\n",
      "6\n",
      "7\n",
      "8\n",
      "9\n",
      "10\n",
      "11\n",
      "12\n",
      "13\n",
      "14\n",
      "15\n",
      "16\n",
      "17\n",
      "18\n",
      "19\n",
      "20\n",
      "21\n",
      "22\n",
      "23\n",
      "24\n",
      "25\n",
      "26\n",
      "27\n",
      "28\n",
      "29\n",
      "30\n",
      "31\n",
      "32\n",
      "33\n",
      "34\n",
      "35\n",
      "36\n",
      "37\n",
      "38\n",
      "39\n",
      "40\n",
      "41\n",
      "42\n",
      "43\n",
      "44\n"
     ]
    }
   ],
   "source": [
    "for ir, rho in enumerate(rhos):\n",
    "    print(ir)\n",
    "    for it, T in enumerate(Ts):\n",
    "        state = es.pe_state(rho, T, comp, compute_derivs=False)\n",
    "        eta[ir, it] = state.eta\n",
    "        p_e[ir, it] = state.p_e\n",
    "        p_pos[ir, it] = state.p_pos\n",
    "        n_e[ir, it] = state.n_e\n",
    "        n_pos[ir, it] = state.n_pos        "
   ]
  },
  {
   "cell_type": "code",
   "execution_count": null,
   "id": "9e6f6e6a-4af7-474e-be85-ff46658cb8d5",
   "metadata": {},
   "outputs": [],
   "source": []
  },
  {
   "cell_type": "code",
   "execution_count": null,
   "id": "5233dbde-b2e0-47a9-811d-260e167477c1",
   "metadata": {},
   "outputs": [],
   "source": [
    "import matplotlib.pyplot as plt\n",
    "from matplotlib import colors"
   ]
  },
  {
   "cell_type": "code",
   "execution_count": null,
   "id": "70337ad8-44b9-4d72-b184-60994db05832",
   "metadata": {},
   "outputs": [],
   "source": []
  },
  {
   "cell_type": "code",
   "execution_count": null,
   "id": "a8ddf3e1-9eef-419c-8582-844d75a2d4b3",
   "metadata": {},
   "outputs": [],
   "source": [
    "fig = plt.figure(constrained_layout=True)\n",
    "ax = fig.add_subplot(111)\n",
    "im = ax.imshow(eta.T, origin=\"lower\",\n",
    "               norm=colors.SymLogNorm(linthresh=0.01, vmin=-eta.max(), vmax=eta.max()),\n",
    "               extent=[np.log10(rhos.min()), np.log10(rhos.max()),\n",
    "                       np.log10(Ts.min()), np.log10(Ts.max())],\n",
    "               interpolation=\"bilinear\",\n",
    "               cmap=\"RdBu\")\n",
    "ax.set_xlabel(r\"$\\log_{10}(\\rho)$\")\n",
    "ax.set_ylabel(r\"$\\log_{10}(T)$\")\n",
    "ax.set_title(r\"$\\eta$\")\n",
    "fig.colorbar(im, ax=ax, orientation=\"horizontal\")"
   ]
  },
  {
   "cell_type": "code",
   "execution_count": null,
   "id": "ee8c4467-91a0-41b1-b0ce-119fc4c50cba",
   "metadata": {},
   "outputs": [],
   "source": [
    "y = (n_pos / (n_pos + n_e))\n",
    "y.min(), y.max()"
   ]
  },
  {
   "cell_type": "code",
   "execution_count": null,
   "id": "a6bcfdbc-46e2-4d87-a083-727b6bb101bf",
   "metadata": {},
   "outputs": [],
   "source": [
    "fig = plt.figure(constrained_layout=True)\n",
    "ax = fig.add_subplot(111)\n",
    "im = ax.imshow(y.T, origin=\"lower\",\n",
    "               norm=colors.SymLogNorm(linthresh=1.e-5, vmin=1.e-50, vmax=0.5, clip=True),\n",
    "               extent=[np.log10(rhos.min()), np.log10(rhos.max()),\n",
    "                       np.log10(Ts.min()), np.log10(Ts.max())],\n",
    "               interpolation=\"bicubic\")\n",
    "ax.set_xlabel(r\"$\\log_{10}(\\rho)$\")\n",
    "ax.set_ylabel(r\"$\\log_{10}(T)$\")\n",
    "ax.set_title(r\"$n^+ / (n^- + n^+)$\")\n",
    "fig.colorbar(im, ax=ax, orientation=\"horizontal\")"
   ]
  },
  {
   "cell_type": "code",
   "execution_count": null,
   "id": "b3c6c038-08c6-4231-a321-88313a6e3ff8",
   "metadata": {},
   "outputs": [],
   "source": []
  }
 ],
 "metadata": {
  "kernelspec": {
   "display_name": "Python 3 (ipykernel)",
   "language": "python",
   "name": "python3"
  },
  "language_info": {
   "codemirror_mode": {
    "name": "ipython",
    "version": 3
   },
   "file_extension": ".py",
   "mimetype": "text/x-python",
   "name": "python",
   "nbconvert_exporter": "python",
   "pygments_lexer": "ipython3",
   "version": "3.13.5"
  }
 },
 "nbformat": 4,
 "nbformat_minor": 5
}
