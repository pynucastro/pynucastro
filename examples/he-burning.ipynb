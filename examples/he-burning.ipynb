{
 "cells": [
  {
   "cell_type": "markdown",
   "id": "6b91ade5-f876-4b06-9c94-25d2432a1b77",
   "metadata": {},
   "source": [
    "# Ratio of C/O from He burning"
   ]
  },
  {
   "cell_type": "markdown",
   "id": "7e6f10dd-a791-4c16-8d06-7d0ecf9d0c7a",
   "metadata": {},
   "source": [
    "When burning He, the relative amount of C vs. O produced from ${}^4\\mathrm{He}(\\alpha\\alpha,\\gamma){}^{12}\\mathrm{C}(\\alpha,\\gamma){}^{16}\\mathrm{O}$ is strongly dependent on the thermodynamic conditions.\n",
    "If the 3-$\\alpha$ rate is fast, then all of the He can be locked up in C before much O gets a chance to form.  Here we look at the ratio of C and O as a function of density and temperature.  We hold the density and temperature constant during the burn."
   ]
  },
  {
   "cell_type": "code",
   "execution_count": 1,
   "id": "4ce69c58-0cc6-4fa5-9fa5-05aec18de293",
   "metadata": {
    "execution": {
     "iopub.execute_input": "2024-11-23T16:26:49.500448Z",
     "iopub.status.busy": "2024-11-23T16:26:49.500280Z",
     "iopub.status.idle": "2024-11-23T16:26:50.881106Z",
     "shell.execute_reply": "2024-11-23T16:26:50.880434Z"
    }
   },
   "outputs": [],
   "source": [
    "import pynucastro as pyna"
   ]
  },
  {
   "cell_type": "markdown",
   "id": "688e4ff8-6318-4767-b6ba-4208d9be08d9",
   "metadata": {},
   "source": [
    "First create a simple He burning network"
   ]
  },
  {
   "cell_type": "code",
   "execution_count": 2,
   "id": "8890df67-c529-4e78-b53e-f02fa8a9820f",
   "metadata": {
    "execution": {
     "iopub.execute_input": "2024-11-23T16:26:50.883571Z",
     "iopub.status.busy": "2024-11-23T16:26:50.883104Z",
     "iopub.status.idle": "2024-11-23T16:26:55.854186Z",
     "shell.execute_reply": "2024-11-23T16:26:55.853529Z"
    }
   },
   "outputs": [],
   "source": [
    "rl = pyna.ReacLibLibrary()"
   ]
  },
  {
   "cell_type": "code",
   "execution_count": 3,
   "id": "b9690879-6386-49e4-95f0-18be2b8df3e3",
   "metadata": {
    "execution": {
     "iopub.execute_input": "2024-11-23T16:26:55.856460Z",
     "iopub.status.busy": "2024-11-23T16:26:55.856080Z",
     "iopub.status.idle": "2024-11-23T16:26:55.944311Z",
     "shell.execute_reply": "2024-11-23T16:26:55.943742Z"
    }
   },
   "outputs": [],
   "source": [
    "lib = rl.linking_nuclei([\"he4\", \"c12\", \"o16\"], with_reverse=False)\n",
    "\n",
    "net = pyna.PythonNetwork(libraries=[lib])\n",
    "net.write_network(\"heburn.py\")"
   ]
  },
  {
   "cell_type": "code",
   "execution_count": 4,
   "id": "8fd3610d-f792-4151-b5ac-99d9a2a016a2",
   "metadata": {
    "execution": {
     "iopub.execute_input": "2024-11-23T16:26:55.946527Z",
     "iopub.status.busy": "2024-11-23T16:26:55.946156Z",
     "iopub.status.idle": "2024-11-23T16:26:55.951419Z",
     "shell.execute_reply": "2024-11-23T16:26:55.951007Z"
    }
   },
   "outputs": [],
   "source": [
    "import heburn"
   ]
  },
  {
   "cell_type": "code",
   "execution_count": 5,
   "id": "be198233-ea28-4c36-8cfd-c3721e86ee93",
   "metadata": {
    "execution": {
     "iopub.execute_input": "2024-11-23T16:26:55.953089Z",
     "iopub.status.busy": "2024-11-23T16:26:55.952754Z",
     "iopub.status.idle": "2024-11-23T16:26:55.962952Z",
     "shell.execute_reply": "2024-11-23T16:26:55.962368Z"
    }
   },
   "outputs": [],
   "source": [
    "import numpy as np\n",
    "from scipy.integrate import solve_ivp"
   ]
  },
  {
   "cell_type": "markdown",
   "id": "e350e7eb-b3cf-4348-afae-1517798812a8",
   "metadata": {},
   "source": [
    "Define the initial composition (molar fraction) as pure He"
   ]
  },
  {
   "cell_type": "code",
   "execution_count": 6,
   "id": "f7d676c9-4a9b-416c-a4b8-514e530d6af0",
   "metadata": {
    "execution": {
     "iopub.execute_input": "2024-11-23T16:26:55.964894Z",
     "iopub.status.busy": "2024-11-23T16:26:55.964533Z",
     "iopub.status.idle": "2024-11-23T16:26:55.967511Z",
     "shell.execute_reply": "2024-11-23T16:26:55.967046Z"
    }
   },
   "outputs": [],
   "source": [
    "X0 = np.zeros(heburn.nnuc)\n",
    "X0[heburn.jhe4] = 1.0\n",
    "Y0 = X0 / heburn.A"
   ]
  },
  {
   "cell_type": "markdown",
   "id": "a359cc6b-b42c-4b1c-91b6-5a7add313d1f",
   "metadata": {},
   "source": [
    "We'll use SciPy `solve_ivp` to do the integration, using the `BDF` solver.\n",
    "We'll also pass in a screening function so we evaluate with screened rates.\n",
    "\n",
    "We can use an event to set the stop time -- we will stop when $X({}^{4}\\mathrm{He}) < 10^{-7}$"
   ]
  },
  {
   "cell_type": "code",
   "execution_count": 7,
   "id": "3eae6036-9759-4ee4-a14b-ce61be0068d4",
   "metadata": {
    "execution": {
     "iopub.execute_input": "2024-11-23T16:26:55.969164Z",
     "iopub.status.busy": "2024-11-23T16:26:55.968835Z",
     "iopub.status.idle": "2024-11-23T16:26:55.971707Z",
     "shell.execute_reply": "2024-11-23T16:26:55.971274Z"
    }
   },
   "outputs": [],
   "source": [
    "from pynucastro.screening import screen5"
   ]
  },
  {
   "cell_type": "code",
   "execution_count": 8,
   "id": "27861bb3-405a-4087-8f5f-4abadfa63834",
   "metadata": {
    "execution": {
     "iopub.execute_input": "2024-11-23T16:26:55.973302Z",
     "iopub.status.busy": "2024-11-23T16:26:55.972973Z",
     "iopub.status.idle": "2024-11-23T16:26:55.975994Z",
     "shell.execute_reply": "2024-11-23T16:26:55.975548Z"
    }
   },
   "outputs": [],
   "source": [
    "def he_exhaustion(t, y, rho, T, screening_fun=None):\n",
    "    return y[heburn.jhe4] - 1.e-7\n",
    "\n",
    "he_exhaustion.terminal = True\n",
    "he_exhaustion.direction = -1"
   ]
  },
  {
   "cell_type": "markdown",
   "id": "7e7f0734-1074-489b-ad3a-eed22c5c1f26",
   "metadata": {},
   "source": [
    "Here's our function that will take $(\\rho, T)$ and integrate until we trigger the event,\n",
    "and then return $X({}^{12}\\mathrm{C})/(X({}^{12}\\mathrm{C}) + X({}^{16}\\mathrm{O}))$"
   ]
  },
  {
   "cell_type": "code",
   "execution_count": 9,
   "id": "85dbb82e-2643-4872-bff1-01514d713ae5",
   "metadata": {
    "execution": {
     "iopub.execute_input": "2024-11-23T16:26:55.977736Z",
     "iopub.status.busy": "2024-11-23T16:26:55.977418Z",
     "iopub.status.idle": "2024-11-23T16:26:55.981226Z",
     "shell.execute_reply": "2024-11-23T16:26:55.980536Z"
    }
   },
   "outputs": [],
   "source": [
    "def doit(rho, T):\n",
    "    # set a really long stop time -- most runs will end before this\n",
    "    # because of the event trigger\n",
    "    tmax = 1.e35\n",
    "\n",
    "    sol = solve_ivp(heburn.rhs, [0, tmax], Y0, method=\"BDF\", jac=heburn.jacobian,\n",
    "                    events=he_exhaustion,\n",
    "                    dense_output=True, args=(rho, T, screen5), rtol=1.e-6, atol=1.e-8)\n",
    "    XC = sol.y[heburn.jc12, -1]\n",
    "    XO = sol.y[heburn.jo16, -1]\n",
    "    return XC / (XC + XO)"
   ]
  },
  {
   "cell_type": "markdown",
   "id": "94ee45df-9564-4c9e-8b89-513cbe37d53f",
   "metadata": {},
   "source": [
    "Setup a grid of temperature and density"
   ]
  },
  {
   "cell_type": "code",
   "execution_count": 10,
   "id": "6227f5f9-dd56-4fac-ac81-41c48be1d1c6",
   "metadata": {
    "execution": {
     "iopub.execute_input": "2024-11-23T16:26:55.982947Z",
     "iopub.status.busy": "2024-11-23T16:26:55.982532Z",
     "iopub.status.idle": "2024-11-23T16:26:55.985369Z",
     "shell.execute_reply": "2024-11-23T16:26:55.984839Z"
    }
   },
   "outputs": [],
   "source": [
    "nT = 30\n",
    "nrho = 30\n",
    "\n",
    "rhomin = 1.e4\n",
    "rhomax = 1.e8\n",
    "\n",
    "Tmin = 1.e8\n",
    "Tmax = 5.e9"
   ]
  },
  {
   "cell_type": "code",
   "execution_count": 11,
   "id": "d80fcd24-2ae5-47eb-afa1-704084bfccce",
   "metadata": {
    "execution": {
     "iopub.execute_input": "2024-11-23T16:26:55.987214Z",
     "iopub.status.busy": "2024-11-23T16:26:55.986812Z",
     "iopub.status.idle": "2024-11-23T16:26:55.990079Z",
     "shell.execute_reply": "2024-11-23T16:26:55.989647Z"
    }
   },
   "outputs": [],
   "source": [
    "rhos = np.logspace(np.log10(rhomin), np.log10(rhomax), nrho)\n",
    "Ts = np.logspace(np.log10(Tmin), np.log10(Tmax), nT)\n",
    "\n",
    "ratio = np.zeros((nT, nrho))"
   ]
  },
  {
   "cell_type": "markdown",
   "id": "d03d5ced-02e4-4edc-8c66-16b6f854857d",
   "metadata": {},
   "source": [
    "Loop over the $(\\rho, T)$ pairs and store the result in the `ratio()` array."
   ]
  },
  {
   "cell_type": "code",
   "execution_count": 12,
   "id": "c4a3fa73-fae5-400e-ab6f-d0fa1efbea04",
   "metadata": {
    "execution": {
     "iopub.execute_input": "2024-11-23T16:26:55.991535Z",
     "iopub.status.busy": "2024-11-23T16:26:55.991371Z",
     "iopub.status.idle": "2024-11-23T16:28:07.088268Z",
     "shell.execute_reply": "2024-11-23T16:28:07.087693Z"
    }
   },
   "outputs": [],
   "source": [
    "for i, T in enumerate(Ts):\n",
    "    for j, rho in enumerate(rhos):\n",
    "        ratio[i, j] = doit(rho, T)"
   ]
  },
  {
   "cell_type": "code",
   "execution_count": 13,
   "id": "19c55196-f390-4de5-9bc5-65cdb0ba9931",
   "metadata": {
    "execution": {
     "iopub.execute_input": "2024-11-23T16:28:07.090545Z",
     "iopub.status.busy": "2024-11-23T16:28:07.090197Z",
     "iopub.status.idle": "2024-11-23T16:28:07.093067Z",
     "shell.execute_reply": "2024-11-23T16:28:07.092568Z"
    }
   },
   "outputs": [],
   "source": [
    "import matplotlib.pyplot as plt"
   ]
  },
  {
   "cell_type": "code",
   "execution_count": 14,
   "id": "67be1a1e-af39-4897-b9e6-b2d9bb23193e",
   "metadata": {
    "editable": true,
    "execution": {
     "iopub.execute_input": "2024-11-23T16:28:07.094599Z",
     "iopub.status.busy": "2024-11-23T16:28:07.094439Z",
     "iopub.status.idle": "2024-11-23T16:28:07.291540Z",
     "shell.execute_reply": "2024-11-23T16:28:07.290923Z"
    },
    "slideshow": {
     "slide_type": ""
    },
    "tags": [
     "nbval-ignore-output"
    ]
   },
   "outputs": [
    {
     "data": {
      "text/plain": [
       "Text(0.5, 1.0, '\\x0crac{X(C)/(X(C) + X(O))')"
      ]
     },
     "execution_count": 14,
     "metadata": {},
     "output_type": "execute_result"
    },
    {
     "name": "stderr",
     "output_type": "stream",
     "text": [
      "/opt/hostedtoolcache/Python/3.11.10/x64/lib/python3.11/site-packages/IPython/core/events.py:82: UserWarning: Glyph 12 (\f",
      ") missing from font(s) DejaVu Sans.\n",
      "  func(*args, **kwargs)\n",
      "/opt/hostedtoolcache/Python/3.11.10/x64/lib/python3.11/site-packages/IPython/core/pylabtools.py:170: UserWarning: Glyph 12 (\f",
      ") missing from font(s) DejaVu Sans.\n",
      "  fig.canvas.print_figure(bytes_io, **kw)\n"
     ]
    },
    {
     "data": {
      "image/png": "[encoded data removed]",
      "text/plain": [
       "<Figure size 640x480 with 2 Axes>"
      ]
     },
     "metadata": {},
     "output_type": "display_data"
    }
   ],
   "source": [
    "fig = plt.figure()\n",
    "ax = fig.add_subplot(111)\n",
    "\n",
    "im = ax.imshow(ratio.T, origin=\"lower\",\n",
    "               extent=[np.log10(Tmin), np.log10(Tmax),\n",
    "                       np.log10(rhomin), np.log10(rhomax)])\n",
    "\n",
    "fig.colorbar(im, ax=ax)\n",
    "\n",
    "ax.set_xlabel(\"log T (K)\")\n",
    "ax.set_ylabel(r\"log $\\rho$ (g/cc)\")\n",
    "ax.set_title(\"\\frac{X(C)/(X(C) + X(O))\")"
   ]
  }
 ],
 "metadata": {
  "kernelspec": {
   "display_name": "Python 3 (ipykernel)",
   "language": "python",
   "name": "python3"
  },
  "language_info": {
   "codemirror_mode": {
    "name": "ipython",
    "version": 3
   },
   "file_extension": ".py",
   "mimetype": "text/x-python",
   "name": "python",
   "nbconvert_exporter": "python",
   "pygments_lexer": "ipython3",
   "version": "3.11.10"
  }
 },
 "nbformat": 4,
 "nbformat_minor": 5
}
