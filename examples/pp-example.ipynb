{
 "cells": [
  {
   "cell_type": "code",
   "execution_count": 1,
   "metadata": {},
   "outputs": [],
   "source": [
    "import pynucastro"
   ]
  },
  {
   "cell_type": "code",
   "execution_count": 2,
   "metadata": {},
   "outputs": [],
   "source": [
    "rates = [\"p-p-d-ec\",\n",
    "         \"d-pg-he3-de04\",\n",
    "         \"he3-he3pp-he4-nacr\"]"
   ]
  },
  {
   "cell_type": "code",
   "execution_count": 3,
   "metadata": {},
   "outputs": [],
   "source": [
    "net = pynucastro.RateCollection(rates)"
   ]
  },
  {
   "cell_type": "code",
   "execution_count": 4,
   "metadata": {},
   "outputs": [
    {
     "name": "stdout",
     "output_type": "stream",
     "text": [
      "p\n",
      "  consumed by:\n",
      "     p + p ⟶ H2 + e⁺ + 𝜈\n",
      "     p + p + e⁻ ⟶ H2 + 𝜈\n",
      "     H2 + p ⟶ He3 + 𝛾\n",
      "  produced by:\n",
      "     He3 + He3 ⟶ p + p + He4\n",
      "\n",
      "d\n",
      "  consumed by:\n",
      "     H2 + p ⟶ He3 + 𝛾\n",
      "  produced by:\n",
      "     p + p ⟶ H2 + e⁺ + 𝜈\n",
      "     p + p + e⁻ ⟶ H2 + 𝜈\n",
      "\n",
      "he3\n",
      "  consumed by:\n",
      "     He3 + He3 ⟶ p + p + He4\n",
      "  produced by:\n",
      "     H2 + p ⟶ He3 + 𝛾\n",
      "\n",
      "he4\n",
      "  consumed by:\n",
      "  produced by:\n",
      "     He3 + He3 ⟶ p + p + He4\n",
      "\n",
      "\n"
     ]
    }
   ],
   "source": [
    "print(net.network_overview())"
   ]
  },
  {
   "cell_type": "code",
   "execution_count": 5,
   "metadata": {},
   "outputs": [
    {
     "data": {
      "image/png": "[encoded data removed]",
      "text/plain": [
       "<Figure size 576x432 with 1 Axes>"
      ]
     },
     "metadata": {
      "needs_background": "light"
     },
     "output_type": "display_data"
    }
   ],
   "source": [
    "net.plot()"
   ]
  },
  {
   "cell_type": "code",
   "execution_count": 6,
   "metadata": {},
   "outputs": [],
   "source": [
    "pynet = pynucastro.PythonNetwork(rates)"
   ]
  },
  {
   "cell_type": "code",
   "execution_count": 7,
   "metadata": {},
   "outputs": [
    {
     "name": "stdout",
     "output_type": "stream",
     "text": [
      "import numpy as np\n",
      "from pynucastro.rates import Tfactors\n",
      "import numba\n",
      "\n",
      "jp = 0\n",
      "jd = 1\n",
      "jhe3 = 2\n",
      "jhe4 = 3\n",
      "nnuc = 4\n",
      "\n",
      "A = np.zeros((nnuc), dtype=np.int32)\n",
      "\n",
      "A[jp] = 1\n",
      "A[jd] = 2\n",
      "A[jhe3] = 3\n",
      "A[jhe4] = 4\n",
      "\n",
      "Z = np.zeros((nnuc), dtype=np.int32)\n",
      "\n",
      "Z[jp] = 1\n",
      "Z[jd] = 1\n",
      "Z[jhe3] = 2\n",
      "Z[jhe4] = 2\n",
      "\n",
      "names = []\n",
      "names.append(\"h1\")\n",
      "names.append(\"h2\")\n",
      "names.append(\"he3\")\n",
      "names.append(\"he4\")\n",
      "\n",
      "@numba.njit()\n",
      "def ye(Y):\n",
      "    return np.sum(Z * Y)/np.sum(A * Y)\n",
      "\n",
      "@numba.njit()\n",
      "def p_p__d__weak__bet_pos_(tf):\n",
      "    # p + p --> d\n",
      "    rate = 0.0\n",
      "    \n",
      "    # bet+w\n",
      "    rate += np.exp(  -34.7863 + -3.51193*tf.T913i + 3.10086*tf.T913\n",
      "                  + -0.198314*tf.T9 + 0.0126251*tf.T953 + -1.02517*tf.lnT9)\n",
      "    \n",
      "    return rate\n",
      "\n",
      "@numba.njit()\n",
      "def p_p__d__weak__electron_capture(tf):\n",
      "    # p + p --> d\n",
      "    rate = 0.0\n",
      "    \n",
      "    #   ecw\n",
      "    rate += np.exp(  -43.6499 + -0.00246064*tf.T9i + -2.7507*tf.T913i + -0.424877*tf.T913\n",
      "                  + 0.015987*tf.T9 + -0.000690875*tf.T953 + -0.207625*tf.lnT9)\n",
      "    \n",
      "    return rate\n",
      "\n",
      "@numba.njit()\n",
      "def p_d__he3(tf):\n",
      "    # d + p --> he3\n",
      "    rate = 0.0\n",
      "    \n",
      "    # de04n\n",
      "    rate += np.exp(  7.52898 + -3.7208*tf.T913i + 0.871782*tf.T913\n",
      "                  + -0.666667*tf.lnT9)\n",
      "    # de04 \n",
      "    rate += np.exp(  8.93525 + -3.7208*tf.T913i + 0.198654*tf.T913\n",
      "                  + 0.333333*tf.lnT9)\n",
      "    \n",
      "    return rate\n",
      "\n",
      "@numba.njit()\n",
      "def he3_he3__p_p_he4(tf):\n",
      "    # he3 + he3 --> p + p + he4\n",
      "    rate = 0.0\n",
      "    \n",
      "    # nacrn\n",
      "    rate += np.exp(  24.7788 + -12.277*tf.T913i + -0.103699*tf.T913\n",
      "                  + -0.0649967*tf.T9 + 0.0168191*tf.T953 + -0.666667*tf.lnT9)\n",
      "    \n",
      "    return rate\n",
      "\n",
      "def rhs(t, Y, rho, T):\n",
      "    return rhs_eq(t, Y, rho, T)\n",
      "\n",
      "@numba.njit()\n",
      "def rhs_eq(t, Y, rho, T):\n",
      "\n",
      "    jp = 0\n",
      "    jd = 1\n",
      "    jhe3 = 2\n",
      "    jhe4 = 3\n",
      "    nnuc = 4\n",
      "\n",
      "    tf = Tfactors(T)\n",
      "\n",
      "    lambda_p_p__d__weak__bet_pos_ = p_p__d__weak__bet_pos_(tf)\n",
      "    lambda_p_p__d__weak__electron_capture = p_p__d__weak__electron_capture(tf)\n",
      "    lambda_p_d__he3 = p_d__he3(tf)\n",
      "    lambda_he3_he3__p_p_he4 = he3_he3__p_p_he4(tf)\n",
      "\n",
      "    dYdt = np.zeros((nnuc), dtype=np.float64)\n",
      "\n",
      "    dYdt[jp] = (\n",
      "       -2*5.00000000000000e-01*rho*Y[jp]**2*lambda_p_p__d__weak__bet_pos_\n",
      "       -2*5.00000000000000e-01*rho**2*ye(Y)*Y[jp]**2*lambda_p_p__d__weak__electron_capture\n",
      "       -rho*Y[jp]*Y[jd]*lambda_p_d__he3\n",
      "       +2*5.00000000000000e-01*rho*Y[jhe3]**2*lambda_he3_he3__p_p_he4\n",
      "       )\n",
      "\n",
      "    dYdt[jd] = (\n",
      "       -rho*Y[jp]*Y[jd]*lambda_p_d__he3\n",
      "       +5.00000000000000e-01*rho*Y[jp]**2*lambda_p_p__d__weak__bet_pos_\n",
      "       +5.00000000000000e-01*rho**2*ye(Y)*Y[jp]**2*lambda_p_p__d__weak__electron_capture\n",
      "       )\n",
      "\n",
      "    dYdt[jhe3] = (\n",
      "       -2*5.00000000000000e-01*rho*Y[jhe3]**2*lambda_he3_he3__p_p_he4\n",
      "       +rho*Y[jp]*Y[jd]*lambda_p_d__he3\n",
      "       )\n",
      "\n",
      "    dYdt[jhe4] = (\n",
      "       +5.00000000000000e-01*rho*Y[jhe3]**2*lambda_he3_he3__p_p_he4\n",
      "       )\n",
      "\n",
      "    return dYdt\n"
     ]
    }
   ],
   "source": [
    "pynet.write_network()"
   ]
  }
 ],
 "metadata": {
  "kernelspec": {
   "display_name": "Python 3",
   "language": "python",
   "name": "python3"
  },
  "language_info": {
   "codemirror_mode": {
    "name": "ipython",
    "version": 3
   },
   "file_extension": ".py",
   "mimetype": "text/x-python",
   "name": "python",
   "nbconvert_exporter": "python",
   "pygments_lexer": "ipython3",
   "version": "3.10.4"
  }
 },
 "nbformat": 4,
 "nbformat_minor": 4
}
