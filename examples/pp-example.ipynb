{
 "cells": [
  {
   "cell_type": "code",
   "execution_count": 1,
   "metadata": {
    "editable": true,
    "slideshow": {
     "slide_type": ""
    },
    "tags": []
   },
   "outputs": [],
   "source": [
    "import pynucastro as pyna"
   ]
  },
  {
   "cell_type": "code",
   "execution_count": 2,
   "metadata": {
    "tags": []
   },
   "outputs": [],
   "source": [
    "rates = [\"p-p-d-ec\",\n",
    "         \"d-pg-he3-de04\",\n",
    "         \"he3-he3pp-he4-nacr\"]"
   ]
  },
  {
   "cell_type": "code",
   "execution_count": 3,
   "metadata": {
    "tags": []
   },
   "outputs": [],
   "source": [
    "net = pyna.RateCollection(rates)"
   ]
  },
  {
   "cell_type": "code",
   "execution_count": 4,
   "metadata": {
    "tags": []
   },
   "outputs": [
    {
     "name": "stdout",
     "output_type": "stream",
     "text": [
      "p\n",
      "  consumed by:\n",
      "     p + p + e⁻ ⟶ H2 + 𝜈\n",
      "     H2 + p ⟶ He3 + 𝛾\n",
      "  produced by:\n",
      "     He3 + He3 ⟶ p + p + He4\n",
      "\n",
      "d\n",
      "  consumed by:\n",
      "     H2 + p ⟶ He3 + 𝛾\n",
      "  produced by:\n",
      "     p + p + e⁻ ⟶ H2 + 𝜈\n",
      "\n",
      "He3\n",
      "  consumed by:\n",
      "     He3 + He3 ⟶ p + p + He4\n",
      "  produced by:\n",
      "     H2 + p ⟶ He3 + 𝛾\n",
      "\n",
      "He4\n",
      "  consumed by:\n",
      "  produced by:\n",
      "     He3 + He3 ⟶ p + p + He4\n",
      "\n",
      "\n"
     ]
    }
   ],
   "source": [
    "print(net.network_overview())"
   ]
  },
  {
   "cell_type": "code",
   "execution_count": 5,
   "metadata": {
    "editable": true,
    "slideshow": {
     "slide_type": ""
    },
    "tags": [
     "nbval-ignore-output"
    ]
   },
   "outputs": [
    {
     "data": {
      "image/png": "[encoded data removed]",
      "text/plain": [
       "<Figure size 800x600 with 1 Axes>"
      ]
     },
     "metadata": {},
     "output_type": "display_data"
    }
   ],
   "source": [
    "fig = net.plot()"
   ]
  },
  {
   "cell_type": "code",
   "execution_count": 6,
   "metadata": {
    "tags": []
   },
   "outputs": [],
   "source": [
    "pynet = pyna.PythonNetwork(rates)"
   ]
  },
  {
   "cell_type": "code",
   "execution_count": 7,
   "metadata": {
    "editable": true,
    "slideshow": {
     "slide_type": ""
    },
    "tags": []
   },
   "outputs": [
    {
     "name": "stdout",
     "output_type": "stream",
     "text": [
      "import numba\n",
      "import numpy as np\n",
      "from scipy import constants\n",
      "from numba.experimental import jitclass\n",
      "\n",
      "from pynucastro.rates import TableIndex, TableInterpolator, TabularRate, Tfactors\n",
      "from pynucastro.screening import PlasmaState, ScreenFactors\n",
      "\n",
      "jp = 0\n",
      "jd = 1\n",
      "jhe3 = 2\n",
      "jhe4 = 3\n",
      "nnuc = 4\n",
      "\n",
      "A = np.zeros((nnuc), dtype=np.int32)\n",
      "\n",
      "A[jp] = 1\n",
      "A[jd] = 2\n",
      "A[jhe3] = 3\n",
      "A[jhe4] = 4\n",
      "\n",
      "Z = np.zeros((nnuc), dtype=np.int32)\n",
      "\n",
      "Z[jp] = 1\n",
      "Z[jd] = 1\n",
      "Z[jhe3] = 2\n",
      "Z[jhe4] = 2\n",
      "\n",
      "# masses in ergs\n",
      "mass = np.zeros((nnuc), dtype=np.float64)\n",
      "\n",
      "mass[jp] = 0.0015040963047307696\n",
      "mass[jd] = 0.0030058819195053215\n",
      "mass[jhe3] = 0.004501176706825056\n",
      "mass[jhe4] = 0.0059735574859708365\n",
      "\n",
      "names = []\n",
      "names.append(\"H1\")\n",
      "names.append(\"H2\")\n",
      "names.append(\"He3\")\n",
      "names.append(\"He4\")\n",
      "\n",
      "def to_composition(Y):\n",
      "    \"\"\"Convert an array of molar fractions to a Composition object.\"\"\"\n",
      "    from pynucastro import Composition, Nucleus\n",
      "    nuclei = [Nucleus.from_cache(name) for name in names]\n",
      "    comp = Composition(nuclei)\n",
      "    for i, nuc in enumerate(nuclei):\n",
      "        comp.X[nuc] = Y[i] * A[i]\n",
      "    return comp\n",
      "\n",
      "\n",
      "def energy_release(dY):\n",
      "    \"\"\"return the energy release in erg/g (/s if dY is actually dY/dt)\"\"\"\n",
      "    enuc = 0.0\n",
      "    for i, y in enumerate(dY):\n",
      "        enuc += y * mass[i]\n",
      "    enuc *= -1*constants.Avogadro\n",
      "    return enuc\n",
      "\n",
      "@jitclass([\n",
      "    (\"p_p__d__weak__electron_capture\", numba.float64),\n",
      "    (\"p_d__He3\", numba.float64),\n",
      "    (\"He3_He3__p_p_He4\", numba.float64),\n",
      "])\n",
      "class RateEval:\n",
      "    def __init__(self):\n",
      "        self.p_p__d__weak__electron_capture = np.nan\n",
      "        self.p_d__He3 = np.nan\n",
      "        self.He3_He3__p_p_He4 = np.nan\n",
      "\n",
      "@numba.njit()\n",
      "def ye(Y):\n",
      "    return np.sum(Z * Y)/np.sum(A * Y)\n",
      "\n",
      "@numba.njit()\n",
      "def p_p__d__weak__electron_capture(rate_eval, tf):\n",
      "    # p + p --> d\n",
      "    rate = 0.0\n",
      "\n",
      "    # bet+w\n",
      "    rate += np.exp(  -34.7863 + -3.51193*tf.T913i + 3.10086*tf.T913\n",
      "                  + -0.198314*tf.T9 + 0.0126251*tf.T953 + -1.02517*tf.lnT9)\n",
      "    #   ecw\n",
      "    rate += np.exp(  -43.6499 + -0.00246064*tf.T9i + -2.7507*tf.T913i + -0.424877*tf.T913\n",
      "                  + 0.015987*tf.T9 + -0.000690875*tf.T953 + -0.207625*tf.lnT9)\n",
      "\n",
      "    rate_eval.p_p__d__weak__electron_capture = rate\n",
      "\n",
      "@numba.njit()\n",
      "def p_d__He3(rate_eval, tf):\n",
      "    # d + p --> He3\n",
      "    rate = 0.0\n",
      "\n",
      "    # de04 \n",
      "    rate += np.exp(  8.93525 + -3.7208*tf.T913i + 0.198654*tf.T913\n",
      "                  + 0.333333*tf.lnT9)\n",
      "    # de04n\n",
      "    rate += np.exp(  7.52898 + -3.7208*tf.T913i + 0.871782*tf.T913\n",
      "                  + -0.666667*tf.lnT9)\n",
      "\n",
      "    rate_eval.p_d__He3 = rate\n",
      "\n",
      "@numba.njit()\n",
      "def He3_He3__p_p_He4(rate_eval, tf):\n",
      "    # He3 + He3 --> p + p + He4\n",
      "    rate = 0.0\n",
      "\n",
      "    # nacrn\n",
      "    rate += np.exp(  24.7788 + -12.277*tf.T913i + -0.103699*tf.T913\n",
      "                  + -0.0649967*tf.T9 + 0.0168191*tf.T953 + -0.666667*tf.lnT9)\n",
      "\n",
      "    rate_eval.He3_He3__p_p_He4 = rate\n",
      "\n",
      "def rhs(t, Y, rho, T, screen_func=None):\n",
      "    return rhs_eq(t, Y, rho, T, screen_func)\n",
      "\n",
      "@numba.njit()\n",
      "def rhs_eq(t, Y, rho, T, screen_func):\n",
      "\n",
      "    tf = Tfactors(T)\n",
      "    rate_eval = RateEval()\n",
      "\n",
      "    # reaclib rates\n",
      "    p_p__d__weak__electron_capture(rate_eval, tf)\n",
      "    p_d__He3(rate_eval, tf)\n",
      "    He3_He3__p_p_He4(rate_eval, tf)\n",
      "\n",
      "    if screen_func is not None:\n",
      "        plasma_state = PlasmaState(T, rho, Y, Z)\n",
      "\n",
      "        scn_fac = ScreenFactors(1, 1, 1, 1)\n",
      "        scor = screen_func(plasma_state, scn_fac)\n",
      "        rate_eval.p_p__d__weak__electron_capture *= scor\n",
      "\n",
      "        scn_fac = ScreenFactors(1, 1, 1, 2)\n",
      "        scor = screen_func(plasma_state, scn_fac)\n",
      "        rate_eval.p_d__He3 *= scor\n",
      "\n",
      "        scn_fac = ScreenFactors(2, 3, 2, 3)\n",
      "        scor = screen_func(plasma_state, scn_fac)\n",
      "        rate_eval.He3_He3__p_p_He4 *= scor\n",
      "\n",
      "    dYdt = np.zeros((nnuc), dtype=np.float64)\n",
      "\n",
      "    dYdt[jp] = (\n",
      "       -2*5.00000000000000e-01*rho**2*ye(Y)*Y[jp]**2*rate_eval.p_p__d__weak__electron_capture\n",
      "       -rho*Y[jp]*Y[jd]*rate_eval.p_d__He3\n",
      "       +2*5.00000000000000e-01*rho*Y[jhe3]**2*rate_eval.He3_He3__p_p_He4\n",
      "       )\n",
      "\n",
      "    dYdt[jd] = (\n",
      "       -rho*Y[jp]*Y[jd]*rate_eval.p_d__He3\n",
      "       +5.00000000000000e-01*rho**2*ye(Y)*Y[jp]**2*rate_eval.p_p__d__weak__electron_capture\n",
      "       )\n",
      "\n",
      "    dYdt[jhe3] = (\n",
      "       -2*5.00000000000000e-01*rho*Y[jhe3]**2*rate_eval.He3_He3__p_p_He4\n",
      "       +rho*Y[jp]*Y[jd]*rate_eval.p_d__He3\n",
      "       )\n",
      "\n",
      "    dYdt[jhe4] = (\n",
      "       +5.00000000000000e-01*rho*Y[jhe3]**2*rate_eval.He3_He3__p_p_He4\n",
      "       )\n",
      "\n",
      "    return dYdt\n",
      "\n",
      "def jacobian(t, Y, rho, T, screen_func=None):\n",
      "    return jacobian_eq(t, Y, rho, T, screen_func)\n",
      "\n",
      "@numba.njit()\n",
      "def jacobian_eq(t, Y, rho, T, screen_func):\n",
      "\n",
      "    tf = Tfactors(T)\n",
      "    rate_eval = RateEval()\n",
      "\n",
      "    # reaclib rates\n",
      "    p_p__d__weak__electron_capture(rate_eval, tf)\n",
      "    p_d__He3(rate_eval, tf)\n",
      "    He3_He3__p_p_He4(rate_eval, tf)\n",
      "\n",
      "    if screen_func is not None:\n",
      "        plasma_state = PlasmaState(T, rho, Y, Z)\n",
      "\n",
      "        scn_fac = ScreenFactors(1, 1, 1, 1)\n",
      "        scor = screen_func(plasma_state, scn_fac)\n",
      "        rate_eval.p_p__d__weak__electron_capture *= scor\n",
      "\n",
      "        scn_fac = ScreenFactors(1, 1, 1, 2)\n",
      "        scor = screen_func(plasma_state, scn_fac)\n",
      "        rate_eval.p_d__He3 *= scor\n",
      "\n",
      "        scn_fac = ScreenFactors(2, 3, 2, 3)\n",
      "        scor = screen_func(plasma_state, scn_fac)\n",
      "        rate_eval.He3_He3__p_p_He4 *= scor\n",
      "\n",
      "    jac = np.zeros((nnuc, nnuc), dtype=np.float64)\n",
      "\n",
      "    jac[jp, jp] = (\n",
      "       -2*5.00000000000000e-01*rho**2*ye(Y)*2*Y[jp]*rate_eval.p_p__d__weak__electron_capture\n",
      "       -rho*Y[jd]*rate_eval.p_d__He3\n",
      "       )\n",
      "\n",
      "    jac[jp, jd] = (\n",
      "       -rho*Y[jp]*rate_eval.p_d__He3\n",
      "       )\n",
      "\n",
      "    jac[jp, jhe3] = (\n",
      "       +2*5.00000000000000e-01*rho*2*Y[jhe3]*rate_eval.He3_He3__p_p_He4\n",
      "       )\n",
      "\n",
      "    jac[jd, jp] = (\n",
      "       -rho*Y[jd]*rate_eval.p_d__He3\n",
      "       +5.00000000000000e-01*rho**2*ye(Y)*2*Y[jp]*rate_eval.p_p__d__weak__electron_capture\n",
      "       )\n",
      "\n",
      "    jac[jd, jd] = (\n",
      "       -rho*Y[jp]*rate_eval.p_d__He3\n",
      "       )\n",
      "\n",
      "    jac[jhe3, jp] = (\n",
      "       +rho*Y[jd]*rate_eval.p_d__He3\n",
      "       )\n",
      "\n",
      "    jac[jhe3, jd] = (\n",
      "       +rho*Y[jp]*rate_eval.p_d__He3\n",
      "       )\n",
      "\n",
      "    jac[jhe3, jhe3] = (\n",
      "       -2*5.00000000000000e-01*rho*2*Y[jhe3]*rate_eval.He3_He3__p_p_He4\n",
      "       )\n",
      "\n",
      "    jac[jhe4, jhe3] = (\n",
      "       +5.00000000000000e-01*rho*2*Y[jhe3]*rate_eval.He3_He3__p_p_He4\n",
      "       )\n",
      "\n",
      "    return jac\n"
     ]
    }
   ],
   "source": [
    "pynet.write_network()"
   ]
  }
 ],
 "metadata": {
  "kernelspec": {
   "display_name": "Python 3 (ipykernel)",
   "language": "python",
   "name": "python3"
  },
  "language_info": {
   "codemirror_mode": {
    "name": "ipython",
    "version": 3
   },
   "file_extension": ".py",
   "mimetype": "text/x-python",
   "name": "python",
   "nbconvert_exporter": "python",
   "pygments_lexer": "ipython3",
   "version": "3.13.0"
  }
 },
 "nbformat": 4,
 "nbformat_minor": 4
}
