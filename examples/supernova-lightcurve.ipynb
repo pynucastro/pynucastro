{
 "cells": [
  {
   "cell_type": "markdown",
   "id": "2545d1fd-2159-4d95-ac51-207533303588",
   "metadata": {},
   "source": [
    "# A Supernova Lightcurve"
   ]
  },
  {
   "cell_type": "markdown",
   "id": "cf33d43a-a504-4f6e-ab83-b4f5669afd79",
   "metadata": {},
   "source": [
    "ReacLib provides the beta-decay constants for radioactive nuclei, and these can be treated like any other rate.  So we can build a network with ${}^{56}\\mathrm{Ni}$ and compute its decay."
   ]
  },
  {
   "cell_type": "code",
   "execution_count": 1,
   "id": "0c486a89-37ce-4bd3-ae48-c1da4a160c6a",
   "metadata": {
    "execution": {
     "iopub.execute_input": "2024-12-03T03:45:40.055027Z",
     "iopub.status.busy": "2024-12-03T03:45:40.054602Z",
     "iopub.status.idle": "2024-12-03T03:45:41.398139Z",
     "shell.execute_reply": "2024-12-03T03:45:41.397585Z"
    }
   },
   "outputs": [],
   "source": [
    "import pynucastro as pyna\n",
    "\n",
    "import numpy as np\n",
    "import matplotlib.pyplot as plt\n",
    "from scipy.integrate import solve_ivp"
   ]
  },
  {
   "cell_type": "markdown",
   "id": "ac83d8e2-bfb6-467e-9250-d4f4f154c1a9",
   "metadata": {},
   "source": [
    "We'll look at ${}^{56}\\mathrm{Ni} \\rightarrow {}^{56}\\mathrm{Co} \\rightarrow {}^{56}\\mathrm{Fe}$"
   ]
  },
  {
   "cell_type": "code",
   "execution_count": 2,
   "id": "c2d140f9-e719-4fa9-817a-4ff435f7ae83",
   "metadata": {
    "execution": {
     "iopub.execute_input": "2024-12-03T03:45:41.400282Z",
     "iopub.status.busy": "2024-12-03T03:45:41.399989Z",
     "iopub.status.idle": "2024-12-03T03:45:41.402785Z",
     "shell.execute_reply": "2024-12-03T03:45:41.402344Z"
    }
   },
   "outputs": [],
   "source": [
    "nuclei = [\"ni56\", \"co56\", \"fe56\"]"
   ]
  },
  {
   "cell_type": "code",
   "execution_count": 3,
   "id": "4d2c4fc3-5075-4aae-a059-cd6725a1c157",
   "metadata": {
    "execution": {
     "iopub.execute_input": "2024-12-03T03:45:41.404334Z",
     "iopub.status.busy": "2024-12-03T03:45:41.404169Z",
     "iopub.status.idle": "2024-12-03T03:45:45.845145Z",
     "shell.execute_reply": "2024-12-03T03:45:45.844587Z"
    }
   },
   "outputs": [],
   "source": [
    "rl = pyna.ReacLibLibrary()\n",
    "lib = rl.linking_nuclei(nuclei)"
   ]
  },
  {
   "cell_type": "markdown",
   "id": "38950483-758a-4d56-a704-ce752fcd3529",
   "metadata": {},
   "source": [
    "We see that we pull in 2 rates, which are simple decays."
   ]
  },
  {
   "cell_type": "code",
   "execution_count": 4,
   "id": "d9b3dd21-eefc-4b06-9067-0397b0bf73d5",
   "metadata": {
    "execution": {
     "iopub.execute_input": "2024-12-03T03:45:45.847171Z",
     "iopub.status.busy": "2024-12-03T03:45:45.846816Z",
     "iopub.status.idle": "2024-12-03T03:45:45.852459Z",
     "shell.execute_reply": "2024-12-03T03:45:45.851896Z"
    }
   },
   "outputs": [
    {
     "data": {
      "text/plain": [
       "Co56 ⟶ Fe56 + e⁺ + 𝜈           [Q =   4.57 MeV] (Co56 --> Fe56 <wc12_reaclib_weak_>)\n",
       "Ni56 ⟶ Co56 + e⁺ + 𝜈           [Q =   2.13 MeV] (Ni56 --> Co56 <wc12_reaclib_weak_>)"
      ]
     },
     "execution_count": 4,
     "metadata": {},
     "output_type": "execute_result"
    }
   ],
   "source": [
    "lib"
   ]
  },
  {
   "cell_type": "code",
   "execution_count": 5,
   "id": "57613ff7-98c4-47cc-bfcd-335b1a42b211",
   "metadata": {
    "execution": {
     "iopub.execute_input": "2024-12-03T03:45:45.854079Z",
     "iopub.status.busy": "2024-12-03T03:45:45.853914Z",
     "iopub.status.idle": "2024-12-03T03:45:45.856496Z",
     "shell.execute_reply": "2024-12-03T03:45:45.856035Z"
    }
   },
   "outputs": [],
   "source": [
    "net = pyna.PythonNetwork(libraries=[lib])"
   ]
  },
  {
   "cell_type": "markdown",
   "id": "d87fe012-3aa1-4fed-9697-eabeb86a239e",
   "metadata": {},
   "source": [
    "We can write out the network to solve."
   ]
  },
  {
   "cell_type": "code",
   "execution_count": 6,
   "id": "62702cf8-ab40-4ac9-b849-9cb1c9f37b35",
   "metadata": {
    "execution": {
     "iopub.execute_input": "2024-12-03T03:45:45.857972Z",
     "iopub.status.busy": "2024-12-03T03:45:45.857807Z",
     "iopub.status.idle": "2024-12-03T03:45:45.860800Z",
     "shell.execute_reply": "2024-12-03T03:45:45.860354Z"
    }
   },
   "outputs": [],
   "source": [
    "net.write_network(\"decay.py\")"
   ]
  },
  {
   "cell_type": "code",
   "execution_count": 7,
   "id": "538c0a13-00fa-49df-8914-d27a42ec93f6",
   "metadata": {
    "execution": {
     "iopub.execute_input": "2024-12-03T03:45:45.862449Z",
     "iopub.status.busy": "2024-12-03T03:45:45.862127Z",
     "iopub.status.idle": "2024-12-03T03:45:45.864660Z",
     "shell.execute_reply": "2024-12-03T03:45:45.864102Z"
    }
   },
   "outputs": [],
   "source": [
    "#%pycat decay.py"
   ]
  },
  {
   "cell_type": "code",
   "execution_count": 8,
   "id": "62253ee8-ef54-492b-b700-0289761770d8",
   "metadata": {
    "execution": {
     "iopub.execute_input": "2024-12-03T03:45:45.866256Z",
     "iopub.status.busy": "2024-12-03T03:45:45.866083Z",
     "iopub.status.idle": "2024-12-03T03:45:45.871190Z",
     "shell.execute_reply": "2024-12-03T03:45:45.870643Z"
    }
   },
   "outputs": [],
   "source": [
    "import decay"
   ]
  },
  {
   "cell_type": "markdown",
   "id": "6122d3dc-0f62-49a3-8a76-de8db28d57d1",
   "metadata": {},
   "source": [
    "We'll start out with pure ${}^{56}\\mathrm{Ni}$ and convert to molar fractions, since that's what we integrate."
   ]
  },
  {
   "cell_type": "code",
   "execution_count": 9,
   "id": "9ee87499-47b8-4db2-afe2-c5ed3c557434",
   "metadata": {
    "execution": {
     "iopub.execute_input": "2024-12-03T03:45:45.873139Z",
     "iopub.status.busy": "2024-12-03T03:45:45.872816Z",
     "iopub.status.idle": "2024-12-03T03:45:45.875486Z",
     "shell.execute_reply": "2024-12-03T03:45:45.875047Z"
    }
   },
   "outputs": [],
   "source": [
    "X = np.zeros(len(net.unique_nuclei))\n",
    "X[decay.jni56] = 1.0\n",
    "Y0 = X / decay.A"
   ]
  },
  {
   "cell_type": "markdown",
   "id": "6590846c-2142-42ee-b226-023294427dcb",
   "metadata": {},
   "source": [
    "Even though the rates have no density or temperature dependence, we still need to pass in a $(\\rho, T)$, so we'll just set them to arbitrary values."
   ]
  },
  {
   "cell_type": "code",
   "execution_count": 10,
   "id": "6ee4021e-3611-4aae-aff6-8de88530a6e3",
   "metadata": {
    "execution": {
     "iopub.execute_input": "2024-12-03T03:45:45.877186Z",
     "iopub.status.busy": "2024-12-03T03:45:45.876884Z",
     "iopub.status.idle": "2024-12-03T03:45:45.879211Z",
     "shell.execute_reply": "2024-12-03T03:45:45.878782Z"
    }
   },
   "outputs": [],
   "source": [
    "rho0 = 1.0\n",
    "T0 = 1.0"
   ]
  },
  {
   "cell_type": "markdown",
   "id": "aa63dc52-40b5-46e6-851f-7728173c635f",
   "metadata": {},
   "source": [
    "We'll integrate for 400 days"
   ]
  },
  {
   "cell_type": "code",
   "execution_count": 11,
   "id": "7faf09c1-6b2b-497c-9a48-f5506872274c",
   "metadata": {
    "execution": {
     "iopub.execute_input": "2024-12-03T03:45:45.880853Z",
     "iopub.status.busy": "2024-12-03T03:45:45.880529Z",
     "iopub.status.idle": "2024-12-03T03:45:45.882937Z",
     "shell.execute_reply": "2024-12-03T03:45:45.882515Z"
    }
   },
   "outputs": [],
   "source": [
    "seconds_per_day = 24 * 3600\n",
    "tmax = 400 * seconds_per_day"
   ]
  },
  {
   "cell_type": "markdown",
   "id": "df25c61a-2d9f-4c65-a4ab-d19a43c56b86",
   "metadata": {},
   "source": [
    "We can use the default integrator in `solve_ivp()` since this system is not stiff."
   ]
  },
  {
   "cell_type": "code",
   "execution_count": 12,
   "id": "ce56b6ea-e4f8-461a-b2af-9d9f18c0a81d",
   "metadata": {
    "execution": {
     "iopub.execute_input": "2024-12-03T03:45:45.884605Z",
     "iopub.status.busy": "2024-12-03T03:45:45.884334Z",
     "iopub.status.idle": "2024-12-03T03:45:46.444835Z",
     "shell.execute_reply": "2024-12-03T03:45:46.444222Z"
    }
   },
   "outputs": [],
   "source": [
    "sol = solve_ivp(decay.rhs, [0, tmax], Y0,\n",
    "                dense_output=True, args=(rho0, T0), rtol=1.e-8, atol=1.e-10)"
   ]
  },
  {
   "cell_type": "markdown",
   "id": "f425e0b5-551f-4156-8f5a-289b76a95a23",
   "metadata": {},
   "source": [
    "Now we can look at the evolution of the composition"
   ]
  },
  {
   "cell_type": "code",
   "execution_count": 13,
   "id": "28ecfc09-bc68-4db8-a415-1e5955e5d466",
   "metadata": {
    "execution": {
     "iopub.execute_input": "2024-12-03T03:45:46.446831Z",
     "iopub.status.busy": "2024-12-03T03:45:46.446637Z",
     "iopub.status.idle": "2024-12-03T03:45:46.780028Z",
     "shell.execute_reply": "2024-12-03T03:45:46.779413Z"
    }
   },
   "outputs": [
    {
     "data": {
      "text/plain": [
       "Text(0, 0.5, 'X')"
      ]
     },
     "execution_count": 13,
     "metadata": {},
     "output_type": "execute_result"
    },
    {
     "data": {
      "image/png": "[encoded data removed]",
      "text/plain": [
       "<Figure size 640x480 with 1 Axes>"
      ]
     },
     "metadata": {},
     "output_type": "display_data"
    }
   ],
   "source": [
    "fig, ax = plt.subplots()\n",
    "for n in range(len(net.unique_nuclei)):\n",
    "    ax.semilogy(sol.t / seconds_per_day, decay.A[n] * sol.y[n, :], label=f\"X({decay.names[n].capitalize()})\")\n",
    "ax.set_ylim(1.e-6, 2)\n",
    "ax.legend()\n",
    "ax.set_xlabel(\"time (days)\")\n",
    "ax.set_ylabel(\"X\")"
   ]
  },
  {
   "cell_type": "markdown",
   "id": "2de6619b-e351-41af-9843-13b35bd4386f",
   "metadata": {},
   "source": [
    "If we want the luminosity, we can compute that as the instantaneous energy release.  Note: this assumes that all of the energy release is given to photons.  For this, we need the rates, which we can get these by iterating over the solution"
   ]
  },
  {
   "cell_type": "code",
   "execution_count": 14,
   "id": "23d84031-0be6-46a6-8e7e-687e68acfb49",
   "metadata": {
    "execution": {
     "iopub.execute_input": "2024-12-03T03:45:46.781739Z",
     "iopub.status.busy": "2024-12-03T03:45:46.781552Z",
     "iopub.status.idle": "2024-12-03T03:45:46.785410Z",
     "shell.execute_reply": "2024-12-03T03:45:46.784842Z"
    }
   },
   "outputs": [],
   "source": [
    "L = []\n",
    "for n in range(sol.y.shape[-1]):\n",
    "    Y = sol.y[:, n]\n",
    "    dYdt = decay.rhs(sol.t[n], Y, rho0, T0)\n",
    "    L.append(decay.energy_release(dYdt))"
   ]
  },
  {
   "cell_type": "markdown",
   "id": "48ce45c2-8446-4e98-8934-fc1ea94504a9",
   "metadata": {},
   "source": [
    "L is now in erg/g/s, so we should multiply by the initial ${}^{56}\\mathrm{Ni}$ mass."
   ]
  },
  {
   "cell_type": "code",
   "execution_count": 15,
   "id": "609dd2b8-cc45-48b2-ab55-54f9e54af773",
   "metadata": {
    "execution": {
     "iopub.execute_input": "2024-12-03T03:45:46.787150Z",
     "iopub.status.busy": "2024-12-03T03:45:46.786838Z",
     "iopub.status.idle": "2024-12-03T03:45:46.789469Z",
     "shell.execute_reply": "2024-12-03T03:45:46.789012Z"
    }
   },
   "outputs": [],
   "source": [
    "M_sun = 2.e33\n",
    "L_sun = 4.e33\n",
    "\n",
    "# initial mass\n",
    "M_Ni56 = 1.0 * M_sun"
   ]
  },
  {
   "cell_type": "code",
   "execution_count": 16,
   "id": "575314b6-42c8-447a-baf4-56c7f414d76c",
   "metadata": {
    "execution": {
     "iopub.execute_input": "2024-12-03T03:45:46.791095Z",
     "iopub.status.busy": "2024-12-03T03:45:46.790770Z",
     "iopub.status.idle": "2024-12-03T03:45:46.793489Z",
     "shell.execute_reply": "2024-12-03T03:45:46.793027Z"
    }
   },
   "outputs": [],
   "source": [
    "L = np.array(L) * M_sun"
   ]
  },
  {
   "cell_type": "markdown",
   "id": "a526aa58-f8f7-49c8-b790-b6ace119f546",
   "metadata": {},
   "source": [
    "Now we can plot the lightcurve."
   ]
  },
  {
   "cell_type": "code",
   "execution_count": 17,
   "id": "8aaa0cf9-4bec-40d4-8ccd-54da686b827b",
   "metadata": {
    "execution": {
     "iopub.execute_input": "2024-12-03T03:45:46.795117Z",
     "iopub.status.busy": "2024-12-03T03:45:46.794790Z",
     "iopub.status.idle": "2024-12-03T03:45:46.973421Z",
     "shell.execute_reply": "2024-12-03T03:45:46.972868Z"
    }
   },
   "outputs": [
    {
     "data": {
      "text/plain": [
       "Text(0, 0.5, 'luminosity (solar)')"
      ]
     },
     "execution_count": 17,
     "metadata": {},
     "output_type": "execute_result"
    },
    {
     "data": {
      "image/png": "[encoded data removed]",
      "text/plain": [
       "<Figure size 640x480 with 1 Axes>"
      ]
     },
     "metadata": {},
     "output_type": "display_data"
    }
   ],
   "source": [
    "fig, ax = plt.subplots()\n",
    "ax.semilogy(sol.t / seconds_per_day, L / L_sun)\n",
    "ax.set_xlabel(\"time (days)\")\n",
    "ax.set_ylabel(\"luminosity (solar)\")"
   ]
  }
 ],
 "metadata": {
  "kernelspec": {
   "display_name": "Python 3 (ipykernel)",
   "language": "python",
   "name": "python3"
  },
  "language_info": {
   "codemirror_mode": {
    "name": "ipython",
    "version": 3
   },
   "file_extension": ".py",
   "mimetype": "text/x-python",
   "name": "python",
   "nbconvert_exporter": "python",
   "pygments_lexer": "ipython3",
   "version": "3.11.10"
  }
 },
 "nbformat": 4,
 "nbformat_minor": 5
}
