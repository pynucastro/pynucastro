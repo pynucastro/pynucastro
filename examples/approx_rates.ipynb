{
 "cells": [
  {
   "cell_type": "markdown",
   "id": "2d21e25a-4b3d-423b-842f-b08bac453158",
   "metadata": {},
   "source": [
    "# Approximate Rate Examples"
   ]
  },
  {
   "cell_type": "code",
   "execution_count": 1,
   "id": "12e1d6a1-2384-4409-bbe7-221cf2f9e197",
   "metadata": {},
   "outputs": [],
   "source": [
    "import pynucastro as pyna"
   ]
  },
  {
   "cell_type": "markdown",
   "id": "847af100-3f40-475c-aa5e-7af228f35aef",
   "metadata": {},
   "source": [
    "Let's create a simple network that has both an $(\\alpha, \\gamma)$ and\n",
    "$(\\alpha, p)(p, \\gamma)$ sequence."
   ]
  },
  {
   "cell_type": "code",
   "execution_count": 2,
   "id": "450dcb93-6721-4e6e-9c30-27d6b14f05a5",
   "metadata": {},
   "outputs": [],
   "source": [
    "reaclib_library = pyna.ReacLibLibrary()"
   ]
  },
  {
   "cell_type": "code",
   "execution_count": 3,
   "id": "13dc91e1-93ad-4140-a446-84c512e2118a",
   "metadata": {},
   "outputs": [],
   "source": [
    "mylib = reaclib_library.linking_nuclei([\"mg24\", \"al27\", \"si28\", \"p31\", \"s32\", \"he4\", \"p\"])"
   ]
  },
  {
   "cell_type": "code",
   "execution_count": 4,
   "id": "85dd7039-dc4f-440b-a29c-beeb7482b1d1",
   "metadata": {},
   "outputs": [],
   "source": [
    "rc = pyna.RateCollection(libraries=[mylib])"
   ]
  },
  {
   "cell_type": "code",
   "execution_count": 5,
   "id": "7891cf0e-5b06-438d-87d5-8adca038465f",
   "metadata": {
    "tags": []
   },
   "outputs": [
    {
     "data": {
      "image/png": "[encoded data removed]",
      "text/plain": [
       "<Figure size 576x432 with 1 Axes>"
      ]
     },
     "metadata": {
      "needs_background": "light"
     },
     "output_type": "display_data"
    }
   ],
   "source": [
    "rc.plot(rotated=True, curved_edges=True)"
   ]
  },
  {
   "cell_type": "markdown",
   "id": "b822d149-8196-4f90-ba9f-02af0a266441",
   "metadata": {},
   "source": [
    "## Approximating"
   ]
  },
  {
   "cell_type": "code",
   "execution_count": 6,
   "id": "5f0a3351-14de-4edc-999b-7ef834ec3613",
   "metadata": {},
   "outputs": [
    {
     "name": "stdout",
     "output_type": "stream",
     "text": [
      "Si28 ⟶ p + Al27\n",
      "Si28 ⟶ He4 + Mg24\n",
      "P31 ⟶ He4 + Al27\n",
      "S32 ⟶ p + P31\n",
      "S32 ⟶ He4 + Si28\n",
      "Mg24 + He4 ⟶ Si28 + 𝛾\n",
      "Al27 + p ⟶ Si28 + 𝛾\n",
      "Al27 + He4 ⟶ P31 + 𝛾\n",
      "Si28 + He4 ⟶ S32 + 𝛾\n",
      "P31 + p ⟶ S32 + 𝛾\n",
      "Mg24 + He4 ⟶ p + Al27\n",
      "Al27 + p ⟶ He4 + Mg24\n",
      "Si28 + He4 ⟶ p + P31\n",
      "P31 + p ⟶ He4 + Si28\n",
      "\n"
     ]
    }
   ],
   "source": [
    "print(rc)"
   ]
  },
  {
   "cell_type": "code",
   "execution_count": 7,
   "id": "d303eee0-7616-4a80-8cac-396942adda11",
   "metadata": {},
   "outputs": [],
   "source": [
    "rp = rc.get_rate(\"he4_mg24__si28\")\n",
    "rs = [rc.get_rate(\"he4_mg24__p_al27\"), rc.get_rate(\"p_al27__si28\")]"
   ]
  },
  {
   "cell_type": "code",
   "execution_count": 8,
   "id": "02f35745-a91b-457d-a99e-fed07dabcbc7",
   "metadata": {},
   "outputs": [
    {
     "data": {
      "text/plain": [
       "[Mg24 + He4 ⟶ p + Al27, Al27 + p ⟶ Si28 + 𝛾]"
      ]
     },
     "execution_count": 8,
     "metadata": {},
     "output_type": "execute_result"
    }
   ],
   "source": [
    "rs"
   ]
  },
  {
   "cell_type": "code",
   "execution_count": 9,
   "id": "123e73ef-70e8-403f-aade-bda2b37624e7",
   "metadata": {},
   "outputs": [],
   "source": [
    "rp_reverse = rc.get_rate(\"si28__he4_mg24\")\n",
    "rs_reverse = [rc.get_rate(\"si28__p_al27\"), rc.get_rate(\"p_al27__he4_mg24\")]"
   ]
  },
  {
   "cell_type": "code",
   "execution_count": 10,
   "id": "ac0861c6-7be8-4bde-bc14-0d5dae91fa2e",
   "metadata": {},
   "outputs": [],
   "source": [
    "ar = pyna.ApproximateRate(primary_rate=rp, secondary_rates=rs,\n",
    "                          primary_reverse=rp_reverse, secondary_reverse=rs_reverse)"
   ]
  },
  {
   "cell_type": "code",
   "execution_count": 11,
   "id": "041f3228-de31-41b5-a05d-9fd55fde92dd",
   "metadata": {},
   "outputs": [
    {
     "data": {
      "text/plain": [
       "'mg24_he4__si28'"
      ]
     },
     "execution_count": 11,
     "metadata": {},
     "output_type": "execute_result"
    }
   ],
   "source": [
    "ar.fname"
   ]
  },
  {
   "cell_type": "markdown",
   "id": "df24db14-2359-4cf6-8caa-31062d5096c7",
   "metadata": {},
   "source": [
    "## evaluate\n",
    "\n",
    "at low T, the reverse rates should be insignificant and our approximate rate should reduce to the sum of $(\\alpha, \\gamma)$ and $(\\alpha, p)$"
   ]
  },
  {
   "cell_type": "code",
   "execution_count": 12,
   "id": "a1ac8183-3d8b-45e9-b775-d31f6cc9ac47",
   "metadata": {},
   "outputs": [],
   "source": [
    "T = 1.e9"
   ]
  },
  {
   "cell_type": "code",
   "execution_count": 13,
   "id": "3ab569e3-787a-4841-9692-6ede85ef6b8e",
   "metadata": {},
   "outputs": [
    {
     "data": {
      "text/plain": [
       "0.0008099307826081986"
      ]
     },
     "execution_count": 13,
     "metadata": {},
     "output_type": "execute_result"
    }
   ],
   "source": [
    "ar.eval(T)"
   ]
  },
  {
   "cell_type": "code",
   "execution_count": 14,
   "id": "a1760e67-701c-4de8-a7e8-83a4d196c04e",
   "metadata": {},
   "outputs": [
    {
     "data": {
      "text/plain": [
       "0.0008118513074816655"
      ]
     },
     "execution_count": 14,
     "metadata": {},
     "output_type": "execute_result"
    }
   ],
   "source": [
    "rp.eval(T) + rs[0].eval(T)"
   ]
  },
  {
   "cell_type": "markdown",
   "id": "df7ac685-b7b1-4d1a-8b3f-332a6efd10fd",
   "metadata": {},
   "source": [
    "at high T, the approximate rate will be lower because we start to see the effect of the reverse rate consuming the protons"
   ]
  },
  {
   "cell_type": "code",
   "execution_count": 15,
   "id": "39c15880-516d-4aed-a54e-3283064fb252",
   "metadata": {},
   "outputs": [],
   "source": [
    "T = 2.e9"
   ]
  },
  {
   "cell_type": "code",
   "execution_count": 16,
   "id": "375a836c-1c3c-4e8a-b5e4-26eac8648d80",
   "metadata": {},
   "outputs": [
    {
     "data": {
      "text/plain": [
       "1.2493589240464626"
      ]
     },
     "execution_count": 16,
     "metadata": {},
     "output_type": "execute_result"
    }
   ],
   "source": [
    "ar.eval(T)"
   ]
  },
  {
   "cell_type": "code",
   "execution_count": 17,
   "id": "a2aa4182-5fb2-4d4f-9c6f-7e255e3ff883",
   "metadata": {},
   "outputs": [
    {
     "data": {
      "text/plain": [
       "3.6337850135767833"
      ]
     },
     "execution_count": 17,
     "metadata": {},
     "output_type": "execute_result"
    }
   ],
   "source": [
    "rp.eval(T) + rs[0].eval(T)"
   ]
  },
  {
   "cell_type": "code",
   "execution_count": 18,
   "id": "89bcff38-aa63-4f6e-b816-ea1ea466df6d",
   "metadata": {},
   "outputs": [
    {
     "data": {
      "text/plain": [
       "2.7769870580356923"
      ]
     },
     "execution_count": 18,
     "metadata": {},
     "output_type": "execute_result"
    }
   ],
   "source": [
    "rs[0].eval(T)"
   ]
  },
  {
   "cell_type": "code",
   "execution_count": 19,
   "id": "96fd5acd-5f68-461a-9a3e-a4509a486c43",
   "metadata": {},
   "outputs": [
    {
     "data": {
      "text/plain": [
       "2764.8859864765686"
      ]
     },
     "execution_count": 19,
     "metadata": {},
     "output_type": "execute_result"
    }
   ],
   "source": [
    "rs[1].eval(T)"
   ]
  },
  {
   "cell_type": "code",
   "execution_count": 20,
   "id": "b3dc59eb-aa87-4549-9e1d-0bbd54532caf",
   "metadata": {},
   "outputs": [
    {
     "data": {
      "text/plain": [
       "16793.993314802243"
      ]
     },
     "execution_count": 20,
     "metadata": {},
     "output_type": "execute_result"
    }
   ],
   "source": [
    "rs_reverse[1].eval(T)"
   ]
  },
  {
   "cell_type": "markdown",
   "id": "eeb8368a-eb0c-47ec-a6b7-02d897bb7b7f",
   "metadata": {},
   "source": [
    "# Redo the RateCollection"
   ]
  },
  {
   "cell_type": "code",
   "execution_count": 21,
   "id": "ccd17fe3-9ce5-4a90-8dc5-a4377f28f132",
   "metadata": {},
   "outputs": [
    {
     "name": "stdout",
     "output_type": "stream",
     "text": [
      "using approximate rate Mg24 + He4 ⟶ Si28 + 𝛾\n",
      "using approximate rate Si28 ⟶ Mg24 + He4\n",
      "using approximate rate Si28 + He4 ⟶ S32 + 𝛾\n",
      "using approximate rate S32 ⟶ Si28 + He4\n",
      "removing rate Mg24 + He4 ⟶ Si28 + 𝛾\n",
      "removing rate Mg24 + He4 ⟶ p + Al27\n",
      "removing rate Al27 + p ⟶ Si28 + 𝛾\n",
      "removing rate Si28 ⟶ He4 + Mg24\n",
      "removing rate Si28 ⟶ p + Al27\n",
      "removing rate Al27 + p ⟶ He4 + Mg24\n",
      "removing rate Si28 + He4 ⟶ S32 + 𝛾\n",
      "removing rate Si28 + He4 ⟶ p + P31\n",
      "removing rate P31 + p ⟶ S32 + 𝛾\n",
      "removing rate S32 ⟶ He4 + Si28\n",
      "removing rate S32 ⟶ p + P31\n",
      "removing rate P31 + p ⟶ He4 + Si28\n"
     ]
    }
   ],
   "source": [
    "rc.make_ap_pg_approx()"
   ]
  },
  {
   "cell_type": "code",
   "execution_count": 22,
   "id": "b7192d34-9fd9-47eb-86ed-8ac797661081",
   "metadata": {},
   "outputs": [
    {
     "data": {
      "text/plain": [
       "P31 ⟶ He4 + Al27\n",
       "Al27 + He4 ⟶ P31 + 𝛾\n",
       "Mg24 + He4 ⟶ Si28 + 𝛾\n",
       "Si28 ⟶ Mg24 + He4\n",
       "Si28 + He4 ⟶ S32 + 𝛾\n",
       "S32 ⟶ Si28 + He4"
      ]
     },
     "execution_count": 22,
     "metadata": {},
     "output_type": "execute_result"
    }
   ],
   "source": [
    "rc"
   ]
  },
  {
   "cell_type": "code",
   "execution_count": 23,
   "id": "8ad561a1-cf80-4063-9798-7525911ad764",
   "metadata": {},
   "outputs": [
    {
     "data": {
      "image/png": "[encoded data removed]",
      "text/plain": [
       "<Figure size 576x432 with 1 Axes>"
      ]
     },
     "metadata": {
      "needs_background": "light"
     },
     "output_type": "display_data"
    }
   ],
   "source": [
    "rc.plot(rotated=True, curved_edges=True)"
   ]
  },
  {
   "cell_type": "markdown",
   "id": "d46fc1b5-a52c-468e-a793-55838b86ab8e",
   "metadata": {},
   "source": [
    "now remove the isolated Al27 and P31 nuclei"
   ]
  },
  {
   "cell_type": "code",
   "execution_count": 24,
   "id": "1787e527-b409-4310-b12f-1bc03e1326d2",
   "metadata": {},
   "outputs": [
    {
     "name": "stdout",
     "output_type": "stream",
     "text": [
      "looking to remove P31 ⟶ He4 + Al27\n",
      "looking to remove Al27 + He4 ⟶ P31 + 𝛾\n",
      "looking to remove P31 ⟶ He4 + Al27\n",
      "looking to remove Al27 + He4 ⟶ P31 + 𝛾\n"
     ]
    }
   ],
   "source": [
    "rc.remove_nuclei([pyna.Nucleus(\"al27\"), pyna.Nucleus(\"p31\")])"
   ]
  },
  {
   "cell_type": "code",
   "execution_count": 25,
   "id": "d08985ff-1504-4fba-9b9b-945df1c7bd72",
   "metadata": {},
   "outputs": [
    {
     "data": {
      "text/plain": [
       "Mg24 + He4 ⟶ Si28 + 𝛾\n",
       "Si28 ⟶ Mg24 + He4\n",
       "Si28 + He4 ⟶ S32 + 𝛾\n",
       "S32 ⟶ Si28 + He4"
      ]
     },
     "execution_count": 25,
     "metadata": {},
     "output_type": "execute_result"
    }
   ],
   "source": [
    "rc"
   ]
  },
  {
   "cell_type": "code",
   "execution_count": 26,
   "id": "57b11c1e-4fab-482e-92a8-90c7eb3d0ff5",
   "metadata": {},
   "outputs": [
    {
     "data": {
      "image/png": "[encoded data removed]",
      "text/plain": [
       "<Figure size 576x432 with 1 Axes>"
      ]
     },
     "metadata": {
      "needs_background": "light"
     },
     "output_type": "display_data"
    }
   ],
   "source": [
    "rc.plot(rotated=True, curved_edges=True)"
   ]
  },
  {
   "cell_type": "code",
   "execution_count": null,
   "id": "3991d57c-a8e7-47b5-987a-608eab285def",
   "metadata": {},
   "outputs": [],
   "source": []
  }
 ],
 "metadata": {
  "kernelspec": {
   "display_name": "Python 3 (ipykernel)",
   "language": "python",
   "name": "python3"
  },
  "language_info": {
   "codemirror_mode": {
    "name": "ipython",
    "version": 3
   },
   "file_extension": ".py",
   "mimetype": "text/x-python",
   "name": "python",
   "nbconvert_exporter": "python",
   "pygments_lexer": "ipython3",
   "version": "3.10.4"
  }
 },
 "nbformat": 4,
 "nbformat_minor": 5
}
