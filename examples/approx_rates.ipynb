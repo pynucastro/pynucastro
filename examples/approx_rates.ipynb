{
 "cells": [
  {
   "cell_type": "markdown",
   "id": "2d21e25a-4b3d-423b-842f-b08bac453158",
   "metadata": {},
   "source": [
    "# Approximate Rate Examples"
   ]
  },
  {
   "cell_type": "code",
   "execution_count": 1,
   "id": "12e1d6a1-2384-4409-bbe7-221cf2f9e197",
   "metadata": {},
   "outputs": [],
   "source": [
    "import pynucastro as pyna"
   ]
  },
  {
   "cell_type": "markdown",
   "id": "847af100-3f40-475c-aa5e-7af228f35aef",
   "metadata": {},
   "source": [
    "Let's create a simple network that has both an $(\\alpha, \\gamma)$ and\n",
    "$(\\alpha, p)(p, \\gamma)$ sequence."
   ]
  },
  {
   "cell_type": "code",
   "execution_count": 2,
   "id": "450dcb93-6721-4e6e-9c30-27d6b14f05a5",
   "metadata": {},
   "outputs": [],
   "source": [
    "reaclib_library = pyna.ReacLibLibrary()"
   ]
  },
  {
   "cell_type": "code",
   "execution_count": 3,
   "id": "13dc91e1-93ad-4140-a446-84c512e2118a",
   "metadata": {},
   "outputs": [],
   "source": [
    "mylib = reaclib_library.linking_nuclei([\"mg24\", \"al27\", \"si28\", \"he4\", \"p\"])"
   ]
  },
  {
   "cell_type": "code",
   "execution_count": 4,
   "id": "85dd7039-dc4f-440b-a29c-beeb7482b1d1",
   "metadata": {},
   "outputs": [],
   "source": [
    "rc = pyna.RateCollection(libraries=[mylib])"
   ]
  },
  {
   "cell_type": "code",
   "execution_count": 5,
   "id": "7891cf0e-5b06-438d-87d5-8adca038465f",
   "metadata": {
    "tags": []
   },
   "outputs": [
    {
     "data": {
      "image/png": "[encoded data removed]",
      "text/plain": [
       "<Figure size 576x432 with 1 Axes>"
      ]
     },
     "metadata": {
      "needs_background": "light"
     },
     "output_type": "display_data"
    }
   ],
   "source": [
    "rc.plot(rotated=True, curved_edges=True)"
   ]
  },
  {
   "cell_type": "code",
   "execution_count": 6,
   "id": "18edb333-3be3-47c3-957f-e61cc6878453",
   "metadata": {},
   "outputs": [],
   "source": [
    "comp = pyna.Composition(rc.get_nuclei())\n",
    "comp.set_all(1.0)\n",
    "comp.normalize()"
   ]
  },
  {
   "cell_type": "code",
   "execution_count": 7,
   "id": "2b8c963a-e1e9-4e57-8c39-4c0126b1d8a3",
   "metadata": {},
   "outputs": [
    {
     "name": "stdout",
     "output_type": "stream",
     "text": [
      "  X(p) : 0.2\n",
      "  X(he4) : 0.2\n",
      "  X(mg24) : 0.2\n",
      "  X(al27) : 0.2\n",
      "  X(si28) : 0.2\n",
      "\n"
     ]
    }
   ],
   "source": [
    "print(comp)"
   ]
  },
  {
   "cell_type": "code",
   "execution_count": 8,
   "id": "3064431e-3f09-482c-9bed-ff891bdbdb67",
   "metadata": {},
   "outputs": [],
   "source": [
    "rho = 1.e6\n",
    "T = 3.e9\n",
    "ydots = rc.evaluate_ydots(rho, T, comp)"
   ]
  },
  {
   "cell_type": "code",
   "execution_count": 9,
   "id": "bec282d8-42ec-4247-940a-1cceafa1379e",
   "metadata": {},
   "outputs": [
    {
     "data": {
      "text/plain": [
       "{p: -218536354.19060785,\n",
       " he4: 204282995.84814417,\n",
       " mg24: 204282995.84814417,\n",
       " al27: -218536354.19060785,\n",
       " si28: 14253358.342463665}"
      ]
     },
     "execution_count": 9,
     "metadata": {},
     "output_type": "execute_result"
    }
   ],
   "source": [
    "ydots"
   ]
  },
  {
   "cell_type": "markdown",
   "id": "b822d149-8196-4f90-ba9f-02af0a266441",
   "metadata": {},
   "source": [
    "## Approximating"
   ]
  },
  {
   "cell_type": "code",
   "execution_count": 10,
   "id": "a2a8d2f0-8239-4d55-8ea9-d6fe4599c90b",
   "metadata": {},
   "outputs": [
    {
     "name": "stdout",
     "output_type": "stream",
     "text": [
      "si28__p_al27\n",
      "si28__he4_mg24\n",
      "he4_mg24__si28\n",
      "p_al27__si28\n",
      "he4_mg24__p_al27\n",
      "p_al27__he4_mg24\n"
     ]
    }
   ],
   "source": [
    "for r in rc.rates:\n",
    "    print(r.fname)"
   ]
  },
  {
   "cell_type": "code",
   "execution_count": 11,
   "id": "5f0a3351-14de-4edc-999b-7ef834ec3613",
   "metadata": {},
   "outputs": [
    {
     "name": "stdout",
     "output_type": "stream",
     "text": [
      "Si28 ⟶ p + Al27\n",
      "Si28 ⟶ He4 + Mg24\n",
      "Mg24 + He4 ⟶ Si28 + 𝛾\n",
      "Al27 + p ⟶ Si28 + 𝛾\n",
      "Mg24 + He4 ⟶ p + Al27\n",
      "Al27 + p ⟶ He4 + Mg24\n",
      "\n"
     ]
    }
   ],
   "source": [
    "print(rc)"
   ]
  },
  {
   "cell_type": "code",
   "execution_count": 12,
   "id": "d303eee0-7616-4a80-8cac-396942adda11",
   "metadata": {},
   "outputs": [],
   "source": [
    "rp = rc.get_rate(\"he4_mg24__si28\")\n",
    "rs = [rc.get_rate(\"he4_mg24__p_al27\"), rc.get_rate(\"p_al27__si28\")]"
   ]
  },
  {
   "cell_type": "code",
   "execution_count": 13,
   "id": "02f35745-a91b-457d-a99e-fed07dabcbc7",
   "metadata": {},
   "outputs": [
    {
     "data": {
      "text/plain": [
       "[Mg24 + He4 ⟶ p + Al27, Al27 + p ⟶ Si28 + 𝛾]"
      ]
     },
     "execution_count": 13,
     "metadata": {},
     "output_type": "execute_result"
    }
   ],
   "source": [
    "rs"
   ]
  },
  {
   "cell_type": "code",
   "execution_count": 14,
   "id": "123e73ef-70e8-403f-aade-bda2b37624e7",
   "metadata": {},
   "outputs": [],
   "source": [
    "rp_reverse = rc.get_rate(\"si28__he4_mg24\")\n",
    "rs_reverse = [rc.get_rate(\"si28__p_al27\"), rc.get_rate(\"p_al27__he4_mg24\")]"
   ]
  },
  {
   "cell_type": "code",
   "execution_count": 15,
   "id": "ac0861c6-7be8-4bde-bc14-0d5dae91fa2e",
   "metadata": {},
   "outputs": [],
   "source": [
    "ar = pyna.ApproximateRate(primary_rate=rp, secondary_rates=rs,\n",
    "                          primary_reverse=rp_reverse, secondary_reverse=rs_reverse)"
   ]
  },
  {
   "cell_type": "code",
   "execution_count": 16,
   "id": "041f3228-de31-41b5-a05d-9fd55fde92dd",
   "metadata": {},
   "outputs": [
    {
     "data": {
      "text/plain": [
       "'mg24_he4__si28'"
      ]
     },
     "execution_count": 16,
     "metadata": {},
     "output_type": "execute_result"
    }
   ],
   "source": [
    "ar.fname"
   ]
  },
  {
   "cell_type": "markdown",
   "id": "df24db14-2359-4cf6-8caa-31062d5096c7",
   "metadata": {},
   "source": [
    "## evaluate\n",
    "\n",
    "at low T, the reverse rates should be insignificant and our approximate rate should reduce to the sum of $(\\alpha, \\gamma)$ and $(\\alpha, p)$"
   ]
  },
  {
   "cell_type": "code",
   "execution_count": 17,
   "id": "a1ac8183-3d8b-45e9-b775-d31f6cc9ac47",
   "metadata": {},
   "outputs": [],
   "source": [
    "T = 1.e9"
   ]
  },
  {
   "cell_type": "code",
   "execution_count": 18,
   "id": "3ab569e3-787a-4841-9692-6ede85ef6b8e",
   "metadata": {},
   "outputs": [
    {
     "data": {
      "text/plain": [
       "0.0008099307826081986"
      ]
     },
     "execution_count": 18,
     "metadata": {},
     "output_type": "execute_result"
    }
   ],
   "source": [
    "ar.eval(T)"
   ]
  },
  {
   "cell_type": "code",
   "execution_count": 19,
   "id": "a1760e67-701c-4de8-a7e8-83a4d196c04e",
   "metadata": {},
   "outputs": [
    {
     "data": {
      "text/plain": [
       "0.0008118513074816655"
      ]
     },
     "execution_count": 19,
     "metadata": {},
     "output_type": "execute_result"
    }
   ],
   "source": [
    "rp.eval(T) + rs[0].eval(T)"
   ]
  },
  {
   "cell_type": "markdown",
   "id": "df7ac685-b7b1-4d1a-8b3f-332a6efd10fd",
   "metadata": {},
   "source": [
    "at high T, the approximate rate will be lower because we start to see the effect of the reverse rate consuming the protons"
   ]
  },
  {
   "cell_type": "code",
   "execution_count": 20,
   "id": "39c15880-516d-4aed-a54e-3283064fb252",
   "metadata": {},
   "outputs": [],
   "source": [
    "T = 2.e9"
   ]
  },
  {
   "cell_type": "code",
   "execution_count": 21,
   "id": "375a836c-1c3c-4e8a-b5e4-26eac8648d80",
   "metadata": {},
   "outputs": [
    {
     "data": {
      "text/plain": [
       "1.2493589240464626"
      ]
     },
     "execution_count": 21,
     "metadata": {},
     "output_type": "execute_result"
    }
   ],
   "source": [
    "ar.eval(T)"
   ]
  },
  {
   "cell_type": "code",
   "execution_count": 22,
   "id": "a2aa4182-5fb2-4d4f-9c6f-7e255e3ff883",
   "metadata": {},
   "outputs": [
    {
     "data": {
      "text/plain": [
       "3.6337850135767833"
      ]
     },
     "execution_count": 22,
     "metadata": {},
     "output_type": "execute_result"
    }
   ],
   "source": [
    "rp.eval(T) + rs[0].eval(T)"
   ]
  },
  {
   "cell_type": "code",
   "execution_count": 23,
   "id": "89bcff38-aa63-4f6e-b816-ea1ea466df6d",
   "metadata": {},
   "outputs": [
    {
     "data": {
      "text/plain": [
       "2.7769870580356923"
      ]
     },
     "execution_count": 23,
     "metadata": {},
     "output_type": "execute_result"
    }
   ],
   "source": [
    "rs[0].eval(T)"
   ]
  },
  {
   "cell_type": "code",
   "execution_count": 24,
   "id": "96fd5acd-5f68-461a-9a3e-a4509a486c43",
   "metadata": {},
   "outputs": [
    {
     "data": {
      "text/plain": [
       "2764.8859864765686"
      ]
     },
     "execution_count": 24,
     "metadata": {},
     "output_type": "execute_result"
    }
   ],
   "source": [
    "rs[1].eval(T)"
   ]
  },
  {
   "cell_type": "code",
   "execution_count": 25,
   "id": "b3dc59eb-aa87-4549-9e1d-0bbd54532caf",
   "metadata": {},
   "outputs": [
    {
     "data": {
      "text/plain": [
       "16793.993314802243"
      ]
     },
     "execution_count": 25,
     "metadata": {},
     "output_type": "execute_result"
    }
   ],
   "source": [
    "rs_reverse[1].eval(T)"
   ]
  },
  {
   "cell_type": "markdown",
   "id": "eeb8368a-eb0c-47ec-a6b7-02d897bb7b7f",
   "metadata": {},
   "source": [
    "# Redo the RateCollection"
   ]
  },
  {
   "cell_type": "code",
   "execution_count": 26,
   "id": "ccd17fe3-9ce5-4a90-8dc5-a4377f28f132",
   "metadata": {},
   "outputs": [
    {
     "name": "stdout",
     "output_type": "stream",
     "text": [
      "using approximate rate Mg24 + He4 ⟶ Si28 + 𝛾\n",
      "using approximate rate Si28 ⟶ Mg24 + He4\n",
      "removing rate Mg24 + He4 ⟶ Si28 + 𝛾\n",
      "removing rate Mg24 + He4 ⟶ p + Al27\n",
      "removing rate Al27 + p ⟶ Si28 + 𝛾\n",
      "removing rate Si28 ⟶ He4 + Mg24\n",
      "removing rate Si28 ⟶ p + Al27\n",
      "removing rate Al27 + p ⟶ He4 + Mg24\n"
     ]
    }
   ],
   "source": [
    "rc.make_ap_pg_approx()"
   ]
  },
  {
   "cell_type": "code",
   "execution_count": 27,
   "id": "b7192d34-9fd9-47eb-86ed-8ac797661081",
   "metadata": {},
   "outputs": [
    {
     "name": "stdout",
     "output_type": "stream",
     "text": [
      "Mg24 + He4 ⟶ Si28 + 𝛾\n",
      "Si28 ⟶ Mg24 + He4\n",
      "\n"
     ]
    }
   ],
   "source": [
    "print(rc)"
   ]
  },
  {
   "cell_type": "code",
   "execution_count": null,
   "id": "8ad561a1-cf80-4063-9798-7525911ad764",
   "metadata": {},
   "outputs": [],
   "source": []
  }
 ],
 "metadata": {
  "kernelspec": {
   "display_name": "Python 3 (ipykernel)",
   "language": "python",
   "name": "python3"
  },
  "language_info": {
   "codemirror_mode": {
    "name": "ipython",
    "version": 3
   },
   "file_extension": ".py",
   "mimetype": "text/x-python",
   "name": "python",
   "nbconvert_exporter": "python",
   "pygments_lexer": "ipython3",
   "version": "3.10.4"
  }
 },
 "nbformat": 4,
 "nbformat_minor": 5
}
