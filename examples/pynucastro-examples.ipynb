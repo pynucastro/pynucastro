{
 "cells": [
  {
   "cell_type": "markdown",
   "metadata": {},
   "source": [
    "# pynucastro usage examples\n",
    "\n",
    "This notebook illustrates some of the higher-level data structures in `pynucastro`.\n",
    "\n",
    "Note to run properly, you install pynucastro via:\n",
    "\n",
    "```\n",
    "python setup.py install\n",
    "```\n",
    "\n",
    "(optionally with ``--user``)\n",
    "\n",
    "or make sure that you have `pynucastro/` in your `PYTHONPATH`"
   ]
  },
  {
   "cell_type": "code",
   "execution_count": 1,
   "metadata": {},
   "outputs": [],
   "source": [
    "import pynucastro as pyrl"
   ]
  },
  {
   "cell_type": "markdown",
   "metadata": {},
   "source": [
    "## Loading a single rate\n",
    "\n",
    "The `Rate` class holds a single reaction rate and takes a reaclib file as input.  There are a lot of methods in the `Rate` class that allow you to explore the rate."
   ]
  },
  {
   "cell_type": "code",
   "execution_count": 2,
   "metadata": {},
   "outputs": [],
   "source": [
    "c13pg = pyrl.Rate(\"c13-pg-n14-nacr\")"
   ]
  },
  {
   "cell_type": "markdown",
   "metadata": {},
   "source": [
    "### the original reaclib source\n",
    "\n",
    "we can easily see the original source from ReacLib"
   ]
  },
  {
   "cell_type": "code",
   "execution_count": 3,
   "metadata": {},
   "outputs": [
    {
     "name": "stdout",
     "output_type": "stream",
     "text": [
      "4                                                                         \n",
      "                                                                          \n",
      "                                                                          \n",
      "         p  c13  n14                       nacrn     7.55100e+00          \n",
      " 1.851550e+01 0.000000e+00-1.372000e+01-4.500180e-01                      \n",
      " 3.708230e+00-1.705450e+00-6.666670e-01                                   \n",
      "         p  c13  n14                       nacrr     7.55100e+00          \n",
      " 1.396370e+01-5.781470e+00 0.000000e+00-1.967030e-01                      \n",
      " 1.421260e-01-2.389120e-02-1.500000e+00                                   \n",
      "         p  c13  n14                       nacrr     7.55100e+00          \n",
      " 1.518250e+01-1.355430e+01 0.000000e+00 0.000000e+00                      \n",
      " 0.000000e+00 0.000000e+00-1.500000e+00                                   \n",
      "\n"
     ]
    }
   ],
   "source": [
    "print(c13pg.original_source)"
   ]
  },
  {
   "cell_type": "markdown",
   "metadata": {},
   "source": [
    "### evaluate the rate at a given temperature (in K)\n",
    "\n",
    "This is just the temperature dependent portion of the rate, usually expressed as $N_A \\langle \\sigma v \\rangle$"
   ]
  },
  {
   "cell_type": "code",
   "execution_count": 4,
   "metadata": {},
   "outputs": [
    {
     "data": {
      "text/plain": [
       "3883.4778216250666"
      ]
     },
     "execution_count": 4,
     "metadata": {},
     "output_type": "execute_result"
    }
   ],
   "source": [
    "c13pg.eval(1.e9)"
   ]
  },
  {
   "cell_type": "markdown",
   "metadata": {},
   "source": [
    "### human readable string\n",
    "\n",
    "We can print out a string describing the rate, and the nuclei involved"
   ]
  },
  {
   "cell_type": "code",
   "execution_count": 5,
   "metadata": {},
   "outputs": [
    {
     "name": "stdout",
     "output_type": "stream",
     "text": [
      "c13 + p --> n14\n"
     ]
    }
   ],
   "source": [
    "print(c13pg)"
   ]
  },
  {
   "cell_type": "markdown",
   "metadata": {},
   "source": [
    "The nuclei involved are all `Nucleus` objects.  They have members `Z` and `N` that give the proton and neutron number"
   ]
  },
  {
   "cell_type": "code",
   "execution_count": 6,
   "metadata": {},
   "outputs": [
    {
     "name": "stdout",
     "output_type": "stream",
     "text": [
      "[p, c13]\n",
      "[n14]\n"
     ]
    }
   ],
   "source": [
    "print(c13pg.reactants)\n",
    "print(c13pg.products)"
   ]
  },
  {
   "cell_type": "code",
   "execution_count": 7,
   "metadata": {},
   "outputs": [],
   "source": [
    "r2 = c13pg.reactants[1]"
   ]
  },
  {
   "cell_type": "markdown",
   "metadata": {},
   "source": [
    "Note that each of the nuclei are a pynucastro `Nucleus` type"
   ]
  },
  {
   "cell_type": "code",
   "execution_count": 8,
   "metadata": {},
   "outputs": [
    {
     "data": {
      "text/plain": [
       "pynucastro.rates.rate.Nucleus"
      ]
     },
     "execution_count": 8,
     "metadata": {},
     "output_type": "execute_result"
    }
   ],
   "source": [
    "type(r2)"
   ]
  },
  {
   "cell_type": "code",
   "execution_count": 9,
   "metadata": {},
   "outputs": [
    {
     "name": "stdout",
     "output_type": "stream",
     "text": [
      "6 7\n"
     ]
    }
   ],
   "source": [
    "print(r2.Z, r2.N)"
   ]
  },
  {
   "cell_type": "markdown",
   "metadata": {},
   "source": [
    "### temperature sensitivity"
   ]
  },
  {
   "cell_type": "markdown",
   "metadata": {},
   "source": [
    "We can find the temperature sensitivity about some reference temperature.  This is the exponent when we write the rate as \n",
    "\n",
    "$$r = r_0 \\left ( \\frac{T}{T_0} \\right )^\\nu$$.\n",
    "\n",
    "We can estimate this given a reference temperature, $T_0$"
   ]
  },
  {
   "cell_type": "code",
   "execution_count": 10,
   "metadata": {
    "tags": [
     "nbval-ignore-output"
    ]
   },
   "outputs": [
    {
     "data": {
      "text/plain": [
       "16.21089670710968"
      ]
     },
     "execution_count": 10,
     "metadata": {},
     "output_type": "execute_result"
    }
   ],
   "source": [
    "c13pg.get_rate_exponent(2.e7)"
   ]
  },
  {
   "cell_type": "markdown",
   "metadata": {},
   "source": [
    "### plot the rate's temperature dependence\n",
    "\n",
    "A reaction rate has a complex temperature dependence that is defined in the reaclib files.  The `plot()` method will plot this for us"
   ]
  },
  {
   "cell_type": "code",
   "execution_count": 11,
   "metadata": {
    "tags": [
     "nbval-skip"
    ]
   },
   "outputs": [
    {
     "data": {
      "image/png": "[encoded data removed]",
      "text/plain": [
       "<Figure size 600x400 with 1 Axes>"
      ]
     },
     "metadata": {
      "needs_background": "light"
     },
     "output_type": "display_data"
    }
   ],
   "source": [
    "c13pg.plot()"
   ]
  },
  {
   "cell_type": "markdown",
   "metadata": {},
   "source": [
    "A rate also knows its density dependence -- this is inferred from the reactants in the rate description and is used to construct the terms needed to write a reaction network.  Note: since we want reaction rates per gram, this number is 1 less than the number of nuclei"
   ]
  },
  {
   "cell_type": "code",
   "execution_count": 12,
   "metadata": {},
   "outputs": [
    {
     "data": {
      "text/plain": [
       "1"
      ]
     },
     "execution_count": 12,
     "metadata": {},
     "output_type": "execute_result"
    }
   ],
   "source": [
    "c13pg.dens_exp"
   ]
  },
  {
   "cell_type": "markdown",
   "metadata": {},
   "source": [
    "## Working with a group of rates\n",
    "\n",
    "A `RateCollection()` class allows us to work with a group of rates.  This is used to explore their relationship.  Other classes (introduced soon) are built on this and will allow us to output network code directly."
   ]
  },
  {
   "cell_type": "code",
   "execution_count": 13,
   "metadata": {},
   "outputs": [],
   "source": [
    "files = [\"c12-pg-n13-ls09\", \n",
    "         \"c13-pg-n14-nacr\",\n",
    "         \"n13--c13-wc12\",\n",
    "         \"n13-pg-o14-lg06\",\n",
    "         \"n14-pg-o15-im05\",\n",
    "         \"n15-pa-c12-nacr\",\n",
    "         \"o14--n14-wc12\",\n",
    "         \"o15--n15-wc12\"]\n",
    "rc = pyrl.RateCollection(files)"
   ]
  },
  {
   "cell_type": "markdown",
   "metadata": {},
   "source": [
    "Printing a rate collection shows all the rates"
   ]
  },
  {
   "cell_type": "code",
   "execution_count": 14,
   "metadata": {},
   "outputs": [
    {
     "name": "stdout",
     "output_type": "stream",
     "text": [
      "c12 + p --> n13\n",
      "c13 + p --> n14\n",
      "n13 --> c13\n",
      "n13 + p --> o14\n",
      "n14 + p --> o15\n",
      "n15 + p --> he4 + c12\n",
      "o14 --> n14\n",
      "o15 --> n15\n",
      "\n"
     ]
    }
   ],
   "source": [
    "print(rc)"
   ]
  },
  {
   "cell_type": "markdown",
   "metadata": {},
   "source": [
    "More detailed information is provided by `network_overview()`"
   ]
  },
  {
   "cell_type": "code",
   "execution_count": 15,
   "metadata": {},
   "outputs": [
    {
     "name": "stdout",
     "output_type": "stream",
     "text": [
      "p\n",
      "  consumed by:\n",
      "     c12 + p --> n13\n",
      "     c13 + p --> n14\n",
      "     n13 + p --> o14\n",
      "     n14 + p --> o15\n",
      "     n15 + p --> he4 + c12\n",
      "  produced by:\n",
      "\n",
      "he4\n",
      "  consumed by:\n",
      "  produced by:\n",
      "     n15 + p --> he4 + c12\n",
      "\n",
      "c12\n",
      "  consumed by:\n",
      "     c12 + p --> n13\n",
      "  produced by:\n",
      "     n15 + p --> he4 + c12\n",
      "\n",
      "c13\n",
      "  consumed by:\n",
      "     c13 + p --> n14\n",
      "  produced by:\n",
      "     n13 --> c13\n",
      "\n",
      "n13\n",
      "  consumed by:\n",
      "     n13 --> c13\n",
      "     n13 + p --> o14\n",
      "  produced by:\n",
      "     c12 + p --> n13\n",
      "\n",
      "n14\n",
      "  consumed by:\n",
      "     n14 + p --> o15\n",
      "  produced by:\n",
      "     c13 + p --> n14\n",
      "     o14 --> n14\n",
      "\n",
      "n15\n",
      "  consumed by:\n",
      "     n15 + p --> he4 + c12\n",
      "  produced by:\n",
      "     o15 --> n15\n",
      "\n",
      "o14\n",
      "  consumed by:\n",
      "     o14 --> n14\n",
      "  produced by:\n",
      "     n13 + p --> o14\n",
      "\n",
      "o15\n",
      "  consumed by:\n",
      "     o15 --> n15\n",
      "  produced by:\n",
      "     n14 + p --> o15\n",
      "\n",
      "\n"
     ]
    }
   ],
   "source": [
    "print(rc.network_overview())"
   ]
  },
  {
   "cell_type": "markdown",
   "metadata": {},
   "source": [
    "### show a network diagram\n",
    "\n",
    "We visualize the network using NetworkX"
   ]
  },
  {
   "cell_type": "code",
   "execution_count": 16,
   "metadata": {
    "tags": [
     "nbval-skip"
    ]
   },
   "outputs": [
    {
     "data": {
      "image/png": "[encoded data removed]",
      "text/plain": [
       "<Figure size 800x600 with 1 Axes>"
      ]
     },
     "metadata": {
      "needs_background": "light"
     },
     "output_type": "display_data"
    }
   ],
   "source": [
    "rc.plot()"
   ]
  },
  {
   "cell_type": "markdown",
   "metadata": {},
   "source": [
    "## Explore the network's rates"
   ]
  },
  {
   "cell_type": "markdown",
   "metadata": {},
   "source": [
    "To evaluate the rates, we need a composition"
   ]
  },
  {
   "cell_type": "code",
   "execution_count": 17,
   "metadata": {},
   "outputs": [],
   "source": [
    "comp = pyrl.Composition(rc.get_nuclei())\n",
    "comp.set_solar_like()"
   ]
  },
  {
   "cell_type": "markdown",
   "metadata": {},
   "source": [
    "Interactive exploration is enabled through the `Explorer` class, which takes a `RateCollection` and a `Composition`"
   ]
  },
  {
   "cell_type": "code",
   "execution_count": 18,
   "metadata": {
    "tags": [
     "nbval-skip"
    ]
   },
   "outputs": [
    {
     "name": "stderr",
     "output_type": "stream",
     "text": [
      "/home/zingale/development/pynucastro/pynucastro/networks/rate_collection.py:486: MatplotlibDeprecationWarning: Starting from Matplotlib 3.6, colorbar() will steal space from the mappable's axes, rather than from the current axes, to place the colorbar.  To silence this warning, explicitly pass the 'ax' argument to colorbar().\n",
      "  plt.colorbar(pc, label=\"log10(rate)\")\n"
     ]
    },
    {
     "data": {
      "image/png": "[encoded data removed]",
      "text/plain": [
       "<Figure size 800x600 with 2 Axes>"
      ]
     },
     "metadata": {
      "needs_background": "light"
     },
     "output_type": "display_data"
    }
   ],
   "source": [
    "re = pyrl.Explorer(rc, comp)\n",
    "re.explore()"
   ]
  },
  {
   "cell_type": "markdown",
   "metadata": {},
   "source": [
    "## Plot nuclides on a grid"
   ]
  },
  {
   "cell_type": "markdown",
   "metadata": {},
   "source": [
    "Nuclides in a network may also be visualized as cells on a grid of Z vs. N, colored by some quantity. This can be more interpretable for large networks. Calling `gridplot` without any arguments will just plot the grid - to see anything interesting we need to supply some conditions. Here is a plot of nuclide mass fraction on a log scale, with a 36 square inch figure:"
   ]
  },
  {
   "cell_type": "code",
   "execution_count": 19,
   "metadata": {},
   "outputs": [
    {
     "data": {
      "image/png": "[encoded data removed]",
      "text/plain": [
       "<Figure size 641.427x561.249 with 2 Axes>"
      ]
     },
     "metadata": {
      "needs_background": "light"
     },
     "output_type": "display_data"
    }
   ],
   "source": [
    "rc.gridplot(comp=comp, color_field=\"X\", scale=\"log\", area=36)"
   ]
  },
  {
   "cell_type": "markdown",
   "metadata": {},
   "source": [
    "The plot is configurable through a large number of keyword arguments. Here we want to look at the rates at which nuclides are being created or destroyed, so we color by $\\dot{Y}$, the rate of change of molar abundance. Density and temperature need to be supplied to evaluate the rates. A full list of valid keyword arguments can be found in the API documentation."
   ]
  },
  {
   "cell_type": "code",
   "execution_count": 20,
   "metadata": {},
   "outputs": [
    {
     "data": {
      "image/png": "[encoded data removed]",
      "text/plain": [
       "<Figure size 641.427x561.249 with 2 Axes>"
      ]
     },
     "metadata": {
      "needs_background": "light"
     },
     "output_type": "display_data"
    }
   ],
   "source": [
    "rc.gridplot(comp=comp, rho=1e4, T=1e8, color_field=\"ydot\", area=36,\n",
    "        cmap=\"RdGy\", cbar_bounds=(-0.1, 0.1))"
   ]
  },
  {
   "cell_type": "markdown",
   "metadata": {},
   "source": [
    "Unlike the network plot, this won't omit hydrogen and helium by default. To just look at the heavier nuclides, we can define a function to filter by proton number:"
   ]
  },
  {
   "cell_type": "code",
   "execution_count": 21,
   "metadata": {},
   "outputs": [
    {
     "data": {
      "image/png": "[encoded data removed]",
      "text/plain": [
       "<Figure size 447.214x447.214 with 2 Axes>"
      ]
     },
     "metadata": {
      "needs_background": "light"
     },
     "output_type": "display_data"
    }
   ],
   "source": [
    "ff = lambda nuc: nuc.Z > 2\n",
    "rc.gridplot(comp=comp, rho=1e4, T=1e8, color_field=\"activity\", scale=\"log\",\n",
    "        filter_function=ff, area=20, cmap=\"Blues\")"
   ]
  },
  {
   "cell_type": "markdown",
   "metadata": {},
   "source": [
    "## Integrating networks\n",
    "\n",
    "If we don't just want to explore the network interactively in a notebook, but want to output code to run integrate it, we need to create one of `PythonNetwork` or `StarKillerNetwork`"
   ]
  },
  {
   "cell_type": "code",
   "execution_count": 22,
   "metadata": {},
   "outputs": [],
   "source": [
    "pynet = pyrl.PythonNetwork(files)"
   ]
  },
  {
   "cell_type": "markdown",
   "metadata": {},
   "source": [
    "A network knows how to express the terms that make up the function (in the right programming language).  For instance, you can get the term for the ${}^{13}\\mathrm{C} (p,\\gamma) {}^{14}\\mathrm{N}$ rate as:"
   ]
  },
  {
   "cell_type": "code",
   "execution_count": 23,
   "metadata": {},
   "outputs": [
    {
     "name": "stdout",
     "output_type": "stream",
     "text": [
      "rho*Y[ip]*Y[ic13]*lambda_p_c13__n14\n"
     ]
    }
   ],
   "source": [
    "print(pynet.ydot_string(c13pg))"
   ]
  },
  {
   "cell_type": "markdown",
   "metadata": {},
   "source": [
    "and the code needed to evaluate that rate (the T-dependent part) as:"
   ]
  },
  {
   "cell_type": "code",
   "execution_count": 24,
   "metadata": {},
   "outputs": [
    {
     "name": "stdout",
     "output_type": "stream",
     "text": [
      "@numba.njit()\n",
      "def p_c13__n14(tf):\n",
      "    # c13 + p --> n14\n",
      "    rate = 0.0\n",
      "    \n",
      "    # nacrn\n",
      "    rate += np.exp(  18.5155 + -13.72*tf.T913i + -0.450018*tf.T913\n",
      "                  + 3.70823*tf.T9 + -1.70545*tf.T953 + -0.666667*tf.lnT9)\n",
      "    # nacrr\n",
      "    rate += np.exp(  13.9637 + -5.78147*tf.T9i + -0.196703*tf.T913\n",
      "                  + 0.142126*tf.T9 + -0.0238912*tf.T953 + -1.5*tf.lnT9)\n",
      "    # nacrr\n",
      "    rate += np.exp(  15.1825 + -13.5543*tf.T9i\n",
      "                  + -1.5*tf.lnT9)\n",
      "    \n",
      "    return rate\n",
      "\n",
      "\n"
     ]
    }
   ],
   "source": [
    "print(pynet.function_string(c13pg))"
   ]
  },
  {
   "cell_type": "markdown",
   "metadata": {},
   "source": [
    "The `write_network()` method will output the python code needed to define the RHS of a network for integration with the SciPy integrators"
   ]
  },
  {
   "cell_type": "code",
   "execution_count": 25,
   "metadata": {},
   "outputs": [],
   "source": [
    "pynet.write_network(\"cno_test_integrate.py\")"
   ]
  },
  {
   "cell_type": "code",
   "execution_count": 26,
   "metadata": {
    "tags": [
     "nbval-ignore-output"
    ]
   },
   "outputs": [
    {
     "name": "stdout",
     "output_type": "stream",
     "text": [
      "import numpy as np\n",
      "from pynucastro.rates import Tfactors\n",
      "import numba\n",
      "\n",
      "ip = 0\n",
      "ihe4 = 1\n",
      "ic12 = 2\n",
      "ic13 = 3\n",
      "in13 = 4\n",
      "in14 = 5\n",
      "in15 = 6\n",
      "io14 = 7\n",
      "io15 = 8\n",
      "nnuc = 9\n",
      "\n",
      "A = np.zeros((nnuc), dtype=np.int32)\n",
      "\n",
      "A[ip] = 1\n",
      "A[ihe4] = 4\n",
      "A[ic12] = 12\n",
      "A[ic13] = 13\n",
      "A[in13] = 13\n",
      "A[in14] = 14\n",
      "A[in15] = 15\n",
      "A[io14] = 14\n",
      "A[io15] = 15\n",
      "\n",
      "Z = np.zeros((nnuc), dtype=np.int32)\n",
      "\n",
      "Z[ip] = 1\n",
      "Z[ihe4] = 2\n",
      "Z[ic12] = 6\n",
      "Z[ic13] = 6\n",
      "Z[in13] = 7\n",
      "Z[in14] = 7\n",
      "Z[in15] = 7\n",
      "Z[io14] = 8\n",
      "Z[io15] = 8\n",
      "\n",
      "names = []\n",
      "names.append(\"h1\")\n",
      "names.append(\"he4\")\n",
      "names.append(\"c12\")\n",
      "names.append(\"c13\")\n",
      "names.append(\"n13\")\n",
      "names.append(\"n14\")\n",
      "names.append(\"n15\")\n",
      "names.append(\"o14\")\n",
      "names.append(\"o15\")\n",
      "\n",
      "@numba.njit()\n",
      "def ye(Y):\n",
      "    return np.sum(Z * Y)/np.sum(A * Y)\n",
      "\n",
      "@numba.njit()\n",
      "def p_c12__n13(tf):\n",
      "    # c12 + p --> n13\n",
      "    rate = 0.0\n",
      "    \n",
      "    # ls09n\n",
      "    rate += np.exp(  17.1482 + -13.692*tf.T913i + -0.230881*tf.T913\n",
      "                  + 4.44362*tf.T9 + -3.15898*tf.T953 + -0.666667*tf.lnT9)\n",
      "    # ls09r\n",
      "    rate += np.exp(  17.5428 + -3.77849*tf.T9i + -5.10735*tf.T913i + -2.24111*tf.T913\n",
      "                  + 0.148883*tf.T9 + -1.5*tf.lnT9)\n",
      "    \n",
      "    return rate\n",
      "\n",
      "@numba.njit()\n",
      "def p_c13__n14(tf):\n",
      "    # c13 + p --> n14\n",
      "    rate = 0.0\n",
      "    \n",
      "    # nacrn\n",
      "    rate += np.exp(  18.5155 + -13.72*tf.T913i + -0.450018*tf.T913\n",
      "                  + 3.70823*tf.T9 + -1.70545*tf.T953 + -0.666667*tf.lnT9)\n",
      "    # nacrr\n",
      "    rate += np.exp(  13.9637 + -5.78147*tf.T9i + -0.196703*tf.T913\n",
      "                  + 0.142126*tf.T9 + -0.0238912*tf.T953 + -1.5*tf.lnT9)\n",
      "    # nacrr\n",
      "    rate += np.exp(  15.1825 + -13.5543*tf.T9i\n",
      "                  + -1.5*tf.lnT9)\n",
      "    \n",
      "    return rate\n",
      "\n",
      "@numba.njit()\n",
      "def n13__c13__weak__wc12(tf):\n",
      "    # n13 --> c13\n",
      "    rate = 0.0\n",
      "    \n",
      "    # wc12w\n",
      "    rate += np.exp(  -6.7601)\n",
      "    \n",
      "    return rate\n",
      "\n",
      "@numba.njit()\n",
      "def p_n13__o14(tf):\n",
      "    # n13 + p --> o14\n",
      "    rate = 0.0\n",
      "    \n",
      "    # lg06n\n",
      "    rate += np.exp(  18.1356 + -15.1676*tf.T913i + 0.0955166*tf.T913\n",
      "                  + 3.0659*tf.T9 + -0.507339*tf.T953 + -0.666667*tf.lnT9)\n",
      "    # lg06r\n",
      "    rate += np.exp(  10.9971 + -6.12602*tf.T9i + 1.57122*tf.T913i\n",
      "                  + -1.5*tf.lnT9)\n",
      "    \n",
      "    return rate\n",
      "\n",
      "@numba.njit()\n",
      "def p_n14__o15(tf):\n",
      "    # n14 + p --> o15\n",
      "    rate = 0.0\n",
      "    \n",
      "    # im05n\n",
      "    rate += np.exp(  17.01 + -15.193*tf.T913i + -0.161954*tf.T913\n",
      "                  + -7.52123*tf.T9 + -0.987565*tf.T953 + -0.666667*tf.lnT9)\n",
      "    # im05r\n",
      "    rate += np.exp(  6.73578 + -4.891*tf.T9i\n",
      "                  + 0.0682*tf.lnT9)\n",
      "    # im05r\n",
      "    rate += np.exp(  7.65444 + -2.998*tf.T9i\n",
      "                  + -1.5*tf.lnT9)\n",
      "    # im05n\n",
      "    rate += np.exp(  20.1169 + -15.193*tf.T913i + -4.63975*tf.T913\n",
      "                  + 9.73458*tf.T9 + -9.55051*tf.T953 + 0.333333*tf.lnT9)\n",
      "    \n",
      "    return rate\n",
      "\n",
      "@numba.njit()\n",
      "def p_n15__he4_c12(tf):\n",
      "    # n15 + p --> he4 + c12\n",
      "    rate = 0.0\n",
      "    \n",
      "    # nacrn\n",
      "    rate += np.exp(  27.4764 + -15.253*tf.T913i + 1.59318*tf.T913\n",
      "                  + 2.4479*tf.T9 + -2.19708*tf.T953 + -0.666667*tf.lnT9)\n",
      "    # nacrr\n",
      "    rate += np.exp(  -6.57522 + -1.1638*tf.T9i + 22.7105*tf.T913\n",
      "                  + -2.90707*tf.T9 + 0.205754*tf.T953 + -1.5*tf.lnT9)\n",
      "    # nacrr\n",
      "    rate += np.exp(  20.8972 + -7.406*tf.T9i\n",
      "                  + -1.5*tf.lnT9)\n",
      "    # nacrr\n",
      "    rate += np.exp(  -4.87347 + -2.02117*tf.T9i + 30.8497*tf.T913\n",
      "                  + -8.50433*tf.T9 + -1.54426*tf.T953 + -1.5*tf.lnT9)\n",
      "    \n",
      "    return rate\n",
      "\n",
      "@numba.njit()\n",
      "def o14__n14__weak__wc12(tf):\n",
      "    # o14 --> n14\n",
      "    rate = 0.0\n",
      "    \n",
      "    # wc12w\n",
      "    rate += np.exp(  -4.62354)\n",
      "    \n",
      "    return rate\n",
      "\n",
      "@numba.njit()\n",
      "def o15__n15__weak__wc12(tf):\n",
      "    # o15 --> n15\n",
      "    rate = 0.0\n",
      "    \n",
      "    # wc12w\n",
      "    rate += np.exp(  -5.17053)\n",
      "    \n",
      "    return rate\n",
      "\n",
      "def rhs(t, Y, rho, T):\n",
      "    return rhs_eq(t, Y, rho, T)\n",
      "\n",
      "@numba.njit()\n",
      "def rhs_eq(t, Y, rho, T):\n",
      "\n",
      "    ip = 0\n",
      "    ihe4 = 1\n",
      "    ic12 = 2\n",
      "    ic13 = 3\n",
      "    in13 = 4\n",
      "    in14 = 5\n",
      "    in15 = 6\n",
      "    io14 = 7\n",
      "    io15 = 8\n",
      "    nnuc = 9\n",
      "\n",
      "    tf = Tfactors(T)\n",
      "\n",
      "    lambda_p_c12__n13 = p_c12__n13(tf)\n",
      "    lambda_p_c13__n14 = p_c13__n14(tf)\n",
      "    lambda_n13__c13__weak__wc12 = n13__c13__weak__wc12(tf)\n",
      "    lambda_p_n13__o14 = p_n13__o14(tf)\n",
      "    lambda_p_n14__o15 = p_n14__o15(tf)\n",
      "    lambda_p_n15__he4_c12 = p_n15__he4_c12(tf)\n",
      "    lambda_o14__n14__weak__wc12 = o14__n14__weak__wc12(tf)\n",
      "    lambda_o15__n15__weak__wc12 = o15__n15__weak__wc12(tf)\n",
      "\n",
      "    dYdt = np.zeros((nnuc), dtype=np.float64)\n",
      "\n",
      "    dYdt[ip] = (\n",
      "       -rho*Y[ip]*Y[ic12]*lambda_p_c12__n13\n",
      "       -rho*Y[ip]*Y[ic13]*lambda_p_c13__n14\n",
      "       -rho*Y[ip]*Y[in13]*lambda_p_n13__o14\n",
      "       -rho*Y[ip]*Y[in14]*lambda_p_n14__o15\n",
      "       -rho*Y[ip]*Y[in15]*lambda_p_n15__he4_c12\n",
      "       )\n",
      "\n",
      "    dYdt[ihe4] = (\n",
      "       +rho*Y[ip]*Y[in15]*lambda_p_n15__he4_c12\n",
      "       )\n",
      "\n",
      "    dYdt[ic12] = (\n",
      "       -rho*Y[ip]*Y[ic12]*lambda_p_c12__n13\n",
      "       +rho*Y[ip]*Y[in15]*lambda_p_n15__he4_c12\n",
      "       )\n",
      "\n",
      "    dYdt[ic13] = (\n",
      "       -rho*Y[ip]*Y[ic13]*lambda_p_c13__n14\n",
      "       +Y[in13]*lambda_n13__c13__weak__wc12\n",
      "       )\n",
      "\n",
      "    dYdt[in13] = (\n",
      "       -Y[in13]*lambda_n13__c13__weak__wc12\n",
      "       -rho*Y[ip]*Y[in13]*lambda_p_n13__o14\n",
      "       +rho*Y[ip]*Y[ic12]*lambda_p_c12__n13\n",
      "       )\n",
      "\n",
      "    dYdt[in14] = (\n",
      "       -rho*Y[ip]*Y[in14]*lambda_p_n14__o15\n",
      "       +rho*Y[ip]*Y[ic13]*lambda_p_c13__n14\n",
      "       +Y[io14]*lambda_o14__n14__weak__wc12\n",
      "       )\n",
      "\n",
      "    dYdt[in15] = (\n",
      "       -rho*Y[ip]*Y[in15]*lambda_p_n15__he4_c12\n",
      "       +Y[io15]*lambda_o15__n15__weak__wc12\n",
      "       )\n",
      "\n",
      "    dYdt[io14] = (\n",
      "       -Y[io14]*lambda_o14__n14__weak__wc12\n",
      "       +rho*Y[ip]*Y[in13]*lambda_p_n13__o14\n",
      "       )\n",
      "\n",
      "    dYdt[io15] = (\n",
      "       -Y[io15]*lambda_o15__n15__weak__wc12\n",
      "       +rho*Y[ip]*Y[in14]*lambda_p_n14__o15\n",
      "       )\n",
      "\n",
      "    return dYdt\n"
     ]
    }
   ],
   "source": [
    "%cat cno_test_integrate.py"
   ]
  },
  {
   "cell_type": "markdown",
   "metadata": {},
   "source": [
    "We can now import the network that was just created and integrate it using the SciPy ODE solvers"
   ]
  },
  {
   "cell_type": "code",
   "execution_count": 27,
   "metadata": {},
   "outputs": [],
   "source": [
    "import cno_test_integrate as cno"
   ]
  },
  {
   "cell_type": "code",
   "execution_count": 28,
   "metadata": {},
   "outputs": [],
   "source": [
    "from scipy.integrate import solve_ivp\n",
    "import numpy as np"
   ]
  },
  {
   "cell_type": "markdown",
   "metadata": {},
   "source": [
    "Initialize the thermodynamic conditions and initial composition.  We express the composition as molar fractions, `Y0`."
   ]
  },
  {
   "cell_type": "code",
   "execution_count": 29,
   "metadata": {},
   "outputs": [],
   "source": [
    "rho = 150\n",
    "T = 1.5e7\n",
    "\n",
    "X0 = np.zeros(cno.nnuc)\n",
    "X0[cno.ip] = 0.7\n",
    "X0[cno.ihe4] = 0.28\n",
    "X0[cno.ic12] = 0.02\n",
    "\n",
    "Y0 = X0/cno.A"
   ]
  },
  {
   "cell_type": "markdown",
   "metadata": {},
   "source": [
    "Now we integrate.  We use the `BDF` method, since reaction networks are in general stiff"
   ]
  },
  {
   "cell_type": "code",
   "execution_count": 30,
   "metadata": {},
   "outputs": [],
   "source": [
    "tmax = 1.e20\n",
    "\n",
    "sol = solve_ivp(cno.rhs, [0, tmax], Y0, method=\"BDF\",\n",
    "                dense_output=True, args=(rho, T), rtol=1.e-6, atol=1.e-6)"
   ]
  },
  {
   "cell_type": "markdown",
   "metadata": {},
   "source": [
    "A network plot"
   ]
  },
  {
   "cell_type": "code",
   "execution_count": 31,
   "metadata": {},
   "outputs": [],
   "source": [
    "import matplotlib.pyplot as plt"
   ]
  },
  {
   "cell_type": "code",
   "execution_count": 32,
   "metadata": {},
   "outputs": [
    {
     "data": {
      "image/png": "[encoded data removed]",
      "text/plain": [
       "<Figure size 1000x800 with 1 Axes>"
      ]
     },
     "metadata": {
      "needs_background": "light"
     },
     "output_type": "display_data"
    }
   ],
   "source": [
    "fig = plt.figure()\n",
    "ax = fig.add_subplot(111)\n",
    "\n",
    "for n in range(cno.nnuc):\n",
    "    ax.loglog(sol.t, sol.y[n,:] * cno.A[n], label=f\"X({n})\")\n",
    "\n",
    "ax.set_xlim(1.e10, 1.e20)\n",
    "ax.set_ylim(1.e-8, 1.0)\n",
    "ax.legend(fontsize=\"small\")\n",
    "\n",
    "fig.set_size_inches((10, 8))"
   ]
  },
  {
   "cell_type": "code",
   "execution_count": null,
   "metadata": {},
   "outputs": [],
   "source": []
  }
 ],
 "metadata": {
  "kernelspec": {
   "display_name": "Python 3 (ipykernel)",
   "language": "python",
   "name": "python3"
  },
  "language_info": {
   "codemirror_mode": {
    "name": "ipython",
    "version": 3
   },
   "file_extension": ".py",
   "mimetype": "text/x-python",
   "name": "python",
   "nbconvert_exporter": "python",
   "pygments_lexer": "ipython3",
   "version": "3.9.7"
  },
  "widgets": {
   "application/vnd.jupyter.widget-state+json": {
    "state": {
     "4ca1e45866d744308a6c581f57b84056": {
      "model_module": "@jupyter-widgets/base",
      "model_module_version": "1.2.0",
      "model_name": "LayoutModel",
      "state": {}
     },
     "72f406bed2e345569a95585d2b6c567f": {
      "model_module": "@jupyter-widgets/controls",
      "model_module_version": "1.5.0",
      "model_name": "VBoxModel",
      "state": {
       "_dom_classes": [
        "widget-interact"
       ],
       "children": [
        "IPY_MODEL_8edba32715e242d1bf125f254416f26b",
        "IPY_MODEL_ac0113167e024c839fb1abe918612081",
        "IPY_MODEL_a73696ed808849759f54888053a92c4f"
       ],
       "layout": "IPY_MODEL_7a435c7d65cd4ddf96cd4764c88cb6c3"
      }
     },
     "772e9d76de33431691048e95633821ab": {
      "model_module": "@jupyter-widgets/base",
      "model_module_version": "1.2.0",
      "model_name": "LayoutModel",
      "state": {}
     },
     "7a435c7d65cd4ddf96cd4764c88cb6c3": {
      "model_module": "@jupyter-widgets/base",
      "model_module_version": "1.2.0",
      "model_name": "LayoutModel",
      "state": {}
     },
     "8edba32715e242d1bf125f254416f26b": {
      "model_module": "@jupyter-widgets/controls",
      "model_module_version": "1.5.0",
      "model_name": "FloatSliderModel",
      "state": {
       "description": "logrho",
       "layout": "IPY_MODEL_4ca1e45866d744308a6c581f57b84056",
       "max": 6,
       "min": 2,
       "step": 0.1,
       "style": "IPY_MODEL_99024fcbc18741eaa560d3f5608468a1",
       "value": 4
      }
     },
     "99024fcbc18741eaa560d3f5608468a1": {
      "model_module": "@jupyter-widgets/controls",
      "model_module_version": "1.5.0",
      "model_name": "SliderStyleModel",
      "state": {
       "description_width": ""
      }
     },
     "a73696ed808849759f54888053a92c4f": {
      "model_module": "@jupyter-widgets/output",
      "model_module_version": "1.0.0",
      "model_name": "OutputModel",
      "state": {
       "layout": "IPY_MODEL_b95a5b6ed11c4815826da4e9ccb74559",
       "outputs": [
        {
         "data": {
          "image/png": "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\n",
          "text/plain": "<Figure size 800x600 with 2 Axes>"
         },
         "metadata": {
          "needs_background": "light"
         },
         "output_type": "display_data"
        }
       ]
      }
     },
     "ac0113167e024c839fb1abe918612081": {
      "model_module": "@jupyter-widgets/controls",
      "model_module_version": "1.5.0",
      "model_name": "FloatSliderModel",
      "state": {
       "description": "logT",
       "layout": "IPY_MODEL_772e9d76de33431691048e95633821ab",
       "max": 9,
       "min": 7,
       "step": 0.1,
       "style": "IPY_MODEL_d91e3b27ed98412291a022dae8df460f",
       "value": 8
      }
     },
     "b95a5b6ed11c4815826da4e9ccb74559": {
      "model_module": "@jupyter-widgets/base",
      "model_module_version": "1.2.0",
      "model_name": "LayoutModel",
      "state": {}
     },
     "d91e3b27ed98412291a022dae8df460f": {
      "model_module": "@jupyter-widgets/controls",
      "model_module_version": "1.5.0",
      "model_name": "SliderStyleModel",
      "state": {
       "description_width": ""
      }
     }
    },
    "version_major": 2,
    "version_minor": 0
   }
  }
 },
 "nbformat": 4,
 "nbformat_minor": 4
}
