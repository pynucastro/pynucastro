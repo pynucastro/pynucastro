{
 "cells": [
  {
   "cell_type": "markdown",
   "metadata": {},
   "source": [
    "# Selecting Rates from a Library"
   ]
  },
  {
   "cell_type": "markdown",
   "metadata": {},
   "source": [
    "The `Library` class in `pynucastro` provides a high level interface for reading files containing one or more Reaclib rates and then filtering these rates based on user-specified criteria for the nuclei involved in the reactions. We can then use the resulting rates to build a network.\n",
    "\n",
    "This example uses a Reaclib snapshot (`20180319default2`) downloaded from:\n",
    "\n",
    "https://groups.nscl.msu.edu/jina/reaclib/db/library.php?action=viewsnapshots\n",
    "\n",
    "That snapshot is found in the library search path."
   ]
  },
  {
   "cell_type": "markdown",
   "metadata": {},
   "source": [
    "## Reading a Rate Snapshot\n",
    "\n",
    "The `Library` class will look for the library file in the working directory or in the `pynucastro/library` subdirectory of the `pynucastro` package.\n",
    "\n",
    "When the constructor is supplied a file name, `pynucastro` will read the contents of this file and interpret them as Reaclib rates in either the Reaclib 1 or 2 formats. The `Library` then stores the rates from the file as `Rate` objects."
   ]
  },
  {
   "cell_type": "code",
   "execution_count": 1,
   "metadata": {
    "tags": [
     "nbval-skip"
    ]
   },
   "outputs": [],
   "source": [
    "import pynucastro as pyna"
   ]
  },
  {
   "cell_type": "code",
   "execution_count": 2,
   "metadata": {
    "tags": [
     "nbval-skip"
    ]
   },
   "outputs": [],
   "source": [
    "library_file = '20180319default2'\n",
    "mylibrary = pyna.rates.Library(library_file)"
   ]
  },
  {
   "cell_type": "markdown",
   "metadata": {},
   "source": [
    "## Specifying Desired Nuclei\n",
    "\n",
    "This example constructs a CNO network like the one constructed from a set of Reaclib rate files in the \"pynucastro usage examples\" section of this documentation.\n",
    "\n",
    "This time, however, we will specify the nuclei we want in the network and allow the `Library` class to find all the rates linking only nuclei in the set we specified.\n",
    "\n",
    "We can specify these nuclei by their abbreviations in the form, e.g. \"he4\":"
   ]
  },
  {
   "cell_type": "code",
   "execution_count": 3,
   "metadata": {
    "tags": [
     "nbval-skip"
    ]
   },
   "outputs": [],
   "source": [
    "all_nuclei = [\"p\", \"he4\", \"c12\", \"n13\", \"c13\", \"o14\", \"n14\", \"o15\", \"n15\"]"
   ]
  },
  {
   "cell_type": "markdown",
   "metadata": {},
   "source": [
    "Now we use the `Library.linking_nuclei()` function to return a smaller `Library` object containing only the rates that link these nuclei.\n",
    "\n",
    "We can pass `with_reverse=False` to restrict `linking_nuclei` to only include forward rates from the Reaclib library, as pynucastro does not yet implement partition functions for reverse rates."
   ]
  },
  {
   "cell_type": "code",
   "execution_count": 4,
   "metadata": {
    "tags": [
     "nbval-skip"
    ]
   },
   "outputs": [],
   "source": [
    "cno_library = mylibrary.linking_nuclei(all_nuclei, with_reverse=False)"
   ]
  },
  {
   "cell_type": "markdown",
   "metadata": {},
   "source": [
    "Now we can create a network (`PythonNetwork` or `StarKillerNetwork`) as:"
   ]
  },
  {
   "cell_type": "code",
   "execution_count": 5,
   "metadata": {
    "tags": [
     "nbval-skip"
    ]
   },
   "outputs": [],
   "source": [
    "cno_network = pyna.networks.PythonNetwork(libraries=cno_library)"
   ]
  },
  {
   "cell_type": "markdown",
   "metadata": {
    "tags": [
     "nbval-skip"
    ]
   },
   "source": [
    "In the above, we construct a network from a `Library` object by passing the `Library` object to the `libraries` argument of the network constructor. To construct a network from multiple libraries, the `libraries` argument can also take a list of `Library` objects.\n",
    "\n",
    "We can show the structure of the network by plotting a network diagram."
   ]
  },
  {
   "cell_type": "code",
   "execution_count": 6,
   "metadata": {
    "tags": [
     "nbval-skip"
    ]
   },
   "outputs": [
    {
     "data": {
      "image/png": "[encoded data removed]",
      "text/plain": [
       "<Figure size 800x600 with 1 Axes>"
      ]
     },
     "metadata": {
      "needs_background": "light"
     },
     "output_type": "display_data"
    }
   ],
   "source": [
    "cno_network.plot()"
   ]
  },
  {
   "cell_type": "markdown",
   "metadata": {},
   "source": [
    "Note that the above network also includes the triple-alpha rate from Reaclib."
   ]
  },
  {
   "cell_type": "markdown",
   "metadata": {},
   "source": [
    "If we wanted to generate the python code to calculate the right-hand side we could next do:"
   ]
  },
  {
   "cell_type": "code",
   "execution_count": 7,
   "metadata": {
    "tags": [
     "nbval-skip"
    ]
   },
   "outputs": [],
   "source": [
    "cno_network.write_network('network_module.py')"
   ]
  },
  {
   "cell_type": "markdown",
   "metadata": {},
   "source": [
    "And we could run this together with the burn driver program in `examples/burn.py`"
   ]
  },
  {
   "cell_type": "markdown",
   "metadata": {},
   "source": [
    "## Selecting Rates Based on Reactants or Products"
   ]
  },
  {
   "cell_type": "markdown",
   "metadata": {},
   "source": [
    "We can also filter a library by asking just for the rates the consume or produce a certain nucleus.  For example, what consumes He4 in the above `cno_network`"
   ]
  },
  {
   "cell_type": "code",
   "execution_count": 8,
   "metadata": {},
   "outputs": [
    {
     "name": "stdout",
     "output_type": "stream",
     "text": [
      "he4 + he4 + he4 --> c12    (he4 + he4 + he4 --> c12 <fy05_reaclib__>\n"
     ]
    }
   ],
   "source": [
    "he_consumed = cno_library.consumes(\"he4\")\n",
    "print(he_consumed)"
   ]
  },
  {
   "cell_type": "markdown",
   "metadata": {},
   "source": [
    "and what produces it?"
   ]
  },
  {
   "cell_type": "code",
   "execution_count": 9,
   "metadata": {},
   "outputs": [
    {
     "name": "stdout",
     "output_type": "stream",
     "text": [
      "n15 + p --> he4 + c12    (n15 + p --> he4 + c12 <nacr_reaclib__>\n"
     ]
    }
   ],
   "source": [
    "he_produced = cno_library.produces(\"he4\")\n",
    "print(he_produced)"
   ]
  },
  {
   "cell_type": "markdown",
   "metadata": {},
   "source": [
    "## Filtering the Library\n",
    "\n",
    "This example introduces the `RateFilter` class which allows us to define a set of reactants and products to search for in a `Library` object.\n",
    "\n",
    "### Inexact Filtering\n",
    "\n",
    "Inexact filtering is like using wildcards: in the following example, the rate filter we define will match any rates in which $\\mathrm{^{12}C}$ is a reactant."
   ]
  },
  {
   "cell_type": "code",
   "execution_count": 10,
   "metadata": {
    "tags": [
     "nbval-skip"
    ]
   },
   "outputs": [],
   "source": [
    "c12_inexact_filter = pyna.rates.RateFilter(reactants=['c12'], exact=False)"
   ]
  },
  {
   "cell_type": "markdown",
   "metadata": {},
   "source": [
    "Once we construct a `RateFilter` object, we can apply it to our `Library` by passing it to the `Library.filter` function.\n",
    "\n",
    "`Library.filter` returns a new `Library` object containing the rates that match our `RateFilter`.\n",
    "\n",
    "We can print a `Library` to see the rates it contains. In parentheses the rate identifier is printed, showing the Reaclib rate label as well as whether the rate is forward or reverse."
   ]
  },
  {
   "cell_type": "code",
   "execution_count": 11,
   "metadata": {
    "tags": [
     "nbval-skip"
    ]
   },
   "outputs": [
    {
     "name": "stdout",
     "output_type": "stream",
     "text": [
      "c12 + n --> c13    (c12 + n --> c13 <ks03_reaclib__>\n",
      "c12 + p --> n13    (c12 + p --> n13 <ls09_reaclib__>\n",
      "c12 + n --> p + b12    (c12 + n --> p + b12 <wag_reaclib__reverse>\n",
      "c12 + n --> he4 + be9    (c12 + n --> he4 + be9 <cf88_reaclib__reverse>\n",
      "c12 + he4 --> o16    (c12 + he4 --> o16 <nac2_reaclib__>\n",
      "c12 + he4 --> n + o15    (c12 + he4 --> n + o15 <cf88_reaclib__reverse>\n",
      "c12 + he4 --> p + n15    (c12 + he4 --> p + n15 <nacr_reaclib__reverse>\n",
      "c12 + c12 --> n + mg23    (c12 + c12 --> n + mg23 <cf88_reaclib__reverse>\n",
      "c12 + c12 --> p + na23    (c12 + c12 --> p + na23 <cf88_reaclib__>\n",
      "c12 + c12 --> he4 + ne20    (c12 + c12 --> he4 + ne20 <cf88_reaclib__>\n",
      "c12 --> he4 + he4 + he4    (c12 --> he4 + he4 + he4 <fy05_reaclib__reverse>\n",
      "c12 --> p + b11    (c12 --> p + b11 <nw00_reaclib__reverse>\n",
      "c12 --> n + c11    (c12 --> n + c11 <bb92_reaclib__reverse>\n",
      "o16 + c12 --> n + si27    (o16 + c12 --> n + si27 <cf88_reaclib__reverse>\n",
      "o16 + c12 --> p + al27    (o16 + c12 --> p + al27 <cf88_reaclib__>\n",
      "o16 + c12 --> he4 + mg24    (o16 + c12 --> he4 + mg24 <cf88_reaclib__>\n",
      "ne20 + c12 --> n + s31    (ne20 + c12 --> n + s31 <rolf_reaclib__>\n",
      "ne20 + c12 --> p + p31    (ne20 + c12 --> p + p31 <rolf_reaclib__>\n",
      "ne20 + c12 --> he4 + si28    (ne20 + c12 --> he4 + si28 <rolf_reaclib__>\n"
     ]
    }
   ],
   "source": [
    "c12_inexact_library = mylibrary.filter(c12_inexact_filter)\n",
    "print(c12_inexact_library)"
   ]
  },
  {
   "cell_type": "markdown",
   "metadata": {},
   "source": [
    "The rate identifiers above can be used to access individual `Rate` objects within a `Library` as follows:"
   ]
  },
  {
   "cell_type": "code",
   "execution_count": 12,
   "metadata": {
    "tags": [
     "nbval-skip"
    ]
   },
   "outputs": [],
   "source": [
    "cago = c12_inexact_library.get_rate('c12 + he4 --> o16 <nac2_reaclib__>')"
   ]
  },
  {
   "cell_type": "code",
   "execution_count": 13,
   "metadata": {
    "tags": [
     "nbval-skip"
    ]
   },
   "outputs": [
    {
     "data": {
      "image/png": "[encoded data removed]",
      "text/plain": [
       "<Figure size 600x400 with 1 Axes>"
      ]
     },
     "metadata": {
      "needs_background": "light"
     },
     "output_type": "display_data"
    }
   ],
   "source": [
    "cago.plot()"
   ]
  },
  {
   "cell_type": "markdown",
   "metadata": {},
   "source": [
    "### Exact Filtering\n",
    "\n",
    "Exact filtering is useful when you have a specific rate in mind or a specific combination of reactants or products. In the following example, we look for all rates of the form $\\mathrm{^{12}C + ^{12}C \\rightarrow \\ldots}$\n",
    "\n",
    "To use exact filtering, omit the `exact` keyword to the `RateFilter` constructor, as it is turned on by default.\n",
    "\n",
    "Exact filtering does not mean all the nuclei involved in the rate must be specified, it means that all filtering options passed to the `RateFilter` constructor are strictly applied. In this case, the filter will return rates with exactly two reactants, both of which are $\\mathrm{^{12}C}$. However, the filter places no constraint on the products or number of products in the rate."
   ]
  },
  {
   "cell_type": "code",
   "execution_count": 14,
   "metadata": {
    "tags": [
     "nbval-skip"
    ]
   },
   "outputs": [
    {
     "name": "stdout",
     "output_type": "stream",
     "text": [
      "c12 + c12 --> n + mg23    (c12 + c12 --> n + mg23 <cf88_reaclib__reverse>\n",
      "c12 + c12 --> p + na23    (c12 + c12 --> p + na23 <cf88_reaclib__>\n",
      "c12 + c12 --> he4 + ne20    (c12 + c12 --> he4 + ne20 <cf88_reaclib__>\n"
     ]
    }
   ],
   "source": [
    "c12_exact_filter = pyna.rates.RateFilter(reactants=['c12', 'c12'])\n",
    "c12_exact_library = mylibrary.filter(c12_exact_filter)\n",
    "print(c12_exact_library)"
   ]
  },
  {
   "cell_type": "markdown",
   "metadata": {},
   "source": [
    "## Example: Building an Alpha Capture Network\n",
    "\n",
    "In the next example, we use rate filtering to iteratively construct a `Library` containing the alpha capture rates linking $\\mathrm{^{12}C}$ to $\\mathrm{^{56}Ni}$.\n",
    "\n",
    "After finding each successive link in the alpha capture chain, we call `Library.heaviest()` to find the heaviest nucleus in the filtered rates. This corresponds to the nucleus with the largest mass number, and in case of a tie between isobars, this returns the isobar with the smallest atomic number. We use this feature to find the reverse rate for each alpha capture reaction.\n",
    "\n",
    "In the example below, we add each filtered library to our alpha capture library `alpha_library`, initialized as an empty `Library`. The `Library` class supports the addition operator by returning a new library containing the rates in the two libraries we added together.\n",
    "\n",
    "This example also introduces the `max_products` keyword, which specifies we are looking for reactions producing at most `max_products` product nuclei.\n",
    "\n",
    "Similarly, the `RateFilter` constructor supports the following keywords constraining the number of reactants and products:\n",
    "\n",
    "- `min_reactants`\n",
    "- `max_reactants`\n",
    "- `min_products`\n",
    "- `max_products`\n",
    "\n",
    "Because we have omitted the argument `exact=False`, the filter constraints we apply are exact."
   ]
  },
  {
   "cell_type": "code",
   "execution_count": 15,
   "metadata": {
    "tags": [
     "nbval-skip"
    ]
   },
   "outputs": [
    {
     "name": "stdout",
     "output_type": "stream",
     "text": [
      "o16\n",
      "ne20\n",
      "mg24\n",
      "si28\n",
      "s32\n",
      "ar36\n",
      "ca40\n",
      "ti44\n",
      "cr48\n",
      "fe52\n",
      "ni56\n"
     ]
    }
   ],
   "source": [
    "alpha_library = pyna.rates.Library()\n",
    "\n",
    "capture = pyna.rates.Nucleus('he4')\n",
    "seed = pyna.rates.Nucleus('c12')\n",
    "\n",
    "while True:\n",
    "    ac_filter = pyna.rates.RateFilter(reactants=[capture, seed], max_products=1)\n",
    "    ac_library = mylibrary.filter(ac_filter)\n",
    "    alpha_library = alpha_library + ac_library\n",
    "\n",
    "    heavy = ac_library.heaviest()\n",
    "    ac_filter_inv = pyna.rates.RateFilter(reactants=[heavy], products=[capture, seed])\n",
    "    ac_inv_library = mylibrary.filter(ac_filter_inv)\n",
    "    alpha_library = alpha_library + ac_inv_library\n",
    "\n",
    "    print(heavy)\n",
    "    if heavy.A == 56:\n",
    "        break\n",
    "    else:\n",
    "        seed = heavy"
   ]
  },
  {
   "cell_type": "markdown",
   "metadata": {},
   "source": [
    "We will next print out the library we constructed, seeing that we have both forward and reverse rates for the alpha chain.\n",
    "\n",
    "Note that at this time `pynucastro` has not yet implemented nuclear partition functions, so these reverse rates are calculated only from detailed balance in the Reaclib library."
   ]
  },
  {
   "cell_type": "code",
   "execution_count": 16,
   "metadata": {
    "tags": [
     "nbval-skip"
    ]
   },
   "outputs": [
    {
     "name": "stdout",
     "output_type": "stream",
     "text": [
      "c12 + he4 --> o16    (c12 + he4 --> o16 <nac2_reaclib__>\n",
      "o16 + he4 --> ne20    (o16 + he4 --> ne20 <co10_reaclib__>\n",
      "o16 --> he4 + c12    (o16 --> he4 + c12 <nac2_reaclib__reverse>\n",
      "ne20 + he4 --> mg24    (ne20 + he4 --> mg24 <il10_reaclib__>\n",
      "ne20 --> he4 + o16    (ne20 --> he4 + o16 <co10_reaclib__reverse>\n",
      "mg24 + he4 --> si28    (mg24 + he4 --> si28 <st08_reaclib__>\n",
      "mg24 --> he4 + ne20    (mg24 --> he4 + ne20 <il10_reaclib__reverse>\n",
      "si28 + he4 --> s32    (si28 + he4 --> s32 <ths8_reaclib__>\n",
      "si28 --> he4 + mg24    (si28 --> he4 + mg24 <st08_reaclib__reverse>\n",
      "s32 + he4 --> ar36    (s32 + he4 --> ar36 <ths8_reaclib__>\n",
      "s32 --> he4 + si28    (s32 --> he4 + si28 <ths8_reaclib__reverse>\n",
      "ar36 + he4 --> ca40    (ar36 + he4 --> ca40 <ths8_reaclib__>\n",
      "ar36 --> he4 + s32    (ar36 --> he4 + s32 <ths8_reaclib__reverse>\n",
      "ca40 + he4 --> ti44    (ca40 + he4 --> ti44 <chw0_reaclib__>\n",
      "ca40 --> he4 + ar36    (ca40 --> he4 + ar36 <ths8_reaclib__reverse>\n",
      "ti44 + he4 --> cr48    (ti44 + he4 --> cr48 <ths8_reaclib__>\n",
      "ti44 --> he4 + ca40    (ti44 --> he4 + ca40 <chw0_reaclib__reverse>\n",
      "cr48 + he4 --> fe52    (cr48 + he4 --> fe52 <ths8_reaclib__>\n",
      "cr48 --> he4 + ti44    (cr48 --> he4 + ti44 <ths8_reaclib__reverse>\n",
      "fe52 + he4 --> ni56    (fe52 + he4 --> ni56 <ths8_reaclib__>\n",
      "fe52 --> he4 + cr48    (fe52 --> he4 + cr48 <ths8_reaclib__reverse>\n",
      "ni56 --> he4 + fe52    (ni56 --> he4 + fe52 <ths8_reaclib__reverse>\n"
     ]
    }
   ],
   "source": [
    "print(alpha_library)"
   ]
  },
  {
   "cell_type": "markdown",
   "metadata": {},
   "source": [
    "Next we can create a reaction network from our filtered alpha capture library by passing our library to a network constructor using the `libraries` keyword."
   ]
  },
  {
   "cell_type": "code",
   "execution_count": 17,
   "metadata": {
    "tags": [
     "nbval-skip"
    ]
   },
   "outputs": [],
   "source": [
    "alpha_network = pyna.networks.PythonNetwork(libraries=alpha_library)"
   ]
  },
  {
   "cell_type": "markdown",
   "metadata": {},
   "source": [
    "And finally we can make Z-N plot of the nuclei linked via the reactions we selected."
   ]
  },
  {
   "cell_type": "code",
   "execution_count": 18,
   "metadata": {
    "tags": [
     "nbval-skip"
    ]
   },
   "outputs": [
    {
     "data": {
      "image/png": "[encoded data removed]",
      "text/plain": [
       "<Figure size 800x600 with 1 Axes>"
      ]
     },
     "metadata": {
      "needs_background": "light"
     },
     "output_type": "display_data"
    }
   ],
   "source": [
    "alpha_network.plot()"
   ]
  },
  {
   "cell_type": "code",
   "execution_count": null,
   "metadata": {},
   "outputs": [],
   "source": []
  }
 ],
 "metadata": {
  "celltoolbar": "Tags",
  "kernelspec": {
   "display_name": "Python 3 (ipykernel)",
   "language": "python",
   "name": "python3"
  },
  "language_info": {
   "codemirror_mode": {
    "name": "ipython",
    "version": 3
   },
   "file_extension": ".py",
   "mimetype": "text/x-python",
   "name": "python",
   "nbconvert_exporter": "python",
   "pygments_lexer": "ipython3",
   "version": "3.10.2"
  }
 },
 "nbformat": 4,
 "nbformat_minor": 4
}
