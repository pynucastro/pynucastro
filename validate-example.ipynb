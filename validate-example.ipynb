{
 "cells": [
  {
   "cell_type": "markdown",
   "id": "0784b0fc-cf3a-4f75-b22f-e96d7e469d1a",
   "metadata": {
    "user_expressions": []
   },
   "source": [
    "# Checking your network"
   ]
  },
  {
   "cell_type": "markdown",
   "id": "9ef5a720-b022-4347-936e-e503395a7db7",
   "metadata": {
    "user_expressions": []
   },
   "source": [
    "Selecting which rates to include and which to exclude from your network is a bit of an art.  pynucastro has a few tools to help check what you might be missing."
   ]
  },
  {
   "cell_type": "code",
   "execution_count": 1,
   "id": "40841ac9-5cf2-4d12-9df9-2cd460852ca2",
   "metadata": {
    "execution": {
     "iopub.execute_input": "2024-10-16T16:46:35.004972Z",
     "iopub.status.busy": "2024-10-16T16:46:35.004567Z",
     "iopub.status.idle": "2024-10-16T16:46:36.402109Z",
     "shell.execute_reply": "2024-10-16T16:46:36.401532Z"
    },
    "tags": []
   },
   "outputs": [],
   "source": [
    "import pynucastro as pyna"
   ]
  },
  {
   "cell_type": "code",
   "execution_count": 2,
   "id": "94d36083-9d99-457f-9103-3a45e046d613",
   "metadata": {
    "execution": {
     "iopub.execute_input": "2024-10-16T16:46:36.404436Z",
     "iopub.status.busy": "2024-10-16T16:46:36.403959Z",
     "iopub.status.idle": "2024-10-16T16:46:40.231525Z",
     "shell.execute_reply": "2024-10-16T16:46:40.230863Z"
    },
    "tags": []
   },
   "outputs": [],
   "source": [
    "reaclib_library = pyna.ReacLibLibrary()"
   ]
  },
  {
   "cell_type": "markdown",
   "id": "bc58b81e-bf45-430e-9215-363d0a96e8cd",
   "metadata": {
    "user_expressions": []
   },
   "source": [
    "## `RateCollection` validate method\n",
    "\n",
    "Let's start by trying to create a network for carbon burning."
   ]
  },
  {
   "cell_type": "markdown",
   "id": "da391bca-c38c-437a-a419-88f26f7b7ac0",
   "metadata": {
    "user_expressions": []
   },
   "source": [
    "To start, let's pick the nuclei $\\alpha$, ${}^{12}\\mathrm{C}$ and ${}^{20}\\mathrm{Ne}$"
   ]
  },
  {
   "cell_type": "code",
   "execution_count": 3,
   "id": "a3350cc9-924b-4d59-ab60-9582e38c337b",
   "metadata": {
    "execution": {
     "iopub.execute_input": "2024-10-16T16:46:40.233527Z",
     "iopub.status.busy": "2024-10-16T16:46:40.233347Z",
     "iopub.status.idle": "2024-10-16T16:46:40.309963Z",
     "shell.execute_reply": "2024-10-16T16:46:40.309445Z"
    },
    "tags": []
   },
   "outputs": [],
   "source": [
    "nuclei = [\"he4\", \"c12\", \"ne20\"]\n",
    "cburn_library = reaclib_library.linking_nuclei(nuclei)"
   ]
  },
  {
   "cell_type": "markdown",
   "id": "c7be0af2-4e3d-43e5-b7b7-686435587af7",
   "metadata": {
    "user_expressions": []
   },
   "source": [
    "Now we can make a rate collection"
   ]
  },
  {
   "cell_type": "code",
   "execution_count": 4,
   "id": "a1364f20-9017-47c0-800b-478d0c148f09",
   "metadata": {
    "execution": {
     "iopub.execute_input": "2024-10-16T16:46:40.312136Z",
     "iopub.status.busy": "2024-10-16T16:46:40.311703Z",
     "iopub.status.idle": "2024-10-16T16:46:40.317295Z",
     "shell.execute_reply": "2024-10-16T16:46:40.316853Z"
    },
    "tags": []
   },
   "outputs": [
    {
     "data": {
      "text/plain": [
       "C12 ⟶ He4 + He4 + He4\n",
       "C12 + C12 ⟶ He4 + Ne20\n",
       "Ne20 + He4 ⟶ C12 + C12\n",
       "He4 + He4 + He4 ⟶ C12 + 𝛾"
      ]
     },
     "execution_count": 4,
     "metadata": {},
     "output_type": "execute_result"
    }
   ],
   "source": [
    "rc = pyna.RateCollection(libraries=[cburn_library])\n",
    "rc"
   ]
  },
  {
   "cell_type": "markdown",
   "id": "53c36d63-b39b-4a5b-ae2a-750b00e83668",
   "metadata": {
    "user_expressions": []
   },
   "source": [
    "Now, since we are primarily interested in ${}^{12}\\mathrm{C} + {}^{12}\\mathrm{C}$, let's make sure we are not missing any other reactions that have the same reactants.  The `validate()` method will do this, by comparing the rates we have selected to another library."
   ]
  },
  {
   "cell_type": "code",
   "execution_count": 5,
   "id": "d85f0c38-5eec-43b1-900a-c6077182e9fe",
   "metadata": {
    "execution": {
     "iopub.execute_input": "2024-10-16T16:46:40.319175Z",
     "iopub.status.busy": "2024-10-16T16:46:40.318739Z",
     "iopub.status.idle": "2024-10-16T16:46:41.369733Z",
     "shell.execute_reply": "2024-10-16T16:46:41.369274Z"
    },
    "tags": []
   },
   "outputs": [
    {
     "name": "stdout",
     "output_type": "stream",
     "text": [
      "validation: Ne20 produced in C12 + C12 ⟶ He4 + Ne20 never consumed.\n"
     ]
    },
    {
     "name": "stdout",
     "output_type": "stream",
     "text": [
      "validation: missing He4 + He4 + He4 ⟶ p + B11 as alternative to He4 + He4 + He4 ⟶ C12 + 𝛾 (Q = -8.682 MeV).\n",
      "validation: missing He4 + He4 + He4 ⟶ n + C11 as alternative to He4 + He4 + He4 ⟶ C12 + 𝛾 (Q = -11.4466 MeV).\n",
      "validation: missing C12 + C12 ⟶ p + Na23 as alternative to C12 + C12 ⟶ He4 + Ne20 (Q = 2.242 MeV).\n",
      "validation: missing C12 + C12 ⟶ n + Mg23 as alternative to C12 + C12 ⟶ He4 + Ne20 (Q = -2.598 MeV).\n"
     ]
    },
    {
     "data": {
      "text/plain": [
       "False"
      ]
     },
     "execution_count": 5,
     "metadata": {},
     "output_type": "execute_result"
    }
   ],
   "source": [
    "rc.validate(reaclib_library)"
   ]
  },
  {
   "cell_type": "markdown",
   "id": "c01017db-c393-4db8-b711-aaea1a1b4cbb",
   "metadata": {
    "user_expressions": []
   },
   "source": [
    "This tells us that we are missing 2 branches of the ${}^{12}\\mathrm{C} + {}^{12}\\mathrm{C}$ reaction.  ReacLib already scales the rates based on the branching of the products, so we should try to include these other branches.\n",
    "\n",
    "Note: by default, `validate()` only checks forward rates."
   ]
  },
  {
   "cell_type": "markdown",
   "id": "2bb5947c-e12e-49fe-b4d9-d64db3d1b11b",
   "metadata": {
    "user_expressions": []
   },
   "source": [
    "To address these issues, we need to include the additional nuclei.  In particular, the branch that makes ${}^{23}\\mathrm{Na}$ is likely important (the rate making ${}^{23}\\mathrm{Mg}$ is endothermic, so less likely)."
   ]
  },
  {
   "cell_type": "code",
   "execution_count": 6,
   "id": "567a885a-783e-4be3-bd1e-56728956ffc8",
   "metadata": {
    "execution": {
     "iopub.execute_input": "2024-10-16T16:46:41.371640Z",
     "iopub.status.busy": "2024-10-16T16:46:41.371305Z",
     "iopub.status.idle": "2024-10-16T16:46:41.448301Z",
     "shell.execute_reply": "2024-10-16T16:46:41.447827Z"
    },
    "tags": []
   },
   "outputs": [
    {
     "data": {
      "text/plain": [
       "C12 ⟶ He4 + He4 + He4\n",
       "C12 + C12 ⟶ p + Na23\n",
       "C12 + C12 ⟶ He4 + Ne20\n",
       "Ne20 + He4 ⟶ p + Na23\n",
       "Ne20 + He4 ⟶ C12 + C12\n",
       "Na23 + p ⟶ He4 + Ne20\n",
       "Na23 + p ⟶ C12 + C12\n",
       "He4 + He4 + He4 ⟶ C12 + 𝛾"
      ]
     },
     "execution_count": 6,
     "metadata": {},
     "output_type": "execute_result"
    }
   ],
   "source": [
    "nuclei += [\"p\", \"na23\"]\n",
    "cburn_library = reaclib_library.linking_nuclei(nuclei)\n",
    "rc = pyna.RateCollection(libraries=[cburn_library])\n",
    "rc"
   ]
  },
  {
   "cell_type": "code",
   "execution_count": 7,
   "id": "64774e00-8a1b-48c7-bf3f-d8cfc37fe96d",
   "metadata": {
    "execution": {
     "iopub.execute_input": "2024-10-16T16:46:41.450130Z",
     "iopub.status.busy": "2024-10-16T16:46:41.449778Z",
     "iopub.status.idle": "2024-10-16T16:46:42.251589Z",
     "shell.execute_reply": "2024-10-16T16:46:42.251079Z"
    },
    "tags": []
   },
   "outputs": [
    {
     "name": "stdout",
     "output_type": "stream",
     "text": [
      "validation: Ne20 produced in C12 + C12 ⟶ He4 + Ne20 never consumed.\n",
      "validation: Ne20 produced in Na23 + p ⟶ He4 + Ne20 never consumed.\n"
     ]
    },
    {
     "name": "stdout",
     "output_type": "stream",
     "text": [
      "validation: missing He4 + He4 + He4 ⟶ p + B11 as alternative to He4 + He4 + He4 ⟶ C12 + 𝛾 (Q = -8.682 MeV).\n",
      "validation: missing He4 + He4 + He4 ⟶ n + C11 as alternative to He4 + He4 + He4 ⟶ C12 + 𝛾 (Q = -11.4466 MeV).\n",
      "validation: missing C12 + C12 ⟶ n + Mg23 as alternative to C12 + C12 ⟶ He4 + Ne20 (Q = -2.598 MeV).\n",
      "validation: missing C12 + C12 ⟶ n + Mg23 as alternative to C12 + C12 ⟶ p + Na23 (Q = -2.598 MeV).\n",
      "validation: missing Na23 + p ⟶ n + Mg23 as alternative to Na23 + p ⟶ He4 + Ne20 (Q = -4.839 MeV).\n",
      "validation: missing Na23 + p ⟶ Mg24 + 𝛾 as alternative to Na23 + p ⟶ He4 + Ne20 (Q = 11.6927 MeV).\n"
     ]
    },
    {
     "data": {
      "text/plain": [
       "False"
      ]
     },
     "execution_count": 7,
     "metadata": {},
     "output_type": "execute_result"
    }
   ],
   "source": [
    "rc.validate(reaclib_library)"
   ]
  },
  {
   "cell_type": "markdown",
   "id": "34070657-d310-495c-8355-0c25464ec8ea",
   "metadata": {
    "user_expressions": []
   },
   "source": [
    "Now, looking at what is missing, we probably want to include ${}^{24}\\mathrm{Mg}$ as an endpoint for carbon burning."
   ]
  },
  {
   "cell_type": "code",
   "execution_count": 8,
   "id": "382be1d1-0086-4ef9-aab5-67681939d132",
   "metadata": {
    "execution": {
     "iopub.execute_input": "2024-10-16T16:46:42.253566Z",
     "iopub.status.busy": "2024-10-16T16:46:42.253220Z",
     "iopub.status.idle": "2024-10-16T16:46:42.330986Z",
     "shell.execute_reply": "2024-10-16T16:46:42.330430Z"
    },
    "tags": []
   },
   "outputs": [
    {
     "data": {
      "text/plain": [
       "Mg24 ⟶ p + Na23\n",
       "Mg24 ⟶ He4 + Ne20\n",
       "C12 ⟶ He4 + He4 + He4\n",
       "Ne20 + He4 ⟶ Mg24 + 𝛾\n",
       "Na23 + p ⟶ Mg24 + 𝛾\n",
       "C12 + C12 ⟶ p + Na23\n",
       "C12 + C12 ⟶ He4 + Ne20\n",
       "Ne20 + He4 ⟶ p + Na23\n",
       "Ne20 + He4 ⟶ C12 + C12\n",
       "Na23 + p ⟶ He4 + Ne20\n",
       "Na23 + p ⟶ C12 + C12\n",
       "He4 + He4 + He4 ⟶ C12 + 𝛾"
      ]
     },
     "execution_count": 8,
     "metadata": {},
     "output_type": "execute_result"
    }
   ],
   "source": [
    "nuclei += [\"mg24\"]\n",
    "cburn_library = reaclib_library.linking_nuclei(nuclei)\n",
    "rc = pyna.RateCollection(libraries=[cburn_library])\n",
    "rc"
   ]
  },
  {
   "cell_type": "code",
   "execution_count": 9,
   "id": "754e2898-1d65-495e-ac05-e1f45b151b71",
   "metadata": {
    "execution": {
     "iopub.execute_input": "2024-10-16T16:46:42.333041Z",
     "iopub.status.busy": "2024-10-16T16:46:42.332621Z",
     "iopub.status.idle": "2024-10-16T16:46:43.147919Z",
     "shell.execute_reply": "2024-10-16T16:46:43.147311Z"
    },
    "tags": []
   },
   "outputs": [
    {
     "name": "stdout",
     "output_type": "stream",
     "text": [
      "validation: Mg24 produced in Ne20 + He4 ⟶ Mg24 + 𝛾 never consumed.\n",
      "validation: Mg24 produced in Na23 + p ⟶ Mg24 + 𝛾 never consumed.\n"
     ]
    },
    {
     "name": "stdout",
     "output_type": "stream",
     "text": [
      "validation: missing He4 + He4 + He4 ⟶ p + B11 as alternative to He4 + He4 + He4 ⟶ C12 + 𝛾 (Q = -8.682 MeV).\n",
      "validation: missing He4 + He4 + He4 ⟶ n + C11 as alternative to He4 + He4 + He4 ⟶ C12 + 𝛾 (Q = -11.4466 MeV).\n",
      "validation: missing C12 + C12 ⟶ n + Mg23 as alternative to C12 + C12 ⟶ He4 + Ne20 (Q = -2.598 MeV).\n",
      "validation: missing C12 + C12 ⟶ n + Mg23 as alternative to C12 + C12 ⟶ p + Na23 (Q = -2.598 MeV).\n",
      "validation: missing Ne20 + He4 ⟶ n + Mg23 as alternative to Ne20 + He4 ⟶ Mg24 + 𝛾 (Q = -7.21457 MeV).\n",
      "validation: missing Na23 + p ⟶ n + Mg23 as alternative to Na23 + p ⟶ He4 + Ne20 (Q = -4.839 MeV).\n",
      "validation: missing Na23 + p ⟶ n + Mg23 as alternative to Na23 + p ⟶ Mg24 + 𝛾 (Q = -4.839 MeV).\n"
     ]
    },
    {
     "data": {
      "text/plain": [
       "False"
      ]
     },
     "execution_count": 9,
     "metadata": {},
     "output_type": "execute_result"
    }
   ],
   "source": [
    "rc.validate(reaclib_library)"
   ]
  },
  {
   "cell_type": "markdown",
   "id": "78f5f05d-8466-4f08-aafc-09331faa3587",
   "metadata": {
    "user_expressions": []
   },
   "source": [
    "This now seems reasonable.  The reactions that are missing are all endothermic."
   ]
  },
  {
   "cell_type": "code",
   "execution_count": 10,
   "id": "7d6ff645-2100-4f9b-b944-cdc581a2836e",
   "metadata": {
    "execution": {
     "iopub.execute_input": "2024-10-16T16:46:43.149831Z",
     "iopub.status.busy": "2024-10-16T16:46:43.149474Z",
     "iopub.status.idle": "2024-10-16T16:46:43.430858Z",
     "shell.execute_reply": "2024-10-16T16:46:43.430227Z"
    },
    "tags": []
   },
   "outputs": [
    {
     "data": {
      "image/png": "[encoded data removed]",
      "text/plain": [
       "<Figure size 800x600 with 1 Axes>"
      ]
     },
     "metadata": {},
     "output_type": "display_data"
    }
   ],
   "source": [
    "fig = rc.plot(curved_edges=True)"
   ]
  }
 ],
 "metadata": {
  "kernelspec": {
   "display_name": "Python 3 (ipykernel)",
   "language": "python",
   "name": "python3"
  },
  "language_info": {
   "codemirror_mode": {
    "name": "ipython",
    "version": 3
   },
   "file_extension": ".py",
   "mimetype": "text/x-python",
   "name": "python",
   "nbconvert_exporter": "python",
   "pygments_lexer": "ipython3",
   "version": "3.11.10"
  }
 },
 "nbformat": 4,
 "nbformat_minor": 5
}
