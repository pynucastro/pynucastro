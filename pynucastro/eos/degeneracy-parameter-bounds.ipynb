{
 "cells": [
  {
   "cell_type": "markdown",
   "id": "44d17a26-7311-4e35-bd15-1a6f81c3640d",
   "metadata": {},
   "source": [
    "# Generate bounds for the degeneracy parameter root finding"
   ]
  },
  {
   "cell_type": "code",
   "execution_count": 1,
   "id": "1cc91b01-e40e-40ee-8fe8-51d2c6eafe0b",
   "metadata": {},
   "outputs": [],
   "source": [
    "import pynucastro as pyna"
   ]
  },
  {
   "cell_type": "code",
   "execution_count": 3,
   "id": "0f9ff84d-2e47-4b36-9148-cef87892f6c2",
   "metadata": {},
   "outputs": [],
   "source": [
    "import numpy as np"
   ]
  },
  {
   "cell_type": "markdown",
   "id": "81a50526-cc30-4323-9686-b908adbca4e2",
   "metadata": {},
   "source": [
    "We'll actually deal with $\\rho Y_e$, so our table is independent of composition."
   ]
  },
  {
   "cell_type": "code",
   "execution_count": 14,
   "id": "739908c0-ffba-4724-b414-ebf0c0efa9e7",
   "metadata": {},
   "outputs": [],
   "source": [
    "Ts = np.logspace(3, 12, 10)\n",
    "rhoYes = np.logspace(-12, 11, 24)"
   ]
  },
  {
   "cell_type": "code",
   "execution_count": 15,
   "id": "38f0cfca-84b2-48cf-9d2c-4d08d1ef3097",
   "metadata": {},
   "outputs": [],
   "source": [
    "comp = pyna.Composition([\"he4\"])\n",
    "comp.set_equal()"
   ]
  },
  {
   "cell_type": "markdown",
   "id": "ef24a77a-362f-4465-99cc-fb8449c55499",
   "metadata": {},
   "source": [
    "## Create table of $\\eta$ including positrons"
   ]
  },
  {
   "cell_type": "code",
   "execution_count": 16,
   "id": "a3362caa-6975-4415-8381-b74110766fa3",
   "metadata": {},
   "outputs": [],
   "source": [
    "es = pyna.eos.ElectronEOS()"
   ]
  },
  {
   "cell_type": "code",
   "execution_count": 17,
   "id": "58cb70b3-444a-4ac7-b321-ac6529291b02",
   "metadata": {},
   "outputs": [],
   "source": [
    "eta = np.zeros((len(rhoYes), len(Ts)))"
   ]
  },
  {
   "cell_type": "code",
   "execution_count": 18,
   "id": "be164ed7-e178-4191-9c3c-0c58bd63cffe",
   "metadata": {},
   "outputs": [],
   "source": [
    "for ir, rhoy in enumerate(rhoYes):\n",
    "    for it, T in enumerate(Ts):\n",
    "        state = es.pe_state(rhoy/comp.ye, T, comp, eta_guess_max=1.e9)\n",
    "        eta[ir, it] = state.eta"
   ]
  },
  {
   "cell_type": "code",
   "execution_count": 19,
   "id": "d55937d0-b5ef-4b74-81c8-910d60e0d4f2",
   "metadata": {},
   "outputs": [
    {
     "name": "stdout",
     "output_type": "stream",
     "text": [
      "   -19.35,    -22.81,    -26.26,    -29.71,    -33.17,    -36.65,     -5.93,    -0.593,   -0.0593,  -0.00593, \n",
      "   -17.05,     -20.5,    -23.96,    -27.41,    -30.87,    -34.35,     -5.93,    -0.593,   -0.0593,  -0.00593, \n",
      "   -14.75,     -18.2,    -21.65,    -25.11,    -28.56,    -32.05,     -5.93,    -0.593,   -0.0593,  -0.00593, \n",
      "   -12.44,     -15.9,    -19.35,    -22.81,    -26.26,    -29.74,     -5.93,    -0.593,   -0.0593,  -0.00593, \n",
      "   -10.14,    -13.59,    -17.05,     -20.5,    -23.96,    -27.44,     -5.93,    -0.593,   -0.0593,  -0.00593, \n",
      "   -7.838,    -11.29,    -14.75,     -18.2,    -21.66,    -25.14,     -5.93,    -0.593,   -0.0593,  -0.00593, \n",
      "   -5.534,     -8.99,    -12.44,     -15.9,    -19.35,    -22.84,     -5.93,    -0.593,   -0.0593,  -0.00593, \n",
      "   -3.219,    -6.687,    -10.14,     -13.6,    -17.05,    -20.53,     -5.93,    -0.593,   -0.0593,  -0.00593, \n",
      "  -0.7919,     -4.38,    -7.838,    -11.29,    -14.75,    -18.23,     -5.93,    -0.593,   -0.0593,  -0.00593, \n",
      "    2.697,    -2.038,    -5.534,     -8.99,    -12.45,    -15.93,     -5.93,    -0.593,   -0.0593,  -0.00593, \n",
      "    13.95,    0.6542,    -3.219,    -6.687,    -10.14,    -13.63,     -5.93,    -0.593,   -0.0593,  -0.00593, \n",
      "       65,     6.369,   -0.7919,     -4.38,    -7.841,    -11.32,     -5.93,    -0.593,   -0.0593,  -0.00593, \n",
      "    301.8,     30.15,     2.697,    -2.038,    -5.538,    -9.021,    -5.929,    -0.593,   -0.0593,  -0.00593, \n",
      "     1400,       140,     13.95,    0.6536,    -3.222,    -6.718,    -5.924,    -0.593,   -0.0593,  -0.00593, \n",
      "     6498,     649.8,     64.96,     6.365,   -0.7958,    -4.412,    -5.874,    -0.593,   -0.0593,  -0.00593, \n",
      " 3.01e+04,      3010,       301,     30.07,     2.686,    -2.071,      -5.4,    -0.593,   -0.0593,  -0.00593, \n",
      "1.384e+05, 1.384e+04,      1384,     138.4,     13.78,    0.6006,    -3.507,   -0.5928,   -0.0593,  -0.00593, \n",
      "6.179e+05, 6.179e+04,      6179,     617.9,     61.78,     6.009,    -1.133,   -0.5907,   -0.0593,  -0.00593, \n",
      "2.493e+06, 2.493e+05, 2.493e+04,      2493,     249.3,     24.88,     1.869,   -0.5701,  -0.05928,  -0.00593, \n",
      "8.257e+06, 8.257e+05, 8.257e+04,      8257,     825.7,     82.55,         8,   -0.3655,  -0.05908,  -0.00593, \n",
      "2.246e+07, 2.246e+06, 2.246e+05, 2.246e+04,      2246,     224.6,     22.35,      1.14,  -0.05713, -0.005928, \n",
      "5.419e+07, 5.419e+06, 5.419e+05, 5.419e+04,      5419,     541.9,     54.13,      4.87,   -0.0376, -0.005908, \n",
      "1.231e+08, 1.231e+07, 1.231e+06, 1.231e+05, 1.231e+04,      1231,     123.1,     12.05,    0.1567, -0.005713, \n",
      "2.718e+08, 2.718e+07, 2.718e+06, 2.718e+05, 2.718e+04,      2718,     271.8,     27.06,     1.626, -0.003761, \n"
     ]
    }
   ],
   "source": [
    "for ir in range(len(rhoYes)):\n",
    "    for it in range(len(Ts)):\n",
    "        print(f\"{eta[ir, it]:9.4g}, \", end=\"\")\n",
    "    print(\"\")"
   ]
  },
  {
   "cell_type": "markdown",
   "id": "cd0624b2-186a-496a-8a05-98789c9de4d6",
   "metadata": {},
   "source": [
    "## Create table of $\\eta$ without positrons"
   ]
  },
  {
   "cell_type": "code",
   "execution_count": 20,
   "id": "5206807a-ea2c-4e63-81ec-cbd2a5ed1d7a",
   "metadata": {},
   "outputs": [],
   "source": [
    "es2 = pyna.eos.ElectronEOS(include_positrons=False)"
   ]
  },
  {
   "cell_type": "code",
   "execution_count": 21,
   "id": "0a062f34-a6d2-4012-909f-8080be384800",
   "metadata": {},
   "outputs": [],
   "source": [
    "eta2 = np.zeros((len(rhoYes), len(Ts)))"
   ]
  },
  {
   "cell_type": "code",
   "execution_count": 23,
   "id": "7a5f2192-6c7a-462a-b26a-c5fc2067b835",
   "metadata": {},
   "outputs": [],
   "source": [
    "for ir, rhoy in enumerate(rhoYes):\n",
    "    for it, T in enumerate(Ts):\n",
    "        state = es2.pe_state(rhoy/comp.ye, T, comp, eta_guess_max=1.e9)\n",
    "        eta2[ir, it] = state.eta"
   ]
  },
  {
   "cell_type": "code",
   "execution_count": 26,
   "id": "4176f467-7370-4b3a-9f24-6fbc85852d50",
   "metadata": {},
   "outputs": [
    {
     "name": "stdout",
     "output_type": "stream",
     "text": [
      "[   -19.35,    -22.81,    -26.26,    -29.71,    -33.17,    -36.65,    -40.37,    -45.29,    -51.75,     -58.6], \n",
      "[   -17.05,     -20.5,    -23.96,    -27.41,    -30.87,    -34.35,    -38.06,    -42.99,    -49.44,     -56.3], \n",
      "[   -14.75,     -18.2,    -21.65,    -25.11,    -28.56,    -32.05,    -35.76,    -40.69,    -47.14,       -54], \n",
      "[   -12.44,     -15.9,    -19.35,    -22.81,    -26.26,    -29.74,    -33.46,    -38.39,    -44.84,    -51.69], \n",
      "[   -10.14,    -13.59,    -17.05,     -20.5,    -23.96,    -27.44,    -31.16,    -36.08,    -42.54,    -49.39], \n",
      "[   -7.838,    -11.29,    -14.75,     -18.2,    -21.66,    -25.14,    -28.85,    -33.78,    -40.23,    -47.09], \n",
      "[   -5.534,     -8.99,    -12.44,     -15.9,    -19.35,    -22.84,    -26.55,    -31.48,    -37.93,    -44.79], \n",
      "[   -3.219,    -6.687,    -10.14,     -13.6,    -17.05,    -20.53,    -24.25,    -29.17,    -35.63,    -42.48], \n",
      "[  -0.7919,     -4.38,    -7.838,    -11.29,    -14.75,    -18.23,    -21.95,    -26.87,    -33.33,    -40.18], \n",
      "[    2.697,    -2.038,    -5.534,     -8.99,    -12.45,    -15.93,    -19.64,    -24.57,    -31.02,    -37.88], \n",
      "[    13.95,    0.6542,    -3.219,    -6.687,    -10.14,    -13.63,    -17.34,    -22.27,    -28.72,    -35.58], \n",
      "[       65,     6.369,   -0.7919,     -4.38,    -7.841,    -11.32,    -15.04,    -19.96,    -26.42,    -33.27], \n",
      "[    301.8,     30.15,     2.697,    -2.038,    -5.538,    -9.021,    -12.73,    -17.66,    -24.11,    -30.97], \n",
      "[     1400,       140,     13.95,    0.6536,    -3.222,    -6.718,    -10.43,    -15.36,    -21.81,    -28.67], \n",
      "[     6498,     649.8,     64.96,     6.365,   -0.7958,    -4.412,     -8.13,    -13.06,    -19.51,    -26.36], \n",
      "[ 3.01e+04,      3010,       301,     30.07,     2.686,    -2.071,    -5.826,    -10.75,    -17.21,    -24.06], \n",
      "[1.384e+05, 1.384e+04,      1384,     138.4,     13.78,    0.6006,    -3.515,    -8.451,     -14.9,    -21.76], \n",
      "[6.179e+05, 6.179e+04,      6179,     617.9,     61.78,     6.009,    -1.133,    -6.148,     -12.6,    -19.46], \n",
      "[2.493e+06, 2.493e+05, 2.493e+04,      2493,     249.3,     24.88,     1.869,    -3.842,     -10.3,    -17.15], \n",
      "[8.257e+06, 8.257e+05, 8.257e+04,      8257,     825.7,     82.55,         8,    -1.505,    -7.997,    -14.85], \n",
      "[2.246e+07, 2.246e+06, 2.246e+05, 2.246e+04,      2246,     224.6,     22.35,     1.083,    -5.694,    -12.55], \n",
      "[5.419e+07, 5.419e+06, 5.419e+05, 5.419e+04,      5419,     541.9,     54.13,      4.87,    -3.387,    -10.25], \n",
      "[1.231e+08, 1.231e+07, 1.231e+06, 1.231e+05, 1.231e+04,      1231,     123.1,     12.05,    -1.046,    -7.944], \n",
      "[2.718e+08, 2.718e+07, 2.718e+06, 2.718e+05, 2.718e+04,      2718,     271.8,     27.06,     1.562,    -5.641], \n"
     ]
    }
   ],
   "source": [
    "for ir in range(len(rhoYes)):\n",
    "    print(\"[\", end=\"\")\n",
    "    for it in range(len(Ts)):\n",
    "        print(f\"{eta2[ir, it]:9.4g}\", end=\"\")\n",
    "        if it < len(Ts)-1:\n",
    "            print(\", \", end=\"\")\n",
    "            \n",
    "    print(\"], \")"
   ]
  },
  {
   "cell_type": "code",
   "execution_count": 31,
   "id": "9ec870ca-c3fb-4739-8a18-904045373baf",
   "metadata": {},
   "outputs": [
    {
     "data": {
      "text/plain": [
       "np.int64(0)"
      ]
     },
     "execution_count": 31,
     "metadata": {},
     "output_type": "execute_result"
    }
   ],
   "source": [
    "np.clip(np.searchsorted(Ts, 10**2) - 1, 0, len(Ts)-2)"
   ]
  },
  {
   "cell_type": "code",
   "execution_count": 28,
   "id": "9ed8d978-83fd-406e-b105-0131f0ce2132",
   "metadata": {},
   "outputs": [
    {
     "data": {
      "text/plain": [
       "array([1.e+03, 1.e+04, 1.e+05, 1.e+06, 1.e+07, 1.e+08, 1.e+09, 1.e+10,\n",
       "       1.e+11, 1.e+12])"
      ]
     },
     "execution_count": 28,
     "metadata": {},
     "output_type": "execute_result"
    }
   ],
   "source": [
    "Ts"
   ]
  },
  {
   "cell_type": "code",
   "execution_count": null,
   "id": "0a52a88c-8486-4027-899c-1dc53a6e2fcd",
   "metadata": {},
   "outputs": [],
   "source": []
  }
 ],
 "metadata": {
  "kernelspec": {
   "display_name": "Python 3 (ipykernel)",
   "language": "python",
   "name": "python3"
  },
  "language_info": {
   "codemirror_mode": {
    "name": "ipython",
    "version": 3
   },
   "file_extension": ".py",
   "mimetype": "text/x-python",
   "name": "python",
   "nbconvert_exporter": "python",
   "pygments_lexer": "ipython3",
   "version": "3.13.5"
  }
 },
 "nbformat": 4,
 "nbformat_minor": 5
}
