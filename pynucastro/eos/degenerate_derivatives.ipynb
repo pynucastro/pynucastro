{
 "cells": [
  {
   "cell_type": "markdown",
   "id": "cfe2a0fd-af93-4c1b-a152-4ca07430a9d6",
   "metadata": {},
   "source": [
    "# Electron degeneracy derivatives"
   ]
  },
  {
   "cell_type": "code",
   "execution_count": 1,
   "id": "22e692da-a969-4ece-bc3d-1dff7758163f",
   "metadata": {},
   "outputs": [],
   "source": [
    "from sympy import init_session"
   ]
  },
  {
   "cell_type": "code",
   "execution_count": 2,
   "id": "19c2aadc-1707-4e1c-a387-fc9c946e8eaf",
   "metadata": {},
   "outputs": [
    {
     "name": "stdout",
     "output_type": "stream",
     "text": [
      "IPython console for SymPy 1.14.0 (Python 3.13.3-64-bit) (ground types: gmpy)\n",
      "\n",
      "These commands were executed:\n",
      ">>> from sympy import *\n",
      ">>> x, y, z, t = symbols('x y z t')\n",
      ">>> k, m, n = symbols('k m n', integer=True)\n",
      ">>> f, g, h = symbols('f g h', cls=Function)\n",
      ">>> init_printing()\n",
      "\n",
      "Documentation can be found at https://docs.sympy.org/1.14.0/\n",
      "\n"
     ]
    }
   ],
   "source": [
    "init_session()"
   ]
  },
  {
   "cell_type": "markdown",
   "id": "dbfc464f-7772-43e4-9431-2cdee067ab19",
   "metadata": {},
   "source": [
    "## Setup the dependencies"
   ]
  },
  {
   "cell_type": "markdown",
   "id": "7a91e461-e4fb-4ee2-879b-1d24fec854b2",
   "metadata": {},
   "source": [
    "We'll have $\\rho$ and $T$ be the independent variables."
   ]
  },
  {
   "cell_type": "code",
   "execution_count": 3,
   "id": "ac553bd8-4610-4634-863a-88e6f35a582b",
   "metadata": {},
   "outputs": [],
   "source": [
    "# Independent variables\n",
    "rho, T = symbols('rho T')"
   ]
  },
  {
   "cell_type": "markdown",
   "id": "b34f920c-90bb-4385-abf0-bb953e95524e",
   "metadata": {},
   "source": [
    "We'll express $\\eta = \\eta(\\rho, T)$ and $\\beta = \\beta(T)$ (since $\\beta = kT / (m_e c^2)$)."
   ]
  },
  {
   "cell_type": "code",
   "execution_count": 4,
   "id": "74ef71fb-defe-4c85-9fc2-14443bbceef9",
   "metadata": {},
   "outputs": [],
   "source": [
    "eta = Function('eta')(rho, T)\n",
    "beta = Function('beta')(T)"
   ]
  },
  {
   "cell_type": "markdown",
   "id": "2d227845-fc80-4cd3-88a1-43f060e82918",
   "metadata": {},
   "source": [
    "Finally, we'll write the electron and positron densities as functions of the symbol $\\eta$ and $\\beta$"
   ]
  },
  {
   "cell_type": "code",
   "execution_count": 5,
   "id": "2f8da795-cd7a-40c4-86e4-56eda895799d",
   "metadata": {},
   "outputs": [],
   "source": [
    "# dummy variables for the arguments\n",
    "eta_sym, beta_sym = symbols('eta beta')\n",
    "n_e_func = Function('n_e')(eta_sym, beta_sym)\n",
    "n_p_func = Function('n_p')(eta_sym, beta_sym)\n",
    "\n",
    "# Now substitute eta(rho, T) and beta(T) into n_e and n_p\n",
    "n_e_expr = n_e_func.subs({eta_sym: eta, beta_sym: beta})\n",
    "n_p_expr = n_p_func.subs({eta_sym: eta, beta_sym: beta})"
   ]
  },
  {
   "cell_type": "markdown",
   "id": "5053e4c8-8754-4b24-b2c4-530f9f4e060b",
   "metadata": {},
   "source": [
    "Now we want to construct the expression\n",
    "\n",
    "$$n_e - n_p = N_A \\frac{Z}{A} \\rho$$\n",
    "\n",
    "we'll do this by defining the left and righthand sides separately."
   ]
  },
  {
   "cell_type": "code",
   "execution_count": 6,
   "id": "f393d2e7-cb71-4c0f-93cb-1b1e5f0d368f",
   "metadata": {},
   "outputs": [],
   "source": [
    "lhs_expr = n_e_expr - n_p_expr"
   ]
  },
  {
   "cell_type": "code",
   "execution_count": 7,
   "id": "e085e70c-9410-43e8-ad17-4d329be87a7e",
   "metadata": {},
   "outputs": [],
   "source": [
    "N_A, Z, A = symbols('N_A Z A', constant=True)\n",
    "rhs_expr = (N_A * Z / A) * rho"
   ]
  },
  {
   "cell_type": "markdown",
   "id": "1cd51f4d-7019-49fd-8aa2-1fdcbbb70ae2",
   "metadata": {},
   "source": [
    "## Compute $\\partial/\\partial T$"
   ]
  },
  {
   "cell_type": "code",
   "execution_count": 8,
   "id": "b28082ce-54db-4682-9a6f-5ee89244605e",
   "metadata": {},
   "outputs": [],
   "source": [
    "lhs_diff = diff(lhs_expr, T)\n",
    "rhs_diff = diff(rhs_expr, T)"
   ]
  },
  {
   "cell_type": "code",
   "execution_count": 9,
   "id": "8a3a7172-17bb-4881-b557-f21a18793093",
   "metadata": {},
   "outputs": [],
   "source": [
    "# Solve for ∂η/∂T\n",
    "deta_dT = symbols('deta_dT')\n",
    "lhs_diff_sub = lhs_diff.subs(diff(eta, T), deta_dT)\n",
    "deta_dT_expr = solve(lhs_diff_sub - rhs_diff, deta_dT)[0]"
   ]
  },
  {
   "cell_type": "code",
   "execution_count": 10,
   "id": "e61f3a9b-0bca-4a78-8ab2-fddae3fc0e8a",
   "metadata": {},
   "outputs": [
    {
     "data": {
      "image/png": "[encoded data removed]",
      "text/latex": [
       "$\\displaystyle \\frac{\\left(- \\frac{\\partial}{\\partial \\beta{\\left(T \\right)}} n_{e}{\\left(\\eta{\\left(\\rho,T \\right)},\\beta{\\left(T \\right)} \\right)} + \\frac{\\partial}{\\partial \\beta{\\left(T \\right)}} n_{p}{\\left(\\eta{\\left(\\rho,T \\right)},\\beta{\\left(T \\right)} \\right)}\\right) \\frac{d}{d T} \\beta{\\left(T \\right)}}{\\frac{\\partial}{\\partial \\eta{\\left(\\rho,T \\right)}} n_{e}{\\left(\\eta{\\left(\\rho,T \\right)},\\beta{\\left(T \\right)} \\right)} - \\frac{\\partial}{\\partial \\eta{\\left(\\rho,T \\right)}} n_{p}{\\left(\\eta{\\left(\\rho,T \\right)},\\beta{\\left(T \\right)} \\right)}}$"
      ],
      "text/plain": [
       "⎛    ∂                          ∂                     ⎞ d       \n",
       "⎜- ─────(nₑ(η(ρ, T), β(T))) + ─────(nₚ(η(ρ, T), β(T)))⎟⋅──(β(T))\n",
       "⎝  ∂β(T)                      ∂β(T)                   ⎠ dT      \n",
       "────────────────────────────────────────────────────────────────\n",
       "      ∂                             ∂                           \n",
       "   ────────(nₑ(η(ρ, T), β(T))) - ────────(nₚ(η(ρ, T), β(T)))    \n",
       "   ∂η(ρ, T)                      ∂η(ρ, T)                       "
      ]
     },
     "execution_count": 10,
     "metadata": {},
     "output_type": "execute_result"
    }
   ],
   "source": [
    "deta_dT_expr"
   ]
  },
  {
   "cell_type": "markdown",
   "id": "a4e3ace2-e0db-4fd5-b04f-8ed2a027b98e",
   "metadata": {},
   "source": [
    "## Compute $\\partial/ \\partial \\rho$"
   ]
  },
  {
   "cell_type": "code",
   "execution_count": 11,
   "id": "12b93924-854e-4832-9715-30d4e5fd6fdb",
   "metadata": {},
   "outputs": [],
   "source": [
    "lhs_diff = diff(lhs_expr, rho)\n",
    "rhs_diff = diff(rhs_expr, rho)"
   ]
  },
  {
   "cell_type": "code",
   "execution_count": 12,
   "id": "964e3af4-9f92-4aec-bbd2-73093a379f8f",
   "metadata": {},
   "outputs": [],
   "source": [
    "# Solve for ∂η/∂ρ\n",
    "deta_drho = symbols('deta_drho')\n",
    "lhs_diff_sub = lhs_diff.subs(diff(eta, rho), deta_drho)\n",
    "deta_drho_expr = solve(lhs_diff_sub - rhs_diff, deta_drho)[0]"
   ]
  },
  {
   "cell_type": "code",
   "execution_count": 13,
   "id": "00349246-acff-4e73-9495-c02b29edde85",
   "metadata": {},
   "outputs": [
    {
     "data": {
      "image/png": "[encoded data removed]",
      "text/latex": [
       "$\\displaystyle \\frac{N_{A} Z}{A \\left(\\frac{\\partial}{\\partial \\eta{\\left(\\rho,T \\right)}} n_{e}{\\left(\\eta{\\left(\\rho,T \\right)},\\beta{\\left(T \\right)} \\right)} - \\frac{\\partial}{\\partial \\eta{\\left(\\rho,T \\right)}} n_{p}{\\left(\\eta{\\left(\\rho,T \\right)},\\beta{\\left(T \\right)} \\right)}\\right)}$"
      ],
      "text/plain": [
       "                            N_A⋅Z                            \n",
       "─────────────────────────────────────────────────────────────\n",
       "  ⎛   ∂                             ∂                       ⎞\n",
       "A⋅⎜────────(nₑ(η(ρ, T), β(T))) - ────────(nₚ(η(ρ, T), β(T)))⎟\n",
       "  ⎝∂η(ρ, T)                      ∂η(ρ, T)                   ⎠"
      ]
     },
     "execution_count": 13,
     "metadata": {},
     "output_type": "execute_result"
    }
   ],
   "source": [
    "deta_drho_expr"
   ]
  },
  {
   "cell_type": "markdown",
   "id": "5c0237d0-377d-4f6f-9605-57464fcaf903",
   "metadata": {},
   "source": [
    "## Compute $\\partial^2/\\partial T^2$"
   ]
  },
  {
   "cell_type": "code",
   "execution_count": 14,
   "id": "6a155961-4b6f-4fe9-8039-d8b546b90dda",
   "metadata": {},
   "outputs": [],
   "source": [
    "lhs_diff = diff(lhs_expr, T, T)\n",
    "rhs_diff = diff(rhs_expr, T, T)"
   ]
  },
  {
   "cell_type": "code",
   "execution_count": 15,
   "id": "48963aa1-9eba-44a3-b013-404446645bb2",
   "metadata": {},
   "outputs": [],
   "source": [
    "# Solve for ∂²η/∂T²\n",
    "d2eta_dT2 = symbols('d2eta_dT2')\n",
    "lhs_diff_sub = lhs_diff.subs(diff(eta, T, T), d2eta_dT2)\n",
    "d2eta_dT2_expr = solve(lhs_diff_sub - rhs_diff, d2eta_dT2)[0]"
   ]
  },
  {
   "cell_type": "code",
   "execution_count": 16,
   "id": "b7c56214-6d02-460c-8406-ed14a399e560",
   "metadata": {},
   "outputs": [
    {
     "data": {
      "image/png": "[encoded data removed]",
      "text/latex": [
       "$\\displaystyle \\frac{- \\left(\\frac{d}{d T} \\beta{\\left(T \\right)}\\right)^{2} \\frac{\\partial^{2}}{\\partial \\beta{\\left(T \\right)}^{2}} n_{e}{\\left(\\eta{\\left(\\rho,T \\right)},\\beta{\\left(T \\right)} \\right)} + \\left(\\frac{d}{d T} \\beta{\\left(T \\right)}\\right)^{2} \\frac{\\partial^{2}}{\\partial \\beta{\\left(T \\right)}^{2}} n_{p}{\\left(\\eta{\\left(\\rho,T \\right)},\\beta{\\left(T \\right)} \\right)} - 2 \\frac{d}{d T} \\beta{\\left(T \\right)} \\frac{\\partial}{\\partial T} \\eta{\\left(\\rho,T \\right)} \\frac{\\partial^{2}}{\\partial \\eta{\\left(\\rho,T \\right)}\\partial \\beta{\\left(T \\right)}} n_{e}{\\left(\\eta{\\left(\\rho,T \\right)},\\beta{\\left(T \\right)} \\right)} + 2 \\frac{d}{d T} \\beta{\\left(T \\right)} \\frac{\\partial}{\\partial T} \\eta{\\left(\\rho,T \\right)} \\frac{\\partial^{2}}{\\partial \\eta{\\left(\\rho,T \\right)}\\partial \\beta{\\left(T \\right)}} n_{p}{\\left(\\eta{\\left(\\rho,T \\right)},\\beta{\\left(T \\right)} \\right)} - \\frac{d^{2}}{d T^{2}} \\beta{\\left(T \\right)} \\frac{\\partial}{\\partial \\beta{\\left(T \\right)}} n_{e}{\\left(\\eta{\\left(\\rho,T \\right)},\\beta{\\left(T \\right)} \\right)} + \\frac{d^{2}}{d T^{2}} \\beta{\\left(T \\right)} \\frac{\\partial}{\\partial \\beta{\\left(T \\right)}} n_{p}{\\left(\\eta{\\left(\\rho,T \\right)},\\beta{\\left(T \\right)} \\right)} - \\left(\\frac{\\partial}{\\partial T} \\eta{\\left(\\rho,T \\right)}\\right)^{2} \\frac{\\partial^{2}}{\\partial \\eta{\\left(\\rho,T \\right)}^{2}} n_{e}{\\left(\\eta{\\left(\\rho,T \\right)},\\beta{\\left(T \\right)} \\right)} + \\left(\\frac{\\partial}{\\partial T} \\eta{\\left(\\rho,T \\right)}\\right)^{2} \\frac{\\partial^{2}}{\\partial \\eta{\\left(\\rho,T \\right)}^{2}} n_{p}{\\left(\\eta{\\left(\\rho,T \\right)},\\beta{\\left(T \\right)} \\right)}}{\\frac{\\partial}{\\partial \\eta{\\left(\\rho,T \\right)}} n_{e}{\\left(\\eta{\\left(\\rho,T \\right)},\\beta{\\left(T \\right)} \\right)} - \\frac{\\partial}{\\partial \\eta{\\left(\\rho,T \\right)}} n_{p}{\\left(\\eta{\\left(\\rho,T \\right)},\\beta{\\left(T \\right)} \\right)}}$"
      ],
      "text/plain": [
       "            2    2                                  2    2                     ↪\n",
       "  ⎛d       ⎞    ∂                         ⎛d       ⎞    ∂                      ↪\n",
       "- ⎜──(β(T))⎟ ⋅──────(nₑ(η(ρ, T), β(T))) + ⎜──(β(T))⎟ ⋅──────(nₚ(η(ρ, T), β(T)) ↪\n",
       "  ⎝dT      ⎠       2                      ⎝dT      ⎠       2                   ↪\n",
       "              ∂β(T)                                   ∂β(T)                    ↪\n",
       "────────────────────────────────────────────────────────────────────────────── ↪\n",
       "                                                                               ↪\n",
       "                                                                               ↪\n",
       "                                                                               ↪\n",
       "\n",
       "↪                                   2                                          ↪\n",
       "↪       d        ∂                 ∂                               d        ∂  ↪\n",
       "↪ ) - 2⋅──(β(T))⋅──(η(ρ, T))⋅──────────────(nₑ(η(ρ, T), β(T))) + 2⋅──(β(T))⋅── ↪\n",
       "↪       dT       ∂T          ∂η(ρ, T) ∂β(T)                        dT       ∂T ↪\n",
       "↪                                                                              ↪\n",
       "↪ ──────────────────────────────────────────────────────────────────────────── ↪\n",
       "↪                                                                              ↪\n",
       "↪                                                                            ─ ↪\n",
       "↪                                                                            ∂ ↪\n",
       "\n",
       "↪                  2                             2                             ↪\n",
       "↪                 ∂                             d           ∂                  ↪\n",
       "↪ (η(ρ, T))⋅──────────────(nₚ(η(ρ, T), β(T))) - ───(β(T))⋅─────(nₑ(η(ρ, T), β( ↪\n",
       "↪           ∂η(ρ, T) ∂β(T)                        2       ∂β(T)                ↪\n",
       "↪                                               dT                             ↪\n",
       "↪ ──────────────────────────────────────────────────────────────────────────── ↪\n",
       "↪   ∂                             ∂                                            ↪\n",
       "↪ ───────(nₑ(η(ρ, T), β(T))) - ────────(nₚ(η(ρ, T), β(T)))                     ↪\n",
       "↪ η(ρ, T)                      ∂η(ρ, T)                                        ↪\n",
       "\n",
       "↪         2                                                2     2             ↪\n",
       "↪        d           ∂                        ⎛∂          ⎞     ∂              ↪\n",
       "↪ T))) + ───(β(T))⋅─────(nₚ(η(ρ, T), β(T))) - ⎜──(η(ρ, T))⎟ ⋅─────────(nₑ(η(ρ, ↪\n",
       "↪          2       ∂β(T)                      ⎝∂T         ⎠          2         ↪\n",
       "↪        dT                                                  ∂η(ρ, T)          ↪\n",
       "↪ ──────────────────────────────────────────────────────────────────────────── ↪\n",
       "↪                                                                              ↪\n",
       "↪                                                                              ↪\n",
       "↪                                                                              ↪\n",
       "\n",
       "↪                            2     2                       \n",
       "↪               ⎛∂          ⎞     ∂                        \n",
       "↪  T), β(T))) + ⎜──(η(ρ, T))⎟ ⋅─────────(nₚ(η(ρ, T), β(T)))\n",
       "↪               ⎝∂T         ⎠          2                   \n",
       "↪                              ∂η(ρ, T)                    \n",
       "↪ ─────────────────────────────────────────────────────────\n",
       "↪                                                          \n",
       "↪                                                          \n",
       "↪                                                          "
      ]
     },
     "execution_count": 16,
     "metadata": {},
     "output_type": "execute_result"
    }
   ],
   "source": [
    "simplify(d2eta_dT2_expr)"
   ]
  },
  {
   "cell_type": "markdown",
   "id": "cf697314-f93f-4dc4-a4eb-03d45f04c079",
   "metadata": {},
   "source": [
    "## Compute $\\partial^2/\\partial \\rho \\partial T$"
   ]
  },
  {
   "cell_type": "code",
   "execution_count": 17,
   "id": "07883d71-33e6-4e29-80b3-534b2eaf2cd6",
   "metadata": {},
   "outputs": [],
   "source": [
    "lhs_diff = diff(lhs_expr, T, rho)\n",
    "rhs_diff = diff(rhs_expr, T, rho)"
   ]
  },
  {
   "cell_type": "code",
   "execution_count": 18,
   "id": "9265126d-ea1e-4e8f-90e8-a99d18368725",
   "metadata": {},
   "outputs": [],
   "source": [
    "# Solve for ∂²η/∂T∂ρ\n",
    "d2eta_dTdrho = symbols('d2eta_dTdrho')\n",
    "lhs_diff_sub = lhs_diff.subs(diff(eta, T, rho), d2eta_dTdrho)\n",
    "d2eta_dTdrho_expr = solve(lhs_diff_sub - rhs_diff, d2eta_dTdrho)[0]"
   ]
  },
  {
   "cell_type": "code",
   "execution_count": 19,
   "id": "cc2fe559-3e84-4374-a1b6-ab406565e816",
   "metadata": {},
   "outputs": [
    {
     "data": {
      "image/png": "[encoded data removed]",
      "text/latex": [
       "$\\displaystyle \\frac{\\left(- \\frac{d}{d T} \\beta{\\left(T \\right)} \\frac{\\partial^{2}}{\\partial \\eta{\\left(\\rho,T \\right)}\\partial \\beta{\\left(T \\right)}} n_{e}{\\left(\\eta{\\left(\\rho,T \\right)},\\beta{\\left(T \\right)} \\right)} + \\frac{d}{d T} \\beta{\\left(T \\right)} \\frac{\\partial^{2}}{\\partial \\eta{\\left(\\rho,T \\right)}\\partial \\beta{\\left(T \\right)}} n_{p}{\\left(\\eta{\\left(\\rho,T \\right)},\\beta{\\left(T \\right)} \\right)} - \\frac{\\partial}{\\partial T} \\eta{\\left(\\rho,T \\right)} \\frac{\\partial^{2}}{\\partial \\eta{\\left(\\rho,T \\right)}^{2}} n_{e}{\\left(\\eta{\\left(\\rho,T \\right)},\\beta{\\left(T \\right)} \\right)} + \\frac{\\partial}{\\partial T} \\eta{\\left(\\rho,T \\right)} \\frac{\\partial^{2}}{\\partial \\eta{\\left(\\rho,T \\right)}^{2}} n_{p}{\\left(\\eta{\\left(\\rho,T \\right)},\\beta{\\left(T \\right)} \\right)}\\right) \\frac{\\partial}{\\partial \\rho} \\eta{\\left(\\rho,T \\right)}}{\\frac{\\partial}{\\partial \\eta{\\left(\\rho,T \\right)}} n_{e}{\\left(\\eta{\\left(\\rho,T \\right)},\\beta{\\left(T \\right)} \\right)} - \\frac{\\partial}{\\partial \\eta{\\left(\\rho,T \\right)}} n_{p}{\\left(\\eta{\\left(\\rho,T \\right)},\\beta{\\left(T \\right)} \\right)}}$"
      ],
      "text/plain": [
       "⎛                  2                                            2              ↪\n",
       "⎜  d              ∂                             d              ∂               ↪\n",
       "⎜- ──(β(T))⋅──────────────(nₑ(η(ρ, T), β(T))) + ──(β(T))⋅──────────────(nₚ(η(ρ ↪\n",
       "⎜  dT       ∂η(ρ, T) ∂β(T)                      dT       ∂η(ρ, T) ∂β(T)        ↪\n",
       "⎝                                                                              ↪\n",
       "────────────────────────────────────────────────────────────────────────────── ↪\n",
       "                                                                     ∂         ↪\n",
       "                                                                  ────────(nₑ( ↪\n",
       "                                                                  ∂η(ρ, T)     ↪\n",
       "\n",
       "↪                                2                                          2  ↪\n",
       "↪                ∂              ∂                           ∂              ∂   ↪\n",
       "↪ , T), β(T))) - ──(η(ρ, T))⋅─────────(nₑ(η(ρ, T), β(T))) + ──(η(ρ, T))⋅────── ↪\n",
       "↪                ∂T                  2                      ∂T                 ↪\n",
       "↪                            ∂η(ρ, T)                                   ∂η(ρ,  ↪\n",
       "↪ ──────────────────────────────────────────────────────────────────────────── ↪\n",
       "↪                      ∂                                                       ↪\n",
       "↪ η(ρ, T), β(T))) - ────────(nₚ(η(ρ, T), β(T)))                                ↪\n",
       "↪                   ∂η(ρ, T)                                                   ↪\n",
       "\n",
       "↪                       ⎞            \n",
       "↪                       ⎟ ∂          \n",
       "↪ ───(nₚ(η(ρ, T), β(T)))⎟⋅──(η(ρ, T))\n",
       "↪   2                   ⎟ ∂ρ         \n",
       "↪ T)                    ⎠            \n",
       "↪ ───────────────────────────────────\n",
       "↪                                    \n",
       "↪                                    \n",
       "↪                                    "
      ]
     },
     "execution_count": 19,
     "metadata": {},
     "output_type": "execute_result"
    }
   ],
   "source": [
    "simplify(d2eta_dTdrho_expr)"
   ]
  },
  {
   "cell_type": "markdown",
   "id": "1b3195cb-2932-4b27-a9b9-d975a86e32f6",
   "metadata": {},
   "source": [
    "## Compute $\\partial^2/\\partial \\rho^2$"
   ]
  },
  {
   "cell_type": "code",
   "execution_count": 20,
   "id": "f68a3c65-8383-486b-815e-92bbb4c66408",
   "metadata": {},
   "outputs": [],
   "source": [
    "lhs_diff = diff(lhs_expr, rho, rho)\n",
    "rhs_diff = diff(rhs_expr, rho, rho)"
   ]
  },
  {
   "cell_type": "code",
   "execution_count": 21,
   "id": "bef33b8d-526d-40a8-84db-8a2e23573205",
   "metadata": {},
   "outputs": [],
   "source": [
    "# Solve for ∂²η/∂ρ²\n",
    "d2eta_drho2 = symbols('d2eta_drho2')\n",
    "lhs_diff_sub = lhs_diff.subs(diff(eta, rho, rho), d2eta_drho2)\n",
    "d2eta_drho2_expr = solve(lhs_diff_sub - rhs_diff, d2eta_drho2)[0]"
   ]
  },
  {
   "cell_type": "code",
   "execution_count": 22,
   "id": "e1067487-4767-4aa9-8b1e-1e151dee6583",
   "metadata": {},
   "outputs": [
    {
     "data": {
      "image/png": "[encoded data removed]",
      "text/latex": [
       "$\\displaystyle \\frac{\\left(- \\frac{\\partial^{2}}{\\partial \\eta{\\left(\\rho,T \\right)}^{2}} n_{e}{\\left(\\eta{\\left(\\rho,T \\right)},\\beta{\\left(T \\right)} \\right)} + \\frac{\\partial^{2}}{\\partial \\eta{\\left(\\rho,T \\right)}^{2}} n_{p}{\\left(\\eta{\\left(\\rho,T \\right)},\\beta{\\left(T \\right)} \\right)}\\right) \\left(\\frac{\\partial}{\\partial \\rho} \\eta{\\left(\\rho,T \\right)}\\right)^{2}}{\\frac{\\partial}{\\partial \\eta{\\left(\\rho,T \\right)}} n_{e}{\\left(\\eta{\\left(\\rho,T \\right)},\\beta{\\left(T \\right)} \\right)} - \\frac{\\partial}{\\partial \\eta{\\left(\\rho,T \\right)}} n_{p}{\\left(\\eta{\\left(\\rho,T \\right)},\\beta{\\left(T \\right)} \\right)}}$"
      ],
      "text/plain": [
       "⎛      2                              2                       ⎞              2\n",
       "⎜     ∂                              ∂                        ⎟ ⎛∂          ⎞ \n",
       "⎜- ─────────(nₑ(η(ρ, T), β(T))) + ─────────(nₚ(η(ρ, T), β(T)))⎟⋅⎜──(η(ρ, T))⎟ \n",
       "⎜          2                              2                   ⎟ ⎝∂ρ         ⎠ \n",
       "⎝  ∂η(ρ, T)                       ∂η(ρ, T)                    ⎠               \n",
       "──────────────────────────────────────────────────────────────────────────────\n",
       "             ∂                             ∂                                  \n",
       "          ────────(nₑ(η(ρ, T), β(T))) - ────────(nₚ(η(ρ, T), β(T)))           \n",
       "          ∂η(ρ, T)                      ∂η(ρ, T)                              "
      ]
     },
     "execution_count": 22,
     "metadata": {},
     "output_type": "execute_result"
    }
   ],
   "source": [
    "simplify(d2eta_drho2_expr)"
   ]
  }
 ],
 "metadata": {
  "kernelspec": {
   "display_name": "Python 3 (ipykernel)",
   "language": "python",
   "name": "python3"
  },
  "language_info": {
   "codemirror_mode": {
    "name": "ipython",
    "version": 3
   },
   "file_extension": ".py",
   "mimetype": "text/x-python",
   "name": "python",
   "nbconvert_exporter": "python",
   "pygments_lexer": "ipython3",
   "version": "3.13.3"
  }
 },
 "nbformat": 4,
 "nbformat_minor": 5
}
