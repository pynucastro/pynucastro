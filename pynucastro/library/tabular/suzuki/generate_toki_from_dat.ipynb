{
 "cells": [
  {
   "cell_type": "code",
   "execution_count": 5,
   "metadata": {},
   "outputs": [],
   "source": [
    "import os"
   ]
  },
  {
   "cell_type": "code",
   "execution_count": 6,
   "metadata": {},
   "outputs": [],
   "source": [
    "path = \"./\"  \n",
    "files= os.listdir(path) "
   ]
  },
  {
   "cell_type": "code",
   "execution_count": 8,
   "metadata": {
    "scrolled": false
   },
   "outputs": [],
   "source": [
    "def find_header(file):\n",
    "    f = open(file,\"r\")\n",
    "    data = f.readlines()  # data is a list. each element is a line of \"A23_Ne_F.dat\"\n",
    "    f.close()\n",
    "             \n",
    "    inde = []  \n",
    "    for i in range(len(data)):\n",
    "        if data[i][0]==\"1\":     # if the line start as \"1\" , this is not a header line any more\n",
    "            break     \n",
    "    return i\n",
    "    \n",
    "    \n",
    "for file in files:\n",
    "    if file.split(\".\")[-1]==\"dat\":\n",
    "        \n",
    "        a = file.split(\"_\")[0]\n",
    "        b = a.split(\"-\")\n",
    "        n1 = b[0][0:2]\n",
    "        n2 = b[1][0:2]\n",
    "        e1 = b[0][2:len(b[0])]\n",
    "        e2 = b[1][2:len(b[1])]\n",
    "        \n",
    "        header = find_header(file)\n",
    "        rate_file = open(e1+n1+\"--\"+e2+n2+\"-toki\",\"w\") \n",
    "        rate_file.write(\"t\\n       \"+e1+n1+\" \"+e2+n2+\"\\n\"+file+\"\\n\"+str(header)+\"\\n152\\n39\") \n",
    "        rate_file.close()"
   ]
  },
  {
   "cell_type": "code",
   "execution_count": null,
   "metadata": {},
   "outputs": [],
   "source": []
  }
 ],
 "metadata": {
  "kernelspec": {
   "display_name": "Python 3",
   "language": "python",
   "name": "python3"
  },
  "language_info": {
   "codemirror_mode": {
    "name": "ipython",
    "version": 3
   },
   "file_extension": ".py",
   "mimetype": "text/x-python",
   "name": "python",
   "nbconvert_exporter": "python",
   "pygments_lexer": "ipython3",
   "version": "3.6.5"
  }
 },
 "nbformat": 4,
 "nbformat_minor": 2
}
