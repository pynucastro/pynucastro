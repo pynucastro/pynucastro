{
 "cells": [
  {
   "cell_type": "markdown",
   "metadata": {},
   "source": [
    "# How to generate data files for tabulated rates"
   ]
  },
  {
   "cell_type": "markdown",
   "metadata": {},
   "source": [
    "These tabulated reaction rates are included along with library files\n",
    "describing how the tables should be read.\n",
    "\n",
    "Tabulated reactions of the form `A -> B` are supported, where the\n",
    "rates are tabulated in a two-dimensional space of:\n",
    "\n",
    "- the product of density and electron fraction\n",
    "- temperature\n",
    "\n",
    "This directory includes tabulated rates obtained from Suzuki et al.,\n",
    "2016, ApJ 817:163, downloaded from\n",
    "http://w3p.phys.chs.nihon-u.ac.jp/~suzuki/data2/link.html"
   ]
  },
  {
   "cell_type": "markdown",
   "metadata": {},
   "source": [
    "The suzuki data table are in the follower form:\n",
    "```\n",
    "!23Ne -> 23F,  e-capture  with screening effects\n",
    "!USDB           Q=-8.4635 MeV\n",
    "!Transitions from 5/2+, 1/2+, 7/2+, 3/2+ states of 23Ne are included.\n",
    "!Experimental data are used.\n",
    "!\n",
    "!Log(rhoY) Log(T) mu    dQ        Vs        e-cap-rate    nu-energy-loss  gamma-energy\n",
    "!                 (MeV)    (MeV)     (MeV)        (1/s)          (MeV/s)        (MeV/s)\n",
    "\n",
    "   7.00  7.00   1.2282   0.0279   0.0077  -0.50000E+03  -0.50000E+03  -0.50000E+03\n",
    "   7.00  7.20   1.2270   0.0278   0.0077  -0.50000E+03  -0.50000E+03  -0.50000E+03\n",
    "   7.00  7.40   1.2253   0.0275   0.0077  -0.50000E+03  -0.50000E+03  -0.50000E+03\n",
    "```\n",
    "First, we read it."
   ]
  },
  {
   "cell_type": "code",
   "execution_count": 1,
   "metadata": {},
   "outputs": [],
   "source": [
    "import numpy as np\n",
    "import pandas as pd\n",
    "import re\n",
    "import matplotlib.pyplot as plt\n",
    "\n",
    "f = open(\"/Users/sailor/Desktop/A23_Ne_F.dat\",\"r\")\n",
    "data = f.readlines()  # data is a list. each element is a line of \"A23_Ne_F.dat\"\n",
    "f.close()"
   ]
  },
  {
   "cell_type": "markdown",
   "metadata": {},
   "source": [
    "Next, we find the header line of the data file"
   ]
  },
  {
   "cell_type": "code",
   "execution_count": 2,
   "metadata": {},
   "outputs": [
    {
     "data": {
      "text/plain": [
       "['!23Ne -> 23F,  e-capture  with screening effects\\n',\n",
       " '!USDB           Q=-8.4635 MeV\\n',\n",
       " '!Transitions from 5/2+, 1/2+, 7/2+, 3/2+ states of 23Ne are included.  \\n',\n",
       " '!Experimental data are used.\\n',\n",
       " '!\\n',\n",
       " '!Log(rhoY) Log(T) mu    dQ        Vs        e-cap-rate    nu-energy-loss  gamma-energy\\n',\n",
       " '!                 (MeV)    (MeV)     (MeV)        (1/s)          (MeV/s)        (MeV/s)  \\n']"
      ]
     },
     "execution_count": 2,
     "metadata": {},
     "output_type": "execute_result"
    }
   ],
   "source": [
    "inde = []  \n",
    "for i in range(len(data)):\n",
    "    if data[i][0] == '!':     # if the line start as \"!\" , this is a header line\n",
    "        inde.append(i)     # store the detected index into this list\n",
    "\n",
    "header = data[inde[0]:len(inde)]\n",
    "header"
   ]
  },
  {
   "cell_type": "markdown",
   "metadata": {},
   "source": [
    "We modify the last 2 lines of header to meet the requirments of pynucastro."
   ]
  },
  {
   "cell_type": "code",
   "execution_count": 3,
   "metadata": {},
   "outputs": [
    {
     "data": {
      "text/plain": [
       "['!23Ne -> 23F,  e-capture  with screening effects\\n',\n",
       " '!USDB           Q=-8.4635 MeV\\n',\n",
       " '!Transitions from 5/2+, 1/2+, 7/2+, 3/2+ states of 23Ne are included.  \\n',\n",
       " '!Experimental data are used.\\n',\n",
       " '!\\n',\n",
       " '!rhoY        T            mu           dQ           Vs           e-cap-rate   nu-energy-loss gamma-energy\\n',\n",
       " '!g/cm^3      K            erg          erg          erg          1/s          erg/s        erg/s\\n']"
      ]
     },
     "execution_count": 3,
     "metadata": {},
     "output_type": "execute_result"
    }
   ],
   "source": [
    "header[-2] = '!rhoY        T            mu           dQ           Vs           e-cap-rate   nu-energy-loss gamma-energy\\n'\n",
    "header[-1] = '!g/cm^3      K            erg          erg          erg          1/s          erg/s        erg/s\\n'\n",
    "header"
   ]
  },
  {
   "cell_type": "markdown",
   "metadata": {},
   "source": [
    "Then we convert the data table from a 1D string array to a 2D float array."
   ]
  },
  {
   "cell_type": "code",
   "execution_count": 4,
   "metadata": {
    "scrolled": true
   },
   "outputs": [
    {
     "data": {
      "text/plain": [
       "[[7.0, 7.0, 1.2282, 0.0279, 0.0077, -500.0, -500.0, -500.0],\n",
       " [7.0, 7.2, 1.227, 0.0278, 0.0077, -500.0, -500.0, -500.0],\n",
       " [7.0, 7.4, 1.2253, 0.0275, 0.0077, -500.0, -500.0, -500.0]]"
      ]
     },
     "execution_count": 4,
     "metadata": {},
     "output_type": "execute_result"
    }
   ],
   "source": [
    "del data[inde[0]:len(inde)]  # delete the header lines\n",
    "\n",
    "# change the list [\"1.23 3.45 5.67\\n\"] into the list [\"1.23\",\"3.45\",\"5.67\"]\n",
    "data1 = []\n",
    "for i in range(len(data)):\n",
    "    data1.append(re.split(r\"[ ]\",data[i].strip('\\n')))\n",
    "    \n",
    "# delete all the \"\" in each element of data1\n",
    "for i in range(len(data1)):\n",
    "    while '' in data1[i]:\n",
    "        data1[i].remove('')\n",
    "        \n",
    "# delete all [] in data1\n",
    "while [] in data1:\n",
    "    data1.remove([])\n",
    "\n",
    "# convert the type from string into float    \n",
    "data2 = []\n",
    "for i in range(len(data1)):\n",
    "    data2.append([])\n",
    "    for j in range(len(data1[i])):\n",
    "        data2[i].append(float(data1[i][j]))\n",
    "data2[0:3]"
   ]
  },
  {
   "cell_type": "markdown",
   "metadata": {},
   "source": [
    "We need to convert the unit to meet the requirements of pynucastro\n",
    "- convert log(rhoY/(g/cm^3)) to rhoY/(g/cm^3) \n",
    "- convert log(T/K) to T/K\n",
    "- convert Mev to erg in mu\n",
    "- convert Mev to erg in dQ\n",
    "- convert Mev to erg  in Vs\n",
    "- convert log(rate/(s^-1)) to rate/(s^-1) in e-cap-beta-rate\n",
    "- convert log(rate/(Mev/s)) to rate/(erg/s) in nu-energy-loss\n",
    "- convert log(rate/(Mev/s)) to rate/(erg/s) in gamma-energy"
   ]
  },
  {
   "cell_type": "code",
   "execution_count": 5,
   "metadata": {},
   "outputs": [
    {
     "data": {
      "text/plain": [
       "['1.000000e+07',\n",
       " '1.000000e+07',\n",
       " '1.967797e-06',\n",
       " '4.470082e-08',\n",
       " '1.233679e-08',\n",
       " '0.000000e+00',\n",
       " '0.000000e+00',\n",
       " '0.000000e+00']"
      ]
     },
     "execution_count": 5,
     "metadata": {},
     "output_type": "execute_result"
    }
   ],
   "source": [
    "for i in range(len(data2)):\n",
    "        data2[i][0] = \"%e\"%(np.power(10,data2[i][0]))\n",
    "        data2[i][1] = \"%e\"%(np.power(10,data2[i][1]))\n",
    "        data2[i][2] = \"%e\"%(data2[i][2]*1.60218e-6)\n",
    "        data2[i][3] = \"%e\"%(data2[i][3]*1.60218e-6)\n",
    "        data2[i][4] = \"%e\"%(data2[i][4]*1.60218e-6)\n",
    "        data2[i][5] = \"%e\"%(np.power(10,data2[i][5])) \n",
    "        data2[i][6] = \"%e\"%(np.power(10,data2[i][6])*1.60218e-6)\n",
    "        data2[i][7] = \"%e\"%(np.power(10,data2[i][7])*1.60218e-6)\n",
    "data2[0]"
   ]
  },
  {
   "cell_type": "markdown",
   "metadata": {},
   "source": [
    "Then we write the new data into a data file that pynucastro can read."
   ]
  },
  {
   "cell_type": "code",
   "execution_count": 6,
   "metadata": {},
   "outputs": [],
   "source": [
    "# convert the type from float to string\n",
    "data3 = []\n",
    "for i in range(len(data2)):\n",
    "    data3.append([])\n",
    "    for j in range(len(data2[i])):\n",
    "        data3[i].append(str(data2[i][j]))\n",
    "\n",
    "f = open(\"/Users/sailor/Desktop/23Ne-23F_electroncapture.dat\", \"w\") \n",
    "for i in range(len(header)):\n",
    "    f.write(header[i])\n",
    "for i in range(len(data3)):\n",
    "    for j in range(len(data3[i])-1):\n",
    "        f.write(data3[i][j])\n",
    "        f.write(' ')\n",
    "    f.write(data3[i][len(data3[i])-1])\n",
    "    f.write('\\n')\n",
    "f.close()"
   ]
  },
  {
   "cell_type": "markdown",
   "metadata": {},
   "source": [
    "Next we need to generate a rate file to describe how to read the table file. (You can go to http://pynucastro.github.io/pynucastro/networks.html#tabular-rates to read details)"
   ]
  },
  {
   "cell_type": "code",
   "execution_count": 7,
   "metadata": {},
   "outputs": [],
   "source": [
    "rate_file = open(\"/Users/sailor/Desktop/ne23--f23-toki\",\"w\") \n",
    "rate_file.write(\"t\\n       \"+\"ne23\"+\" \"+\"f23\"+\"\\n\"+\"23Ne-23F_electroncapture.dat\"+\"\\n152\\n39\") \n",
    "rate_file.close()"
   ]
  },
  {
   "cell_type": "markdown",
   "metadata": {},
   "source": [
    "In the end, we need to copy the two generated files ```23Ne-23F_electroncapture.dat``` and ```ne23--f23-toki``` into the folder ```/pynucastro/library/tabular/```. Then pynucastro can use them."
   ]
  }
 ],
 "metadata": {
  "kernelspec": {
   "display_name": "Python 3",
   "language": "python",
   "name": "python3"
  },
  "language_info": {
   "codemirror_mode": {
    "name": "ipython",
    "version": 3
   },
   "file_extension": ".py",
   "mimetype": "text/x-python",
   "name": "python",
   "nbconvert_exporter": "python",
   "pygments_lexer": "ipython3",
   "version": "3.6.5"
  }
 },
 "nbformat": 4,
 "nbformat_minor": 2
}
