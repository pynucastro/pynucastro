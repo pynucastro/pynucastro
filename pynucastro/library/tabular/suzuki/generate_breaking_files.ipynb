{
 "cells": [
  {
   "cell_type": "code",
   "execution_count": 27,
   "metadata": {},
   "outputs": [],
   "source": [
    "import numpy as np\n",
    "import scipy.constants as scp\n",
    "import itertools\n",
    "import os\n",
    "import re"
   ]
  },
  {
   "cell_type": "code",
   "execution_count": 28,
   "metadata": {},
   "outputs": [],
   "source": [
    "eV_to_J, _, _ = scp.physical_constants['electron volt-joule relationship']\n",
    "MeV_to_eV = 1.0e6\n",
    "J_to_erg = 1.0e7\n",
    "MeV_to_erg = MeV_to_eV * eV_to_J * J_to_erg"
   ]
  },
  {
   "cell_type": "code",
   "execution_count": 29,
   "metadata": {},
   "outputs": [],
   "source": [
    "files = ['A21_OFNeNaMg_ScrExp.odat',\n",
    "         'A20_OFNeNaMg_ScrExp.odat',\n",
    "         'A19_OFNeNa_ScrExp.odat',\n",
    "         'A18_OFNe_ScrExp.odat',\n",
    "         'A17_FO_ScrExp.odat',\n",
    "         'A22_FNeNaMg_ScrExp.odat',\n",
    "         'A23_FNeNaMgAl_ScrExp.odat',\n",
    "         'A24_NeNaMgAlSi_ScrExp.odat',\n",
    "         'A25_NeNaMgAlSi_ScrExp.odat',\n",
    "         'A26_NaMgAlSi_ScrExp.odat',\n",
    "         'A27_NaMgAlSiP_ScrExp.odat',\n",
    "         'A28_NaMgAlSiPS_ScrExp.odat']"
   ]
  },
  {
   "cell_type": "code",
   "execution_count": 30,
   "metadata": {},
   "outputs": [],
   "source": [
    "def weak_decay_read(file):\n",
    "\n",
    "    headers = []\n",
    "    data = []\n",
    "    desc = []\n",
    "\n",
    "    with open(file) as f:\n",
    "        _ = f.readline()\n",
    "        while (l := f.readline()):\n",
    "            if l == \"\\n\":\n",
    "                continue\n",
    "            headers.append([])\n",
    "            if l.startswith('!'):\n",
    "                headers[-1].append(l.rstrip('\\n'))\n",
    "            \n",
    "            while (l := f.readline().rstrip('\\n')):\n",
    "                if l.startswith('!'):\n",
    "                    headers[-1].append(l)\n",
    "\n",
    "            # sections are separated by empty lines\n",
    "            data.append(np.genfromtxt(itertools.takewhile(lambda x: x.rstrip('\\n'), f), autostrip=True))\n",
    "\n",
    "    if not headers[-1]:\n",
    "        headers.pop(-1)\n",
    "        data.pop(-1)\n",
    "\n",
    "    for head, chunk in zip(headers, data):\n",
    "\n",
    "        for line in head:\n",
    "            if line.startswith('!'):\n",
    "                #print(line)\n",
    "                if re.search('e-capture', line):\n",
    "                    out_str = 'e-capture'  \n",
    "                elif re.search('beta-decay', line):\n",
    "                    out_str = 'beta-decay'\n",
    "                else:\n",
    "                    out_str = None\n",
    "\n",
    "                elements = re.findall('[0-9]{1,2}[A-Za-z]{1,2}', line) \n",
    "                el1 = elements[0].lower()\n",
    "                el2 = elements[1].lower()\n",
    "                break\n",
    "            else:\n",
    "                continue\n",
    "\n",
    "        if out_str=='e-capture':\n",
    "            name=f\"{el1}-{el2}_electroncapture.dat\"\n",
    "        elif out_str=='beta-decay':\n",
    "            name=f\"{el1}-{el2}_betadecay.dat\"\n",
    "        else:\n",
    "            name=None\n",
    "\n",
    "        if (out_str=='e-capture' or out_str=='beta-decay'):\n",
    "            head[-2] = '!Log(rhoY)        Log(T)            mu           dQ           Vs           Log(e-cap-rate)   nu-energy-loss   gamma-energy'\n",
    "            head[-1] = '!Log(g/cm^3)      Log(K)            erg          erg          erg          Log(1/s)          Log(erg/s)       Log(erg/s)'\n",
    "            desc.append((name, head, chunk))\n",
    "\n",
    "    return desc"
   ]
  },
  {
   "cell_type": "code",
   "execution_count": 31,
   "metadata": {},
   "outputs": [],
   "source": [
    "def weak_decay_write(desc):\n",
    "\n",
    "    for output_file in desc:\n",
    "        \n",
    "        name, head, chunk = output_file\n",
    "        with open(name, \"w\") as output:\n",
    "\n",
    "                rho, temp, mu, dq, vs, rate, nu_energy_loss, gamma_energy = chunk.T\n",
    "                mu *= MeV_to_erg \n",
    "                dq *= MeV_to_erg \n",
    "                vs *= MeV_to_erg \n",
    "\n",
    "                rate = rate\n",
    "                nu_energy_loss = nu_energy_loss + np.log10(MeV_to_erg)\n",
    "                gamma_energy = gamma_energy + np.log10(MeV_to_erg)\n",
    "\n",
    "                for line in head:\n",
    "                    output.write(line)\n",
    "                    output.write(\"\\n\")\n",
    "\n",
    "                for i in range(len(rho)):\n",
    "                    output.write(f\"{rho[i]:>.2f} {temp[i]:>17.2f} {mu[i]:>24.5e} {dq[i]:>12.5e} {vs[i]:>12.5e} {rate[i]:>13.5e}  {nu_energy_loss[i]:16.5e} {gamma_energy[i]:16.5e}\\n\")\n"
   ]
  },
  {
   "cell_type": "code",
   "execution_count": 32,
   "metadata": {},
   "outputs": [],
   "source": [
    "for file in files:\n",
    "    desc = weak_decay_read(file)\n",
    "    weak_decay_write(desc)"
   ]
  },
  {
   "cell_type": "code",
   "execution_count": 33,
   "metadata": {},
   "outputs": [],
   "source": [
    "for file in files:\n",
    "    try:\n",
    "        desc = weak_decay_read(file)\n",
    "    except:\n",
    "        print(file)"
   ]
  }
 ],
 "metadata": {
  "kernelspec": {
   "display_name": "work_old",
   "language": "python",
   "name": "python3"
  },
  "language_info": {
   "codemirror_mode": {
    "name": "ipython",
    "version": 3
   },
   "file_extension": ".py",
   "mimetype": "text/x-python",
   "name": "python",
   "nbconvert_exporter": "python",
   "pygments_lexer": "ipython3",
   "version": "3.10.8"
  },
  "orig_nbformat": 4
 },
 "nbformat": 4,
 "nbformat_minor": 2
}
