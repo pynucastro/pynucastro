{
 "cells": [
  {
   "attachments": {},
   "cell_type": "markdown",
   "metadata": {},
   "source": [
    "# How to generate the tabular files for the A=45-60 nuclei"
   ]
  },
  {
   "attachments": {},
   "cell_type": "markdown",
   "metadata": {},
   "source": [
    "In the following we will explain the process of formatting the\n",
    "electron-capture / beta decay rates, of  nuclei that belong to \n",
    "the iron group, into a table format that can be read by pynucastro.\n",
    " The rates we will consider are published here:\n",
    "\n",
    "https://www.sciencedirect.com/science/article/pii/S0092640X01908654\n",
    "\n",
    "and their accurate description can be found here:\n",
    "\n",
    "https://iopscience.iop.org/article/10.1088/1402-4896/ac8dcb"
   ]
  },
  {
   "attachments": {},
   "cell_type": "markdown",
   "metadata": {},
   "source": [
    "In pynucastro the tabular rates, are read in a 2-step process."
   ]
  },
  {
   "cell_type": "code",
   "execution_count": 37,
   "metadata": {},
   "outputs": [],
   "source": [
    "import numpy as np\n",
    "import scipy.constants as scp\n",
    "import re\n",
    "\n",
    "from pynucastro.nucdata.elements import Element, PeriodicTable"
   ]
  },
  {
   "cell_type": "code",
   "execution_count": 38,
   "metadata": {},
   "outputs": [],
   "source": [
    "def abbreviation(entry):\n",
    "\n",
    "    e = re.match(r\"([A-Za-z]+)([0-9]*)\", entry)\n",
    "    element = e.group(1).lower()\n",
    "    mass_number = str(int(e.group(2)))\n",
    "    el = mass_number + element\n",
    "\n",
    "    if el == \"1n\":\n",
    "        el = \"n\"\n",
    "\n",
    "    if el == \"1h\":\n",
    "        el = \"p\"\n",
    "\n",
    "    return el"
   ]
  },
  {
   "cell_type": "code",
   "execution_count": 39,
   "metadata": {},
   "outputs": [],
   "source": [
    "eV_to_J, _, _ =scp.physical_constants['electron volt-joule relationship']\n",
    "MeV_to_eV = 1.0e6\n",
    "J_to_erg = 1.0e7\n",
    "\n",
    "MeV_to_erg = MeV_to_eV * eV_to_J * J_to_erg \n",
    "T9_to_K = 1.0e9\n",
    "\n",
    "\n",
    "with open(\"1-s2.0-S0092640X01908654-mmc01.txt\", \"r\") as file:\n",
    "\n",
    "    #get rid of the header\n",
    "    for _ in range(15):\n",
    "        file.readline()\n",
    "    \n",
    "    while True:\n",
    "\n",
    "        line1 = file.readline()\n",
    "        line2 = file.readline()\n",
    "\n",
    "        if not line1:\n",
    "            break\n",
    "\n",
    "        line1 = line1.strip().split(\"=\")\n",
    "        line2 = line2.strip().split(\"=\")\n",
    "\n",
    "        el1_line = line1[0].split()\n",
    "        el2_line = line2[0].split()\n",
    "\n",
    "        el1 = abbreviation(el1_line[-2])\n",
    "        el2 = abbreviation(el2_line[-2])\n",
    "\n",
    "        Q = float(line1[-1])\n",
    "\n",
    "        labels = file.readline()\n",
    "        _ = labels = file.readline()\n",
    "\n",
    "        with open(el1+\"-\"+el2+\"_electroncapture\"+\".dat\", \"w\") as output1, open(el2+\"-\"+el1+\"_betadecay\"+\".dat\", \"w\") as output2:\n",
    "\n",
    "            output1.write(f\"!{el1} -> {el2}, e- capture\\n\")\n",
    "            output1.write(f\"!Q={Q} MeV\\n\")\n",
    "            output1.write(f\"!\\n\")\n",
    "            output1.write(f\"!log(rhoY)    log(temp)     mu              dQ    Vs     log(e-cap-rate)        nu-energy-loss gamma-energy\\n\")\n",
    "            output1.write(f\"!g/cm^3       log(K)        1/s             erg   erg    log(1/s)                    erg/s          erg/s\\n\")\n",
    "\n",
    "            output2.write(f\"!{el2} -> {el1}, beta-decay\\n\")\n",
    "            output2.write(f\"!Q={-Q} MeV\\n\")\n",
    "            output2.write(f\"!\\n\")\n",
    "            output2.write(f\"!log(rhoY)    log(temp)     mu             dQ    VS     log(beta-decay-rate)   nu-energy-loss   gamma-energy\\n\")\n",
    "            output2.write(f\"!log(g/cm^3)  log(K)        1/s            erg   erg    log(1/s)               erg/s            erg/s\\n\")\n",
    "            while True:\n",
    "                line = file.readline().strip()\n",
    "\n",
    "                if line == \"end\":\n",
    "                    break\n",
    "\n",
    "                data_str = line.split()\n",
    "                temp = np.log10(float(data_str[0]) * T9_to_K)\n",
    "                rho = float(data_str[1])\n",
    "                mu_e = float(data_str[2]) * MeV_to_erg\n",
    "                dq = 0.0\n",
    "                vs = 0.0\n",
    "                lbeta_p = 10.0**float(data_str[3])\n",
    "                leps_m = float(data_str[4])\n",
    "                lrnu = 10.0**float(data_str[5]) * MeV_to_erg\n",
    "                lbeta_m = float(data_str[6])\n",
    "                leps_p = 10.0**float(data_str[7])\n",
    "                lrnu_bar = 10.0**float(data_str[8]) * MeV_to_erg\n",
    "                gamma = 0.0\n",
    "\n",
    "                output1.write(f\"{rho:<12.6f}  {temp:<12.6f} {mu_e:>14.6e} {dq:>5.2f}  {vs:<6.2f} {leps_m:<22.6f} {lrnu:<13.6e}  {gamma:<6.2f}\\n\")\n",
    "                output2.write(f\"{rho:<12.6f}  {temp:<12.6f} {mu_e:>14.6e} {dq:>5.2f}  {vs:<6.2f} {lbeta_m:<22.6f} {lrnu_bar:<15.6e}  {gamma:<6.2f}\\n\")"
   ]
  }
 ],
 "metadata": {
  "kernelspec": {
   "display_name": "work_old",
   "language": "python",
   "name": "python3"
  },
  "language_info": {
   "codemirror_mode": {
    "name": "ipython",
    "version": 3
   },
   "file_extension": ".py",
   "mimetype": "text/x-python",
   "name": "python",
   "nbconvert_exporter": "python",
   "pygments_lexer": "ipython3",
   "version": "3.10.8"
  },
  "orig_nbformat": 4
 },
 "nbformat": 4,
 "nbformat_minor": 2
}
