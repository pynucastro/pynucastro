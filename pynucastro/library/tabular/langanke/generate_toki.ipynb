{
 "cells": [
  {
   "cell_type": "code",
   "execution_count": 1,
   "metadata": {},
   "outputs": [],
   "source": [
    "import re"
   ]
  },
  {
   "cell_type": "code",
   "execution_count": 2,
   "metadata": {},
   "outputs": [],
   "source": [
    "def elements(line):\n",
    "\n",
    "    str_line = line.strip().split(\"=\")\n",
    "    cumulant = str_line[0].split()\n",
    "    e = re.match(r\"([A-Za-z]*)([0-9]*)\", cumulant[2])\n",
    "    mass_number = str(int(e.group(2)))\n",
    "    abbrv =  e.group(1).lower()\n",
    "    element = abbrv + mass_number \n",
    "    element_file = mass_number + abbrv\n",
    "\n",
    "    if element == \"n1\":\n",
    "        element = \"n\"\n",
    "\n",
    "    if element_file == \"1n\":\n",
    "        element_file = \"n\"\n",
    "\n",
    "    if element == \"h1\":\n",
    "        element = \"p\"\n",
    "\n",
    "    if element_file == \"1h\":\n",
    "        element_file = \"p\"\n",
    "        \n",
    "    return element, element_file"
   ]
  },
  {
   "cell_type": "code",
   "execution_count": 4,
   "metadata": {},
   "outputs": [],
   "source": [
    "temp_points = 13\n",
    "dens_points = 11\n",
    "header = 5\n",
    "\n",
    "with open(\"1-s2.0-S0092640X01908654-mmc01.txt\", \"r\") as data:\n",
    "\n",
    "    for _ in range(15):\n",
    "        data.readline()\n",
    "\n",
    "    while True:\n",
    "        \n",
    "        line1 = data.readline()\n",
    "\n",
    "        if not line1:\n",
    "            break\n",
    "\n",
    "        line2 = data.readline()\n",
    "\n",
    "        el1, el1a = elements(line1)\n",
    "        el2, el2a = elements(line2)\n",
    "\n",
    "\n",
    "        with open(f\"langanke-{el1}--{el2}-toki\", \"w\") as file1, open(f\"langanke-{el2}--{el1}-toki\", \"w\") as file2:\n",
    "\n",
    "            file1.write(\"t\\n\")\n",
    "            file1.write(f\"       {el1} {el2}\\n\")\n",
    "            file1.write(f\"langanke-{el1a}-{el2a}_electroncapture.dat\\n\")\n",
    "            file1.write(f\"{header}\\n\")\n",
    "            file1.write(f\"{dens_points}\\n\")\n",
    "            file1.write(f\"{temp_points}\\n\")\n",
    "\n",
    "            file2.write(\"t\\n\")\n",
    "            file2.write(f\"       {el2} {el1}\\n\")\n",
    "            file2.write(f\"langanke-{el2a}-{el1a}_betadecay.dat\\n\") \n",
    "            file2.write(f\"{header}\\n\")\n",
    "            file2.write(f\"{dens_points}\\n\")\n",
    "            file2.write(f\"{temp_points}\\n\")\n",
    "\n",
    "        for _ in range(temp_points*dens_points+3):\n",
    "            data.readline()"
   ]
  },
  {
   "cell_type": "code",
   "execution_count": null,
   "metadata": {},
   "outputs": [],
   "source": []
  }
 ],
 "metadata": {
  "kernelspec": {
   "display_name": "Python 3 (ipykernel)",
   "language": "python",
   "name": "python3"
  },
  "language_info": {
   "codemirror_mode": {
    "name": "ipython",
    "version": 3
   },
   "file_extension": ".py",
   "mimetype": "text/x-python",
   "name": "python",
   "nbconvert_exporter": "python",
   "pygments_lexer": "ipython3",
   "version": "3.13.2"
  }
 },
 "nbformat": 4,
 "nbformat_minor": 4
}
