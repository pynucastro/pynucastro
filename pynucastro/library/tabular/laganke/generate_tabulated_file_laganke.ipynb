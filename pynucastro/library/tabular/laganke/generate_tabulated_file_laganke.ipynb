{
 "cells": [
  {
   "attachments": {},
   "cell_type": "markdown",
   "metadata": {},
   "source": [
    "# How to generate the tabular files for the A=45-60 nuclei"
   ]
  },
  {
   "attachments": {},
   "cell_type": "markdown",
   "metadata": {},
   "source": [
    "In the following we will explain the process of formatting the\n",
    "electron-capture / beta decay rates, of  nuclei that belong to \n",
    "the iron group, into a table format that can be read by pynucastro.\n",
    " The rates we will consider are published here:\n",
    "\n",
    "https://www.sciencedirect.com/science/article/pii/S0092640X01908654\n",
    "\n",
    "and their accurate description can be found here:\n",
    "\n",
    "https://iopscience.iop.org/article/10.1088/1402-4896/ac8dcb"
   ]
  },
  {
   "attachments": {},
   "cell_type": "markdown",
   "metadata": {},
   "source": [
    "In pynucastro the tabular rates, are read in a 2-step process."
   ]
  },
  {
   "cell_type": "code",
   "execution_count": 1,
   "metadata": {},
   "outputs": [],
   "source": [
    "import numpy as np\n",
    "import scipy.constants as scp\n",
    "import re\n",
    "\n",
    "from pynucastro.nucdata.elements import Element, PeriodicTable"
   ]
  },
  {
   "cell_type": "code",
   "execution_count": 2,
   "metadata": {},
   "outputs": [],
   "source": [
    "def abbreviation(entry):\n",
    "\n",
    "    e = re.match(r\"([A-Za-z]+)([0-9]*)\", entry)\n",
    "    element = e.group(1).lower()\n",
    "    mass_number = str(int(e.group(2)))\n",
    "    el = mass_number + element\n",
    "\n",
    "    if el == \"1n\":\n",
    "        el = \"n\"\n",
    "\n",
    "    if el == \"1h\":\n",
    "        el = \"p\"\n",
    "\n",
    "    return el"
   ]
  },
  {
   "cell_type": "code",
   "execution_count": 3,
   "metadata": {},
   "outputs": [],
   "source": [
    "eV_to_J, _, _ =scp.physical_constants['electron volt-joule relationship']\n",
    "MeV_to_eV = 1.0e6\n",
    "J_to_erg = 1.0e7\n",
    "\n",
    "MeV_to_erg = MeV_to_eV * eV_to_J * J_to_erg \n",
    "T9_to_K = 1.0e9\n",
    "\n",
    "\n",
    "with open(\"1-s2.0-S0092640X01908654-mmc01.txt\", \"r\") as file:\n",
    "\n",
    "    #get rid of the header\n",
    "    for _ in range(15):\n",
    "        file.readline()\n",
    "    \n",
    "    while True:\n",
    "\n",
    "        line1 = file.readline()\n",
    "        line2 = file.readline()\n",
    "\n",
    "        if not line1:\n",
    "            break\n",
    "\n",
    "        line1 = line1.strip().split(\"=\")\n",
    "        line2 = line2.strip().split(\"=\")\n",
    "\n",
    "        el1_line = line1[0].split()\n",
    "        el2_line = line2[0].split()\n",
    "\n",
    "        el1 = abbreviation(el1_line[-2])\n",
    "        el2 = abbreviation(el2_line[-2])\n",
    "\n",
    "        Q = float(line1[-1])\n",
    "\n",
    "        labels = file.readline()\n",
    "        _ = labels = file.readline()\n",
    "\n",
    "        with open(el1+\"-\"+el2+\"_electroncapture\"+\".dat\", \"w\") as output1, open(el2+\"-\"+el1+\"_betadecay\"+\".dat\", \"w\") as output2:\n",
    "\n",
    "            output1.write(f\"!{el1} -> {el2}, e- capture\\n\")\n",
    "            output1.write(f\"!Q={Q} MeV\\n\")\n",
    "            output1.write(f\"!\\n\")\n",
    "            output1.write(f\"!rhoY        temp          mu           e-cap-rate     nu-energy-loss\\n\")\n",
    "            output1.write(f\"!g/cm^3      K             erg          1/s            erg/s\\n\")\n",
    "\n",
    "            output2.write(f\"!{el2} -> {el1}, beta-decay\\n\")\n",
    "            output2.write(f\"!Q={-Q} MeV\\n\")\n",
    "            output2.write(f\"!\\n\")\n",
    "            output2.write(f\"!rhoY        temp          mu           beta-decay-rate     nu-energy-loss\\n\")\n",
    "            output2.write(f\"!g/cm^3      K             erg          1/s                 erg/s\\n\")\n",
    "            while True:\n",
    "                line = file.readline().strip()\n",
    "\n",
    "                if line == \"end\":\n",
    "                    break\n",
    "\n",
    "                data_str = line.split()\n",
    "                temp = float(data_str[0]) * T9_to_K\n",
    "                rho = 10.0**float(data_str[1])\n",
    "                mu_e = float(data_str[2]) * MeV_to_erg\n",
    "                lbeta_p = 10.0**float(data_str[3])\n",
    "                leps_m = 10.0**float(data_str[4])\n",
    "                lrnu = 10.0**float(data_str[5]) * MeV_to_erg\n",
    "                lbeta_m = 10.0**float(data_str[6])\n",
    "                leps_p = 10.0**float(data_str[7])\n",
    "                lrnu_bar = 10.0**float(data_str[8]) * MeV_to_erg\n",
    "\n",
    "                output1.write(f\"{rho:<.6e} {temp:<.6e} {mu_e:<.6e} {leps_m:<14.6e} {lrnu:<14.6e}\\n\")\n",
    "                output2.write(f\"{rho:<.6e} {temp:<.6e} {mu_e:<.6e} {lbeta_m:<14.6e} {lrnu_bar:<19.6e}\\n\")"
   ]
  }
 ],
 "metadata": {
  "kernelspec": {
   "display_name": "work_old",
   "language": "python",
   "name": "python3"
  },
  "language_info": {
   "codemirror_mode": {
    "name": "ipython",
    "version": 3
   },
   "file_extension": ".py",
   "mimetype": "text/x-python",
   "name": "python",
   "nbconvert_exporter": "python",
   "pygments_lexer": "ipython3",
   "version": "3.10.8"
  },
  "orig_nbformat": 4
 },
 "nbformat": 4,
 "nbformat_minor": 2
}
