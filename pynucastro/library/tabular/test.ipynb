{
 "cells": [
  {
   "cell_type": "code",
   "execution_count": 1,
   "metadata": {},
   "outputs": [],
   "source": [
    "import pynucastro as pyna       "
   ]
  },
  {
   "cell_type": "code",
   "execution_count": 3,
   "metadata": {},
   "outputs": [
    {
     "name": "stdout",
     "output_type": "stream",
     "text": [
      "V51 + e⁻ ⟶ Ti51 + 𝜈            (v51 --> ti51 <tabular_tabular>)\n"
     ]
    }
   ],
   "source": [
    "lib = pyna.Library(\"v51--ti51-toki\")\n",
    "\n",
    "print(lib)"
   ]
  }
 ],
 "metadata": {
  "kernelspec": {
   "display_name": "work_old",
   "language": "python",
   "name": "python3"
  },
  "language_info": {
   "codemirror_mode": {
    "name": "ipython",
    "version": 3
   },
   "file_extension": ".py",
   "mimetype": "text/x-python",
   "name": "python",
   "nbconvert_exporter": "python",
   "pygments_lexer": "ipython3",
   "version": "3.10.8"
  },
  "orig_nbformat": 4
 },
 "nbformat": 4,
 "nbformat_minor": 2
}
