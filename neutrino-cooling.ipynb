{
 "cells": [
  {
   "cell_type": "markdown",
   "id": "6fcf9c31-b0a2-4683-9d36-aff17ed65ddc",
   "metadata": {},
   "source": [
    "# Neutrino Cooling"
   ]
  },
  {
   "cell_type": "markdown",
   "id": "b961005f-ffa6-419c-ab18-61bf585e189d",
   "metadata": {},
   "source": [
    "At high temperatures, pair, plasma, Bremmstrahlung, and photo neutrinos become important. These are often treated as a source term to an energy equation when integrating the temperature evolution due to reactions.\n",
    "\n",
    "pynucastro implements the functions of <cite data-cite-t=\"itoh:1996\">Itoh et al. 1996</cite> to incorporate these effects.  In many codes, a routine called ``sneut5`` was used for this implementation.  pynucastro contains a port of that routine."
   ]
  },
  {
   "cell_type": "code",
   "execution_count": 1,
   "id": "e5d84d78-ae6a-4296-927e-00605cf380b4",
   "metadata": {
    "execution": {
     "iopub.execute_input": "2024-11-19T14:54:57.017759Z",
     "iopub.status.busy": "2024-11-19T14:54:57.017194Z",
     "iopub.status.idle": "2024-11-19T14:54:58.376881Z",
     "shell.execute_reply": "2024-11-19T14:54:58.376317Z"
    }
   },
   "outputs": [],
   "source": [
    "from pynucastro.neutrino_cooling import sneut5, NeutrinoCooling\n",
    "from pynucastro import Composition, Nucleus"
   ]
  },
  {
   "cell_type": "markdown",
   "id": "29cbbf75-54a2-42e4-a6d6-4422c0f1a33c",
   "metadata": {},
   "source": [
    "## Evaluating $\\epsilon_\\nu$ for a thermodynamic state"
   ]
  },
  {
   "cell_type": "markdown",
   "id": "47e21662-24c9-46d1-97ec-79544517a2c2",
   "metadata": {},
   "source": [
    "We can evaluate the cooling term given a density, temperature and composition."
   ]
  },
  {
   "cell_type": "code",
   "execution_count": 2,
   "id": "05eefddb-6459-454d-bd7f-87c454d4aa80",
   "metadata": {
    "execution": {
     "iopub.execute_input": "2024-11-19T14:54:58.379114Z",
     "iopub.status.busy": "2024-11-19T14:54:58.378652Z",
     "iopub.status.idle": "2024-11-19T14:54:58.381895Z",
     "shell.execute_reply": "2024-11-19T14:54:58.381450Z"
    }
   },
   "outputs": [],
   "source": [
    "rho = 1.e8\n",
    "T = 2.e9\n",
    "c = Composition([Nucleus(\"p\"), Nucleus(\"a\"), Nucleus(\"fe56\")])\n",
    "c.set_equal()"
   ]
  },
  {
   "cell_type": "code",
   "execution_count": 3,
   "id": "3c49c80a-910e-4aa8-93d5-8c640db1c7e1",
   "metadata": {
    "execution": {
     "iopub.execute_input": "2024-11-19T14:54:58.383586Z",
     "iopub.status.busy": "2024-11-19T14:54:58.383254Z",
     "iopub.status.idle": "2024-11-19T14:54:58.386538Z",
     "shell.execute_reply": "2024-11-19T14:54:58.385973Z"
    }
   },
   "outputs": [
    {
     "name": "stdout",
     "output_type": "stream",
     "text": [
      "773682819.5195054\n"
     ]
    }
   ],
   "source": [
    "snu = sneut5(rho, T, c)\n",
    "print(snu)"
   ]
  },
  {
   "cell_type": "markdown",
   "id": "98bcdda2-0d4a-4371-98bb-83e76c601484",
   "metadata": {},
   "source": [
    "This is the value in CGS units (erg/g/s)"
   ]
  },
  {
   "cell_type": "markdown",
   "id": "0c1e735b-1942-4f30-b2db-2de0f483d24a",
   "metadata": {},
   "source": [
    "If we want to see the breakdown of the different contributions, we pass ``full_output=True``"
   ]
  },
  {
   "cell_type": "code",
   "execution_count": 4,
   "id": "5f57d3b6-9ac7-4260-9f1f-5fa401e8c96d",
   "metadata": {
    "execution": {
     "iopub.execute_input": "2024-11-19T14:54:58.388166Z",
     "iopub.status.busy": "2024-11-19T14:54:58.387891Z",
     "iopub.status.idle": "2024-11-19T14:54:58.391398Z",
     "shell.execute_reply": "2024-11-19T14:54:58.390936Z"
    }
   },
   "outputs": [
    {
     "name": "stdout",
     "output_type": "stream",
     "text": [
      "splas: 537968613.1923463; spair: 131726610.15324067; sphot: 92135106.99413596; sbrem: 11852489.17978244; sreco: 0.0\n"
     ]
    }
   ],
   "source": [
    "snu, scomps = sneut5(rho, T, c, full_output=True)\n",
    "print(scomps)"
   ]
  },
  {
   "cell_type": "markdown",
   "id": "1be0d9a1-e979-4e10-afe8-9d0bae46e420",
   "metadata": {},
   "source": [
    "## Plotting $\\epsilon_\\nu$ in the $\\rho$-$T$ plane"
   ]
  },
  {
   "cell_type": "markdown",
   "id": "9ca8a15e-3c64-49b5-a3fb-7612421f616d",
   "metadata": {},
   "source": [
    "We can see the trend with thermodynamics state by using the ``NeutrinoCooling`` class"
   ]
  },
  {
   "cell_type": "code",
   "execution_count": 5,
   "id": "3496f621-0580-4480-81c7-4b73adb4c539",
   "metadata": {
    "execution": {
     "iopub.execute_input": "2024-11-19T14:54:58.393060Z",
     "iopub.status.busy": "2024-11-19T14:54:58.392721Z",
     "iopub.status.idle": "2024-11-19T14:54:58.747683Z",
     "shell.execute_reply": "2024-11-19T14:54:58.747190Z"
    }
   },
   "outputs": [
    {
     "data": {
      "image/png": "[encoded data removed]",
      "text/plain": [
       "<Figure size 640x480 with 2 Axes>"
      ]
     },
     "metadata": {},
     "output_type": "display_data"
    }
   ],
   "source": [
    "nc = NeutrinoCooling()\n",
    "fig = nc.plot(Tmin=1.e7, Tmax=1.e10, rhomin=1.e3, rhomax=1.e10,\n",
    "              abar=c.abar, zbar=c.zbar)"
   ]
  }
 ],
 "metadata": {
  "kernelspec": {
   "display_name": "Python 3 (ipykernel)",
   "language": "python",
   "name": "python3"
  },
  "language_info": {
   "codemirror_mode": {
    "name": "ipython",
    "version": 3
   },
   "file_extension": ".py",
   "mimetype": "text/x-python",
   "name": "python",
   "nbconvert_exporter": "python",
   "pygments_lexer": "ipython3",
   "version": "3.11.10"
  }
 },
 "nbformat": 4,
 "nbformat_minor": 5
}
