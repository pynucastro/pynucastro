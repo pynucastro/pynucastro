{
 "cells": [
  {
   "cell_type": "markdown",
   "id": "130650ea-9964-4deb-a848-450479948173",
   "metadata": {},
   "source": [
    "# Creating an NSE table\n",
    "\n",
    "We can tabulate the NSE state on a grid $(\\rho, T, Y_e)$, giving:\n",
    "\n",
    "* $\\bar{A}$ : the mean molecular weight\n",
    "* $\\langle B/A \\rangle$ : the average binding energy per nucleon of the NSE state [MeV]\n",
    "* $dY_e/dt$ : the time-evolution of $Y_e$ due to weak reactions [1/s]\n",
    "* $d\\bar{A}/dt$ : the time-evolution of $\\bar{A}$ due to weak reactions [1/s]\n",
    "* $d\\langle B/A\\rangle/dt$ : the time-evolution of the binding energy per nucleon due to weak reactions [MeV/s]\n",
    "* $\\epsilon_\\nu$ : the energy loss due to neutrinos [erg / g / s] "
   ]
  },
  {
   "cell_type": "code",
   "execution_count": 1,
   "id": "d8cba849-e50b-4ec2-b9d0-e7c2c9cb6d35",
   "metadata": {
    "execution": {
     "iopub.execute_input": "2024-09-20T16:27:18.004911Z",
     "iopub.status.busy": "2024-09-20T16:27:18.004731Z",
     "iopub.status.idle": "2024-09-20T16:27:19.387469Z",
     "shell.execute_reply": "2024-09-20T16:27:19.386901Z"
    }
   },
   "outputs": [],
   "source": [
    "import pynucastro as pyna\n",
    "from pynucastro import Nucleus"
   ]
  },
  {
   "cell_type": "markdown",
   "id": "fae74a4b-a14e-4a7a-833a-c6e47e0b0ec2",
   "metadata": {},
   "source": [
    "First we'll create a simple NSE network with a few nuclei.  We'll include tabulated weak rates so we can compute the change in the state due to electron/positron captures and decays."
   ]
  },
  {
   "cell_type": "code",
   "execution_count": 2,
   "id": "1efd221d-8e96-4001-aa92-0b322f9eec79",
   "metadata": {
    "execution": {
     "iopub.execute_input": "2024-09-20T16:27:19.389869Z",
     "iopub.status.busy": "2024-09-20T16:27:19.389389Z",
     "iopub.status.idle": "2024-09-20T16:27:19.393038Z",
     "shell.execute_reply": "2024-09-20T16:27:19.392596Z"
    }
   },
   "outputs": [],
   "source": [
    "nucs = [Nucleus(\"p\"), Nucleus(\"n\"), Nucleus(\"he4\"),\n",
    "        Nucleus(\"fe52\"), Nucleus(\"fe53\"), Nucleus(\"fe54\"),\n",
    "        Nucleus(\"fe55\"), Nucleus(\"fe56\"),\n",
    "        Nucleus(\"co54\"), Nucleus(\"co55\"), Nucleus(\"co56\"),\n",
    "        Nucleus(\"ni56\"), Nucleus(\"ni57\")]"
   ]
  },
  {
   "cell_type": "code",
   "execution_count": 3,
   "id": "1f718159-5e68-40d6-ae8f-3f43c16a3da7",
   "metadata": {
    "execution": {
     "iopub.execute_input": "2024-09-20T16:27:19.394900Z",
     "iopub.status.busy": "2024-09-20T16:27:19.394576Z",
     "iopub.status.idle": "2024-09-20T16:27:24.871165Z",
     "shell.execute_reply": "2024-09-20T16:27:24.870624Z"
    }
   },
   "outputs": [
    {
     "name": "stdout",
     "output_type": "stream",
     "text": [
      "warning: He4 was not able to be linked\n",
      "warning: Fe53 was not able to be linked\n",
      "warning: Fe52 was not able to be linked\n",
      "warning: Ni57 was not able to be linked\n"
     ]
    }
   ],
   "source": [
    "tl = pyna.TabularLibrary().linking_nuclei(nucs)\n",
    "rl = pyna.ReacLibLibrary().linking_nuclei(nucs)\n",
    "all_lib = tl + rl"
   ]
  },
  {
   "cell_type": "code",
   "execution_count": 4,
   "id": "a46d080f-fa3d-433d-8e3b-a91ef98996d2",
   "metadata": {
    "execution": {
     "iopub.execute_input": "2024-09-20T16:27:24.873056Z",
     "iopub.status.busy": "2024-09-20T16:27:24.872892Z",
     "iopub.status.idle": "2024-09-20T16:27:24.876326Z",
     "shell.execute_reply": "2024-09-20T16:27:24.875874Z"
    }
   },
   "outputs": [],
   "source": [
    "dupes = all_lib.find_duplicate_links()\n",
    "rates_to_remove = []\n",
    "for d in dupes:\n",
    "    rates_to_remove += [r for r in d if isinstance(r, pyna.rates.ReacLibRate)]\n",
    "\n",
    "for r in rates_to_remove:\n",
    "    all_lib.remove_rate(r)"
   ]
  },
  {
   "cell_type": "code",
   "execution_count": 5,
   "id": "3f2cba9e-ad5d-487e-9e45-4c896fa43559",
   "metadata": {
    "execution": {
     "iopub.execute_input": "2024-09-20T16:27:24.878007Z",
     "iopub.status.busy": "2024-09-20T16:27:24.877671Z",
     "iopub.status.idle": "2024-09-20T16:27:24.881554Z",
     "shell.execute_reply": "2024-09-20T16:27:24.881106Z"
    }
   },
   "outputs": [],
   "source": [
    "nse = pyna.NSENetwork(libraries=[all_lib])"
   ]
  },
  {
   "cell_type": "markdown",
   "id": "c8368c1a-53d9-4f33-ba7c-d40d2963610f",
   "metadata": {},
   "source": [
    "Now we'll create a grid of temperature, density, and $Y_e$ where we want to compute the NSE state"
   ]
  },
  {
   "cell_type": "code",
   "execution_count": 6,
   "id": "d2a04dbe-a62b-4f90-bef9-4f6bde881509",
   "metadata": {
    "execution": {
     "iopub.execute_input": "2024-09-20T16:27:24.883218Z",
     "iopub.status.busy": "2024-09-20T16:27:24.882883Z",
     "iopub.status.idle": "2024-09-20T16:27:24.885287Z",
     "shell.execute_reply": "2024-09-20T16:27:24.884842Z"
    }
   },
   "outputs": [],
   "source": [
    "import numpy as np"
   ]
  },
  {
   "cell_type": "code",
   "execution_count": 7,
   "id": "223f5be5-32b8-429f-ae86-79ace7123d05",
   "metadata": {
    "execution": {
     "iopub.execute_input": "2024-09-20T16:27:24.886784Z",
     "iopub.status.busy": "2024-09-20T16:27:24.886620Z",
     "iopub.status.idle": "2024-09-20T16:27:24.889697Z",
     "shell.execute_reply": "2024-09-20T16:27:24.889251Z"
    }
   },
   "outputs": [],
   "source": [
    "Ts = np.logspace(9.6, 10.4, 3)\n",
    "rhos = np.logspace(7, 10, 4)\n",
    "yes = np.linspace(0.43, 0.5, 3)"
   ]
  },
  {
   "cell_type": "markdown",
   "id": "7172990e-4eca-4b9c-b1a4-f07ff2cc0f42",
   "metadata": {},
   "source": [
    "Finally we can generate the table.  This will compute the NSE state at each combination of $(\\rho, T, Y_e)$.  To help accelerate the convergence,\n",
    "it will start at the highest temperature and loop over $\\rho$ and $Y_e$ and cache the values of the proton and neutron chemical potentials for the\n",
    "next temperature."
   ]
  },
  {
   "cell_type": "code",
   "execution_count": 8,
   "id": "4dd1bd2f-8a7b-491d-b6ed-1b5ba2087d63",
   "metadata": {
    "execution": {
     "iopub.execute_input": "2024-09-20T16:27:24.891392Z",
     "iopub.status.busy": "2024-09-20T16:27:24.890987Z",
     "iopub.status.idle": "2024-09-20T16:27:38.857402Z",
     "shell.execute_reply": "2024-09-20T16:27:38.856805Z"
    }
   },
   "outputs": [],
   "source": [
    "nse.generate_table(rho_values=rhos,\n",
    "                   T_values=Ts,\n",
    "                   Ye_values=yes)"
   ]
  },
  {
   "cell_type": "markdown",
   "id": "50762e2d-a58b-4118-9542-ce566bbf00a6",
   "metadata": {},
   "source": [
    "The table is stored as `nse.tbl`"
   ]
  },
  {
   "cell_type": "code",
   "execution_count": 9,
   "id": "d0c5ac32-fc4c-4819-a9ee-98432c16b2ac",
   "metadata": {
    "execution": {
     "iopub.execute_input": "2024-09-20T16:27:38.859365Z",
     "iopub.status.busy": "2024-09-20T16:27:38.859193Z",
     "iopub.status.idle": "2024-09-20T16:27:39.008477Z",
     "shell.execute_reply": "2024-09-20T16:27:39.007816Z"
    },
    "tags": [
     "nbval-ignore-output"
    ]
   },
   "outputs": [
    {
     "name": "stdout",
     "output_type": "stream",
     "text": [
      "# NSE table generated by pynucastro 2.3.0.post5+g0c386100\r\n",
      "# original NSENetwork had 13 nuclei\r\n",
      "#\r\n",
      "#   log10(rho)       log10(T)           Ye             Abar            <B/A>          dYe/dt         dAbar/dt        d<B/A>/dt         e_nu       \r\n",
      "   7.0000000000    9.6000000000    0.5000000000   50.2057480795    8.6280577145  -4.3803693e-05   1.7080366e-17   2.3287883e-06   7.4773253e+13 \r\n",
      "   7.0000000000    9.6000000000    0.4650000000   55.7461136885    8.7870609269  -5.5255921e-09   5.0206457e-22   3.9319171e-10     1.39808e+10 \r\n",
      "   7.0000000000    9.6000000000    0.4300000000   11.0637644849    8.1412160175   0.00017699678   -2.955349e-26  -1.8453762e-12   2.7707299e+14 \r\n",
      "   7.0000000000   10.0000000000    0.5000000000    1.2148718036    1.6681978242     0.084056626   4.5144304e-56   5.7341749e-41   7.8635859e+17 \r\n",
      "   7.0000000000   10.0000000000    0.4650000000    1.2129151677    1.6556736902      0.10066497  -3.9842869e-56   3.5214781e-41   8.3544486e+17 \r\n",
      "   7.0000000000   10.0000000000    0.4300000000    1.2071212813    1.6183497731      0.11786424  -4.5498672e-56    5.918555e-42   8.8944373e+17 \r\n",
      "   7.0000000000   10.4000000000    0.5000000000    1.0000000000    0.0000000002       5.7463273 -1.2915358e-218  6.7437145e-203   2.3050257e+20 \r\n",
      "   7.0000000000   10.4000000000    0.4650000000    1.0000000000    0.0000000002       7.2542055  9.8197623e-219  5.8186035e-203    2.360043e+20 \r\n",
      "   7.0000000000   10.4000000000    0.4300000000    1.0000000000    0.0000000002       8.7650901 -1.4223649e-218   3.827486e-203   2.4155562e+20 \r\n",
      "   8.0000000000    9.6000000000    0.5000000000   54.3195129652    8.6383992184  -0.00084875851   3.1990572e-16   4.3700394e-05   1.4743336e+15 \r\n",
      "   8.0000000000    9.6000000000    0.4650000000   55.8970081564    8.7873915908  -4.9040516e-08   3.3921636e-21   4.1959348e-09   1.2982252e+11 \r\n",
      "   8.0000000000    9.6000000000    0.4300000000   11.0638264093    8.1412199515   9.2047376e-06  -3.3885783e-29  -5.6069156e-13   1.1254068e+13 \r\n",
      "   8.0000000000   10.0000000000    0.5000000000    2.5712542411    5.7636820544    -0.019589298   2.0392685e-34   1.7211948e-19      1.6311e+17 \r\n",
      "   8.0000000000   10.0000000000    0.4650000000    2.5124362038    5.6778066018   -0.0041256975   3.8750808e-33    2.106581e-19   1.5065038e+17 \r\n",
      "   8.0000000000   10.0000000000    0.4300000000    2.3664067083    5.4461446411    0.0093041487  -7.7727673e-34   1.1442051e-19   1.6169818e+17 \r\n",
      "   8.0000000000   10.4000000000    0.5000000000    1.0000000214    0.0000002024        1.213841 -2.2670388e-165  9.8460083e-150   2.1894106e+20 \r\n",
      "   8.0000000000   10.4000000000    0.4650000000    1.0000000212    0.0000002004       2.8346072 -7.1145551e-165   8.415892e-150   2.2127881e+20 \r\n",
      "   8.0000000000   10.4000000000    0.4300000000    1.0000000206    0.0000001945       4.4726034 -1.9372999e-165  5.4818693e-150   2.2397331e+20 \r\n",
      "   9.0000000000    9.6000000000    0.5000000000   55.5136288834    8.6413421175    -0.060154436              -0    0.0031211006   1.5552556e+17 \r\n",
      "   9.0000000000    9.6000000000    0.4650000000   55.9133553598    8.7874247178  -3.9839589e-06  -4.3445094e-19   3.6046977e-07   1.0369536e+13 \r\n",
      "   9.0000000000    9.6000000000    0.4300000000   11.0638296395    8.1412201568   1.0225013e-08  -9.8142003e-34  -5.2463937e-15   1.1664591e+10 \r\n",
      "   9.0000000000   10.0000000000    0.5000000000    4.3121615846    7.1515898328     -0.10742116  -1.2600284e-19   2.9757777e-05   4.7264232e+17 \r\n",
      "   9.0000000000   10.0000000000    0.4650000000    5.1247240373    7.3995844423    -0.019430675   1.1122727e-19   3.3567416e-06   8.7381876e+16 \r\n",
      "   9.0000000000   10.0000000000    0.4300000000    4.4162729477    7.0777579452   -0.0059568824  -7.4029797e-21   5.1854108e-07   3.2607638e+16 \r\n",
      "   9.0000000000   10.4000000000    0.5000000000    1.0000214391    0.0002025494      -17.715252  2.2180532e-111   3.7266652e-96   2.7735801e+20 \r\n",
      "   9.0000000000   10.4000000000    0.4650000000    1.0000212298    0.0002005604      -15.005795 -9.8090541e-112    3.082628e-96   2.5962747e+20 \r\n",
      "   9.0000000000   10.4000000000    0.4300000000    1.0000206076    0.0001946699      -12.327315  1.0328834e-111   1.9400006e-96   2.4324142e+20 \r\n",
      "  10.0000000000    9.6000000000    0.5000000000   55.8692197294    8.6423237057      -5.2276094              -0       0.2720124   2.9376254e+19 \r\n",
      "  10.0000000000    9.6000000000    0.4650000000   55.9152992729    8.7874226105  -0.00092940692    2.648266e-16   8.5387004e-05   4.3026908e+15 \r\n",
      "  10.0000000000    9.6000000000    0.4300000000   11.0638297827    8.1412201660   5.0971987e-15  -9.3107492e-42  -6.8646484e-21       5801.4456 \r\n",
      "  10.0000000000   10.0000000000    0.5000000000   13.9370868239    8.2743459367      -5.5785841   1.0782619e-14      0.10961074   3.9381535e+19 \r\n",
      "  10.0000000000   10.0000000000    0.4650000000   28.2438967927    8.6492551835    -0.075078082    3.147041e-16   0.00050736054   5.2201774e+17 \r\n",
      "  10.0000000000   10.0000000000    0.4300000000   10.2419420875    8.0844779279   -0.0025107223  -6.6551713e-20   1.1073417e-06   1.7236419e+16 \r\n",
      "  10.0000000000   10.4000000000    0.5000000000    1.0197762456    0.1829100339       -196.6445   -4.348905e-57   3.9057802e-42   2.3555844e+21 \r\n",
      "  10.0000000000   10.4000000000    0.4650000000    1.0195858994    0.1811833446      -167.54221   7.0384561e-58   3.0442075e-42   1.9968628e+21 \r\n",
      "  10.0000000000   10.4000000000    0.4300000000    1.0190251146    0.1760925442      -140.99607   3.9289294e-58   1.8183285e-42   1.6720803e+21 \r\n"
     ]
    }
   ],
   "source": [
    "%cat nse.tbl"
   ]
  },
  {
   "cell_type": "markdown",
   "id": "00b27893-a7ed-43e2-b608-b7f381b0fa6d",
   "metadata": {},
   "source": [
    "There are other options to the NSE table writing, including storing the mass fractions or a reduced composition constructed by binning the nuclei\n",
    "into the closest nuclei in a smaller set."
   ]
  }
 ],
 "metadata": {
  "kernelspec": {
   "display_name": "Python 3 (ipykernel)",
   "language": "python",
   "name": "python3"
  },
  "language_info": {
   "codemirror_mode": {
    "name": "ipython",
    "version": 3
   },
   "file_extension": ".py",
   "mimetype": "text/x-python",
   "name": "python",
   "nbconvert_exporter": "python",
   "pygments_lexer": "ipython3",
   "version": "3.11.10"
  }
 },
 "nbformat": 4,
 "nbformat_minor": 5
}
